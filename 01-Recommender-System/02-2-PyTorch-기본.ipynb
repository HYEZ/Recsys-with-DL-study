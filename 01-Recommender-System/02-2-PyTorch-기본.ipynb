{
 "cells": [
  {
   "cell_type": "markdown",
   "metadata": {},
   "source": [
    "# Pytorch Basics\n",
    "\n",
    "- Stevens, Antiga and Viehmann (2020), \"Deep Learning with PyTorch\" 참고\n",
    "- PyTorch tutorial website 참고(https://tutorials.pytorch.kr/beginner/deep_learning_60min_blitz.html)"
   ]
  },
  {
   "cell_type": "markdown",
   "metadata": {},
   "source": [
    "### **PyTorch**\n",
    "* provides multidimensional arrays\n",
    "* *tensors*, and an extensive *library of operations* on them"
   ]
  },
  {
   "cell_type": "code",
   "execution_count": 1,
   "metadata": {},
   "outputs": [],
   "source": [
    "# torch가 설치되어 있지 않다면\n",
    "# https://pytorch.org 에서 환경에 맞는 command로 설치하거나\n",
    "# !pip install torch\n",
    "# 또는 !pip3 install torch (Python3 환경임을 명시)\n",
    "\n",
    "import torch"
   ]
  },
  {
   "cell_type": "markdown",
   "metadata": {},
   "source": [
    "### 1. Tensor란? Tensor 만들기\n",
    "\n",
    "* Tensors: Multidimensional arrays\n"
   ]
  },
  {
   "cell_type": "code",
   "execution_count": 2,
   "metadata": {},
   "outputs": [
    {
     "name": "stdout",
     "output_type": "stream",
     "text": [
      "tensor([1., 2., 3.])\n",
      "tensor([[1., 2., 3.],\n",
      "        [4., 5., 6.]])\n",
      "tensor([[[1., 2.],\n",
      "         [3., 4.]],\n",
      "\n",
      "        [[5., 6.],\n",
      "         [7., 8.]]])\n"
     ]
    }
   ],
   "source": [
    "# Create a torch.Tensor object with the given data.  It is a 1D vector\n",
    "V_data = [1., 2., 3.]\n",
    "V = torch.Tensor(V_data)\n",
    "print(V)\n",
    "\n",
    "# Creates a matrix\n",
    "M_data = [[1., 2., 3.], [4., 5., 6]]\n",
    "M = torch.Tensor(M_data)\n",
    "print(M)\n",
    "\n",
    "# Create a 3D tensor of size 2x2x2.\n",
    "T_data = [[[1.,2.], [3.,4.]],\n",
    "          [[5.,6.], [7.,8.]]]\n",
    "T = torch.Tensor(T_data)\n",
    "print(T)"
   ]
  },
  {
   "cell_type": "code",
   "execution_count": 5,
   "metadata": {},
   "outputs": [
    {
     "name": "stdout",
     "output_type": "stream",
     "text": [
      "tensor([1., 1., 1.])\n",
      "tensor([[1., 1., 1.],\n",
      "        [1., 1., 1.]])\n"
     ]
    }
   ],
   "source": [
    "# torch.ones: tensor를 size에 맞게 1로 채운다\n",
    "a = torch.ones(3)\n",
    "print(a)\n",
    "\n",
    "b = torch.ones(2, 3)\n",
    "print(b)"
   ]
  },
  {
   "cell_type": "code",
   "execution_count": 6,
   "metadata": {},
   "outputs": [
    {
     "name": "stdout",
     "output_type": "stream",
     "text": [
      "tensor([0., 0., 0., 0.])\n",
      "tensor([[[0., 0., 0.],\n",
      "         [0., 0., 0.]],\n",
      "\n",
      "        [[0., 0., 0.],\n",
      "         [0., 0., 0.]],\n",
      "\n",
      "        [[0., 0., 0.],\n",
      "         [0., 0., 0.]],\n",
      "\n",
      "        [[0., 0., 0.],\n",
      "         [0., 0., 0.]],\n",
      "\n",
      "        [[0., 0., 0.],\n",
      "         [0., 0., 0.]]])\n"
     ]
    }
   ],
   "source": [
    "# torch.zeros: tensor를 size에 맞게 0으로 채운다\n",
    "c = torch.zeros(4)\n",
    "print(c)\n",
    "\n",
    "d = torch.zeros(5, 2, 3)\n",
    "print(d)"
   ]
  },
  {
   "cell_type": "code",
   "execution_count": 7,
   "metadata": {},
   "outputs": [
    {
     "name": "stdout",
     "output_type": "stream",
     "text": [
      "tensor([[1.4013e-44, 0.0000e+00, 0.0000e+00],\n",
      "        [0.0000e+00, 0.0000e+00, 0.0000e+00],\n",
      "        [0.0000e+00, 0.0000e+00, 0.0000e+00],\n",
      "        [0.0000e+00, 0.0000e+00, 0.0000e+00],\n",
      "        [0.0000e+00, 0.0000e+00, 0.0000e+00]])\n",
      "tensor([[0.1072, 0.1416, 0.9418],\n",
      "        [0.4577, 0.8663, 0.2565],\n",
      "        [0.9559, 0.7124, 0.8272],\n",
      "        [0.0792, 0.7591, 0.7860],\n",
      "        [0.9440, 0.8959, 0.9605]])\n"
     ]
    }
   ],
   "source": [
    "# 초기화하면서 현재 메모리에 존재하는 값\n",
    "x = torch.empty(5, 3)\n",
    "print(x)\n",
    "\n",
    "x = torch.rand(5, 3) # random 넘버 생성\n",
    "print(x)"
   ]
  },
  {
   "cell_type": "code",
   "execution_count": 8,
   "metadata": {},
   "outputs": [
    {
     "name": "stdout",
     "output_type": "stream",
     "text": [
      "tensor([0.3985, 0.7788, 0.1750, 0.0362], dtype=torch.float64)\n",
      "tensor([[0.5907, 0.2933, 0.4387],\n",
      "        [0.5225, 0.8754, 0.6027]])\n"
     ]
    }
   ],
   "source": [
    "# torch.rand: 랜덤 숫자로 tensor를 채운다\n",
    "rand_points = torch.rand(4, dtype=torch.double)\n",
    "print(rand_points)\n",
    "\n",
    "rand_points_2 = torch.rand(2, 3, dtype=torch.float)\n",
    "print(rand_points_2)"
   ]
  },
  {
   "cell_type": "code",
   "execution_count": 9,
   "metadata": {},
   "outputs": [
    {
     "name": "stdout",
     "output_type": "stream",
     "text": [
      "torch.Size([2, 3])\n"
     ]
    }
   ],
   "source": [
    "# 행렬 사이즈\n",
    "print(rand_points_2.size())"
   ]
  },
  {
   "cell_type": "markdown",
   "metadata": {},
   "source": [
    "### 2. Indexing Tensors"
   ]
  },
  {
   "cell_type": "code",
   "execution_count": 10,
   "metadata": {},
   "outputs": [
    {
     "name": "stdout",
     "output_type": "stream",
     "text": [
      "tensor([0., 1., 2., 3., 4., 5., 6., 7.])\n",
      "tensor([1., 2., 3.])\n",
      "tensor([1., 2., 3., 4., 5., 6., 7.])\n",
      "tensor([0., 1., 2., 3.])\n",
      "tensor(7.)\n",
      "tensor([0., 1., 2., 3., 4., 5., 6.])\n",
      "tensor([1., 3., 5.])\n"
     ]
    }
   ],
   "source": [
    "temp = torch.Tensor([0, 1, 2, 3, 4, 5, 6, 7])\n",
    "\n",
    "print(temp[:]) # tensor element 전체\n",
    "print(temp[1:4]) # index 1과 4 사이의 원소들 출력\n",
    "print(temp[1:]) # index 1부터의 원소들 출력\n",
    "print(temp[:4]) # index 4까지의 원소들 출력\n",
    "print(temp[-1]) # 뒤에서 첫번째 원소 출력\n",
    "print(temp[:-1]) # index -1 = 뒤에서부터 index 1에 해당하는 원소까지만 출력\n",
    "print(temp[1:6:2]) # index 1과 6 사이의 원소 출력, 이때 2개 단위로 건너뛰면서"
   ]
  },
  {
   "cell_type": "code",
   "execution_count": 11,
   "metadata": {},
   "outputs": [
    {
     "name": "stdout",
     "output_type": "stream",
     "text": [
      "tensor([[1., 2., 3.],\n",
      "        [4., 5., 6.]])\n",
      "tensor([[4., 5., 6.]])\n",
      "tensor([[5., 6.]])\n",
      "tensor([4.])\n"
     ]
    }
   ],
   "source": [
    "temp2 = torch.Tensor([[1, 2, 3], [4, 5, 6]])\n",
    "\n",
    "print(temp2)\n",
    "print(temp2[1:])\n",
    "print(temp2[1:, 1:])\n",
    "print(temp2[1:, 0])"
   ]
  },
  {
   "cell_type": "markdown",
   "metadata": {},
   "source": [
    "## 3. Tensor element types\n",
    "\n",
    "add 'dtype' argument to tensor constructors \n",
    "\n",
    "-> specify the data type that will be contained in the tensor\n",
    "\n",
    "dtype을 구성하는 것:\n",
    "- possible values the tensor can hold (int, float, ...)\n",
    "- number of bytes per value (8, 16, 32, ...)\n",
    "\n",
    "예)\n",
    "\n",
    "- torch.float32 (= torch.float): 32-bit floating point\n",
    "\n",
    "- torch.float64 (= torch.double): 64-bit, double-precision floating point\n",
    "\n",
    "- torch.float16 (= torch.half): 16-bit, half-precision floating point\n",
    "\n",
    "- torch.int32 (= torch.int): 32-bit integers\n",
    "\n",
    "- torch.int64 (= torch.long): 64-bit integers\n",
    "\n",
    "- torch.bool: Boolean\n",
    "\n",
    "...\n",
    "\n"
   ]
  },
  {
   "cell_type": "code",
   "execution_count": 12,
   "metadata": {},
   "outputs": [
    {
     "name": "stdout",
     "output_type": "stream",
     "text": [
      "tensor([[1., 1.],\n",
      "        [1., 1.],\n",
      "        [1., 1.],\n",
      "        [1., 1.],\n",
      "        [1., 1.]])\n",
      "tensor([0, 0, 0])\n"
     ]
    }
   ],
   "source": [
    "float_points = torch.ones(5, 2, dtype=torch.float32)\n",
    "int_points = torch.zeros(3, dtype=torch.int64)\n",
    "\n",
    "print(float_points)\n",
    "print(int_points)"
   ]
  },
  {
   "cell_type": "code",
   "execution_count": 13,
   "metadata": {},
   "outputs": [
    {
     "name": "stdout",
     "output_type": "stream",
     "text": [
      "tensor([2., 2.])\n"
     ]
    }
   ],
   "source": [
    "# default: float\n",
    "default_points = torch.Tensor([2, 2])\n",
    "print(default_points)"
   ]
  },
  {
   "cell_type": "code",
   "execution_count": 14,
   "metadata": {},
   "outputs": [
    {
     "name": "stdout",
     "output_type": "stream",
     "text": [
      "torch.float32\n",
      "torch.int64\n",
      "torch.float32\n"
     ]
    }
   ],
   "source": [
    "# find out dtype\n",
    "print(float_points.dtype)\n",
    "print(int_points.dtype)\n",
    "print(default_points.dtype)"
   ]
  },
  {
   "cell_type": "code",
   "execution_count": 16,
   "metadata": {},
   "outputs": [
    {
     "name": "stdout",
     "output_type": "stream",
     "text": [
      "torch.int32\n",
      "torch.int64\n",
      "torch.float32\n",
      "torch.float16\n"
     ]
    }
   ],
   "source": [
    "# other forms of specifying dtype (형변환)\n",
    "\n",
    "to_int_1 = float_points.int()\n",
    "print(to_int_1.dtype)\n",
    "\n",
    "# 'to' checks whether the conversion is necessary and if so, does it.\n",
    "to_int_2 = float_points.to(torch.int64)\n",
    "print(to_int_2.dtype)\n",
    "\n",
    "to_float_1 = int_points.float()\n",
    "print(to_float_1.dtype)\n",
    "\n",
    "to_float_2 = int_points.to(dtype=torch.float16)\n",
    "print(to_float_2.dtype)"
   ]
  },
  {
   "cell_type": "markdown",
   "metadata": {},
   "source": [
    "## 4. The Tensor API\n",
    "\n",
    "tensor와 관련된 대부분의 operation은 torch 모듈에 구현되어 있음\n",
    "\n",
    "예)\n",
    "\n",
    "- math operations: abs, cos, mean, std, norm, equal, max, ...\n",
    "- tensor element-wise sum, concat, ...\n",
    "- random sampling: randn, normal, ...\n",
    "\n",
    "online docs: https://pytorch.org/docs\n"
   ]
  },
  {
   "cell_type": "markdown",
   "metadata": {},
   "source": [
    "## 5. Tensor Shape and Reshape\n"
   ]
  },
  {
   "cell_type": "code",
   "execution_count": 17,
   "metadata": {},
   "outputs": [
    {
     "name": "stdout",
     "output_type": "stream",
     "text": [
      "tensor([[1., 2., 3.],\n",
      "        [4., 5., 6.]])\n",
      "torch.Size([2, 3])\n"
     ]
    }
   ],
   "source": [
    "# shape: Returns the size of the tensor\n",
    "\n",
    "a = torch.Tensor([[1, 2, 3], [4, 5, 6]])\n",
    "\n",
    "print(a)\n",
    "print(a.shape)"
   ]
  },
  {
   "cell_type": "code",
   "execution_count": 18,
   "metadata": {},
   "outputs": [
    {
     "name": "stdout",
     "output_type": "stream",
     "text": [
      "torch.Size([2, 3])\n"
     ]
    }
   ],
   "source": [
    "# size()\n",
    "\n",
    "print(a.size())"
   ]
  },
  {
   "cell_type": "code",
   "execution_count": 19,
   "metadata": {},
   "outputs": [
    {
     "name": "stdout",
     "output_type": "stream",
     "text": [
      "tensor([[1., 2.],\n",
      "        [3., 4.],\n",
      "        [5., 6.]])\n",
      "torch.Size([3, 2])\n",
      "tensor([[1., 2.],\n",
      "        [3., 4.],\n",
      "        [5., 6.]])\n",
      "torch.Size([3, 2])\n"
     ]
    }
   ],
   "source": [
    "# Reshape: 주어진 shape로 original tensor에서 데이터를 가져와서 reshape한다\n",
    "# transpose와 다른것. 구별해야함!\n",
    "a_reshape = a.reshape(3, 2)\n",
    "print(a_reshape)\n",
    "print(a_reshape.shape)\n",
    "\n",
    "a_reshape_2 = a.reshape(-1, 2) # the size -1 is inferred from other dimensions\n",
    "print(a_reshape_2)\n",
    "print(a_reshape_2.shape)"
   ]
  },
  {
   "cell_type": "code",
   "execution_count": 21,
   "metadata": {},
   "outputs": [],
   "source": [
    "# if shape is not compatible with the current shape:\n",
    "# 6개만 있으므로 오류남\n",
    "# a_no_reshape = a.reshape(4, 2)"
   ]
  },
  {
   "cell_type": "code",
   "execution_count": 24,
   "metadata": {},
   "outputs": [
    {
     "name": "stdout",
     "output_type": "stream",
     "text": [
      "torch.Size([4, 4])\n",
      "torch.Size([16])\n",
      "torch.Size([2, 8])\n"
     ]
    }
   ],
   "source": [
    "# View: Returns a new tensor with the same data as the original tensor but of a different shape.\n",
    "# reshape과 거의 비슷하게 사용\n",
    "\n",
    "\n",
    "x = torch.randn(4, 4)\n",
    "print(x.size())\n",
    "\n",
    "y = x.view(16)\n",
    "print(y.size())\n",
    "\n",
    "z = x.view(-1, 8)  # the size -1 is inferred from other dimensions\n",
    "print(z.size())"
   ]
  },
  {
   "cell_type": "code",
   "execution_count": 26,
   "metadata": {},
   "outputs": [
    {
     "name": "stdout",
     "output_type": "stream",
     "text": [
      "tensor([[ 0.8319, -0.7796, -1.0723,  1.0063],\n",
      "        [-0.1685, -0.4830, -1.0156, -0.9816],\n",
      "        [-0.5321,  1.2524,  0.0326, -0.7487],\n",
      "        [-1.3681,  1.3033,  0.3161,  0.0385]])\n",
      "tensor([ 0.8319, -0.7796, -1.0723,  1.0063, -0.1685, -0.4830, -1.0156, -0.9816,\n",
      "        -0.5321,  1.2524,  0.0326, -0.7487, -1.3681,  1.3033,  0.3161,  0.0385])\n",
      "tensor([[ 0.8319, -0.7796, -1.0723,  1.0063, -0.1685, -0.4830, -1.0156, -0.9816],\n",
      "        [-0.5321,  1.2524,  0.0326, -0.7487, -1.3681,  1.3033,  0.3161,  0.0385]])\n"
     ]
    }
   ],
   "source": [
    "print(x)\n",
    "print(y)\n",
    "print(z)"
   ]
  },
  {
   "cell_type": "markdown",
   "metadata": {},
   "source": [
    "## 6. Transpose"
   ]
  },
  {
   "cell_type": "code",
   "execution_count": 29,
   "metadata": {},
   "outputs": [
    {
     "name": "stdout",
     "output_type": "stream",
     "text": [
      "tensor([0.1342])\n",
      "tensor([0.1342])\n",
      "tensor([0.7193, 1.4027, 0.6307])\n",
      "tensor([0.7193, 1.4027, 0.6307])\n",
      "tensor([[ 1.3273,  1.1380,  1.0837],\n",
      "        [ 0.5930,  0.5970, -0.2661]])\n",
      "tensor([[ 1.3273,  0.5930],\n",
      "        [ 1.1380,  0.5970],\n",
      "        [ 1.0837, -0.2661]])\n"
     ]
    }
   ],
   "source": [
    "# torch.t: 가장 간단한 형태의 transpose\n",
    "# Expects input to be <= 2-D tensor and transposes dimensions 0 and 1.\n",
    "# 0-D and 1-D tensors are returned as is. When input is a 2-D tensor this is equivalent to transpose(input, 0, 1).\n",
    "\n",
    "x = torch.randn(1)\n",
    "print(x)\n",
    "print(torch.t(x))\n",
    "\n",
    "y = torch.randn(3)\n",
    "print(y)\n",
    "print(y.t())\n",
    "\n",
    "z = torch.randn(2, 3)\n",
    "print(z)\n",
    "print(torch.t(z))"
   ]
  },
  {
   "cell_type": "code",
   "execution_count": 30,
   "metadata": {},
   "outputs": [
    {
     "name": "stdout",
     "output_type": "stream",
     "text": [
      "tensor([[ 0.1419, -0.0850, -0.2379],\n",
      "        [ 3.1399, -1.3614, -1.3802]])\n",
      "tensor([[ 0.1419,  3.1399],\n",
      "        [-0.0850, -1.3614],\n",
      "        [-0.2379, -1.3802]])\n"
     ]
    }
   ],
   "source": [
    "# torch.transpose\n",
    "# Returns a tensor that is a transposed version of input. The given dimensions dim0 and dim1 are swapped.\n",
    "\n",
    "w = torch.randn(2, 3)\n",
    "print(w)\n",
    "print(torch.transpose(w, 0, 1))"
   ]
  },
  {
   "cell_type": "code",
   "execution_count": 31,
   "metadata": {},
   "outputs": [
    {
     "name": "stdout",
     "output_type": "stream",
     "text": [
      "torch.Size([64, 128, 768])\n",
      "torch.Size([64, 768, 128])\n"
     ]
    }
   ],
   "source": [
    "# more complex case\n",
    "\n",
    "real_example = torch.randn(64, 128, 768)\n",
    "print(real_example.shape)\n",
    "transposed = torch.transpose(real_example, 1, 2) # input, dim1, dim2\n",
    "print(transposed.shape)"
   ]
  },
  {
   "cell_type": "markdown",
   "metadata": {},
   "source": [
    "## 7. Operations Example"
   ]
  },
  {
   "cell_type": "code",
   "execution_count": 32,
   "metadata": {},
   "outputs": [
    {
     "name": "stdout",
     "output_type": "stream",
     "text": [
      "tensor([[1., 1.]])\n",
      "tensor([[1., 1., 1.],\n",
      "        [1., 1., 1.],\n",
      "        [1., 1., 1.],\n",
      "        [1., 1., 1.],\n",
      "        [1., 1., 1.]])\n"
     ]
    }
   ],
   "source": [
    "x = torch.ones(1, 2)\n",
    "print(x)\n",
    "y = torch.ones(5, 3)\n",
    "print(y)"
   ]
  },
  {
   "cell_type": "code",
   "execution_count": 34,
   "metadata": {},
   "outputs": [],
   "source": [
    "# print(x+y) # 행렬 사이즈 오류"
   ]
  },
  {
   "cell_type": "code",
   "execution_count": 35,
   "metadata": {},
   "outputs": [
    {
     "name": "stdout",
     "output_type": "stream",
     "text": [
      "tensor([[1., 1.],\n",
      "        [1., 1.],\n",
      "        [1., 1.],\n",
      "        [1., 1.],\n",
      "        [1., 1.]])\n",
      "tensor([[2., 2.],\n",
      "        [2., 2.],\n",
      "        [2., 2.],\n",
      "        [2., 2.],\n",
      "        [2., 2.]])\n",
      "tensor([[2., 2.],\n",
      "        [2., 2.],\n",
      "        [2., 2.],\n",
      "        [2., 2.],\n",
      "        [2., 2.]])\n",
      "tensor([[2., 2.],\n",
      "        [2., 2.],\n",
      "        [2., 2.],\n",
      "        [2., 2.],\n",
      "        [2., 2.]])\n",
      "tensor([[2., 2.],\n",
      "        [2., 2.],\n",
      "        [2., 2.],\n",
      "        [2., 2.],\n",
      "        [2., 2.]])\n"
     ]
    }
   ],
   "source": [
    "y = torch.ones(5, 2)\n",
    "print(y)\n",
    "\n",
    "# 1.\n",
    "print(x+y)\n",
    "# 2. \n",
    "print(torch.add(x, y))\n",
    "# 3.\n",
    "result = torch.empty(5, 2)\n",
    "torch.add(x, y, out=result)\n",
    "print(result)\n",
    "# 4. inplace\n",
    "print(y.add_(x))"
   ]
  },
  {
   "cell_type": "markdown",
   "metadata": {},
   "source": [
    "### Additional Information\n",
    "- torch 연산(transpose, indexing, slicing, mathematical operations, linear algebra 등)은 아래 링크에서 추가로 확인 가능\n",
    "- https://pytorch.org/docs/stable/torch.html"
   ]
  },
  {
   "cell_type": "markdown",
   "metadata": {},
   "source": [
    "### Reference: Moving tensors to the GPU\n",
    "\n",
    "if you are using Google Colaboratory, please set the runtime type to GPUs.\n",
    "\n",
    "화면 상단 **런타임 >> 런타임 유형 변경 >> 하드웨어 가속기 GPU 선택**\n"
   ]
  },
  {
   "cell_type": "code",
   "execution_count": 36,
   "metadata": {},
   "outputs": [
    {
     "data": {
      "text/plain": [
       "False"
      ]
     },
     "execution_count": 36,
     "metadata": {},
     "output_type": "execute_result"
    }
   ],
   "source": [
    "torch.cuda.is_available()"
   ]
  },
  {
   "cell_type": "code",
   "execution_count": 38,
   "metadata": {},
   "outputs": [
    {
     "name": "stdout",
     "output_type": "stream",
     "text": [
      "tensor([[4., 1.],\n",
      "        [5., 3.],\n",
      "        [2., 1.]])\n"
     ]
    }
   ],
   "source": [
    "import torch # 런타임 유형을 변경하면 colab 세션이 초기화될 수 있음\n",
    "\n",
    "points_gpu = torch.tensor([[4.0, 1.0], [5.0, 3.0], [2.0, 1.0]], device='cpu') # gpu=>cuda\n",
    "\n",
    "print(points_gpu)"
   ]
  },
  {
   "cell_type": "code",
   "execution_count": null,
   "metadata": {},
   "outputs": [],
   "source": [
    "points = torch.randn(2, 3)\n",
    "points_gpu = points.to(device='cuda')\n",
    "\n",
    "print(points_gpu)"
   ]
  },
  {
   "cell_type": "markdown",
   "metadata": {},
   "source": [
    "If our machine has more than one GPU, we can also decide on which GPU we allocate the tensor by passing a zero-based integer identifying the GPU on the machine, such as cuda:0, cuda:1, ..."
   ]
  },
  {
   "cell_type": "code",
   "execution_count": null,
   "metadata": {},
   "outputs": [],
   "source": [
    "points_gpu_0 = points.to(device='cuda:0')\n",
    "print(points_gpu_0)"
   ]
  },
  {
   "cell_type": "code",
   "execution_count": null,
   "metadata": {},
   "outputs": [],
   "source": [
    "# operations performed on CPU and GPU\n",
    "\n",
    "points = 2 * points   # cpu에서 계산 수행\n",
    "print(points)\n",
    "\n",
    "points_op_gpu = 2 * points.to(device='cuda')  # gpu에서 계산 수행\n",
    "print(points_op_gpu)"
   ]
  },
  {
   "cell_type": "code",
   "execution_count": null,
   "metadata": {},
   "outputs": [],
   "source": [
    "# move the tensor back to the CPU\n",
    "\n",
    "points_cpu = points_gpu_0.to(device='cpu')\n",
    "print(points_cpu)\n",
    "print(points_cpu.device)"
   ]
  },
  {
   "cell_type": "code",
   "execution_count": null,
   "metadata": {},
   "outputs": [],
   "source": [
    "# shorter forms\n",
    "points_gpu = points.cuda()\n",
    "print(points_gpu)\n",
    "\n",
    "points_gpu = points.cuda(0)\n",
    "print(points_gpu)\n",
    "\n",
    "points_cpu = points_gpu.cpu()\n",
    "print(points_cpu)"
   ]
  },
  {
   "cell_type": "markdown",
   "metadata": {},
   "source": [
    "## 8. Numpy Interpretability\n",
    "\n",
    "PyTorch tensors can be converted to NumPy arrays and vice versa very efficiently."
   ]
  },
  {
   "cell_type": "code",
   "execution_count": 40,
   "metadata": {},
   "outputs": [
    {
     "name": "stdout",
     "output_type": "stream",
     "text": [
      "[[1. 1. 1. 1.]\n",
      " [1. 1. 1. 1.]\n",
      " [1. 1. 1. 1.]]\n"
     ]
    }
   ],
   "source": [
    "# tensor to numpy array\n",
    "\n",
    "points = torch.ones(3, 4)\n",
    "points_np = points.numpy()\n",
    "\n",
    "print(points_np)"
   ]
  },
  {
   "cell_type": "code",
   "execution_count": 42,
   "metadata": {},
   "outputs": [
    {
     "data": {
      "text/plain": [
       "numpy.ndarray"
      ]
     },
     "execution_count": 42,
     "metadata": {},
     "output_type": "execute_result"
    }
   ],
   "source": [
    "type(points_np)"
   ]
  },
  {
   "cell_type": "code",
   "execution_count": 41,
   "metadata": {},
   "outputs": [
    {
     "name": "stdout",
     "output_type": "stream",
     "text": [
      "tensor([[1., 1., 1., 1.],\n",
      "        [1., 1., 1., 1.],\n",
      "        [1., 1., 1., 1.]])\n"
     ]
    }
   ],
   "source": [
    "# numpy arrray to tensor\n",
    "\n",
    "points = torch.from_numpy(points_np)\n",
    "\n",
    "print(points)"
   ]
  },
  {
   "cell_type": "markdown",
   "metadata": {},
   "source": [
    "## 9. Save and load tensors\n",
    "\n",
    "save tensors to a file and load them back at some point\n",
    "\n",
    "PyTorch uses pickle under the hood to serialize the tensor object, plus dedicated serialization code for the storage."
   ]
  },
  {
   "cell_type": "code",
   "execution_count": null,
   "metadata": {},
   "outputs": [],
   "source": [
    "print(points)\n",
    "\n",
    "torch.save(points, './points_temp.t')"
   ]
  },
  {
   "cell_type": "code",
   "execution_count": null,
   "metadata": {},
   "outputs": [],
   "source": [
    "load_points = torch.load('./points_temp.t')\n",
    "print(load_points)"
   ]
  },
  {
   "cell_type": "code",
   "execution_count": null,
   "metadata": {},
   "outputs": [],
   "source": []
  },
  {
   "cell_type": "code",
   "execution_count": null,
   "metadata": {},
   "outputs": [],
   "source": []
  },
  {
   "cell_type": "code",
   "execution_count": null,
   "metadata": {},
   "outputs": [],
   "source": []
  }
 ],
 "metadata": {
  "kernelspec": {
   "display_name": "torch",
   "language": "python",
   "name": "torch"
  },
  "language_info": {
   "codemirror_mode": {
    "name": "ipython",
    "version": 3
   },
   "file_extension": ".py",
   "mimetype": "text/x-python",
   "name": "python",
   "nbconvert_exporter": "python",
   "pygments_lexer": "ipython3",
   "version": "3.7.9"
  }
 },
 "nbformat": 4,
 "nbformat_minor": 4
}
