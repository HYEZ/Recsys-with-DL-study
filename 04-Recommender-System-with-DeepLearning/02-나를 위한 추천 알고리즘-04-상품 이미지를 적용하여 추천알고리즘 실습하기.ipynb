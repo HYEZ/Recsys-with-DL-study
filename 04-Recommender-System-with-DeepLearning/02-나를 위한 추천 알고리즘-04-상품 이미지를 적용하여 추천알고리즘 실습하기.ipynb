{
 "cells": [
  {
   "cell_type": "markdown",
   "metadata": {},
   "source": [
    "# 이미지 Feature vector를 활용해보기!\n",
    "\n",
    "- 여러 논문에서 소개된것처럼 pre-trained CNN으로 image features를 추출해봅니다.\n",
    "- image features를 비교하여 실제로 비슷한지 판단하고, rating정보와 함께 분석해봅니다.\n"
   ]
  },
  {
   "cell_type": "code",
   "execution_count": 3,
   "metadata": {},
   "outputs": [],
   "source": [
    "path = '../data/amazon_reviews'"
   ]
  },
  {
   "cell_type": "markdown",
   "metadata": {},
   "source": [
    "## Load dataset\n",
    "\n",
    "1. AMAZON_FASHION_5.json\n",
    "2. All_Beauty_5.json\n",
    "3. Luxury_Beauty_5.json"
   ]
  },
  {
   "cell_type": "code",
   "execution_count": 4,
   "metadata": {},
   "outputs": [],
   "source": [
    "import os, json\n",
    "import pandas as pd"
   ]
  },
  {
   "cell_type": "code",
   "execution_count": 5,
   "metadata": {},
   "outputs": [],
   "source": [
    "def load_json(filename):\n",
    "    data = []\n",
    "    with open(os.path.join(path, filename), 'r', encoding='utf-8') as f:\n",
    "        for l in f:\n",
    "            data.append(json.loads(l.strip()))\n",
    "\n",
    "    df = pd.DataFrame.from_dict(data)\n",
    "\n",
    "    # get rows which contains image \n",
    "    df = df[~df['image'].isnull()]\n",
    "\n",
    "    return df"
   ]
  },
  {
   "cell_type": "code",
   "execution_count": 7,
   "metadata": {},
   "outputs": [
    {
     "name": "stdout",
     "output_type": "stream",
     "text": [
      "(106, 12)\n"
     ]
    },
    {
     "data": {
      "text/html": [
       "<div>\n",
       "<style scoped>\n",
       "    .dataframe tbody tr th:only-of-type {\n",
       "        vertical-align: middle;\n",
       "    }\n",
       "\n",
       "    .dataframe tbody tr th {\n",
       "        vertical-align: top;\n",
       "    }\n",
       "\n",
       "    .dataframe thead th {\n",
       "        text-align: right;\n",
       "    }\n",
       "</style>\n",
       "<table border=\"1\" class=\"dataframe\">\n",
       "  <thead>\n",
       "    <tr style=\"text-align: right;\">\n",
       "      <th></th>\n",
       "      <th>overall</th>\n",
       "      <th>verified</th>\n",
       "      <th>reviewTime</th>\n",
       "      <th>reviewerID</th>\n",
       "      <th>asin</th>\n",
       "      <th>style</th>\n",
       "      <th>reviewerName</th>\n",
       "      <th>reviewText</th>\n",
       "      <th>summary</th>\n",
       "      <th>unixReviewTime</th>\n",
       "      <th>vote</th>\n",
       "      <th>image</th>\n",
       "    </tr>\n",
       "  </thead>\n",
       "  <tbody>\n",
       "    <tr>\n",
       "      <th>164</th>\n",
       "      <td>5.0</td>\n",
       "      <td>True</td>\n",
       "      <td>04 18, 2018</td>\n",
       "      <td>A2YZERYQTLB8NG</td>\n",
       "      <td>B001IKJOLW</td>\n",
       "      <td>{'Size:': ' 9.5 B(M) US', 'Color:': ' Black/Wh...</td>\n",
       "      <td>Lenci</td>\n",
       "      <td>Best tennis shoes I've had all my life. Very c...</td>\n",
       "      <td>Very Comfortable</td>\n",
       "      <td>1524009600</td>\n",
       "      <td>NaN</td>\n",
       "      <td>[https://images-na.ssl-images-amazon.com/image...</td>\n",
       "    </tr>\n",
       "    <tr>\n",
       "      <th>172</th>\n",
       "      <td>5.0</td>\n",
       "      <td>True</td>\n",
       "      <td>04 7, 2018</td>\n",
       "      <td>A1CKPC88NHMYGR</td>\n",
       "      <td>B001IKJOLW</td>\n",
       "      <td>{'Size:': ' 11 B(M) US', 'Color:': ' Wolf Grey...</td>\n",
       "      <td>Cynthia Foyer</td>\n",
       "      <td>NaN</td>\n",
       "      <td>Five Stars</td>\n",
       "      <td>1523059200</td>\n",
       "      <td>NaN</td>\n",
       "      <td>[https://images-na.ssl-images-amazon.com/image...</td>\n",
       "    </tr>\n",
       "    <tr>\n",
       "      <th>179</th>\n",
       "      <td>5.0</td>\n",
       "      <td>True</td>\n",
       "      <td>03 22, 2018</td>\n",
       "      <td>A3KKVVAINMZF9D</td>\n",
       "      <td>B001IKJOLW</td>\n",
       "      <td>{'Size:': ' 9 B(M) US', 'Color:': ' Blue Tint/...</td>\n",
       "      <td>Nadege Marcellus</td>\n",
       "      <td>Straight out of the box, these shoes are great...</td>\n",
       "      <td>these shoes are great! Very lightweight and fi...</td>\n",
       "      <td>1521676800</td>\n",
       "      <td>NaN</td>\n",
       "      <td>[https://images-na.ssl-images-amazon.com/image...</td>\n",
       "    </tr>\n",
       "    <tr>\n",
       "      <th>192</th>\n",
       "      <td>5.0</td>\n",
       "      <td>True</td>\n",
       "      <td>02 27, 2018</td>\n",
       "      <td>A3TLWN2BRF1QH5</td>\n",
       "      <td>B001IKJOLW</td>\n",
       "      <td>{'Size:': ' 8.5 B(M) US', 'Color:': ' Blue Tin...</td>\n",
       "      <td>Brittany C.</td>\n",
       "      <td>These are so cute and comfortable and very lig...</td>\n",
       "      <td>Great fit!</td>\n",
       "      <td>1519689600</td>\n",
       "      <td>NaN</td>\n",
       "      <td>[https://images-na.ssl-images-amazon.com/image...</td>\n",
       "    </tr>\n",
       "    <tr>\n",
       "      <th>197</th>\n",
       "      <td>5.0</td>\n",
       "      <td>True</td>\n",
       "      <td>02 20, 2018</td>\n",
       "      <td>A3RNGBSBRJ3YAQ</td>\n",
       "      <td>B001IKJOLW</td>\n",
       "      <td>{'Size:': ' 7.5 B(M) US', 'Color:': ' Wolf Gre...</td>\n",
       "      <td>Andrea L Hogan</td>\n",
       "      <td>They were a gift  to my daughter she loved them</td>\n",
       "      <td>Their Cute and Pink</td>\n",
       "      <td>1519084800</td>\n",
       "      <td>NaN</td>\n",
       "      <td>[https://images-na.ssl-images-amazon.com/image...</td>\n",
       "    </tr>\n",
       "  </tbody>\n",
       "</table>\n",
       "</div>"
      ],
      "text/plain": [
       "     overall  verified   reviewTime      reviewerID        asin  \\\n",
       "164      5.0      True  04 18, 2018  A2YZERYQTLB8NG  B001IKJOLW   \n",
       "172      5.0      True   04 7, 2018  A1CKPC88NHMYGR  B001IKJOLW   \n",
       "179      5.0      True  03 22, 2018  A3KKVVAINMZF9D  B001IKJOLW   \n",
       "192      5.0      True  02 27, 2018  A3TLWN2BRF1QH5  B001IKJOLW   \n",
       "197      5.0      True  02 20, 2018  A3RNGBSBRJ3YAQ  B001IKJOLW   \n",
       "\n",
       "                                                 style      reviewerName  \\\n",
       "164  {'Size:': ' 9.5 B(M) US', 'Color:': ' Black/Wh...             Lenci   \n",
       "172  {'Size:': ' 11 B(M) US', 'Color:': ' Wolf Grey...     Cynthia Foyer   \n",
       "179  {'Size:': ' 9 B(M) US', 'Color:': ' Blue Tint/...  Nadege Marcellus   \n",
       "192  {'Size:': ' 8.5 B(M) US', 'Color:': ' Blue Tin...       Brittany C.   \n",
       "197  {'Size:': ' 7.5 B(M) US', 'Color:': ' Wolf Gre...    Andrea L Hogan   \n",
       "\n",
       "                                            reviewText  \\\n",
       "164  Best tennis shoes I've had all my life. Very c...   \n",
       "172                                                NaN   \n",
       "179  Straight out of the box, these shoes are great...   \n",
       "192  These are so cute and comfortable and very lig...   \n",
       "197    They were a gift  to my daughter she loved them   \n",
       "\n",
       "                                               summary  unixReviewTime vote  \\\n",
       "164                                   Very Comfortable      1524009600  NaN   \n",
       "172                                         Five Stars      1523059200  NaN   \n",
       "179  these shoes are great! Very lightweight and fi...      1521676800  NaN   \n",
       "192                                         Great fit!      1519689600  NaN   \n",
       "197                                Their Cute and Pink      1519084800  NaN   \n",
       "\n",
       "                                                 image  \n",
       "164  [https://images-na.ssl-images-amazon.com/image...  \n",
       "172  [https://images-na.ssl-images-amazon.com/image...  \n",
       "179  [https://images-na.ssl-images-amazon.com/image...  \n",
       "192  [https://images-na.ssl-images-amazon.com/image...  \n",
       "197  [https://images-na.ssl-images-amazon.com/image...  "
      ]
     },
     "execution_count": 7,
     "metadata": {},
     "output_type": "execute_result"
    }
   ],
   "source": [
    "fashion_df = load_json('AMAZON_FASHION_5.json')\n",
    "print(fashion_df.shape)\n",
    "\n",
    "fashion_df.head()"
   ]
  },
  {
   "cell_type": "code",
   "execution_count": 9,
   "metadata": {},
   "outputs": [
    {
     "name": "stdout",
     "output_type": "stream",
     "text": [
      "(98, 12)\n"
     ]
    },
    {
     "data": {
      "text/html": [
       "<div>\n",
       "<style scoped>\n",
       "    .dataframe tbody tr th:only-of-type {\n",
       "        vertical-align: middle;\n",
       "    }\n",
       "\n",
       "    .dataframe tbody tr th {\n",
       "        vertical-align: top;\n",
       "    }\n",
       "\n",
       "    .dataframe thead th {\n",
       "        text-align: right;\n",
       "    }\n",
       "</style>\n",
       "<table border=\"1\" class=\"dataframe\">\n",
       "  <thead>\n",
       "    <tr style=\"text-align: right;\">\n",
       "      <th></th>\n",
       "      <th>overall</th>\n",
       "      <th>verified</th>\n",
       "      <th>reviewTime</th>\n",
       "      <th>reviewerID</th>\n",
       "      <th>asin</th>\n",
       "      <th>style</th>\n",
       "      <th>reviewerName</th>\n",
       "      <th>reviewText</th>\n",
       "      <th>summary</th>\n",
       "      <th>unixReviewTime</th>\n",
       "      <th>vote</th>\n",
       "      <th>image</th>\n",
       "    </tr>\n",
       "  </thead>\n",
       "  <tbody>\n",
       "    <tr>\n",
       "      <th>19</th>\n",
       "      <td>5.0</td>\n",
       "      <td>True</td>\n",
       "      <td>04 23, 2018</td>\n",
       "      <td>AX0ZEGHH0H525</td>\n",
       "      <td>B00006L9LC</td>\n",
       "      <td>{'Size:': ' Small'}</td>\n",
       "      <td>Aida A</td>\n",
       "      <td>Suffered from itchiness under my hair for coup...</td>\n",
       "      <td>Scalp-healing</td>\n",
       "      <td>1524441600</td>\n",
       "      <td>5</td>\n",
       "      <td>[https://images-na.ssl-images-amazon.com/image...</td>\n",
       "    </tr>\n",
       "    <tr>\n",
       "      <th>20</th>\n",
       "      <td>5.0</td>\n",
       "      <td>True</td>\n",
       "      <td>04 22, 2018</td>\n",
       "      <td>A1L0QECT7J93ZP</td>\n",
       "      <td>B00006L9LC</td>\n",
       "      <td>{'Size:': ' Small'}</td>\n",
       "      <td>Elena</td>\n",
       "      <td>Got this product for me and  my daughter. I ca...</td>\n",
       "      <td>For any type of hair</td>\n",
       "      <td>1524355200</td>\n",
       "      <td>4</td>\n",
       "      <td>[https://images-na.ssl-images-amazon.com/image...</td>\n",
       "    </tr>\n",
       "    <tr>\n",
       "      <th>21</th>\n",
       "      <td>5.0</td>\n",
       "      <td>True</td>\n",
       "      <td>04 21, 2018</td>\n",
       "      <td>A1VN560NNZQIR0</td>\n",
       "      <td>B00006L9LC</td>\n",
       "      <td>{'Size:': ' Small'}</td>\n",
       "      <td>Shablinska</td>\n",
       "      <td>Cleansing properties are above any praise! Sup...</td>\n",
       "      <td>The best treat for my hair!</td>\n",
       "      <td>1524268800</td>\n",
       "      <td>4</td>\n",
       "      <td>[https://images-na.ssl-images-amazon.com/image...</td>\n",
       "    </tr>\n",
       "    <tr>\n",
       "      <th>34</th>\n",
       "      <td>1.0</td>\n",
       "      <td>True</td>\n",
       "      <td>03 27, 2018</td>\n",
       "      <td>A2V608ILSK1M5R</td>\n",
       "      <td>B00006L9LC</td>\n",
       "      <td>{'Size:': ' Small'}</td>\n",
       "      <td>CDART815</td>\n",
       "      <td>My product was not sealed and either used or s...</td>\n",
       "      <td>Beware</td>\n",
       "      <td>1522108800</td>\n",
       "      <td>2</td>\n",
       "      <td>[https://images-na.ssl-images-amazon.com/image...</td>\n",
       "    </tr>\n",
       "    <tr>\n",
       "      <th>47</th>\n",
       "      <td>5.0</td>\n",
       "      <td>True</td>\n",
       "      <td>02 23, 2018</td>\n",
       "      <td>A22V1MD93T2FW9</td>\n",
       "      <td>B00006L9LC</td>\n",
       "      <td>{'Size:': ' Small'}</td>\n",
       "      <td>Heather Sharp</td>\n",
       "      <td>I bought this for my husband. Hed been having ...</td>\n",
       "      <td>Really great shampoo for sensitive skin that h...</td>\n",
       "      <td>1519344000</td>\n",
       "      <td>20</td>\n",
       "      <td>[https://images-na.ssl-images-amazon.com/image...</td>\n",
       "    </tr>\n",
       "  </tbody>\n",
       "</table>\n",
       "</div>"
      ],
      "text/plain": [
       "    overall  verified   reviewTime      reviewerID        asin  \\\n",
       "19      5.0      True  04 23, 2018   AX0ZEGHH0H525  B00006L9LC   \n",
       "20      5.0      True  04 22, 2018  A1L0QECT7J93ZP  B00006L9LC   \n",
       "21      5.0      True  04 21, 2018  A1VN560NNZQIR0  B00006L9LC   \n",
       "34      1.0      True  03 27, 2018  A2V608ILSK1M5R  B00006L9LC   \n",
       "47      5.0      True  02 23, 2018  A22V1MD93T2FW9  B00006L9LC   \n",
       "\n",
       "                  style   reviewerName  \\\n",
       "19  {'Size:': ' Small'}         Aida A   \n",
       "20  {'Size:': ' Small'}          Elena   \n",
       "21  {'Size:': ' Small'}     Shablinska   \n",
       "34  {'Size:': ' Small'}       CDART815   \n",
       "47  {'Size:': ' Small'}  Heather Sharp   \n",
       "\n",
       "                                           reviewText  \\\n",
       "19  Suffered from itchiness under my hair for coup...   \n",
       "20  Got this product for me and  my daughter. I ca...   \n",
       "21  Cleansing properties are above any praise! Sup...   \n",
       "34  My product was not sealed and either used or s...   \n",
       "47  I bought this for my husband. Hed been having ...   \n",
       "\n",
       "                                              summary  unixReviewTime vote  \\\n",
       "19                                      Scalp-healing      1524441600    5   \n",
       "20                               For any type of hair      1524355200    4   \n",
       "21                        The best treat for my hair!      1524268800    4   \n",
       "34                                             Beware      1522108800    2   \n",
       "47  Really great shampoo for sensitive skin that h...      1519344000   20   \n",
       "\n",
       "                                                image  \n",
       "19  [https://images-na.ssl-images-amazon.com/image...  \n",
       "20  [https://images-na.ssl-images-amazon.com/image...  \n",
       "21  [https://images-na.ssl-images-amazon.com/image...  \n",
       "34  [https://images-na.ssl-images-amazon.com/image...  \n",
       "47  [https://images-na.ssl-images-amazon.com/image...  "
      ]
     },
     "execution_count": 9,
     "metadata": {},
     "output_type": "execute_result"
    }
   ],
   "source": [
    "beauty_df = load_json('All_Beauty_5.json')\n",
    "print(beauty_df.shape)\n",
    "beauty_df.head()"
   ]
  },
  {
   "cell_type": "code",
   "execution_count": 18,
   "metadata": {},
   "outputs": [
    {
     "name": "stdout",
     "output_type": "stream",
     "text": [
      "(50, 12)\n"
     ]
    }
   ],
   "source": [
    "luxury_df = load_json('Luxury_Beauty_5.json')\n",
    "luxury_df.head()\n",
    "luxury_df = luxury_df[:50]\n",
    "print(luxury_df.shape)"
   ]
  },
  {
   "cell_type": "markdown",
   "metadata": {},
   "source": [
    "## Download images"
   ]
  },
  {
   "cell_type": "code",
   "execution_count": 11,
   "metadata": {},
   "outputs": [],
   "source": [
    "from tqdm import tqdm\n",
    "import requests"
   ]
  },
  {
   "cell_type": "code",
   "execution_count": 13,
   "metadata": {},
   "outputs": [],
   "source": [
    "def download_images(path, df, category):\n",
    "    folder_path = os.path.join(path, category)\n",
    "\n",
    "    if not os.path.exists(folder_path):\n",
    "        os.makedirs(folder_path)\n",
    "\n",
    "    for index in tqdm(df.index):\n",
    "        url_list = df['image'].loc[index]\n",
    "        for url_index, url in enumerate(url_list):\n",
    "            if not os.path.exists(os.path.join(folder_path, f'{str(index)}_{str(url_index)}.jpg')):\n",
    "                img_data = requests.get(url).content\n",
    "                with open(os.path.join(folder_path, f'{str(index)}_{str(url_index)}.jpg'), 'wb') as handler:\n",
    "                    handler.write(img_data)\n",
    "\n",
    "    print(f'{category}: {len(df.index)} images downloaded or already exist...')"
   ]
  },
  {
   "cell_type": "code",
   "execution_count": 14,
   "metadata": {},
   "outputs": [
    {
     "name": "stderr",
     "output_type": "stream",
     "text": [
      "100%|██████████| 98/98 [00:28<00:00,  3.44it/s]"
     ]
    },
    {
     "name": "stdout",
     "output_type": "stream",
     "text": [
      "beauty: 98 images downloaded or already exist...\n"
     ]
    },
    {
     "name": "stderr",
     "output_type": "stream",
     "text": [
      "\n"
     ]
    }
   ],
   "source": [
    "download_images(path, beauty_df, 'beauty')"
   ]
  },
  {
   "cell_type": "code",
   "execution_count": 15,
   "metadata": {},
   "outputs": [
    {
     "name": "stderr",
     "output_type": "stream",
     "text": [
      "100%|██████████| 106/106 [00:34<00:00,  3.11it/s]"
     ]
    },
    {
     "name": "stdout",
     "output_type": "stream",
     "text": [
      "fashion: 106 images downloaded or already exist...\n"
     ]
    },
    {
     "name": "stderr",
     "output_type": "stream",
     "text": [
      "\n"
     ]
    }
   ],
   "source": [
    "download_images(path, fashion_df, 'fashion')"
   ]
  },
  {
   "cell_type": "code",
   "execution_count": 19,
   "metadata": {},
   "outputs": [
    {
     "name": "stderr",
     "output_type": "stream",
     "text": [
      "100%|██████████| 50/50 [00:29<00:00,  1.68it/s]"
     ]
    },
    {
     "name": "stdout",
     "output_type": "stream",
     "text": [
      "luxury: 50 images downloaded or already exist...\n"
     ]
    },
    {
     "name": "stderr",
     "output_type": "stream",
     "text": [
      "\n"
     ]
    }
   ],
   "source": [
    "download_images(path, luxury_df, 'luxury')"
   ]
  },
  {
   "cell_type": "markdown",
   "metadata": {},
   "source": [
    "## Use pre-trained CNN"
   ]
  },
  {
   "cell_type": "code",
   "execution_count": 20,
   "metadata": {},
   "outputs": [],
   "source": [
    "import torch\n",
    "import torch.nn as nn\n",
    "import torchvision.models as models\n",
    "import torchvision.transforms as transforms\n",
    "from torch.autograd import Variable\n",
    "from PIL import Image"
   ]
  },
  {
   "cell_type": "code",
   "execution_count": 21,
   "metadata": {},
   "outputs": [
    {
     "name": "stderr",
     "output_type": "stream",
     "text": [
      "Downloading: \"https://download.pytorch.org/models/resnet18-5c106cde.pth\" to /Users/ohyeji/.cache/torch/hub/checkpoints/resnet18-5c106cde.pth\n"
     ]
    },
    {
     "data": {
      "application/vnd.jupyter.widget-view+json": {
       "model_id": "d02f9572037541b8be6609b3a912885e",
       "version_major": 2,
       "version_minor": 0
      },
      "text/plain": [
       "HBox(children=(HTML(value=''), FloatProgress(value=0.0, max=46827520.0), HTML(value='')))"
      ]
     },
     "metadata": {},
     "output_type": "display_data"
    },
    {
     "name": "stdout",
     "output_type": "stream",
     "text": [
      "\n"
     ]
    }
   ],
   "source": [
    "# Load the pretrained model\n",
    "model = models.resnet18(pretrained=True)\n",
    "# Use the model object to select the desired layer\n",
    "layer = model._modules.get('avgpool')"
   ]
  },
  {
   "cell_type": "code",
   "execution_count": 22,
   "metadata": {},
   "outputs": [
    {
     "data": {
      "text/plain": [
       "ResNet(\n",
       "  (conv1): Conv2d(3, 64, kernel_size=(7, 7), stride=(2, 2), padding=(3, 3), bias=False)\n",
       "  (bn1): BatchNorm2d(64, eps=1e-05, momentum=0.1, affine=True, track_running_stats=True)\n",
       "  (relu): ReLU(inplace=True)\n",
       "  (maxpool): MaxPool2d(kernel_size=3, stride=2, padding=1, dilation=1, ceil_mode=False)\n",
       "  (layer1): Sequential(\n",
       "    (0): BasicBlock(\n",
       "      (conv1): Conv2d(64, 64, kernel_size=(3, 3), stride=(1, 1), padding=(1, 1), bias=False)\n",
       "      (bn1): BatchNorm2d(64, eps=1e-05, momentum=0.1, affine=True, track_running_stats=True)\n",
       "      (relu): ReLU(inplace=True)\n",
       "      (conv2): Conv2d(64, 64, kernel_size=(3, 3), stride=(1, 1), padding=(1, 1), bias=False)\n",
       "      (bn2): BatchNorm2d(64, eps=1e-05, momentum=0.1, affine=True, track_running_stats=True)\n",
       "    )\n",
       "    (1): BasicBlock(\n",
       "      (conv1): Conv2d(64, 64, kernel_size=(3, 3), stride=(1, 1), padding=(1, 1), bias=False)\n",
       "      (bn1): BatchNorm2d(64, eps=1e-05, momentum=0.1, affine=True, track_running_stats=True)\n",
       "      (relu): ReLU(inplace=True)\n",
       "      (conv2): Conv2d(64, 64, kernel_size=(3, 3), stride=(1, 1), padding=(1, 1), bias=False)\n",
       "      (bn2): BatchNorm2d(64, eps=1e-05, momentum=0.1, affine=True, track_running_stats=True)\n",
       "    )\n",
       "  )\n",
       "  (layer2): Sequential(\n",
       "    (0): BasicBlock(\n",
       "      (conv1): Conv2d(64, 128, kernel_size=(3, 3), stride=(2, 2), padding=(1, 1), bias=False)\n",
       "      (bn1): BatchNorm2d(128, eps=1e-05, momentum=0.1, affine=True, track_running_stats=True)\n",
       "      (relu): ReLU(inplace=True)\n",
       "      (conv2): Conv2d(128, 128, kernel_size=(3, 3), stride=(1, 1), padding=(1, 1), bias=False)\n",
       "      (bn2): BatchNorm2d(128, eps=1e-05, momentum=0.1, affine=True, track_running_stats=True)\n",
       "      (downsample): Sequential(\n",
       "        (0): Conv2d(64, 128, kernel_size=(1, 1), stride=(2, 2), bias=False)\n",
       "        (1): BatchNorm2d(128, eps=1e-05, momentum=0.1, affine=True, track_running_stats=True)\n",
       "      )\n",
       "    )\n",
       "    (1): BasicBlock(\n",
       "      (conv1): Conv2d(128, 128, kernel_size=(3, 3), stride=(1, 1), padding=(1, 1), bias=False)\n",
       "      (bn1): BatchNorm2d(128, eps=1e-05, momentum=0.1, affine=True, track_running_stats=True)\n",
       "      (relu): ReLU(inplace=True)\n",
       "      (conv2): Conv2d(128, 128, kernel_size=(3, 3), stride=(1, 1), padding=(1, 1), bias=False)\n",
       "      (bn2): BatchNorm2d(128, eps=1e-05, momentum=0.1, affine=True, track_running_stats=True)\n",
       "    )\n",
       "  )\n",
       "  (layer3): Sequential(\n",
       "    (0): BasicBlock(\n",
       "      (conv1): Conv2d(128, 256, kernel_size=(3, 3), stride=(2, 2), padding=(1, 1), bias=False)\n",
       "      (bn1): BatchNorm2d(256, eps=1e-05, momentum=0.1, affine=True, track_running_stats=True)\n",
       "      (relu): ReLU(inplace=True)\n",
       "      (conv2): Conv2d(256, 256, kernel_size=(3, 3), stride=(1, 1), padding=(1, 1), bias=False)\n",
       "      (bn2): BatchNorm2d(256, eps=1e-05, momentum=0.1, affine=True, track_running_stats=True)\n",
       "      (downsample): Sequential(\n",
       "        (0): Conv2d(128, 256, kernel_size=(1, 1), stride=(2, 2), bias=False)\n",
       "        (1): BatchNorm2d(256, eps=1e-05, momentum=0.1, affine=True, track_running_stats=True)\n",
       "      )\n",
       "    )\n",
       "    (1): BasicBlock(\n",
       "      (conv1): Conv2d(256, 256, kernel_size=(3, 3), stride=(1, 1), padding=(1, 1), bias=False)\n",
       "      (bn1): BatchNorm2d(256, eps=1e-05, momentum=0.1, affine=True, track_running_stats=True)\n",
       "      (relu): ReLU(inplace=True)\n",
       "      (conv2): Conv2d(256, 256, kernel_size=(3, 3), stride=(1, 1), padding=(1, 1), bias=False)\n",
       "      (bn2): BatchNorm2d(256, eps=1e-05, momentum=0.1, affine=True, track_running_stats=True)\n",
       "    )\n",
       "  )\n",
       "  (layer4): Sequential(\n",
       "    (0): BasicBlock(\n",
       "      (conv1): Conv2d(256, 512, kernel_size=(3, 3), stride=(2, 2), padding=(1, 1), bias=False)\n",
       "      (bn1): BatchNorm2d(512, eps=1e-05, momentum=0.1, affine=True, track_running_stats=True)\n",
       "      (relu): ReLU(inplace=True)\n",
       "      (conv2): Conv2d(512, 512, kernel_size=(3, 3), stride=(1, 1), padding=(1, 1), bias=False)\n",
       "      (bn2): BatchNorm2d(512, eps=1e-05, momentum=0.1, affine=True, track_running_stats=True)\n",
       "      (downsample): Sequential(\n",
       "        (0): Conv2d(256, 512, kernel_size=(1, 1), stride=(2, 2), bias=False)\n",
       "        (1): BatchNorm2d(512, eps=1e-05, momentum=0.1, affine=True, track_running_stats=True)\n",
       "      )\n",
       "    )\n",
       "    (1): BasicBlock(\n",
       "      (conv1): Conv2d(512, 512, kernel_size=(3, 3), stride=(1, 1), padding=(1, 1), bias=False)\n",
       "      (bn1): BatchNorm2d(512, eps=1e-05, momentum=0.1, affine=True, track_running_stats=True)\n",
       "      (relu): ReLU(inplace=True)\n",
       "      (conv2): Conv2d(512, 512, kernel_size=(3, 3), stride=(1, 1), padding=(1, 1), bias=False)\n",
       "      (bn2): BatchNorm2d(512, eps=1e-05, momentum=0.1, affine=True, track_running_stats=True)\n",
       "    )\n",
       "  )\n",
       "  (avgpool): AdaptiveAvgPool2d(output_size=(1, 1))\n",
       "  (fc): Linear(in_features=512, out_features=1000, bias=True)\n",
       ")"
      ]
     },
     "execution_count": 22,
     "metadata": {},
     "output_type": "execute_result"
    }
   ],
   "source": [
    "# Set model to evaluation mode\n",
    "model.eval()"
   ]
  },
  {
   "cell_type": "code",
   "execution_count": 23,
   "metadata": {},
   "outputs": [
    {
     "name": "stderr",
     "output_type": "stream",
     "text": [
      "/Users/ohyeji/anaconda3/envs/torch/lib/python3.7/site-packages/torchvision/transforms/transforms.py:279: UserWarning: The use of the transforms.Scale transform is deprecated, please use transforms.Resize instead.\n",
      "  warnings.warn(\"The use of the transforms.Scale transform is deprecated, \" +\n"
     ]
    }
   ],
   "source": [
    "scaler = transforms.Scale((224, 224))\n",
    "normalize = transforms.Normalize(mean=[0.485, 0.456, 0.406],\n",
    "                                 std=[0.229, 0.224, 0.225])\n",
    "to_tensor = transforms.ToTensor()"
   ]
  },
  {
   "cell_type": "code",
   "execution_count": 24,
   "metadata": {},
   "outputs": [],
   "source": [
    "def get_vector(image_name):\n",
    "    # 1. Load the image with Pillow library\n",
    "    img = Image.open(image_name)\n",
    "    # 2. Create a PyTorch Variable with the transformed image\n",
    "    t_img = Variable(normalize(to_tensor(scaler(img))).unsqueeze(0))\n",
    "    # 3. Create a vector of zeros that will hold our feature vector\n",
    "    #    The 'avgpool' layer has an output size of 512\n",
    "    my_embedding = torch.zeros(512)\n",
    "    # 4. Define a function that will copy the output of a layer\n",
    "    def copy_data(m, i, o):\n",
    "        my_embedding.copy_(o.data.reshape(o.data.size(1)))\n",
    "    # 5. Attach that function to our selected layer\n",
    "    h = layer.register_forward_hook(copy_data)\n",
    "    # 6. Run the model on our transformed image\n",
    "    model(t_img)\n",
    "    # 7. Detach our copy function from the layer\n",
    "    h.remove()\n",
    "    # 8. Return the feature vector\n",
    "    return my_embedding.cpu().detach().numpy()"
   ]
  },
  {
   "cell_type": "code",
   "execution_count": 25,
   "metadata": {},
   "outputs": [
    {
     "name": "stdout",
     "output_type": "stream",
     "text": [
      "4854_0.jpg feature vectors\n",
      "[1.68059599e+00 3.31894696e-01 1.30647445e+00 4.90886033e-01\n",
      " 3.24745595e-01 5.49084842e-01 8.98036957e-01 1.62820801e-01\n",
      " 1.29270983e+00 5.38413003e-02 7.69401863e-02 6.03342474e-01\n",
      " 1.69143379e-02 2.32753992e+00 1.07282296e-01 9.16272998e-01\n",
      " 5.90273701e-02 6.49269342e-01 2.28403640e+00 1.82134703e-01\n",
      " 1.20188892e+00 2.77085155e-01 1.74444342e+00 0.00000000e+00\n",
      " 1.77385926e+00 1.14356838e-02 8.97069633e-01 3.69778067e-01\n",
      " 1.34051716e+00 2.00102225e-01 6.60273075e-01 5.76899946e-01\n",
      " 8.59333724e-02 3.64483297e-01 1.38429746e-01 1.10896461e-01\n",
      " 1.36040688e-01 2.96539712e+00 1.35082960e+00 5.92131726e-02\n",
      " 1.71393335e-01 7.30559886e-01 6.38134718e-01 1.81596470e+00\n",
      " 5.44576585e-01 1.32290530e+00 6.33052051e-01 1.00981688e+00\n",
      " 1.12135537e-01 7.69737005e-01 1.63792312e+00 1.27294302e+00\n",
      " 1.46582913e+00 6.13689303e-01 4.69012201e-01 2.09266856e-01\n",
      " 2.06072912e-01 8.86440873e-01 3.81845266e-01 1.62030685e+00\n",
      " 8.13375533e-01 9.62493658e-01 6.03688508e-02 1.61330774e-01\n",
      " 2.45341516e+00 2.23058656e-01 2.29172215e-01 5.26108027e-01\n",
      " 3.68897393e-02 2.51160920e-01 5.78126669e-01 4.92598526e-02\n",
      " 1.52786881e-01 4.51918393e-02 1.36866540e-01 4.39070351e-02\n",
      " 1.00210190e+00 2.56664068e-01 1.17879733e-01 1.70061255e+00\n",
      " 1.09449159e-02 1.70690072e+00 2.32561175e-02 1.08397961e+00\n",
      " 7.60998249e-01 1.47318912e+00 9.14875343e-02 1.74373305e+00\n",
      " 2.90096283e-01 5.12394369e-01 5.65724075e-01 2.70644099e-01\n",
      " 3.48024100e-01 1.11520731e+00 3.83362293e-01 6.17223978e-01\n",
      " 1.97731519e+00 3.94659013e-01 4.47998822e-01 4.75316256e-01\n",
      " 6.87933922e-01 1.46228582e-01 8.27490032e-01 1.42012045e-01\n",
      " 5.80012679e-01 8.06472600e-01 3.25289845e-01 3.28284907e+00\n",
      " 8.05913866e-01 4.78409946e-01 1.72259584e-01 3.74987274e-01\n",
      " 1.40242092e-02 1.50359464e+00 1.76746234e-01 1.81227219e+00\n",
      " 1.02535427e+00 3.45208001e+00 4.26781952e-01 2.08085394e+00\n",
      " 1.91929412e+00 7.55152881e-01 4.87982392e-01 5.95161855e-01\n",
      " 2.65659112e-02 5.61059654e-01 2.19264075e-01 2.69903445e+00\n",
      " 1.89370525e+00 2.54569292e-01 7.09663108e-02 1.75444937e+00\n",
      " 2.10884500e+00 4.53299209e-02 6.19530320e-01 1.34316897e+00\n",
      " 7.24932134e-01 1.11395204e+00 1.04212177e+00 1.50496885e-01\n",
      " 5.89945018e-01 3.13305068e+00 7.37672746e-01 1.16940832e+00\n",
      " 5.97822785e-01 0.00000000e+00 2.16405368e+00 5.41769229e-02\n",
      " 1.31774545e-01 1.43411374e+00 4.88340668e-02 6.67589486e-01\n",
      " 7.88121596e-02 1.75861418e+00 2.93998420e-01 6.51765093e-02\n",
      " 7.06386566e-01 5.00049442e-02 1.31339836e+00 1.37252772e+00\n",
      " 7.27927312e-02 2.38377489e-02 1.12036407e+00 6.38133907e+00\n",
      " 2.22149089e-01 1.39303911e+00 1.05399942e+00 2.16303959e-01\n",
      " 1.37335956e-01 5.46241581e-01 5.46753526e-01 1.52790320e+00\n",
      " 1.25111079e+00 3.11718792e-01 3.18422616e-01 5.45231514e-02\n",
      " 1.48042247e-01 2.12689847e-01 1.40222132e-01 6.73051104e-02\n",
      " 1.34735608e+00 7.72871673e-01 1.54391648e-02 2.74110389e+00\n",
      " 2.34418750e-01 3.75632644e-01 4.13600892e-01 1.70664263e+00\n",
      " 1.07652530e-01 7.97832429e-01 2.70428449e-01 3.01699853e+00\n",
      " 1.27466738e+00 4.93521124e-01 4.81440353e+00 6.86846972e-01\n",
      " 1.19195616e+00 7.23641753e-01 3.90478939e-01 4.61887009e-02\n",
      " 1.07628620e+00 8.17819476e-01 3.75252187e-01 3.63252163e-02\n",
      " 1.57187566e-01 1.01031780e+00 2.46799278e+00 5.98977685e-01\n",
      " 2.62467957e+00 6.97319880e-02 0.00000000e+00 4.55560654e-01\n",
      " 2.09402129e-01 4.15372074e-01 2.38099957e+00 3.27946877e+00\n",
      " 6.82923384e-03 3.67021449e-02 4.09685634e-02 1.56649005e+00\n",
      " 1.44438753e-02 0.00000000e+00 1.83016109e+00 2.24588603e-01\n",
      " 3.57528472e+00 2.42185664e+00 1.94718942e-01 4.36046906e-02\n",
      " 2.13213062e+00 7.85366476e-01 2.27676511e+00 5.93282402e-01\n",
      " 2.55060971e-01 1.52890727e-01 5.62181652e-01 8.47276449e-02\n",
      " 1.82671344e+00 5.78069270e-01 3.40385586e-01 3.38139987e+00\n",
      " 8.94578040e-01 8.60719800e-01 2.95711428e-01 7.12715924e-01\n",
      " 2.84402847e+00 3.03986929e-02 5.85834444e-01 2.27963233e+00\n",
      " 1.51387006e-01 3.72296482e-01 1.46488500e+00 3.31571579e-01\n",
      " 3.53725314e-01 5.15040696e-01 1.77150220e-01 2.69138038e-01\n",
      " 1.72084734e-01 4.77183044e-01 5.36179423e-01 1.32013083e-01\n",
      " 4.80325365e+00 9.78479907e-02 5.78021742e-02 3.96891266e-01\n",
      " 1.06219932e-01 2.28975654e-01 8.57879162e-01 8.34415257e-01\n",
      " 2.01022458e+00 1.34669304e-01 2.32342094e-01 2.40227059e-01\n",
      " 1.23490341e-01 1.45472646e-01 8.29867005e-01 2.61847091e+00\n",
      " 7.43117511e-01 1.79188895e+00 6.77657604e-01 1.11110246e+00\n",
      " 1.39911914e+00 1.87622643e+00 1.28131711e+00 3.23282719e-01\n",
      " 1.12020147e+00 1.92657396e-01 1.47661213e-02 4.69573975e+00\n",
      " 4.90458682e-02 7.23776698e-01 1.13924533e-01 1.48660049e-01\n",
      " 1.07933128e+00 1.46098092e-01 4.99791980e-01 5.64000249e-01\n",
      " 3.39620733e+00 0.00000000e+00 8.24558496e-01 4.86199528e-01\n",
      " 3.48592401e+00 3.55034143e-01 5.83196700e-01 7.14596033e-01\n",
      " 7.99027443e-01 1.98076293e-01 6.15337670e-01 1.63183987e-01\n",
      " 7.87658215e-01 1.20269608e+00 2.51949131e-02 1.59104967e+00\n",
      " 5.74491844e-02 1.22797000e+00 3.25715613e+00 6.20106384e-02\n",
      " 2.99029052e-01 2.76408792e-01 1.09118903e+00 1.22774768e+00\n",
      " 2.05726886e+00 2.15919256e-01 2.40105367e+00 3.77354443e-01\n",
      " 3.68484914e-01 1.43623877e+00 3.40457618e-01 5.30841291e-01\n",
      " 4.62604642e-01 3.17030877e-01 9.87353206e-01 5.60050368e-01\n",
      " 1.25708234e+00 8.80640075e-02 3.28668547e+00 1.70488581e-02\n",
      " 5.62813729e-02 2.47016355e-01 2.41534376e+00 9.09540772e-01\n",
      " 6.02098517e-02 1.35058343e+00 4.84178513e-01 2.69592810e+00\n",
      " 2.13229194e-01 6.96444750e-01 8.94147992e-01 2.50397968e+00\n",
      " 1.03352726e+00 1.18022609e+00 2.67478108e-01 2.50543982e-01\n",
      " 1.10786989e-01 1.42354444e-01 1.80381870e+00 3.31455857e-01\n",
      " 1.64531457e+00 1.12744391e+00 5.35867155e-01 1.01144767e+00\n",
      " 1.86084545e+00 1.47964633e+00 6.24406397e-01 0.00000000e+00\n",
      " 2.19080973e+00 1.24758470e+00 4.13897097e-01 2.29758590e-01\n",
      " 4.25201797e+00 1.03738821e+00 1.92069009e-01 1.69882968e-01\n",
      " 2.64738226e+00 1.46643615e+00 8.16563517e-02 3.31913203e-01\n",
      " 1.26257181e+00 3.90220791e-01 5.77922344e-01 3.51252496e-01\n",
      " 2.17836213e+00 4.74331111e-01 1.67059358e-02 2.30551195e+00\n",
      " 1.84587128e-02 6.32950783e-01 1.29766262e+00 6.15363777e-01\n",
      " 2.13865191e-02 9.96242464e-01 1.48371518e-01 9.08218622e-02\n",
      " 3.45013440e-01 1.30546224e+00 1.08406258e+00 1.08232868e+00\n",
      " 1.30311370e-01 5.12042582e-01 3.81110132e-01 1.39113322e-01\n",
      " 3.63087565e-01 1.02159187e-01 7.48398602e-01 8.04802358e-01\n",
      " 2.25311708e+00 1.77127421e+00 1.60564339e+00 1.35495469e-01\n",
      " 1.81880105e+00 6.11293353e-02 8.90370131e-01 2.65176892e-01\n",
      " 6.76023662e-01 1.47320461e+00 7.46668220e-01 5.01798034e-01\n",
      " 4.77993757e-01 3.46372342e+00 8.18875954e-02 4.41393435e-01\n",
      " 2.96436727e-01 7.06267715e-01 4.75508869e-01 1.31452596e+00\n",
      " 1.79672396e+00 1.28383386e+00 1.10056694e-03 8.43219042e-01\n",
      " 3.07264090e+00 1.28001928e+00 4.82649893e-01 1.98298585e+00\n",
      " 1.95592269e-03 3.37731332e-01 1.45121884e+00 2.62487167e-03\n",
      " 2.27758622e+00 3.01330239e-01 9.66197789e-01 8.17199409e-01\n",
      " 5.71542978e-01 2.34960482e-01 5.42003326e-02 8.06573927e-01\n",
      " 5.10452688e-01 2.55666584e-01 2.23757923e-01 5.24578094e-02\n",
      " 9.61757898e-01 3.09869379e-01 4.60426450e-01 5.74159145e-01\n",
      " 4.26782183e-02 6.09247327e-01 3.63947392e-01 5.74633539e-01\n",
      " 6.26714051e-01 3.71910334e-01 9.10049438e-01 2.20818424e+00\n",
      " 7.74778068e-01 1.09406507e+00 0.00000000e+00 4.51751977e-01\n",
      " 5.90133786e-01 8.46734941e-01 3.86294603e-01 4.83513743e-01\n",
      " 1.85977057e-01 6.00164473e-01 5.12031853e-01 3.45109642e-01\n",
      " 4.25777584e-01 1.67917490e+00 1.05203211e+00 4.04662102e-01\n",
      " 2.56119275e+00 1.67531955e+00 4.92543429e-01 3.22088450e-01\n",
      " 1.92353189e-01 2.91564524e-01 2.43615818e+00 1.69525921e-01\n",
      " 1.85329044e+00 1.45134717e-01 2.52640340e-02 1.14062381e+00\n",
      " 1.06173086e+00 1.89938009e+00 1.78035155e-01 1.72381140e-02\n",
      " 1.20885938e-01 1.18935299e+00 1.25511777e+00 2.52769049e-02\n",
      " 1.07841027e+00 7.99047828e-01 9.99197662e-02 1.91385582e-01\n",
      " 1.39115810e+00 5.07287920e-01 6.55493379e-01 9.66437235e-02\n",
      " 5.93049489e-02 9.51347828e-01 6.89129233e-02 6.96055666e-02\n",
      " 1.22772253e+00 5.51962614e-01 1.11940540e-01 2.77953863e-01]\n",
      "3292_0.jpg feature vectors\n",
      "[5.66608608e-01 1.05347705e+00 3.31572914e+00 7.58562207e-01\n",
      " 1.66123003e-01 1.24357641e-01 2.49028182e+00 2.12958589e-01\n",
      " 6.89917654e-02 8.28546822e-01 8.98011327e-02 9.74127889e-01\n",
      " 3.60380203e-01 2.08472061e+00 1.82801694e-01 9.74830866e-01\n",
      " 9.44608092e-01 3.64366174e-01 1.61597013e-01 3.50049227e-01\n",
      " 1.56258512e+00 5.97430728e-02 4.59654188e+00 1.85521865e+00\n",
      " 1.19543600e+00 1.10100710e+00 1.17688537e+00 1.11609749e-01\n",
      " 1.78886116e-01 2.22760186e-01 2.86311626e+00 1.52954161e+00\n",
      " 5.39944708e-01 3.86357486e-01 1.17528403e+00 6.73257887e-01\n",
      " 9.26448524e-01 7.17929065e-01 1.81529450e+00 1.66176248e+00\n",
      " 1.24610094e-02 7.77540684e-01 5.64969838e-01 6.21783316e-01\n",
      " 2.22238684e+00 3.96006763e-01 1.01142220e-01 8.00818787e-04\n",
      " 2.21150145e-01 1.11569213e-02 6.26610339e-01 7.67431080e-01\n",
      " 2.27374792e+00 1.66870105e+00 6.91574693e-01 1.87108397e+00\n",
      " 5.20894170e-01 7.39939868e-01 1.49626112e+00 3.62000751e+00\n",
      " 5.53088486e-01 1.36637270e+00 3.21415454e-01 4.56498241e+00\n",
      " 2.60191768e-01 4.97492962e-02 7.20447123e-01 2.01299399e-01\n",
      " 2.42919862e-01 5.76545931e-02 2.69243240e-01 3.45699024e+00\n",
      " 4.61514384e-01 0.00000000e+00 5.33359587e-01 2.62367153e+00\n",
      " 6.09961867e-01 6.53833210e-01 1.50178528e+00 1.13092707e-02\n",
      " 7.40541399e-01 1.83793485e+00 5.36606789e-01 2.61587232e-01\n",
      " 2.46838555e-01 1.30868065e+00 1.76604927e-01 7.05166817e-01\n",
      " 3.11365438e+00 2.44656075e-02 1.94456005e+00 1.38794065e+00\n",
      " 4.07989502e-01 1.11067045e+00 1.49359345e-01 8.29640031e-01\n",
      " 7.51365066e-01 7.43389204e-02 4.25739773e-02 8.50902617e-01\n",
      " 4.83200699e-01 7.30440259e-01 1.74228609e+00 2.02563792e-01\n",
      " 2.02636290e+00 3.25053740e+00 4.48654532e-01 8.44153941e-01\n",
      " 6.56698644e-01 3.29841828e+00 1.00903249e+00 8.79330397e-01\n",
      " 1.25888073e+00 2.22615075e+00 1.58865213e+00 6.23680592e-01\n",
      " 8.02535474e-01 5.23432207e+00 1.01619351e+00 1.50304127e+00\n",
      " 2.36404598e-01 2.59677291e-01 4.38223928e-01 5.42282164e-01\n",
      " 2.31615877e+00 1.42780170e-01 2.74426602e-02 1.04163575e+00\n",
      " 7.62037635e-01 1.80809498e+00 3.10199594e+00 3.94038439e-01\n",
      " 4.43597324e-02 1.26709044e+00 1.41853905e+00 2.64651275e+00\n",
      " 0.00000000e+00 0.00000000e+00 1.07721794e+00 2.62508392e-01\n",
      " 5.71822405e-01 9.13532555e-01 2.06165269e-01 5.24068236e-01\n",
      " 6.76532686e-01 6.74549416e-02 1.04827499e+00 5.57981014e-01\n",
      " 8.23106706e-01 1.41343132e-01 1.19259479e-02 1.78976560e+00\n",
      " 9.04097199e-01 1.06733143e-01 6.53524220e-01 1.08180296e+00\n",
      " 2.79499322e-01 4.16941583e-01 4.01759356e-01 3.46303848e-03\n",
      " 6.54694796e-01 2.17536139e+00 5.32615930e-02 3.75925493e+00\n",
      " 1.51775405e-01 9.84146953e-01 5.82741380e-01 8.98222387e-01\n",
      " 1.18959439e+00 3.57955575e-01 9.18858424e-02 2.23638475e-01\n",
      " 1.37056839e+00 8.49447310e-01 5.73518932e-01 4.43183705e-02\n",
      " 8.49045575e-01 4.17102516e-01 4.93246824e-01 3.88274118e-02\n",
      " 2.25250578e+00 1.98835111e+00 4.74804848e-01 1.68963563e+00\n",
      " 2.95144296e-03 1.91259965e-01 1.00556386e+00 3.94124061e-01\n",
      " 3.31360757e-01 6.09148622e-01 1.08624613e+00 5.73103093e-02\n",
      " 5.66415608e-01 1.46375418e+00 6.14810109e-01 3.65778708e+00\n",
      " 5.94082296e-01 8.15833867e-01 6.25068009e-01 5.63079357e-01\n",
      " 4.54664618e-01 4.36775684e-01 8.06734681e-01 7.61378527e-01\n",
      " 6.08592987e-01 2.63576418e-01 2.40256524e+00 5.08967996e-01\n",
      " 1.73531651e+00 3.53775620e-01 1.57814682e+00 7.62621284e-01\n",
      " 8.12089562e-01 7.62411833e-01 5.74860096e-01 1.36950433e-01\n",
      " 2.82042533e-01 5.03021896e-01 2.81775240e-02 4.13804203e-02\n",
      " 3.41514088e-02 6.62932247e-02 1.14060330e+00 8.37602735e-01\n",
      " 1.56849062e+00 8.62436354e-01 1.06104898e+00 3.28497440e-01\n",
      " 9.41008031e-02 2.12229633e+00 2.73350453e+00 1.55494952e+00\n",
      " 1.21820617e+00 2.19968781e-01 2.77046227e+00 1.14723945e+00\n",
      " 7.79069245e-01 2.62983978e-01 4.96175975e-01 1.47295058e+00\n",
      " 1.94772029e+00 1.21733856e+00 7.29076684e-01 1.46988845e+00\n",
      " 1.57801941e-01 4.45250154e-01 2.24482465e+00 4.46573925e+00\n",
      " 1.24808095e-01 1.74200773e-01 8.73667955e-01 3.28699529e-01\n",
      " 1.12534833e+00 6.30076408e-01 2.23447609e+00 5.01907878e-02\n",
      " 1.18015312e-01 6.85913324e-01 1.90380800e+00 8.50347951e-02\n",
      " 3.61566842e-01 6.36022747e-01 7.07238987e-02 3.10089827e-01\n",
      " 5.33510149e-01 6.01945408e-02 1.35782346e-01 8.27127770e-02\n",
      " 2.60677993e-01 6.53311685e-02 1.75982695e-02 6.85886323e-01\n",
      " 5.57485402e-01 7.74036795e-02 1.34350467e+00 2.54743600e+00\n",
      " 8.03562641e-01 1.74391493e-01 7.63598800e-01 7.05919206e-01\n",
      " 2.92900771e-01 1.39922118e+00 9.43710029e-01 1.26567185e-01\n",
      " 3.05874705e+00 2.54894924e+00 4.02432263e-01 2.57916451e+00\n",
      " 3.44560814e+00 6.08332276e-01 1.08900869e+00 7.40120173e-01\n",
      " 9.15305912e-01 1.53500000e-02 8.24887007e-02 8.90660167e-01\n",
      " 3.08298588e-01 0.00000000e+00 1.54345047e+00 4.97822464e-01\n",
      " 3.88543725e+00 1.87855840e-01 3.16093373e+00 2.33844459e-01\n",
      " 4.13528271e-03 7.16072395e-02 5.27387798e-01 9.08465147e-01\n",
      " 1.42846825e-02 5.01224697e-01 1.10681176e+00 1.65207908e-01\n",
      " 2.67899275e-01 1.60001290e+00 1.72259271e+00 6.22600317e-01\n",
      " 3.33282836e-02 1.07259119e+00 0.00000000e+00 1.65218163e+00\n",
      " 9.90597248e-01 1.10500688e-02 2.07428241e+00 2.16581538e-01\n",
      " 7.49941230e-01 5.77046633e-01 3.86878580e-01 4.19128001e-01\n",
      " 4.78589922e-01 2.46589005e-01 2.87809074e-01 1.26881325e+00\n",
      " 1.39011276e+00 1.79499400e+00 3.08951378e+00 9.85015184e-02\n",
      " 1.86280370e-01 1.00263186e-01 5.39105952e-01 4.22387987e-01\n",
      " 1.62160432e+00 1.98337233e+00 1.98127359e-01 7.40206361e-01\n",
      " 3.75173520e-04 4.31556493e-01 9.29560065e-01 2.18798447e+00\n",
      " 1.18702658e-01 4.20844167e-01 1.78203151e-01 0.00000000e+00\n",
      " 7.56748915e-02 7.28053093e-01 1.79971111e+00 5.76091349e-01\n",
      " 1.38078201e+00 1.95232823e-01 1.68479159e-01 1.45663396e-01\n",
      " 2.79771304e+00 1.87716424e+00 2.81852245e-01 6.86540902e-01\n",
      " 2.09266037e-01 4.21206683e-01 1.49572754e+00 2.96061635e+00\n",
      " 5.73967159e-01 3.13320279e-01 9.22331885e-02 3.00899029e+00\n",
      " 4.16311646e+00 2.03872293e-01 1.16499031e+00 1.01436770e+00\n",
      " 6.29066348e-01 3.05349588e-01 1.90943336e+00 2.17435980e+00\n",
      " 2.94218230e+00 2.55525887e-01 5.01500778e-02 1.45852578e+00\n",
      " 3.97159625e-03 2.75995755e+00 2.43524337e+00 3.21544933e+00\n",
      " 6.86948180e-01 6.90595731e-02 5.40510774e-01 5.74775875e-01\n",
      " 1.06052116e-01 8.33996534e-01 5.40610999e-02 2.02680767e-01\n",
      " 8.83521497e-01 1.16041934e+00 5.54382861e-01 5.19154668e-01\n",
      " 5.61060429e-01 1.15121174e+00 6.13288283e-01 2.12966710e-01\n",
      " 6.48232758e-01 2.64498401e+00 1.65658224e+00 4.10999179e-01\n",
      " 4.49851342e-02 2.61337376e+00 1.09530699e+00 1.47598848e-01\n",
      " 7.89261639e-01 1.31966189e-01 1.37574470e+00 1.54497135e+00\n",
      " 4.83760029e-01 3.07507694e-01 1.72552478e+00 1.53157726e-01\n",
      " 4.96970713e-01 2.91141152e+00 9.63193551e-02 6.05221212e-01\n",
      " 2.82062387e+00 3.84895134e+00 6.29214525e-01 2.02540576e-01\n",
      " 3.98680149e-03 1.99950516e-01 8.56520414e-01 2.67761778e-02\n",
      " 3.27069193e-01 1.82141483e-01 1.47834933e+00 4.20873240e-03\n",
      " 1.90606880e+00 3.86402935e-01 2.39333838e-01 5.87317824e-01\n",
      " 8.52044225e-01 4.10274088e-01 1.61819613e+00 8.44529033e-01\n",
      " 1.98357478e-01 2.10736918e+00 5.25280349e-02 1.59858346e+00\n",
      " 6.55339360e-01 5.15055656e-01 1.64866000e-01 4.16328669e-01\n",
      " 8.63281250e-01 4.55520868e+00 4.20439124e-01 2.67647815e+00\n",
      " 7.73627818e-01 9.39223409e-01 8.60697389e-01 9.02873695e-01\n",
      " 3.34467888e-02 2.14404082e+00 1.28768754e+00 2.52003789e+00\n",
      " 1.72859049e+00 8.48698139e-01 3.18176001e-01 1.04941912e-01\n",
      " 2.74059176e-01 1.12029232e-01 3.46059054e-01 3.48096251e-01\n",
      " 8.51424932e-02 1.60897839e+00 3.88686967e+00 1.19975114e+00\n",
      " 5.30393243e-01 6.45264685e-02 6.24765575e-01 2.03445911e+00\n",
      " 8.60917389e-01 2.07080878e-03 8.74009967e-01 1.50177553e-01\n",
      " 5.83029366e+00 3.61868620e+00 1.27268061e-01 3.47621584e+00\n",
      " 1.94196597e-01 3.82814825e-01 1.31631047e-01 1.88580498e-01\n",
      " 3.07173431e-02 1.96531564e-01 1.14158392e+00 2.31447101e-01\n",
      " 7.39932716e-01 9.10232782e-01 3.30959857e-01 6.52896520e-03\n",
      " 9.57180560e-01 3.25743139e-01 9.80785370e-01 1.17568910e+00\n",
      " 4.84741468e-04 3.58717859e-01 1.51466048e+00 5.43894053e-01\n",
      " 6.37610972e-01 5.49153864e-01 5.55420101e-01 1.54126793e-01]\n"
     ]
    }
   ],
   "source": [
    "# Test\n",
    "category = 'beauty'\n",
    "for image_file in os.listdir(os.path.join(path, category))[:2]:\n",
    "    print(f\"{image_file} feature vectors\")\n",
    "    print(get_vector(os.path.join(path, category+'/'+image_file)))"
   ]
  },
  {
   "cell_type": "markdown",
   "metadata": {},
   "source": [
    "## Preprocess dataset\n",
    "\n",
    "- Remove unnecessary columns\n",
    "- Remove all other columns except `overall`, `reviewerID`, `asin`, `image` \n",
    "- Create new column with image filename"
   ]
  },
  {
   "cell_type": "code",
   "execution_count": 27,
   "metadata": {},
   "outputs": [],
   "source": [
    "def add_image_filenames(category, df):\n",
    "    # Remove unnecessary columns\n",
    "    df = df[['overall','reviewerID', 'asin', 'image']]\n",
    "\n",
    "    filenames = []\n",
    "    for row_index in df.index:\n",
    "        each_files = []\n",
    "        for idx in range(len(df.loc[row_index]['image'])):\n",
    "            each_files.append(os.path.join(path, category+'/'+f'{row_index}_{idx}.jpg'))\n",
    "        filenames.append(each_files)\n",
    "\n",
    "    # Add new column\n",
    "    df.drop('image', axis=1, inplace=True)\n",
    "    df['image_filename'] = list(filenames)\n",
    "\n",
    "    return df\n"
   ]
  },
  {
   "cell_type": "code",
   "execution_count": 28,
   "metadata": {},
   "outputs": [
    {
     "name": "stderr",
     "output_type": "stream",
     "text": [
      "/Users/ohyeji/anaconda3/envs/torch/lib/python3.7/site-packages/pandas/core/frame.py:4174: SettingWithCopyWarning: \n",
      "A value is trying to be set on a copy of a slice from a DataFrame\n",
      "\n",
      "See the caveats in the documentation: https://pandas.pydata.org/pandas-docs/stable/user_guide/indexing.html#returning-a-view-versus-a-copy\n",
      "  errors=errors,\n",
      "/Users/ohyeji/anaconda3/envs/torch/lib/python3.7/site-packages/ipykernel_launcher.py:14: SettingWithCopyWarning: \n",
      "A value is trying to be set on a copy of a slice from a DataFrame.\n",
      "Try using .loc[row_indexer,col_indexer] = value instead\n",
      "\n",
      "See the caveats in the documentation: https://pandas.pydata.org/pandas-docs/stable/user_guide/indexing.html#returning-a-view-versus-a-copy\n",
      "  \n"
     ]
    }
   ],
   "source": [
    "luxury_df = add_image_filenames('luxury', luxury_df)\n",
    "beauty_df = add_image_filenames('beauty', beauty_df)\n",
    "fashion_df = add_image_filenames('fashion', fashion_df)"
   ]
  },
  {
   "cell_type": "code",
   "execution_count": 29,
   "metadata": {},
   "outputs": [
    {
     "data": {
      "text/html": [
       "<div>\n",
       "<style scoped>\n",
       "    .dataframe tbody tr th:only-of-type {\n",
       "        vertical-align: middle;\n",
       "    }\n",
       "\n",
       "    .dataframe tbody tr th {\n",
       "        vertical-align: top;\n",
       "    }\n",
       "\n",
       "    .dataframe thead th {\n",
       "        text-align: right;\n",
       "    }\n",
       "</style>\n",
       "<table border=\"1\" class=\"dataframe\">\n",
       "  <thead>\n",
       "    <tr style=\"text-align: right;\">\n",
       "      <th></th>\n",
       "      <th>overall</th>\n",
       "      <th>reviewerID</th>\n",
       "      <th>asin</th>\n",
       "      <th>image_filename</th>\n",
       "    </tr>\n",
       "  </thead>\n",
       "  <tbody>\n",
       "    <tr>\n",
       "      <th>68</th>\n",
       "      <td>5.0</td>\n",
       "      <td>A2BHOZILR7SY9</td>\n",
       "      <td>B000142FVW</td>\n",
       "      <td>[../data/amazon_reviews/luxury/68_0.jpg]</td>\n",
       "    </tr>\n",
       "    <tr>\n",
       "      <th>75</th>\n",
       "      <td>5.0</td>\n",
       "      <td>ACMSQCH1H7JZD</td>\n",
       "      <td>B000142FVW</td>\n",
       "      <td>[../data/amazon_reviews/luxury/75_0.jpg]</td>\n",
       "    </tr>\n",
       "    <tr>\n",
       "      <th>86</th>\n",
       "      <td>5.0</td>\n",
       "      <td>A2L77YQRAEA1YZ</td>\n",
       "      <td>B000142FVW</td>\n",
       "      <td>[../data/amazon_reviews/luxury/86_0.jpg]</td>\n",
       "    </tr>\n",
       "    <tr>\n",
       "      <th>88</th>\n",
       "      <td>5.0</td>\n",
       "      <td>A28W77RPDZK7AZ</td>\n",
       "      <td>B00014351Q</td>\n",
       "      <td>[../data/amazon_reviews/luxury/88_0.jpg, ../da...</td>\n",
       "    </tr>\n",
       "    <tr>\n",
       "      <th>104</th>\n",
       "      <td>5.0</td>\n",
       "      <td>A2IV70BWQBUF32</td>\n",
       "      <td>B00014351Q</td>\n",
       "      <td>[../data/amazon_reviews/luxury/104_0.jpg]</td>\n",
       "    </tr>\n",
       "  </tbody>\n",
       "</table>\n",
       "</div>"
      ],
      "text/plain": [
       "     overall      reviewerID        asin  \\\n",
       "68       5.0   A2BHOZILR7SY9  B000142FVW   \n",
       "75       5.0   ACMSQCH1H7JZD  B000142FVW   \n",
       "86       5.0  A2L77YQRAEA1YZ  B000142FVW   \n",
       "88       5.0  A28W77RPDZK7AZ  B00014351Q   \n",
       "104      5.0  A2IV70BWQBUF32  B00014351Q   \n",
       "\n",
       "                                        image_filename  \n",
       "68            [../data/amazon_reviews/luxury/68_0.jpg]  \n",
       "75            [../data/amazon_reviews/luxury/75_0.jpg]  \n",
       "86            [../data/amazon_reviews/luxury/86_0.jpg]  \n",
       "88   [../data/amazon_reviews/luxury/88_0.jpg, ../da...  \n",
       "104          [../data/amazon_reviews/luxury/104_0.jpg]  "
      ]
     },
     "execution_count": 29,
     "metadata": {},
     "output_type": "execute_result"
    }
   ],
   "source": [
    "luxury_df.head()"
   ]
  },
  {
   "cell_type": "code",
   "execution_count": 30,
   "metadata": {},
   "outputs": [],
   "source": [
    "data_list = []\n",
    "dataframe_list = [('luxury',luxury_df), ('beauty', beauty_df), ('fashion', fashion_df)]\n",
    "for dataframe in dataframe_list:\n",
    "    category = dataframe[0]\n",
    "    df = dataframe[1]\n",
    "    for index, row in df.iterrows():\n",
    "        for filename in row['image_filename']:\n",
    "            data_tuple = (category, row['overall'], row['reviewerID'], row['asin'], filename)\n",
    "            data_list.append(data_tuple)"
   ]
  },
  {
   "cell_type": "code",
   "execution_count": 32,
   "metadata": {},
   "outputs": [
    {
     "name": "stdout",
     "output_type": "stream",
     "text": [
      "(391, 5)\n"
     ]
    },
    {
     "data": {
      "text/html": [
       "<div>\n",
       "<style scoped>\n",
       "    .dataframe tbody tr th:only-of-type {\n",
       "        vertical-align: middle;\n",
       "    }\n",
       "\n",
       "    .dataframe tbody tr th {\n",
       "        vertical-align: top;\n",
       "    }\n",
       "\n",
       "    .dataframe thead th {\n",
       "        text-align: right;\n",
       "    }\n",
       "</style>\n",
       "<table border=\"1\" class=\"dataframe\">\n",
       "  <thead>\n",
       "    <tr style=\"text-align: right;\">\n",
       "      <th></th>\n",
       "      <th>category</th>\n",
       "      <th>overall</th>\n",
       "      <th>reviewerID</th>\n",
       "      <th>asin</th>\n",
       "      <th>filename</th>\n",
       "    </tr>\n",
       "  </thead>\n",
       "  <tbody>\n",
       "    <tr>\n",
       "      <th>0</th>\n",
       "      <td>luxury</td>\n",
       "      <td>5.0</td>\n",
       "      <td>A2BHOZILR7SY9</td>\n",
       "      <td>B000142FVW</td>\n",
       "      <td>../data/amazon_reviews/luxury/68_0.jpg</td>\n",
       "    </tr>\n",
       "    <tr>\n",
       "      <th>1</th>\n",
       "      <td>luxury</td>\n",
       "      <td>5.0</td>\n",
       "      <td>ACMSQCH1H7JZD</td>\n",
       "      <td>B000142FVW</td>\n",
       "      <td>../data/amazon_reviews/luxury/75_0.jpg</td>\n",
       "    </tr>\n",
       "    <tr>\n",
       "      <th>2</th>\n",
       "      <td>luxury</td>\n",
       "      <td>5.0</td>\n",
       "      <td>A2L77YQRAEA1YZ</td>\n",
       "      <td>B000142FVW</td>\n",
       "      <td>../data/amazon_reviews/luxury/86_0.jpg</td>\n",
       "    </tr>\n",
       "    <tr>\n",
       "      <th>3</th>\n",
       "      <td>luxury</td>\n",
       "      <td>5.0</td>\n",
       "      <td>A28W77RPDZK7AZ</td>\n",
       "      <td>B00014351Q</td>\n",
       "      <td>../data/amazon_reviews/luxury/88_0.jpg</td>\n",
       "    </tr>\n",
       "    <tr>\n",
       "      <th>4</th>\n",
       "      <td>luxury</td>\n",
       "      <td>5.0</td>\n",
       "      <td>A28W77RPDZK7AZ</td>\n",
       "      <td>B00014351Q</td>\n",
       "      <td>../data/amazon_reviews/luxury/88_1.jpg</td>\n",
       "    </tr>\n",
       "  </tbody>\n",
       "</table>\n",
       "</div>"
      ],
      "text/plain": [
       "  category  overall      reviewerID        asin  \\\n",
       "0   luxury      5.0   A2BHOZILR7SY9  B000142FVW   \n",
       "1   luxury      5.0   ACMSQCH1H7JZD  B000142FVW   \n",
       "2   luxury      5.0  A2L77YQRAEA1YZ  B000142FVW   \n",
       "3   luxury      5.0  A28W77RPDZK7AZ  B00014351Q   \n",
       "4   luxury      5.0  A28W77RPDZK7AZ  B00014351Q   \n",
       "\n",
       "                                 filename  \n",
       "0  ../data/amazon_reviews/luxury/68_0.jpg  \n",
       "1  ../data/amazon_reviews/luxury/75_0.jpg  \n",
       "2  ../data/amazon_reviews/luxury/86_0.jpg  \n",
       "3  ../data/amazon_reviews/luxury/88_0.jpg  \n",
       "4  ../data/amazon_reviews/luxury/88_1.jpg  "
      ]
     },
     "execution_count": 32,
     "metadata": {},
     "output_type": "execute_result"
    }
   ],
   "source": [
    "combined_df = pd.DataFrame(data=data_list,columns=['category', 'overall', 'reviewerID', 'asin', 'filename'])\n",
    "print(combined_df.shape)\n",
    "combined_df.head()"
   ]
  },
  {
   "cell_type": "markdown",
   "metadata": {},
   "source": [
    "### Get image feature vectors"
   ]
  },
  {
   "cell_type": "code",
   "execution_count": 33,
   "metadata": {},
   "outputs": [],
   "source": [
    "combined_df['image_vec'] = combined_df['filename'].apply(lambda x: get_vector(x))\n",
    "combined_df.to_csv(os.path.join(path, 'image_dataset.csv'), sep='\\t')\n"
   ]
  },
  {
   "cell_type": "code",
   "execution_count": 34,
   "metadata": {},
   "outputs": [
    {
     "data": {
      "text/html": [
       "<div>\n",
       "<style scoped>\n",
       "    .dataframe tbody tr th:only-of-type {\n",
       "        vertical-align: middle;\n",
       "    }\n",
       "\n",
       "    .dataframe tbody tr th {\n",
       "        vertical-align: top;\n",
       "    }\n",
       "\n",
       "    .dataframe thead th {\n",
       "        text-align: right;\n",
       "    }\n",
       "</style>\n",
       "<table border=\"1\" class=\"dataframe\">\n",
       "  <thead>\n",
       "    <tr style=\"text-align: right;\">\n",
       "      <th></th>\n",
       "      <th>category</th>\n",
       "      <th>overall</th>\n",
       "      <th>reviewerID</th>\n",
       "      <th>asin</th>\n",
       "      <th>filename</th>\n",
       "      <th>image_vec</th>\n",
       "    </tr>\n",
       "  </thead>\n",
       "  <tbody>\n",
       "    <tr>\n",
       "      <th>0</th>\n",
       "      <td>luxury</td>\n",
       "      <td>5.0</td>\n",
       "      <td>A2BHOZILR7SY9</td>\n",
       "      <td>B000142FVW</td>\n",
       "      <td>../data/amazon_reviews/luxury/68_0.jpg</td>\n",
       "      <td>[0.57558465, 0.7388489, 0.10173568, 0.21581173...</td>\n",
       "    </tr>\n",
       "    <tr>\n",
       "      <th>1</th>\n",
       "      <td>luxury</td>\n",
       "      <td>5.0</td>\n",
       "      <td>ACMSQCH1H7JZD</td>\n",
       "      <td>B000142FVW</td>\n",
       "      <td>../data/amazon_reviews/luxury/75_0.jpg</td>\n",
       "      <td>[1.5841694, 1.0663635, 0.13369095, 0.3091502, ...</td>\n",
       "    </tr>\n",
       "    <tr>\n",
       "      <th>2</th>\n",
       "      <td>luxury</td>\n",
       "      <td>5.0</td>\n",
       "      <td>A2L77YQRAEA1YZ</td>\n",
       "      <td>B000142FVW</td>\n",
       "      <td>../data/amazon_reviews/luxury/86_0.jpg</td>\n",
       "      <td>[0.9460139, 1.269538, 0.1632403, 0.69132954, 0...</td>\n",
       "    </tr>\n",
       "    <tr>\n",
       "      <th>3</th>\n",
       "      <td>luxury</td>\n",
       "      <td>5.0</td>\n",
       "      <td>A28W77RPDZK7AZ</td>\n",
       "      <td>B00014351Q</td>\n",
       "      <td>../data/amazon_reviews/luxury/88_0.jpg</td>\n",
       "      <td>[0.86120635, 0.44911617, 0.25928155, 1.4042616...</td>\n",
       "    </tr>\n",
       "    <tr>\n",
       "      <th>4</th>\n",
       "      <td>luxury</td>\n",
       "      <td>5.0</td>\n",
       "      <td>A28W77RPDZK7AZ</td>\n",
       "      <td>B00014351Q</td>\n",
       "      <td>../data/amazon_reviews/luxury/88_1.jpg</td>\n",
       "      <td>[1.2655925, 0.3834538, 1.1492652, 1.5618992, 0...</td>\n",
       "    </tr>\n",
       "  </tbody>\n",
       "</table>\n",
       "</div>"
      ],
      "text/plain": [
       "  category  overall      reviewerID        asin  \\\n",
       "0   luxury      5.0   A2BHOZILR7SY9  B000142FVW   \n",
       "1   luxury      5.0   ACMSQCH1H7JZD  B000142FVW   \n",
       "2   luxury      5.0  A2L77YQRAEA1YZ  B000142FVW   \n",
       "3   luxury      5.0  A28W77RPDZK7AZ  B00014351Q   \n",
       "4   luxury      5.0  A28W77RPDZK7AZ  B00014351Q   \n",
       "\n",
       "                                 filename  \\\n",
       "0  ../data/amazon_reviews/luxury/68_0.jpg   \n",
       "1  ../data/amazon_reviews/luxury/75_0.jpg   \n",
       "2  ../data/amazon_reviews/luxury/86_0.jpg   \n",
       "3  ../data/amazon_reviews/luxury/88_0.jpg   \n",
       "4  ../data/amazon_reviews/luxury/88_1.jpg   \n",
       "\n",
       "                                           image_vec  \n",
       "0  [0.57558465, 0.7388489, 0.10173568, 0.21581173...  \n",
       "1  [1.5841694, 1.0663635, 0.13369095, 0.3091502, ...  \n",
       "2  [0.9460139, 1.269538, 0.1632403, 0.69132954, 0...  \n",
       "3  [0.86120635, 0.44911617, 0.25928155, 1.4042616...  \n",
       "4  [1.2655925, 0.3834538, 1.1492652, 1.5618992, 0...  "
      ]
     },
     "execution_count": 34,
     "metadata": {},
     "output_type": "execute_result"
    }
   ],
   "source": [
    "combined_df.head()"
   ]
  },
  {
   "cell_type": "markdown",
   "metadata": {},
   "source": [
    "## K-means clustering"
   ]
  },
  {
   "cell_type": "code",
   "execution_count": 35,
   "metadata": {},
   "outputs": [],
   "source": [
    "from sklearn.model_selection import train_test_split\n",
    "from sklearn.cluster import KMeans\n",
    "import numpy as np"
   ]
  },
  {
   "cell_type": "code",
   "execution_count": 36,
   "metadata": {},
   "outputs": [],
   "source": [
    "def check_vector(vector):\n",
    "    return np.array([0.0 if str(x) == '' else float(x) for x in vector])[:512]\n",
    "\n"
   ]
  },
  {
   "cell_type": "code",
   "execution_count": 37,
   "metadata": {},
   "outputs": [],
   "source": [
    "df = pd.read_csv(os.path.join(path, 'image_dataset.csv'), sep='\\t', index_col=0,\n",
    "                 converters={\"image_vec\": lambda x: x.strip(\"[]\").replace('\\n','').split(\" \")})\n"
   ]
  },
  {
   "cell_type": "code",
   "execution_count": 38,
   "metadata": {},
   "outputs": [
    {
     "data": {
      "text/html": [
       "<div>\n",
       "<style scoped>\n",
       "    .dataframe tbody tr th:only-of-type {\n",
       "        vertical-align: middle;\n",
       "    }\n",
       "\n",
       "    .dataframe tbody tr th {\n",
       "        vertical-align: top;\n",
       "    }\n",
       "\n",
       "    .dataframe thead th {\n",
       "        text-align: right;\n",
       "    }\n",
       "</style>\n",
       "<table border=\"1\" class=\"dataframe\">\n",
       "  <thead>\n",
       "    <tr style=\"text-align: right;\">\n",
       "      <th></th>\n",
       "      <th>category</th>\n",
       "      <th>overall</th>\n",
       "      <th>reviewerID</th>\n",
       "      <th>asin</th>\n",
       "      <th>filename</th>\n",
       "      <th>image_vec</th>\n",
       "    </tr>\n",
       "  </thead>\n",
       "  <tbody>\n",
       "    <tr>\n",
       "      <th>0</th>\n",
       "      <td>luxury</td>\n",
       "      <td>5.0</td>\n",
       "      <td>A2BHOZILR7SY9</td>\n",
       "      <td>B000142FVW</td>\n",
       "      <td>../data/amazon_reviews/luxury/68_0.jpg</td>\n",
       "      <td>[5.75584650e-01, 7.38848925e-01, 1.01735681e-0...</td>\n",
       "    </tr>\n",
       "    <tr>\n",
       "      <th>1</th>\n",
       "      <td>luxury</td>\n",
       "      <td>5.0</td>\n",
       "      <td>ACMSQCH1H7JZD</td>\n",
       "      <td>B000142FVW</td>\n",
       "      <td>../data/amazon_reviews/luxury/75_0.jpg</td>\n",
       "      <td>[1.58416939e+00, 1.06636345e+00, 1.33690953e-0...</td>\n",
       "    </tr>\n",
       "    <tr>\n",
       "      <th>2</th>\n",
       "      <td>luxury</td>\n",
       "      <td>5.0</td>\n",
       "      <td>A2L77YQRAEA1YZ</td>\n",
       "      <td>B000142FVW</td>\n",
       "      <td>../data/amazon_reviews/luxury/86_0.jpg</td>\n",
       "      <td>[9.46013927e-01, 1.26953804e+00, 1.63240299e-0...</td>\n",
       "    </tr>\n",
       "    <tr>\n",
       "      <th>3</th>\n",
       "      <td>luxury</td>\n",
       "      <td>5.0</td>\n",
       "      <td>A28W77RPDZK7AZ</td>\n",
       "      <td>B00014351Q</td>\n",
       "      <td>../data/amazon_reviews/luxury/88_0.jpg</td>\n",
       "      <td>[0.86120635, 0.44911617, 0.25928155, 1.4042616...</td>\n",
       "    </tr>\n",
       "    <tr>\n",
       "      <th>4</th>\n",
       "      <td>luxury</td>\n",
       "      <td>5.0</td>\n",
       "      <td>A28W77RPDZK7AZ</td>\n",
       "      <td>B00014351Q</td>\n",
       "      <td>../data/amazon_reviews/luxury/88_1.jpg</td>\n",
       "      <td>[1.2655925, , 0.3834538, , 1.1492652, , 1.5618...</td>\n",
       "    </tr>\n",
       "  </tbody>\n",
       "</table>\n",
       "</div>"
      ],
      "text/plain": [
       "  category  overall      reviewerID        asin  \\\n",
       "0   luxury      5.0   A2BHOZILR7SY9  B000142FVW   \n",
       "1   luxury      5.0   ACMSQCH1H7JZD  B000142FVW   \n",
       "2   luxury      5.0  A2L77YQRAEA1YZ  B000142FVW   \n",
       "3   luxury      5.0  A28W77RPDZK7AZ  B00014351Q   \n",
       "4   luxury      5.0  A28W77RPDZK7AZ  B00014351Q   \n",
       "\n",
       "                                 filename  \\\n",
       "0  ../data/amazon_reviews/luxury/68_0.jpg   \n",
       "1  ../data/amazon_reviews/luxury/75_0.jpg   \n",
       "2  ../data/amazon_reviews/luxury/86_0.jpg   \n",
       "3  ../data/amazon_reviews/luxury/88_0.jpg   \n",
       "4  ../data/amazon_reviews/luxury/88_1.jpg   \n",
       "\n",
       "                                           image_vec  \n",
       "0  [5.75584650e-01, 7.38848925e-01, 1.01735681e-0...  \n",
       "1  [1.58416939e+00, 1.06636345e+00, 1.33690953e-0...  \n",
       "2  [9.46013927e-01, 1.26953804e+00, 1.63240299e-0...  \n",
       "3  [0.86120635, 0.44911617, 0.25928155, 1.4042616...  \n",
       "4  [1.2655925, , 0.3834538, , 1.1492652, , 1.5618...  "
      ]
     },
     "execution_count": 38,
     "metadata": {},
     "output_type": "execute_result"
    }
   ],
   "source": [
    "df.head()"
   ]
  },
  {
   "cell_type": "code",
   "execution_count": 39,
   "metadata": {},
   "outputs": [],
   "source": [
    "df['image_vec'] = df['image_vec'].apply(lambda x: check_vector(x))"
   ]
  },
  {
   "cell_type": "code",
   "execution_count": 41,
   "metadata": {},
   "outputs": [
    {
     "data": {
      "text/html": [
       "<div>\n",
       "<style scoped>\n",
       "    .dataframe tbody tr th:only-of-type {\n",
       "        vertical-align: middle;\n",
       "    }\n",
       "\n",
       "    .dataframe tbody tr th {\n",
       "        vertical-align: top;\n",
       "    }\n",
       "\n",
       "    .dataframe thead th {\n",
       "        text-align: right;\n",
       "    }\n",
       "</style>\n",
       "<table border=\"1\" class=\"dataframe\">\n",
       "  <thead>\n",
       "    <tr style=\"text-align: right;\">\n",
       "      <th></th>\n",
       "      <th>category</th>\n",
       "      <th>overall</th>\n",
       "      <th>reviewerID</th>\n",
       "      <th>asin</th>\n",
       "      <th>filename</th>\n",
       "      <th>image_vec</th>\n",
       "    </tr>\n",
       "  </thead>\n",
       "  <tbody>\n",
       "    <tr>\n",
       "      <th>0</th>\n",
       "      <td>luxury</td>\n",
       "      <td>5.0</td>\n",
       "      <td>A2BHOZILR7SY9</td>\n",
       "      <td>B000142FVW</td>\n",
       "      <td>../data/amazon_reviews/luxury/68_0.jpg</td>\n",
       "      <td>[0.57558465, 0.738848925, 0.101735681, 0.21581...</td>\n",
       "    </tr>\n",
       "    <tr>\n",
       "      <th>1</th>\n",
       "      <td>luxury</td>\n",
       "      <td>5.0</td>\n",
       "      <td>ACMSQCH1H7JZD</td>\n",
       "      <td>B000142FVW</td>\n",
       "      <td>../data/amazon_reviews/luxury/75_0.jpg</td>\n",
       "      <td>[1.58416939, 1.06636345, 0.133690953, 0.309150...</td>\n",
       "    </tr>\n",
       "    <tr>\n",
       "      <th>2</th>\n",
       "      <td>luxury</td>\n",
       "      <td>5.0</td>\n",
       "      <td>A2L77YQRAEA1YZ</td>\n",
       "      <td>B000142FVW</td>\n",
       "      <td>../data/amazon_reviews/luxury/86_0.jpg</td>\n",
       "      <td>[0.946013927, 1.26953804, 0.163240299, 0.69132...</td>\n",
       "    </tr>\n",
       "    <tr>\n",
       "      <th>3</th>\n",
       "      <td>luxury</td>\n",
       "      <td>5.0</td>\n",
       "      <td>A28W77RPDZK7AZ</td>\n",
       "      <td>B00014351Q</td>\n",
       "      <td>../data/amazon_reviews/luxury/88_0.jpg</td>\n",
       "      <td>[0.86120635, 0.44911617, 0.25928155, 1.4042616...</td>\n",
       "    </tr>\n",
       "    <tr>\n",
       "      <th>4</th>\n",
       "      <td>luxury</td>\n",
       "      <td>5.0</td>\n",
       "      <td>A28W77RPDZK7AZ</td>\n",
       "      <td>B00014351Q</td>\n",
       "      <td>../data/amazon_reviews/luxury/88_1.jpg</td>\n",
       "      <td>[1.2655925, 0.0, 0.3834538, 0.0, 1.1492652, 0....</td>\n",
       "    </tr>\n",
       "  </tbody>\n",
       "</table>\n",
       "</div>"
      ],
      "text/plain": [
       "  category  overall      reviewerID        asin  \\\n",
       "0   luxury      5.0   A2BHOZILR7SY9  B000142FVW   \n",
       "1   luxury      5.0   ACMSQCH1H7JZD  B000142FVW   \n",
       "2   luxury      5.0  A2L77YQRAEA1YZ  B000142FVW   \n",
       "3   luxury      5.0  A28W77RPDZK7AZ  B00014351Q   \n",
       "4   luxury      5.0  A28W77RPDZK7AZ  B00014351Q   \n",
       "\n",
       "                                 filename  \\\n",
       "0  ../data/amazon_reviews/luxury/68_0.jpg   \n",
       "1  ../data/amazon_reviews/luxury/75_0.jpg   \n",
       "2  ../data/amazon_reviews/luxury/86_0.jpg   \n",
       "3  ../data/amazon_reviews/luxury/88_0.jpg   \n",
       "4  ../data/amazon_reviews/luxury/88_1.jpg   \n",
       "\n",
       "                                           image_vec  \n",
       "0  [0.57558465, 0.738848925, 0.101735681, 0.21581...  \n",
       "1  [1.58416939, 1.06636345, 0.133690953, 0.309150...  \n",
       "2  [0.946013927, 1.26953804, 0.163240299, 0.69132...  \n",
       "3  [0.86120635, 0.44911617, 0.25928155, 1.4042616...  \n",
       "4  [1.2655925, 0.0, 0.3834538, 0.0, 1.1492652, 0....  "
      ]
     },
     "execution_count": 41,
     "metadata": {},
     "output_type": "execute_result"
    }
   ],
   "source": [
    "df.head()"
   ]
  },
  {
   "cell_type": "code",
   "execution_count": 42,
   "metadata": {},
   "outputs": [
    {
     "name": "stdout",
     "output_type": "stream",
     "text": [
      "(312, 6)\n",
      "(79, 6)\n"
     ]
    }
   ],
   "source": [
    "train_df, test_df = train_test_split(df, test_size=0.2, random_state=1234)\n",
    "print(train_df.shape)\n",
    "print(test_df.shape)"
   ]
  },
  {
   "cell_type": "code",
   "execution_count": 43,
   "metadata": {},
   "outputs": [],
   "source": [
    "X_train = np.array([list(x) for x in train_df['image_vec'].values])"
   ]
  },
  {
   "cell_type": "code",
   "execution_count": 44,
   "metadata": {},
   "outputs": [
    {
     "data": {
      "text/plain": [
       "array([[1.14149129, 0.97845006, 1.26295602, ..., 0.23935166, 0.27402246,\n",
       "        5.02150917],\n",
       "       [0.70760679, 0.05854635, 0.64922899, ..., 0.72796828, 0.32886657,\n",
       "        0.80799866],\n",
       "       [0.30770081, 1.03539789, 2.69267702, ..., 0.87885767, 0.14589608,\n",
       "        0.00641873]])"
      ]
     },
     "execution_count": 44,
     "metadata": {},
     "output_type": "execute_result"
    }
   ],
   "source": [
    "X_train[:3]"
   ]
  },
  {
   "cell_type": "code",
   "execution_count": 45,
   "metadata": {},
   "outputs": [],
   "source": [
    "kmeans = KMeans(n_clusters=3, random_state=0).fit(X_train)"
   ]
  },
  {
   "cell_type": "code",
   "execution_count": 46,
   "metadata": {},
   "outputs": [
    {
     "data": {
      "text/plain": [
       "array([1, 0, 2, 2, 0, 0, 1, 2, 0, 2, 0, 2, 0, 0, 0, 0, 0, 0, 2, 2, 0, 1,\n",
       "       0, 1, 2, 0, 0, 1, 0, 0, 2, 0, 2, 2, 2, 1, 0, 2, 1, 0, 0, 0, 2, 1,\n",
       "       0, 0, 0, 2, 0, 0, 2, 0, 0, 0, 0, 0, 2, 0, 0, 0, 2, 0, 0, 1, 0, 1,\n",
       "       0, 0, 0, 0, 0, 0, 0, 0, 2, 0, 0, 0, 0, 0, 0, 0, 2, 0, 0, 2, 0, 2,\n",
       "       0, 0, 0, 2, 1, 0, 2, 2, 0, 2, 0, 0, 2, 2, 2, 2, 0, 2, 0, 2, 0, 0,\n",
       "       0, 0, 1, 2, 1, 0, 2, 2, 1, 0, 2, 2, 0, 0, 0, 1, 0, 0, 1, 1, 2, 0,\n",
       "       0, 0, 0, 2, 0, 0, 2, 2, 1, 1, 1, 1, 2, 2, 0, 2, 0, 0, 0, 0, 0, 0,\n",
       "       2, 2, 1, 0, 0, 0, 2, 1, 1, 0, 0, 0, 1, 1, 2, 0, 0, 0, 0, 0, 2, 0,\n",
       "       0, 0, 0, 2, 0, 0, 1, 2, 1, 2, 0, 1, 0, 0, 0, 1, 2, 0, 0, 2, 0, 0,\n",
       "       2, 1, 0, 1, 2, 1, 2, 0, 1, 0, 2, 2, 2, 0, 0, 0, 0, 1, 2, 0, 2, 0,\n",
       "       2, 0, 0, 1, 0, 0, 2, 2, 0, 1, 0, 0, 0, 0, 0, 0, 0, 0, 0, 0, 0, 1,\n",
       "       1, 2, 0, 1, 2, 0, 2, 1, 1, 0, 0, 0, 1, 0, 2, 0, 0, 0, 0, 2, 2, 2,\n",
       "       0, 2, 0, 1, 0, 0, 0, 1, 2, 0, 0, 1, 0, 1, 0, 1, 2, 2, 0, 2, 0, 0,\n",
       "       0, 0, 1, 0, 0, 0, 0, 0, 2, 1, 0, 2, 2, 0, 2, 0, 1, 0, 2, 0, 0, 2,\n",
       "       2, 0, 0, 1], dtype=int32)"
      ]
     },
     "execution_count": 46,
     "metadata": {},
     "output_type": "execute_result"
    }
   ],
   "source": [
    "kmeans.labels_"
   ]
  },
  {
   "cell_type": "code",
   "execution_count": 47,
   "metadata": {},
   "outputs": [
    {
     "data": {
      "text/html": [
       "<div>\n",
       "<style scoped>\n",
       "    .dataframe tbody tr th:only-of-type {\n",
       "        vertical-align: middle;\n",
       "    }\n",
       "\n",
       "    .dataframe tbody tr th {\n",
       "        vertical-align: top;\n",
       "    }\n",
       "\n",
       "    .dataframe thead th {\n",
       "        text-align: right;\n",
       "    }\n",
       "</style>\n",
       "<table border=\"1\" class=\"dataframe\">\n",
       "  <thead>\n",
       "    <tr style=\"text-align: right;\">\n",
       "      <th></th>\n",
       "      <th>category</th>\n",
       "      <th>overall</th>\n",
       "      <th>reviewerID</th>\n",
       "      <th>asin</th>\n",
       "      <th>filename</th>\n",
       "      <th>image_vec</th>\n",
       "    </tr>\n",
       "  </thead>\n",
       "  <tbody>\n",
       "    <tr>\n",
       "      <th>40</th>\n",
       "      <td>luxury</td>\n",
       "      <td>5.0</td>\n",
       "      <td>A25QBCHO0KFT0P</td>\n",
       "      <td>B00014GT8W</td>\n",
       "      <td>../data/amazon_reviews/luxury/577_0.jpg</td>\n",
       "      <td>[0.0468260944, 0.879412174, 0.468813539, 0.381...</td>\n",
       "    </tr>\n",
       "    <tr>\n",
       "      <th>44</th>\n",
       "      <td>luxury</td>\n",
       "      <td>5.0</td>\n",
       "      <td>AX5ZDQUSZG8MI</td>\n",
       "      <td>B00014GT8W</td>\n",
       "      <td>../data/amazon_reviews/luxury/602_1.jpg</td>\n",
       "      <td>[0.0649163723, 1.51313007, 0.60124737, 0.21510...</td>\n",
       "    </tr>\n",
       "    <tr>\n",
       "      <th>304</th>\n",
       "      <td>fashion</td>\n",
       "      <td>5.0</td>\n",
       "      <td>AEUUYBIO73RLA</td>\n",
       "      <td>B009MA34NY</td>\n",
       "      <td>../data/amazon_reviews/fashion/1445_0.jpg</td>\n",
       "      <td>[0.643320262, 0.577247977, 0.365769535, 1.0960...</td>\n",
       "    </tr>\n",
       "    <tr>\n",
       "      <th>59</th>\n",
       "      <td>luxury</td>\n",
       "      <td>3.0</td>\n",
       "      <td>A1A25TP5D0L22V</td>\n",
       "      <td>B0002RI2PG</td>\n",
       "      <td>../data/amazon_reviews/luxury/1247_1.jpg</td>\n",
       "      <td>[0.592981756, 0.134454787, 0.929966509, 1.1438...</td>\n",
       "    </tr>\n",
       "    <tr>\n",
       "      <th>267</th>\n",
       "      <td>fashion</td>\n",
       "      <td>1.0</td>\n",
       "      <td>A3SM5XENOINDNH</td>\n",
       "      <td>B0058YEJ5K</td>\n",
       "      <td>../data/amazon_reviews/fashion/821_0.jpg</td>\n",
       "      <td>[0.0297243893, 0.150493458, 0.899268091, 0.654...</td>\n",
       "    </tr>\n",
       "  </tbody>\n",
       "</table>\n",
       "</div>"
      ],
      "text/plain": [
       "    category  overall      reviewerID        asin  \\\n",
       "40    luxury      5.0  A25QBCHO0KFT0P  B00014GT8W   \n",
       "44    luxury      5.0   AX5ZDQUSZG8MI  B00014GT8W   \n",
       "304  fashion      5.0   AEUUYBIO73RLA  B009MA34NY   \n",
       "59    luxury      3.0  A1A25TP5D0L22V  B0002RI2PG   \n",
       "267  fashion      1.0  A3SM5XENOINDNH  B0058YEJ5K   \n",
       "\n",
       "                                      filename  \\\n",
       "40     ../data/amazon_reviews/luxury/577_0.jpg   \n",
       "44     ../data/amazon_reviews/luxury/602_1.jpg   \n",
       "304  ../data/amazon_reviews/fashion/1445_0.jpg   \n",
       "59    ../data/amazon_reviews/luxury/1247_1.jpg   \n",
       "267   ../data/amazon_reviews/fashion/821_0.jpg   \n",
       "\n",
       "                                             image_vec  \n",
       "40   [0.0468260944, 0.879412174, 0.468813539, 0.381...  \n",
       "44   [0.0649163723, 1.51313007, 0.60124737, 0.21510...  \n",
       "304  [0.643320262, 0.577247977, 0.365769535, 1.0960...  \n",
       "59   [0.592981756, 0.134454787, 0.929966509, 1.1438...  \n",
       "267  [0.0297243893, 0.150493458, 0.899268091, 0.654...  "
      ]
     },
     "execution_count": 47,
     "metadata": {},
     "output_type": "execute_result"
    }
   ],
   "source": [
    "test_df.head()"
   ]
  },
  {
   "cell_type": "markdown",
   "metadata": {},
   "source": [
    "### Evaluation"
   ]
  },
  {
   "cell_type": "code",
   "execution_count": 48,
   "metadata": {},
   "outputs": [
    {
     "name": "stderr",
     "output_type": "stream",
     "text": [
      "/Users/ohyeji/anaconda3/envs/torch/lib/python3.7/site-packages/ipykernel_launcher.py:2: SettingWithCopyWarning: \n",
      "A value is trying to be set on a copy of a slice from a DataFrame.\n",
      "Try using .loc[row_indexer,col_indexer] = value instead\n",
      "\n",
      "See the caveats in the documentation: https://pandas.pydata.org/pandas-docs/stable/user_guide/indexing.html#returning-a-view-versus-a-copy\n",
      "  \n"
     ]
    },
    {
     "data": {
      "text/html": [
       "<div>\n",
       "<style scoped>\n",
       "    .dataframe tbody tr th:only-of-type {\n",
       "        vertical-align: middle;\n",
       "    }\n",
       "\n",
       "    .dataframe tbody tr th {\n",
       "        vertical-align: top;\n",
       "    }\n",
       "\n",
       "    .dataframe thead th {\n",
       "        text-align: right;\n",
       "    }\n",
       "</style>\n",
       "<table border=\"1\" class=\"dataframe\">\n",
       "  <thead>\n",
       "    <tr style=\"text-align: right;\">\n",
       "      <th></th>\n",
       "      <th>category</th>\n",
       "      <th>overall</th>\n",
       "      <th>reviewerID</th>\n",
       "      <th>asin</th>\n",
       "      <th>filename</th>\n",
       "      <th>image_vec</th>\n",
       "      <th>prediction</th>\n",
       "    </tr>\n",
       "  </thead>\n",
       "  <tbody>\n",
       "    <tr>\n",
       "      <th>40</th>\n",
       "      <td>luxury</td>\n",
       "      <td>5.0</td>\n",
       "      <td>A25QBCHO0KFT0P</td>\n",
       "      <td>B00014GT8W</td>\n",
       "      <td>../data/amazon_reviews/luxury/577_0.jpg</td>\n",
       "      <td>[0.0468260944, 0.879412174, 0.468813539, 0.381...</td>\n",
       "      <td>0</td>\n",
       "    </tr>\n",
       "    <tr>\n",
       "      <th>44</th>\n",
       "      <td>luxury</td>\n",
       "      <td>5.0</td>\n",
       "      <td>AX5ZDQUSZG8MI</td>\n",
       "      <td>B00014GT8W</td>\n",
       "      <td>../data/amazon_reviews/luxury/602_1.jpg</td>\n",
       "      <td>[0.0649163723, 1.51313007, 0.60124737, 0.21510...</td>\n",
       "      <td>0</td>\n",
       "    </tr>\n",
       "    <tr>\n",
       "      <th>304</th>\n",
       "      <td>fashion</td>\n",
       "      <td>5.0</td>\n",
       "      <td>AEUUYBIO73RLA</td>\n",
       "      <td>B009MA34NY</td>\n",
       "      <td>../data/amazon_reviews/fashion/1445_0.jpg</td>\n",
       "      <td>[0.643320262, 0.577247977, 0.365769535, 1.0960...</td>\n",
       "      <td>0</td>\n",
       "    </tr>\n",
       "    <tr>\n",
       "      <th>59</th>\n",
       "      <td>luxury</td>\n",
       "      <td>3.0</td>\n",
       "      <td>A1A25TP5D0L22V</td>\n",
       "      <td>B0002RI2PG</td>\n",
       "      <td>../data/amazon_reviews/luxury/1247_1.jpg</td>\n",
       "      <td>[0.592981756, 0.134454787, 0.929966509, 1.1438...</td>\n",
       "      <td>0</td>\n",
       "    </tr>\n",
       "    <tr>\n",
       "      <th>267</th>\n",
       "      <td>fashion</td>\n",
       "      <td>1.0</td>\n",
       "      <td>A3SM5XENOINDNH</td>\n",
       "      <td>B0058YEJ5K</td>\n",
       "      <td>../data/amazon_reviews/fashion/821_0.jpg</td>\n",
       "      <td>[0.0297243893, 0.150493458, 0.899268091, 0.654...</td>\n",
       "      <td>1</td>\n",
       "    </tr>\n",
       "  </tbody>\n",
       "</table>\n",
       "</div>"
      ],
      "text/plain": [
       "    category  overall      reviewerID        asin  \\\n",
       "40    luxury      5.0  A25QBCHO0KFT0P  B00014GT8W   \n",
       "44    luxury      5.0   AX5ZDQUSZG8MI  B00014GT8W   \n",
       "304  fashion      5.0   AEUUYBIO73RLA  B009MA34NY   \n",
       "59    luxury      3.0  A1A25TP5D0L22V  B0002RI2PG   \n",
       "267  fashion      1.0  A3SM5XENOINDNH  B0058YEJ5K   \n",
       "\n",
       "                                      filename  \\\n",
       "40     ../data/amazon_reviews/luxury/577_0.jpg   \n",
       "44     ../data/amazon_reviews/luxury/602_1.jpg   \n",
       "304  ../data/amazon_reviews/fashion/1445_0.jpg   \n",
       "59    ../data/amazon_reviews/luxury/1247_1.jpg   \n",
       "267   ../data/amazon_reviews/fashion/821_0.jpg   \n",
       "\n",
       "                                             image_vec  prediction  \n",
       "40   [0.0468260944, 0.879412174, 0.468813539, 0.381...           0  \n",
       "44   [0.0649163723, 1.51313007, 0.60124737, 0.21510...           0  \n",
       "304  [0.643320262, 0.577247977, 0.365769535, 1.0960...           0  \n",
       "59   [0.592981756, 0.134454787, 0.929966509, 1.1438...           0  \n",
       "267  [0.0297243893, 0.150493458, 0.899268091, 0.654...           1  "
      ]
     },
     "execution_count": 48,
     "metadata": {},
     "output_type": "execute_result"
    }
   ],
   "source": [
    "# kmeans.predict([test_df['image_vec'].iloc[0]])\n",
    "test_df['prediction'] = test_df['image_vec'].apply(lambda x: kmeans.predict([x])[0])\n",
    "test_df.head()"
   ]
  },
  {
   "cell_type": "code",
   "execution_count": 49,
   "metadata": {},
   "outputs": [
    {
     "data": {
      "text/plain": [
       "category\n",
       "beauty     24\n",
       "fashion    30\n",
       "luxury     25\n",
       "Name: prediction, dtype: int64"
      ]
     },
     "execution_count": 49,
     "metadata": {},
     "output_type": "execute_result"
    }
   ],
   "source": [
    "test_df.groupby('category')['prediction'].count()"
   ]
  },
  {
   "cell_type": "code",
   "execution_count": 50,
   "metadata": {},
   "outputs": [
    {
     "data": {
      "text/html": [
       "<div>\n",
       "<style scoped>\n",
       "    .dataframe tbody tr th:only-of-type {\n",
       "        vertical-align: middle;\n",
       "    }\n",
       "\n",
       "    .dataframe tbody tr th {\n",
       "        vertical-align: top;\n",
       "    }\n",
       "\n",
       "    .dataframe thead th {\n",
       "        text-align: right;\n",
       "    }\n",
       "</style>\n",
       "<table border=\"1\" class=\"dataframe\">\n",
       "  <thead>\n",
       "    <tr style=\"text-align: right;\">\n",
       "      <th></th>\n",
       "      <th>overall</th>\n",
       "      <th>reviewerID</th>\n",
       "      <th>asin</th>\n",
       "      <th>filename</th>\n",
       "      <th>image_vec</th>\n",
       "      <th>prediction</th>\n",
       "    </tr>\n",
       "    <tr>\n",
       "      <th>category</th>\n",
       "      <th></th>\n",
       "      <th></th>\n",
       "      <th></th>\n",
       "      <th></th>\n",
       "      <th></th>\n",
       "      <th></th>\n",
       "    </tr>\n",
       "  </thead>\n",
       "  <tbody>\n",
       "    <tr>\n",
       "      <th>beauty</th>\n",
       "      <td>24</td>\n",
       "      <td>24</td>\n",
       "      <td>24</td>\n",
       "      <td>24</td>\n",
       "      <td>24</td>\n",
       "      <td>24</td>\n",
       "    </tr>\n",
       "    <tr>\n",
       "      <th>fashion</th>\n",
       "      <td>30</td>\n",
       "      <td>30</td>\n",
       "      <td>30</td>\n",
       "      <td>30</td>\n",
       "      <td>30</td>\n",
       "      <td>30</td>\n",
       "    </tr>\n",
       "    <tr>\n",
       "      <th>luxury</th>\n",
       "      <td>25</td>\n",
       "      <td>25</td>\n",
       "      <td>25</td>\n",
       "      <td>25</td>\n",
       "      <td>25</td>\n",
       "      <td>25</td>\n",
       "    </tr>\n",
       "  </tbody>\n",
       "</table>\n",
       "</div>"
      ],
      "text/plain": [
       "          overall  reviewerID  asin  filename  image_vec  prediction\n",
       "category                                                            \n",
       "beauty         24          24    24        24         24          24\n",
       "fashion        30          30    30        30         30          30\n",
       "luxury         25          25    25        25         25          25"
      ]
     },
     "execution_count": 50,
     "metadata": {},
     "output_type": "execute_result"
    }
   ],
   "source": [
    "test_df.groupby('category').count()"
   ]
  },
  {
   "cell_type": "code",
   "execution_count": 51,
   "metadata": {},
   "outputs": [
    {
     "data": {
      "text/html": [
       "<div>\n",
       "<style scoped>\n",
       "    .dataframe tbody tr th:only-of-type {\n",
       "        vertical-align: middle;\n",
       "    }\n",
       "\n",
       "    .dataframe tbody tr th {\n",
       "        vertical-align: top;\n",
       "    }\n",
       "\n",
       "    .dataframe thead th {\n",
       "        text-align: right;\n",
       "    }\n",
       "</style>\n",
       "<table border=\"1\" class=\"dataframe\">\n",
       "  <thead>\n",
       "    <tr style=\"text-align: right;\">\n",
       "      <th></th>\n",
       "      <th>category</th>\n",
       "      <th>overall</th>\n",
       "      <th>reviewerID</th>\n",
       "      <th>asin</th>\n",
       "      <th>filename</th>\n",
       "      <th>image_vec</th>\n",
       "    </tr>\n",
       "    <tr>\n",
       "      <th>prediction</th>\n",
       "      <th></th>\n",
       "      <th></th>\n",
       "      <th></th>\n",
       "      <th></th>\n",
       "      <th></th>\n",
       "      <th></th>\n",
       "    </tr>\n",
       "  </thead>\n",
       "  <tbody>\n",
       "    <tr>\n",
       "      <th>0</th>\n",
       "      <td>51</td>\n",
       "      <td>51</td>\n",
       "      <td>51</td>\n",
       "      <td>51</td>\n",
       "      <td>51</td>\n",
       "      <td>51</td>\n",
       "    </tr>\n",
       "    <tr>\n",
       "      <th>1</th>\n",
       "      <td>12</td>\n",
       "      <td>12</td>\n",
       "      <td>12</td>\n",
       "      <td>12</td>\n",
       "      <td>12</td>\n",
       "      <td>12</td>\n",
       "    </tr>\n",
       "    <tr>\n",
       "      <th>2</th>\n",
       "      <td>16</td>\n",
       "      <td>16</td>\n",
       "      <td>16</td>\n",
       "      <td>16</td>\n",
       "      <td>16</td>\n",
       "      <td>16</td>\n",
       "    </tr>\n",
       "  </tbody>\n",
       "</table>\n",
       "</div>"
      ],
      "text/plain": [
       "            category  overall  reviewerID  asin  filename  image_vec\n",
       "prediction                                                          \n",
       "0                 51       51          51    51        51         51\n",
       "1                 12       12          12    12        12         12\n",
       "2                 16       16          16    16        16         16"
      ]
     },
     "execution_count": 51,
     "metadata": {},
     "output_type": "execute_result"
    }
   ],
   "source": [
    "test_df.groupby('prediction').count()"
   ]
  },
  {
   "cell_type": "code",
   "execution_count": 52,
   "metadata": {},
   "outputs": [
    {
     "name": "stdout",
     "output_type": "stream",
     "text": [
      "(22, 7)\n",
      "(0, 7)\n",
      "(3, 7)\n"
     ]
    }
   ],
   "source": [
    "print(test_df[(test_df.prediction == 0) & (test_df.category == 'luxury')].shape)\n",
    "print(test_df[(test_df.prediction == 1) & (test_df.category == 'luxury')].shape)\n",
    "print(test_df[(test_df.prediction == 2) & (test_df.category == 'luxury')].shape)"
   ]
  },
  {
   "cell_type": "markdown",
   "metadata": {},
   "source": [
    "## K-Nearest Neighbors\n"
   ]
  },
  {
   "cell_type": "code",
   "execution_count": 53,
   "metadata": {},
   "outputs": [],
   "source": [
    "from sklearn.neighbors import KNeighborsClassifier"
   ]
  },
  {
   "cell_type": "code",
   "execution_count": 54,
   "metadata": {},
   "outputs": [],
   "source": [
    "neigh = KNeighborsClassifier(n_neighbors=3)"
   ]
  },
  {
   "cell_type": "code",
   "execution_count": 57,
   "metadata": {},
   "outputs": [
    {
     "name": "stdout",
     "output_type": "stream",
     "text": [
      "[5. 5. 5. 4. 5. 5. 5. 5. 5. 5. 5. 5. 5. 5. 5. 5. 5. 5. 3. 5. 5. 5. 1. 5.\n",
      " 5. 5. 1. 5. 1. 5. 5. 4. 5. 5. 5. 5. 5. 5. 5. 1. 5. 5. 5. 5. 5. 5. 5. 3.\n",
      " 5. 5. 5. 5. 5. 5. 5. 5. 3. 5. 1. 5. 5. 5. 5. 1. 4. 5. 4. 5. 1. 5. 3. 5.\n",
      " 5. 5. 3. 5. 5. 1. 5. 5. 5. 5. 5. 5. 5. 5. 5. 5. 5. 5. 5. 5. 5. 1. 5. 5.\n",
      " 5. 4. 5. 5. 5. 5. 5. 5. 4. 4. 5. 5. 5. 3. 5. 5. 1. 5. 5. 4. 5. 5. 1. 5.\n",
      " 5. 4. 5. 3. 5. 5. 5. 5. 5. 5. 3. 5. 4. 5. 5. 3. 5. 5. 5. 5. 1. 5. 5. 5.\n",
      " 5. 5. 4. 5. 5. 5. 5. 5. 5. 5. 3. 5. 1. 3. 5. 3. 1. 5. 1. 1. 5. 5. 5. 5.\n",
      " 5. 4. 5. 5. 1. 1. 5. 5. 1. 5. 5. 5. 5. 5. 5. 5. 1. 5. 4. 5. 5. 4. 5. 1.\n",
      " 3. 5. 5. 3. 5. 1. 4. 5. 4. 5. 5. 1. 3. 1. 5. 5. 5. 5. 5. 3. 5. 4. 1. 5.\n",
      " 5. 5. 5. 5. 5. 5. 5. 1. 5. 1. 5. 5. 4. 5. 4. 5. 4. 4. 5. 5. 3. 4. 4. 5.\n",
      " 4. 5. 5. 5. 1. 5. 5. 4. 3. 5. 1. 5. 1. 5. 1. 5. 3. 4. 4. 5. 5. 5. 5. 5.\n",
      " 5. 5. 5. 5. 4. 5. 1. 5. 5. 1. 5. 5. 5. 1. 5. 5. 3. 5. 5. 3. 5. 5. 3. 5.\n",
      " 5. 5. 1. 1. 5. 1. 5. 5. 1. 5. 3. 5. 5. 5. 5. 4. 5. 4. 5. 5. 5. 5. 5. 5.]\n"
     ]
    }
   ],
   "source": [
    "y_train = train_df['overall'].values\n",
    "print(y_train)"
   ]
  },
  {
   "cell_type": "code",
   "execution_count": 58,
   "metadata": {},
   "outputs": [
    {
     "data": {
      "text/plain": [
       "KNeighborsClassifier(n_neighbors=3)"
      ]
     },
     "execution_count": 58,
     "metadata": {},
     "output_type": "execute_result"
    }
   ],
   "source": [
    "neigh.fit(X_train, y_train)"
   ]
  },
  {
   "cell_type": "code",
   "execution_count": 59,
   "metadata": {},
   "outputs": [
    {
     "name": "stderr",
     "output_type": "stream",
     "text": [
      "/Users/ohyeji/anaconda3/envs/torch/lib/python3.7/site-packages/ipykernel_launcher.py:1: SettingWithCopyWarning: \n",
      "A value is trying to be set on a copy of a slice from a DataFrame.\n",
      "Try using .loc[row_indexer,col_indexer] = value instead\n",
      "\n",
      "See the caveats in the documentation: https://pandas.pydata.org/pandas-docs/stable/user_guide/indexing.html#returning-a-view-versus-a-copy\n",
      "  \"\"\"Entry point for launching an IPython kernel.\n"
     ]
    }
   ],
   "source": [
    "test_df['prediction'] = test_df['image_vec'].apply(lambda x: neigh.predict([x])[0])\n"
   ]
  },
  {
   "cell_type": "code",
   "execution_count": 60,
   "metadata": {},
   "outputs": [
    {
     "data": {
      "text/html": [
       "<div>\n",
       "<style scoped>\n",
       "    .dataframe tbody tr th:only-of-type {\n",
       "        vertical-align: middle;\n",
       "    }\n",
       "\n",
       "    .dataframe tbody tr th {\n",
       "        vertical-align: top;\n",
       "    }\n",
       "\n",
       "    .dataframe thead th {\n",
       "        text-align: right;\n",
       "    }\n",
       "</style>\n",
       "<table border=\"1\" class=\"dataframe\">\n",
       "  <thead>\n",
       "    <tr style=\"text-align: right;\">\n",
       "      <th></th>\n",
       "      <th>category</th>\n",
       "      <th>overall</th>\n",
       "      <th>reviewerID</th>\n",
       "      <th>asin</th>\n",
       "      <th>filename</th>\n",
       "      <th>image_vec</th>\n",
       "      <th>prediction</th>\n",
       "    </tr>\n",
       "  </thead>\n",
       "  <tbody>\n",
       "    <tr>\n",
       "      <th>40</th>\n",
       "      <td>luxury</td>\n",
       "      <td>5.0</td>\n",
       "      <td>A25QBCHO0KFT0P</td>\n",
       "      <td>B00014GT8W</td>\n",
       "      <td>../data/amazon_reviews/luxury/577_0.jpg</td>\n",
       "      <td>[0.0468260944, 0.879412174, 0.468813539, 0.381...</td>\n",
       "      <td>5.0</td>\n",
       "    </tr>\n",
       "    <tr>\n",
       "      <th>44</th>\n",
       "      <td>luxury</td>\n",
       "      <td>5.0</td>\n",
       "      <td>AX5ZDQUSZG8MI</td>\n",
       "      <td>B00014GT8W</td>\n",
       "      <td>../data/amazon_reviews/luxury/602_1.jpg</td>\n",
       "      <td>[0.0649163723, 1.51313007, 0.60124737, 0.21510...</td>\n",
       "      <td>5.0</td>\n",
       "    </tr>\n",
       "    <tr>\n",
       "      <th>304</th>\n",
       "      <td>fashion</td>\n",
       "      <td>5.0</td>\n",
       "      <td>AEUUYBIO73RLA</td>\n",
       "      <td>B009MA34NY</td>\n",
       "      <td>../data/amazon_reviews/fashion/1445_0.jpg</td>\n",
       "      <td>[0.643320262, 0.577247977, 0.365769535, 1.0960...</td>\n",
       "      <td>5.0</td>\n",
       "    </tr>\n",
       "    <tr>\n",
       "      <th>59</th>\n",
       "      <td>luxury</td>\n",
       "      <td>3.0</td>\n",
       "      <td>A1A25TP5D0L22V</td>\n",
       "      <td>B0002RI2PG</td>\n",
       "      <td>../data/amazon_reviews/luxury/1247_1.jpg</td>\n",
       "      <td>[0.592981756, 0.134454787, 0.929966509, 1.1438...</td>\n",
       "      <td>5.0</td>\n",
       "    </tr>\n",
       "    <tr>\n",
       "      <th>267</th>\n",
       "      <td>fashion</td>\n",
       "      <td>1.0</td>\n",
       "      <td>A3SM5XENOINDNH</td>\n",
       "      <td>B0058YEJ5K</td>\n",
       "      <td>../data/amazon_reviews/fashion/821_0.jpg</td>\n",
       "      <td>[0.0297243893, 0.150493458, 0.899268091, 0.654...</td>\n",
       "      <td>1.0</td>\n",
       "    </tr>\n",
       "  </tbody>\n",
       "</table>\n",
       "</div>"
      ],
      "text/plain": [
       "    category  overall      reviewerID        asin  \\\n",
       "40    luxury      5.0  A25QBCHO0KFT0P  B00014GT8W   \n",
       "44    luxury      5.0   AX5ZDQUSZG8MI  B00014GT8W   \n",
       "304  fashion      5.0   AEUUYBIO73RLA  B009MA34NY   \n",
       "59    luxury      3.0  A1A25TP5D0L22V  B0002RI2PG   \n",
       "267  fashion      1.0  A3SM5XENOINDNH  B0058YEJ5K   \n",
       "\n",
       "                                      filename  \\\n",
       "40     ../data/amazon_reviews/luxury/577_0.jpg   \n",
       "44     ../data/amazon_reviews/luxury/602_1.jpg   \n",
       "304  ../data/amazon_reviews/fashion/1445_0.jpg   \n",
       "59    ../data/amazon_reviews/luxury/1247_1.jpg   \n",
       "267   ../data/amazon_reviews/fashion/821_0.jpg   \n",
       "\n",
       "                                             image_vec  prediction  \n",
       "40   [0.0468260944, 0.879412174, 0.468813539, 0.381...         5.0  \n",
       "44   [0.0649163723, 1.51313007, 0.60124737, 0.21510...         5.0  \n",
       "304  [0.643320262, 0.577247977, 0.365769535, 1.0960...         5.0  \n",
       "59   [0.592981756, 0.134454787, 0.929966509, 1.1438...         5.0  \n",
       "267  [0.0297243893, 0.150493458, 0.899268091, 0.654...         1.0  "
      ]
     },
     "execution_count": 60,
     "metadata": {},
     "output_type": "execute_result"
    }
   ],
   "source": [
    "test_df.head()"
   ]
  },
  {
   "cell_type": "code",
   "execution_count": 61,
   "metadata": {},
   "outputs": [
    {
     "data": {
      "text/plain": [
       "category      67\n",
       "overall       67\n",
       "reviewerID    67\n",
       "asin          67\n",
       "filename      67\n",
       "image_vec     67\n",
       "prediction    67\n",
       "dtype: int64"
      ]
     },
     "execution_count": 61,
     "metadata": {},
     "output_type": "execute_result"
    }
   ],
   "source": [
    "test_df[test_df.overall == test_df.prediction].count()"
   ]
  },
  {
   "cell_type": "code",
   "execution_count": 62,
   "metadata": {},
   "outputs": [
    {
     "data": {
      "text/plain": [
       "79"
      ]
     },
     "execution_count": 62,
     "metadata": {},
     "output_type": "execute_result"
    }
   ],
   "source": [
    "len(test_df)"
   ]
  },
  {
   "cell_type": "code",
   "execution_count": 64,
   "metadata": {},
   "outputs": [
    {
     "data": {
      "text/plain": [
       "0.8481012658227848"
      ]
     },
     "execution_count": 64,
     "metadata": {},
     "output_type": "execute_result"
    }
   ],
   "source": [
    "67/79"
   ]
  },
  {
   "cell_type": "code",
   "execution_count": null,
   "metadata": {},
   "outputs": [],
   "source": []
  }
 ],
 "metadata": {
  "kernelspec": {
   "display_name": "torch",
   "language": "python",
   "name": "torch"
  },
  "language_info": {
   "codemirror_mode": {
    "name": "ipython",
    "version": 3
   },
   "file_extension": ".py",
   "mimetype": "text/x-python",
   "name": "python",
   "nbconvert_exporter": "python",
   "pygments_lexer": "ipython3",
   "version": "3.7.9"
  }
 },
 "nbformat": 4,
 "nbformat_minor": 4
}
