{
 "cells": [
  {
   "cell_type": "markdown",
   "metadata": {},
   "source": [
    "# Amazon Review Data 활용하기\n",
    "1. 데이터셋 버전\n",
    "  - 2013 버전([링크](http://snap.stanford.edu/data/web-Amazon-links.html))\n",
    "  - 2014 버전([링크](https://jmcauley.ucsd.edu/data/amazon/))\n",
    "  - 2018 버전([링크](https://nijianmo.github.io/amazon/index.html))\n",
    "2. 2018버전 데이터셋 정보\n",
    "  - reviews(ratings, text, helpfulness votes)\n",
    "  - product metadata(descriptions, category information, price band and image features)\n",
    "  - links(also viewed/also bought graphs)\n",
    "  - 이외 추가 정보는 웹사이트 참고\n",
    "  - 최근(2020-08-07)까지 업데이트된 내용이 있다\n",
    "3. 데이터셋 크기가 매우 크기 때문에, `Complete review data`보다 `Small subsets 데이터`를 먼저 사용하는 것을 추천한다\n"
   ]
  },
  {
   "cell_type": "code",
   "execution_count": 1,
   "metadata": {},
   "outputs": [],
   "source": [
    "import os\n",
    "import json\n",
    "import gzip\n",
    "import pandas as pd\n",
    "from urllib.request import urlopen"
   ]
  },
  {
   "cell_type": "code",
   "execution_count": 4,
   "metadata": {},
   "outputs": [
    {
     "name": "stdout",
     "output_type": "stream",
     "text": [
      "18772\n",
      "{'description': ['Brand new. Still in factory-sealed plastic.'], 'title': 'Kelby Training DVD: The Adobe Photoshop CS5 7-Point System for Camera Raw By Scott Kelby', 'image': ['https://images-na.ssl-images-amazon.com/images/I/31IlLImCVJL._SS40_.jpg'], 'brand': 'Kelby Training', 'rank': ['>#654,681 in Electronics (See Top 100 in Electronics)'], 'main_cat': 'Computers', 'date': 'December 2, 2011', 'asin': '0321732960'}\n"
     ]
    }
   ],
   "source": [
    "### load the meta data\n",
    "data = []\n",
    "path = '../data/'\n",
    "with gzip.open(path + 'meta_Computers.json.gz') as f:\n",
    "    for l in f:\n",
    "        data.append(json.loads(l.strip()))\n",
    "    \n",
    "# total length of list, this number equals total number of products\n",
    "print(len(data))\n",
    "\n",
    "# first row of the list\n",
    "print(data[0])"
   ]
  },
  {
   "cell_type": "code",
   "execution_count": 5,
   "metadata": {},
   "outputs": [
    {
     "name": "stdout",
     "output_type": "stream",
     "text": [
      "18772\n"
     ]
    }
   ],
   "source": [
    "# convert list into pandas dataframe\n",
    "df = pd.DataFrame.from_dict(data)\n",
    "print(len(df))"
   ]
  },
  {
   "cell_type": "code",
   "execution_count": 7,
   "metadata": {},
   "outputs": [
    {
     "data": {
      "text/html": [
       "<div>\n",
       "<style scoped>\n",
       "    .dataframe tbody tr th:only-of-type {\n",
       "        vertical-align: middle;\n",
       "    }\n",
       "\n",
       "    .dataframe tbody tr th {\n",
       "        vertical-align: top;\n",
       "    }\n",
       "\n",
       "    .dataframe thead th {\n",
       "        text-align: right;\n",
       "    }\n",
       "</style>\n",
       "<table border=\"1\" class=\"dataframe\">\n",
       "  <thead>\n",
       "    <tr style=\"text-align: right;\">\n",
       "      <th></th>\n",
       "      <th>description</th>\n",
       "      <th>title</th>\n",
       "      <th>image</th>\n",
       "      <th>brand</th>\n",
       "      <th>rank</th>\n",
       "      <th>main_cat</th>\n",
       "      <th>date</th>\n",
       "      <th>asin</th>\n",
       "      <th>feature</th>\n",
       "      <th>tech1</th>\n",
       "      <th>also_buy</th>\n",
       "      <th>price</th>\n",
       "      <th>also_view</th>\n",
       "      <th>tech2</th>\n",
       "      <th>details</th>\n",
       "      <th>similar_item</th>\n",
       "    </tr>\n",
       "  </thead>\n",
       "  <tbody>\n",
       "    <tr>\n",
       "      <th>0</th>\n",
       "      <td>[Brand new. Still in factory-sealed plastic.]</td>\n",
       "      <td>Kelby Training DVD: The Adobe Photoshop CS5 7-...</td>\n",
       "      <td>[https://images-na.ssl-images-amazon.com/image...</td>\n",
       "      <td>Kelby Training</td>\n",
       "      <td>[&gt;#654,681 in Electronics (See Top 100 in Elec...</td>\n",
       "      <td>Computers</td>\n",
       "      <td>December 2, 2011</td>\n",
       "      <td>0321732960</td>\n",
       "      <td>NaN</td>\n",
       "      <td>NaN</td>\n",
       "      <td>NaN</td>\n",
       "      <td>NaN</td>\n",
       "      <td>NaN</td>\n",
       "      <td>NaN</td>\n",
       "      <td>NaN</td>\n",
       "      <td>NaN</td>\n",
       "    </tr>\n",
       "    <tr>\n",
       "      <th>1</th>\n",
       "      <td>[If you're already a Photoshop user and want a...</td>\n",
       "      <td>Kelby Training DVD: Adobe Photoshop CS5 Power ...</td>\n",
       "      <td>[https://images-na.ssl-images-amazon.com/image...</td>\n",
       "      <td>Kelby Training</td>\n",
       "      <td>[&gt;#830,165 in Electronics (See Top 100 in Elec...</td>\n",
       "      <td>Computers</td>\n",
       "      <td>November 7, 2011</td>\n",
       "      <td>0321735722</td>\n",
       "      <td>NaN</td>\n",
       "      <td>NaN</td>\n",
       "      <td>NaN</td>\n",
       "      <td>NaN</td>\n",
       "      <td>NaN</td>\n",
       "      <td>NaN</td>\n",
       "      <td>NaN</td>\n",
       "      <td>NaN</td>\n",
       "    </tr>\n",
       "    <tr>\n",
       "      <th>2</th>\n",
       "      <td>[School To Home Notes: Note From the Teacher!\\...</td>\n",
       "      <td>TEACHERS FRIEND NOTE FROM THE TEACHER SCHOOL T...</td>\n",
       "      <td>[https://images-na.ssl-images-amazon.com/image...</td>\n",
       "      <td>TEACHERS FRIEND</td>\n",
       "      <td>[&gt;#1,233,887 in Electronics (See Top 100 in El...</td>\n",
       "      <td>Computers</td>\n",
       "      <td>June 6, 2007</td>\n",
       "      <td>0439651859</td>\n",
       "      <td>NaN</td>\n",
       "      <td>NaN</td>\n",
       "      <td>NaN</td>\n",
       "      <td>NaN</td>\n",
       "      <td>NaN</td>\n",
       "      <td>NaN</td>\n",
       "      <td>NaN</td>\n",
       "      <td>NaN</td>\n",
       "    </tr>\n",
       "    <tr>\n",
       "      <th>3</th>\n",
       "      <td>[Dooqi is a young brand specializing in high-e...</td>\n",
       "      <td>[3-pack]Ipad Mini Screen Protector, Dooqi Scre...</td>\n",
       "      <td>[https://images-na.ssl-images-amazon.com/image...</td>\n",
       "      <td>dooqi</td>\n",
       "      <td>[&gt;#454,595 in Electronics (See Top 100 in Elec...</td>\n",
       "      <td>Computers</td>\n",
       "      <td>December 5, 2014</td>\n",
       "      <td>0545729971</td>\n",
       "      <td>[Hard coated for Scratch Proof (Hardness: 4H),...</td>\n",
       "      <td>NaN</td>\n",
       "      <td>NaN</td>\n",
       "      <td>NaN</td>\n",
       "      <td>NaN</td>\n",
       "      <td>NaN</td>\n",
       "      <td>NaN</td>\n",
       "      <td>NaN</td>\n",
       "    </tr>\n",
       "    <tr>\n",
       "      <th>4</th>\n",
       "      <td>[Cover for Nook HD]</td>\n",
       "      <td>Hd+ Cheetah Cover- Nook</td>\n",
       "      <td>NaN</td>\n",
       "      <td>Nook</td>\n",
       "      <td>[&gt;#85,661 in Computers &amp; Accessories (See top ...</td>\n",
       "      <td>Computers</td>\n",
       "      <td>September 11, 2013</td>\n",
       "      <td>0594450284</td>\n",
       "      <td>[Cheetah cover]</td>\n",
       "      <td>{'Brand Name': 'Nook', 'Item Weight': '1 pound...</td>\n",
       "      <td>NaN</td>\n",
       "      <td>NaN</td>\n",
       "      <td>NaN</td>\n",
       "      <td>NaN</td>\n",
       "      <td>NaN</td>\n",
       "      <td>NaN</td>\n",
       "    </tr>\n",
       "  </tbody>\n",
       "</table>\n",
       "</div>"
      ],
      "text/plain": [
       "                                         description  \\\n",
       "0      [Brand new. Still in factory-sealed plastic.]   \n",
       "1  [If you're already a Photoshop user and want a...   \n",
       "2  [School To Home Notes: Note From the Teacher!\\...   \n",
       "3  [Dooqi is a young brand specializing in high-e...   \n",
       "4                                [Cover for Nook HD]   \n",
       "\n",
       "                                               title  \\\n",
       "0  Kelby Training DVD: The Adobe Photoshop CS5 7-...   \n",
       "1  Kelby Training DVD: Adobe Photoshop CS5 Power ...   \n",
       "2  TEACHERS FRIEND NOTE FROM THE TEACHER SCHOOL T...   \n",
       "3  [3-pack]Ipad Mini Screen Protector, Dooqi Scre...   \n",
       "4                            Hd+ Cheetah Cover- Nook   \n",
       "\n",
       "                                               image            brand  \\\n",
       "0  [https://images-na.ssl-images-amazon.com/image...   Kelby Training   \n",
       "1  [https://images-na.ssl-images-amazon.com/image...   Kelby Training   \n",
       "2  [https://images-na.ssl-images-amazon.com/image...  TEACHERS FRIEND   \n",
       "3  [https://images-na.ssl-images-amazon.com/image...            dooqi   \n",
       "4                                                NaN             Nook   \n",
       "\n",
       "                                                rank   main_cat  \\\n",
       "0  [>#654,681 in Electronics (See Top 100 in Elec...  Computers   \n",
       "1  [>#830,165 in Electronics (See Top 100 in Elec...  Computers   \n",
       "2  [>#1,233,887 in Electronics (See Top 100 in El...  Computers   \n",
       "3  [>#454,595 in Electronics (See Top 100 in Elec...  Computers   \n",
       "4  [>#85,661 in Computers & Accessories (See top ...  Computers   \n",
       "\n",
       "                 date        asin  \\\n",
       "0    December 2, 2011  0321732960   \n",
       "1    November 7, 2011  0321735722   \n",
       "2        June 6, 2007  0439651859   \n",
       "3    December 5, 2014  0545729971   \n",
       "4  September 11, 2013  0594450284   \n",
       "\n",
       "                                             feature  \\\n",
       "0                                                NaN   \n",
       "1                                                NaN   \n",
       "2                                                NaN   \n",
       "3  [Hard coated for Scratch Proof (Hardness: 4H),...   \n",
       "4                                    [Cheetah cover]   \n",
       "\n",
       "                                               tech1 also_buy price also_view  \\\n",
       "0                                                NaN      NaN   NaN       NaN   \n",
       "1                                                NaN      NaN   NaN       NaN   \n",
       "2                                                NaN      NaN   NaN       NaN   \n",
       "3                                                NaN      NaN   NaN       NaN   \n",
       "4  {'Brand Name': 'Nook', 'Item Weight': '1 pound...      NaN   NaN       NaN   \n",
       "\n",
       "  tech2 details similar_item  \n",
       "0   NaN     NaN          NaN  \n",
       "1   NaN     NaN          NaN  \n",
       "2   NaN     NaN          NaN  \n",
       "3   NaN     NaN          NaN  \n",
       "4   NaN     NaN          NaN  "
      ]
     },
     "execution_count": 7,
     "metadata": {},
     "output_type": "execute_result"
    }
   ],
   "source": [
    "df.head()"
   ]
  },
  {
   "cell_type": "code",
   "execution_count": 8,
   "metadata": {},
   "outputs": [
    {
     "name": "stdout",
     "output_type": "stream",
     "text": [
      "135\n",
      "18637\n"
     ]
    }
   ],
   "source": [
    "### remove rows with unformatted title (i.e. some 'title' may still contain html style content)\n",
    "df3 = df.fillna('')\n",
    "df4 = df3[df3.title.str.contains('getTime')] # unformatted rows\n",
    "df5 = df3[~df3.title.str.contains('getTime')] # filter those unformatted rows\n",
    "print(len(df4))\n",
    "print(len(df5))"
   ]
  },
  {
   "cell_type": "code",
   "execution_count": 9,
   "metadata": {},
   "outputs": [
    {
     "data": {
      "text/plain": [
       "description                                                      \n",
       "title           var aPageStart = (new Date()).getTime();\\nvar ...\n",
       "image                                                            \n",
       "brand                                              DS Miller Inc.\n",
       "rank            [>#1,826,312 in Electronics (See Top 100 in El...\n",
       "main_cat                                                Computers\n",
       "date                                                March 1, 2010\n",
       "asin                                                   B0016C5EXY\n",
       "feature                                                          \n",
       "tech1                                                            \n",
       "also_buy                                                         \n",
       "price                                                            \n",
       "also_view                                                        \n",
       "tech2                                                            \n",
       "details                                                          \n",
       "similar_item                                                     \n",
       "Name: 1186, dtype: object"
      ]
     },
     "execution_count": 9,
     "metadata": {},
     "output_type": "execute_result"
    }
   ],
   "source": [
    "# how those unformatted rows look like\n",
    "df4.iloc[0]"
   ]
  },
  {
   "cell_type": "code",
   "execution_count": 14,
   "metadata": {},
   "outputs": [],
   "source": [
    "import os, json\n",
    "import pandas as pd"
   ]
  },
  {
   "cell_type": "code",
   "execution_count": 15,
   "metadata": {},
   "outputs": [],
   "source": [
    "path = '../data/amazon_reviews/'"
   ]
  },
  {
   "cell_type": "code",
   "execution_count": 24,
   "metadata": {},
   "outputs": [],
   "source": [
    "ratings_df = pd.read_csv(os.path.join(path, 'Software.csv'), header=None, names=['item','user','rating','timestamp'], encoding='utf-8')"
   ]
  },
  {
   "cell_type": "code",
   "execution_count": 25,
   "metadata": {},
   "outputs": [
    {
     "data": {
      "text/html": [
       "<div>\n",
       "<style scoped>\n",
       "    .dataframe tbody tr th:only-of-type {\n",
       "        vertical-align: middle;\n",
       "    }\n",
       "\n",
       "    .dataframe tbody tr th {\n",
       "        vertical-align: top;\n",
       "    }\n",
       "\n",
       "    .dataframe thead th {\n",
       "        text-align: right;\n",
       "    }\n",
       "</style>\n",
       "<table border=\"1\" class=\"dataframe\">\n",
       "  <thead>\n",
       "    <tr style=\"text-align: right;\">\n",
       "      <th></th>\n",
       "      <th>item</th>\n",
       "      <th>user</th>\n",
       "      <th>rating</th>\n",
       "      <th>timestamp</th>\n",
       "    </tr>\n",
       "  </thead>\n",
       "  <tbody>\n",
       "    <tr>\n",
       "      <th>0</th>\n",
       "      <td>0077613252</td>\n",
       "      <td>A240ORQ2LF9LUI</td>\n",
       "      <td>4.0</td>\n",
       "      <td>1394496000</td>\n",
       "    </tr>\n",
       "    <tr>\n",
       "      <th>1</th>\n",
       "      <td>0077613252</td>\n",
       "      <td>A1YCCU0YRLS0FE</td>\n",
       "      <td>4.0</td>\n",
       "      <td>1393113600</td>\n",
       "    </tr>\n",
       "    <tr>\n",
       "      <th>2</th>\n",
       "      <td>0077613252</td>\n",
       "      <td>A1BJHRQDYVAY2J</td>\n",
       "      <td>1.0</td>\n",
       "      <td>1392595200</td>\n",
       "    </tr>\n",
       "    <tr>\n",
       "      <th>3</th>\n",
       "      <td>0077613252</td>\n",
       "      <td>APRDVZ6QBIQXT</td>\n",
       "      <td>3.0</td>\n",
       "      <td>1392595200</td>\n",
       "    </tr>\n",
       "    <tr>\n",
       "      <th>4</th>\n",
       "      <td>0077775473</td>\n",
       "      <td>A2JZTTBSLS1QXV</td>\n",
       "      <td>5.0</td>\n",
       "      <td>1381708800</td>\n",
       "    </tr>\n",
       "  </tbody>\n",
       "</table>\n",
       "</div>"
      ],
      "text/plain": [
       "         item            user  rating   timestamp\n",
       "0  0077613252  A240ORQ2LF9LUI     4.0  1394496000\n",
       "1  0077613252  A1YCCU0YRLS0FE     4.0  1393113600\n",
       "2  0077613252  A1BJHRQDYVAY2J     1.0  1392595200\n",
       "3  0077613252   APRDVZ6QBIQXT     3.0  1392595200\n",
       "4  0077775473  A2JZTTBSLS1QXV     5.0  1381708800"
      ]
     },
     "execution_count": 25,
     "metadata": {},
     "output_type": "execute_result"
    }
   ],
   "source": [
    "ratings_df.head()"
   ]
  },
  {
   "cell_type": "code",
   "execution_count": 32,
   "metadata": {},
   "outputs": [
    {
     "name": "stdout",
     "output_type": "stream",
     "text": [
      "(459436, 4)\n",
      "         item            user  rating   timestamp\n",
      "0  0077613252  A240ORQ2LF9LUI     4.0  1394496000\n",
      "1  0077613252  A1YCCU0YRLS0FE     4.0  1393113600\n",
      "2  0077613252  A1BJHRQDYVAY2J     1.0  1392595200\n",
      "3  0077613252   APRDVZ6QBIQXT     3.0  1392595200\n",
      "4  0077775473  A2JZTTBSLS1QXV     5.0  1381708800\n"
     ]
    }
   ],
   "source": [
    "print(ratings_df.shape)\n",
    "print(ratings_df.head())"
   ]
  },
  {
   "cell_type": "code",
   "execution_count": 27,
   "metadata": {},
   "outputs": [],
   "source": [
    "data = []\n",
    "with open(os.path.join(path, 'Software_5.json'), 'r', encoding='utf-8') as f:\n",
    "    for l in f:\n",
    "        data.append(json.loads(l.strip()))"
   ]
  },
  {
   "cell_type": "code",
   "execution_count": 28,
   "metadata": {},
   "outputs": [
    {
     "name": "stdout",
     "output_type": "stream",
     "text": [
      "(12805, 12)\n",
      "Index(['overall', 'verified', 'reviewTime', 'reviewerID', 'asin', 'style',\n",
      "       'reviewerName', 'reviewText', 'summary', 'unixReviewTime', 'vote',\n",
      "       'image'],\n",
      "      dtype='object')\n"
     ]
    }
   ],
   "source": [
    "all_df = pd.DataFrame.from_dict(data)\n",
    "print(all_df.shape)\n",
    "print(all_df.columns)"
   ]
  },
  {
   "cell_type": "code",
   "execution_count": 33,
   "metadata": {},
   "outputs": [
    {
     "data": {
      "text/html": [
       "<div>\n",
       "<style scoped>\n",
       "    .dataframe tbody tr th:only-of-type {\n",
       "        vertical-align: middle;\n",
       "    }\n",
       "\n",
       "    .dataframe tbody tr th {\n",
       "        vertical-align: top;\n",
       "    }\n",
       "\n",
       "    .dataframe thead th {\n",
       "        text-align: right;\n",
       "    }\n",
       "</style>\n",
       "<table border=\"1\" class=\"dataframe\">\n",
       "  <thead>\n",
       "    <tr style=\"text-align: right;\">\n",
       "      <th></th>\n",
       "      <th>reviewerID</th>\n",
       "      <th>asin</th>\n",
       "      <th>vote</th>\n",
       "      <th>reviewText</th>\n",
       "      <th>overall</th>\n",
       "    </tr>\n",
       "  </thead>\n",
       "  <tbody>\n",
       "    <tr>\n",
       "      <th>0</th>\n",
       "      <td>A38NELQT98S4H8</td>\n",
       "      <td>0321719816</td>\n",
       "      <td>NaN</td>\n",
       "      <td>I've been using Dreamweaver (and it's predeces...</td>\n",
       "      <td>4.0</td>\n",
       "    </tr>\n",
       "    <tr>\n",
       "      <th>1</th>\n",
       "      <td>A3QJU4FEN8PQSZ</td>\n",
       "      <td>0321719816</td>\n",
       "      <td>NaN</td>\n",
       "      <td>The demo is done with the PC version, with ref...</td>\n",
       "      <td>4.0</td>\n",
       "    </tr>\n",
       "    <tr>\n",
       "      <th>2</th>\n",
       "      <td>ACJT8MUC0LRF0</td>\n",
       "      <td>0321719816</td>\n",
       "      <td>3</td>\n",
       "      <td>If you've been wanting to learn how to create ...</td>\n",
       "      <td>5.0</td>\n",
       "    </tr>\n",
       "    <tr>\n",
       "      <th>3</th>\n",
       "      <td>AYUF7YETYOLNX</td>\n",
       "      <td>0321719816</td>\n",
       "      <td>NaN</td>\n",
       "      <td>I've been creating websites with Dreamweaver f...</td>\n",
       "      <td>5.0</td>\n",
       "    </tr>\n",
       "    <tr>\n",
       "      <th>4</th>\n",
       "      <td>A31ICLWQ9CSHRS</td>\n",
       "      <td>0321719816</td>\n",
       "      <td>NaN</td>\n",
       "      <td>I decided (after trying a number of other prod...</td>\n",
       "      <td>5.0</td>\n",
       "    </tr>\n",
       "  </tbody>\n",
       "</table>\n",
       "</div>"
      ],
      "text/plain": [
       "       reviewerID        asin vote  \\\n",
       "0  A38NELQT98S4H8  0321719816  NaN   \n",
       "1  A3QJU4FEN8PQSZ  0321719816  NaN   \n",
       "2   ACJT8MUC0LRF0  0321719816    3   \n",
       "3   AYUF7YETYOLNX  0321719816  NaN   \n",
       "4  A31ICLWQ9CSHRS  0321719816  NaN   \n",
       "\n",
       "                                          reviewText  overall  \n",
       "0  I've been using Dreamweaver (and it's predeces...      4.0  \n",
       "1  The demo is done with the PC version, with ref...      4.0  \n",
       "2  If you've been wanting to learn how to create ...      5.0  \n",
       "3  I've been creating websites with Dreamweaver f...      5.0  \n",
       "4  I decided (after trying a number of other prod...      5.0  "
      ]
     },
     "execution_count": 33,
     "metadata": {},
     "output_type": "execute_result"
    }
   ],
   "source": [
    "all_df = all_df[['reviewerID', 'asin', 'vote', 'reviewText', 'overall']]\n",
    "all_df.head()"
   ]
  },
  {
   "cell_type": "code",
   "execution_count": 34,
   "metadata": {},
   "outputs": [
    {
     "name": "stdout",
     "output_type": "stream",
     "text": [
      "1826\n",
      "802\n"
     ]
    }
   ],
   "source": [
    "# number of unique reviewers\n",
    "print(len(all_df['reviewerID'].unique()))\n",
    "# number of unique items\n",
    "print(len(all_df['asin'].unique()))"
   ]
  },
  {
   "cell_type": "code",
   "execution_count": 35,
   "metadata": {},
   "outputs": [
    {
     "name": "stdout",
     "output_type": "stream",
     "text": [
      "                number_of_items  average_ratings\n",
      "reviewerID                                      \n",
      "A100UD67AHFODS                5         4.800000\n",
      "A105S56ODHGJEK               29         3.689655\n",
      "A1075X1Q4M3S78                5         5.000000\n",
      "A10C5CJK1YKGV0               10         4.100000\n",
      "A10CRW7XRJBJ2G                5         3.200000\n",
      "(1826, 2)\n"
     ]
    }
   ],
   "source": [
    "reviewer_info_df = pd.concat([all_df.groupby(by='reviewerID')['asin'].count(), \n",
    "                              all_df.groupby(by='reviewerID')['overall'].mean()], axis=1)\n",
    "reviewer_info_df.columns = ['number_of_items','average_ratings']\n",
    "print(reviewer_info_df.head())\n",
    "print(reviewer_info_df.shape)"
   ]
  },
  {
   "cell_type": "code",
   "execution_count": 36,
   "metadata": {},
   "outputs": [
    {
     "data": {
      "text/plain": [
       "array([[<AxesSubplot:title={'center':'number_of_items'}>,\n",
       "        <AxesSubplot:title={'center':'average_ratings'}>]], dtype=object)"
      ]
     },
     "execution_count": 36,
     "metadata": {},
     "output_type": "execute_result"
    },
    {
     "data": {
      "image/png": "[encoded data removed]",
      "text/plain": [
       "<Figure size 432x288 with 2 Axes>"
      ]
     },
     "metadata": {
      "needs_background": "light"
     },
     "output_type": "display_data"
    }
   ],
   "source": [
    "# review를 쓴 평균 item 수, item의 평균 평점\n",
    "reviewer_info_df.hist()"
   ]
  },
  {
   "cell_type": "markdown",
   "metadata": {},
   "source": [
    "## Preprocess text data"
   ]
  },
  {
   "cell_type": "code",
   "execution_count": 37,
   "metadata": {},
   "outputs": [],
   "source": [
    "import re"
   ]
  },
  {
   "cell_type": "code",
   "execution_count": 38,
   "metadata": {},
   "outputs": [],
   "source": [
    "removal_list =  \"‘, ’, ◇, ‘, ”,  ’, ', ·, \\“, ·, △, ●,  , ■, (, ), \\\", >>, `, /, -,∼,=,ㆍ<,>, .,?, !,【,】, …, ◆,%\"\n",
    "\n",
    "def preprocess_sent(sentence):\n",
    "    sentence = re.sub(\"[.,\\'\\\"’‘”“!?]\", \"\", sentence)\n",
    "    sentence = re.sub(\"[^0-9a-zA-Z\\\\s]\", \" \", sentence)\n",
    "    sentence = re.sub(\"\\s+\", \" \", sentence)\n",
    "    \n",
    "    sentence = sentence.translate(str.maketrans(removal_list, ' '*len(removal_list)))\n",
    "    sentence = sentence.strip()\n",
    "\n",
    "    return sentence"
   ]
  },
  {
   "cell_type": "code",
   "execution_count": 39,
   "metadata": {},
   "outputs": [
    {
     "name": "stdout",
     "output_type": "stream",
     "text": [
      "(12804, 2)\n"
     ]
    }
   ],
   "source": [
    "all_df = all_df[['reviewText','overall']]\n",
    "all_df.dropna(how='any', inplace=True)\n",
    "all_df['reviewText'] = all_df['reviewText'].apply(lambda x: preprocess_sent(str(x).replace('\\t',' ').replace('\\n',' ')))\n",
    "all_df['reviewText'] = all_df['reviewText'].apply(lambda x: ' '.join(x.split(' ')[:30])) # 빠른 학습 위해서 글자 30개로 잘라버림\n",
    "\n",
    "print(all_df.shape)"
   ]
  },
  {
   "cell_type": "code",
   "execution_count": 40,
   "metadata": {},
   "outputs": [],
   "source": [
    "all_df['num_lengths'] = all_df['reviewText'].apply(lambda x: len(x.split(' ')))\n",
    "all_df = all_df[all_df.num_lengths > 10] # 글자 10 이상만 취함\n"
   ]
  },
  {
   "cell_type": "code",
   "execution_count": 41,
   "metadata": {},
   "outputs": [
    {
     "name": "stdout",
     "output_type": "stream",
     "text": [
      "(11273, 2)\n"
     ]
    }
   ],
   "source": [
    "all_df.drop('num_lengths', axis=1, inplace=True)\n",
    "print(all_df.shape)\n",
    "all_df.to_csv(os.path.join(path, 'Software_reviewText.csv'), sep='\\t', encoding='utf-8')"
   ]
  },
  {
   "cell_type": "code",
   "execution_count": 42,
   "metadata": {},
   "outputs": [
    {
     "data": {
      "text/plain": [
       "'Ive been using Dreamweaver and its predecessor Macromedias UltraDev for many years For someone who is an experienced web designer this course is a high level review of the CS5'"
      ]
     },
     "execution_count": 42,
     "metadata": {},
     "output_type": "execute_result"
    }
   ],
   "source": [
    "all_df['reviewText'].iloc[0]"
   ]
  },
  {
   "cell_type": "code",
   "execution_count": 43,
   "metadata": {},
   "outputs": [
    {
     "data": {
      "text/plain": [
       "4.0"
      ]
     },
     "execution_count": 43,
     "metadata": {},
     "output_type": "execute_result"
    }
   ],
   "source": [
    "all_df['overall'].iloc[0]"
   ]
  },
  {
   "cell_type": "markdown",
   "metadata": {},
   "source": [
    "## Load dataset"
   ]
  },
  {
   "cell_type": "code",
   "execution_count": 44,
   "metadata": {},
   "outputs": [
    {
     "name": "stderr",
     "output_type": "stream",
     "text": [
      "/Users/ohyeji/anaconda3/envs/torch/lib/python3.7/site-packages/torchtext/data/field.py:150: UserWarning: Field class will be retired soon and moved to torchtext.legacy. Please see the most recent release notes for further information.\n",
      "  warnings.warn('{} class will be retired soon and moved to torchtext.legacy. Please see the most recent release notes for further information.'.format(self.__class__.__name__), UserWarning)\n",
      "/Users/ohyeji/anaconda3/envs/torch/lib/python3.7/site-packages/torchtext/data/field.py:150: UserWarning: LabelField class will be retired soon and moved to torchtext.legacy. Please see the most recent release notes for further information.\n",
      "  warnings.warn('{} class will be retired soon and moved to torchtext.legacy. Please see the most recent release notes for further information.'.format(self.__class__.__name__), UserWarning)\n"
     ]
    }
   ],
   "source": [
    "import torch\n",
    "from torchtext import data\n",
    "from torchtext import datasets\n",
    "import random\n",
    "\n",
    "SEED = 1234\n",
    "\n",
    "torch.manual_seed(SEED)\n",
    "torch.backends.cudnn.deterministic = True\n",
    "\n",
    "TEXT = data.Field(tokenize = 'spacy')\n",
    "LABEL = data.LabelField()"
   ]
  },
  {
   "cell_type": "code",
   "execution_count": 45,
   "metadata": {},
   "outputs": [
    {
     "name": "stderr",
     "output_type": "stream",
     "text": [
      "/Users/ohyeji/anaconda3/envs/torch/lib/python3.7/site-packages/torchtext/data/example.py:68: UserWarning: Example class will be retired soon and moved to torchtext.legacy. Please see the most recent release notes for further information.\n",
      "  warnings.warn('Example class will be retired soon and moved to torchtext.legacy. Please see the most recent release notes for further information.', UserWarning)\n",
      "/Users/ohyeji/anaconda3/envs/torch/lib/python3.7/site-packages/torchtext/data/example.py:78: UserWarning: Example class will be retired soon and moved to torchtext.legacy. Please see the most recent release notes for further information.\n",
      "  warnings.warn('Example class will be retired soon and moved to torchtext.legacy. Please see the most recent release notes for further information.', UserWarning)\n"
     ]
    },
    {
     "name": "stdout",
     "output_type": "stream",
     "text": [
      "{'text': ['I', 've', 'been', 'using', 'Dreamweaver', 'and', 'its', 'predecessor', 'Macromedias', 'UltraDev', 'for', 'many', 'years', 'For', 'someone', 'who', 'is', 'an', 'experienced', 'web', 'designer', 'this', 'course', 'is', 'a', 'high', 'level', 'review', 'of', 'the', 'CS5'], 'label': '4.0'}\n"
     ]
    }
   ],
   "source": [
    "fields = [(None, None), ('text', TEXT), ('label', LABEL)]\n",
    "\n",
    "# Load Custom dataset\n",
    "training_data = data.TabularDataset(path=os.path.join(path,'Software_reviewText.csv'),\n",
    "                                  format ='tsv', fields = fields, skip_header = True)\n",
    "\n",
    "# Print sample text\n",
    "print(vars(training_data.examples[0]))"
   ]
  },
  {
   "cell_type": "code",
   "execution_count": 46,
   "metadata": {},
   "outputs": [],
   "source": [
    "MAX_VOCAB_SIZE = 25000\n",
    "\n",
    "# Pre-trained embedding을 사용하고자 한다면 아래를 실행하자\n",
    "# TEXT.build_vocab(train_data, \n",
    "#                  max_size = MAX_VOCAB_SIZE, \n",
    "#                  vectors = \"glove.6B.100d\", \n",
    "#                  unk_init = torch.Tensor.normal_)\n",
    "\n",
    "TEXT.build_vocab(training_data, \n",
    "                 max_size = MAX_VOCAB_SIZE)\n",
    "\n",
    "LABEL.build_vocab(training_data)"
   ]
  },
  {
   "cell_type": "code",
   "execution_count": 47,
   "metadata": {},
   "outputs": [
    {
     "name": "stdout",
     "output_type": "stream",
     "text": [
      "defaultdict(None, {'5.0': 0, '4.0': 1, '3.0': 2, '1.0': 3, '2.0': 4})\n"
     ]
    }
   ],
   "source": [
    "print(LABEL.vocab.stoi)"
   ]
  },
  {
   "cell_type": "code",
   "execution_count": 48,
   "metadata": {},
   "outputs": [
    {
     "name": "stdout",
     "output_type": "stream",
     "text": [
      "defaultdict(<bound method Vocab._default_unk_index of <torchtext.vocab.Vocab object at 0x11a046e10>>, {'<unk>': 0, '<pad>': 1, 'I': 2, 'the': 3, 'to': 4, 'and': 5, 'a': 6, 'is': 7, 'it': 8, 'of': 9, 'for': 10, 'this': 11, 'have': 12, 'with': 13, 'that': 14, 'my': 15, 'on': 16, 'in': 17, 'you': 18, 'was': 19, 'software': 20, 'not': 21, 'but': 22, 'This': 23, 'nt': 24, 'years': 25, 'product': 26, 'The': 27, 'as': 28, 'used': 29, 'been': 30, 'It': 31, 'use': 32, 'version': 33, 've': 34, 'has': 35, 'do': 36, 'had': 37, 'using': 38, 'are': 39, 'be': 40, 'program': 41, 'Windows': 42, 'from': 43, 'an': 44, 'all': 45, 'so': 46, 'very': 47, 'like': 48, 'Norton': 49, 'one': 50, 'can': 51, 'computer': 52, 'or': 53, 'easy': 54, 'good': 55, 'me': 56, 'year': 57, 'its': 58, 'your': 59, 'up': 60, 'more': 61, 'great': 62, 'time': 63, 'does': 64, 'at': 65, 'just': 66, 'than': 67, 'about': 68, 'no': 69, 'new': 70, 'many': 71, 'am': 72, 'some': 73, 'out': 74, 'well': 75, 'Office': 76, 'will': 77, 'get': 78, 'when': 79, 'would': 80, 'much': 81, 'm': 82, 'other': 83, 'install': 84, 'they': 85, 'user': 86, 'if': 87, 'since': 88, 'really': 89, 'work': 90, 'did': 91, 'now': 92, 'Microsoft': 93, 'by': 94, 'over': 95, 'installed': 96, 'what': 97, 'works': 98, 'which': 99, 'only': 100, 'If': 101, 'Mac': 102, 'video': 103, 'products': 104, 'there': 105, 'need': 106, 'because': 107, 'features': 108, '7': 109, 'PC': 110, 'price': 111, 'first': 112, 'any': 113, 'Quicken': 114, 'TurboTax': 115, 'problems': 116, 'several': 117, 'system': 118, 'tax': 119, 'most': 120, 'upgrade': 121, 'found': 122, 'editing': 123, 'review': 124, 'better': 125, 'Its': 126, 'their': 127, 'best': 128, 'lot': 129, 'always': 130, 'bought': 131, 'Pro': 132, 'got': 133, 'programs': 134, 'after': 135, 'Corel': 136, '10': 137, 'two': 138, 'them': 139, 'security': 140, 'still': 141, 'last': 142, 'My': 143, 'few': 144, 'XP': 145, 'tried': 146, '8': 147, 'also': 148, 'free': 149, 'There': 150, 'every': 151, 'long': 152, 'who': 153, 'versions': 154, 'way': 155, 'never': 156, 'computers': 157, 'without': 158, 'Security': 159, 'virus': 160, 'far': 161, '3': 162, 'even': 163, 'how': 164, 'want': 165, 'running': 166, 'into': 167, '2': 168, 'find': 169, 'little': 170, 'could': 171, 'old': 172, 'say': 173, 'Vista': 174, 'business': 175, 'McAfee': 176, 'home': 177, 'we': 178, 'As': 179, '1': 180, 'installation': 181, 'were': 182, 'Tax': 183, 'know': 184, 'laptop': 185, 'worked': 186, 'back': 187, 'before': 188, 'You': 189, 'buy': 190, 'different': 191, 'Internet': 192, 'ago': 193, 'make': 194, 'bit': 195, 'taxes': 196, 'too': 197, 'In': 198, 'interface': 199, 'think': 200, 'love': 201, 'For': 202, 'purchased': 203, 'simple': 204, 'Turbo': 205, 'our': 206, 'needed': 207, 'After': 208, 'Kaspersky': 209, '5': 210, 'We': 211, 'previous': 212, 'seems': 213, 'problem': 214, 'small': 215, 'data': 216, 'pretty': 217, 'then': 218, 'download': 219, 'protection': 220, 'through': 221, 'So': 222, 'down': 223, 'issues': 224, 'past': 225, 'came': 226, 'A': 227, 'reviews': 228, 'run': 229, 'Amazon': 230, 'both': 231, 'things': 232, 'When': 233, 'quite': 234, 's': 235, 'But': 236, 'same': 237, 'people': 238, 'everything': 239, 'while': 240, 'able': 241, 'However': 242, 'i': 243, 'job': 244, 'try': 245, 'comes': 246, 'd': 247, 'files': 248, 'go': 249, 'off': 250, 'package': 251, 'users': 252, 'set': 253, 'recommend': 254, 'wanted': 255, 'thing': 256, '4': 257, 'going': 258, 're': 259, 'First': 260, 'those': 261, 'ever': 262, 'update': 263, 'H': 264, 'hard': 265, 'around': 266, 'support': 267, 'made': 268, 'take': 269, 'anti': 270, 'basic': 271, 'experience': 272, 'Deluxe': 273, 'slow': 274, 'link': 275, 'ca': 276, 'having': 277, 'should': 278, 'R': 279, 'They': 280, 'being': 281, 'online': 282, 'suite': 283, 'Easy': 284, 'fine': 285, 'internet': 286, 'nice': 287, 'these': 288, 'file': 289, 'days': 290, 'started': 291, 'OS': 292, 'looking': 293, 'see': 294, 'working': 295, '2007': 296, 'went': 297, 'took': 298, 'something': 299, 'Photoshop': 300, 'full': 301, '2010': 302, 'office': 303, 'three': 304, 'give': 305, 'less': 306, 'money': 307, 'needs': 308, 'Word': 309, 'another': 310, 'devices': 311, 'game': 312, 'here': 313, 'easily': 314, 'happy': 315, 'enough': 316, 'older': 317, 'desktop': 318, '360': 319, 'own': 320, 'Trend': 321, 'getting': 322, 'While': 323, 'done': 324, 'images': 325, 'makes': 326, 'bad': 327, 'photo': 328, 'MS': 329, 'feature': 330, '2011': 331, 'antivirus': 332, 'learn': 333, 'right': 334, 'switch': 335, 'excellent': 336, 'family': 337, 'months': 338, '20': 339, 'Not': 340, 'big': 341, 'Adobe': 342, 'class': 343, 'help': 344, 'Intuit': 345, 'each': 346, 'Great': 347, 'actually': 348, 'upgraded': 349, 'windows': 350, 'start': 351, 'though': 352, 'trying': 353, 'again': 354, 'drive': 355, 'machine': 356, 'PCs': 357, 'thought': 358, 'probably': 359, '2013': 360, 'purchase': 361, 'Home': 362, 'No': 363, 'doing': 364, 'may': 365, 'others': 366, 'decided': 367, 'keep': 368, 'sure': 369, 'latest': 370, 'learning': 371, 'operating': 372, 'Block': 373, 'company': 374, '2008': 375, 'where': 376, 'Have': 377, 'Studio': 378, 'least': 379, 'USB': 380, 'based': 381, 'number': 382, 'fast': 383, 'worth': 384, 'times': 385, '2014': 386, 'available': 387, 'fairly': 388, 'read': 389, 'Dragon': 390, 'easier': 391, 'Micro': 392, 'yet': 393, 'WordPerfect': 394, 'day': 395, 'power': 396, 'put': 397, 'updates': 398, 'That': 399, 'come': 400, 'edition': 401, 'installing': 402, 'quick': 403, 'buying': 404, '2012': 405, 'And': 406, 'What': 407, 'quickly': 408, 'almost': 409, 'anything': 410, 'information': 411, 'intuitive': 412, 'already': 413, 'must': 414, 'return': 415, '2009': 416, 'copy': 417, 'couple': 418, 'faster': 419, '15': 420, 'why': 421, 'All': 422, 'Installation': 423, 'powerful': 424, 'reason': 425, 'type': 426, 'create': 427, 'design': 428, 'router': 429, 'subscription': 430, 'tools': 431, 'Very': 432, 'accounting': 433, 'add': 434, 'high': 435, 'such': 436, 'Works': 437, 'professional': 438, 'recently': 439, 'state': 440, 'away': 441, 'month': 442, 'name': 443, 'stars': 444, 'Ultimate': 445, 'let': 446, 'perfect': 447, 'tool': 448, 'One': 449, 'including': 450, 'offers': 451, 'digital': 452, 'performance': 453, 'etc': 454, 'DVD': 455, 'allows': 456, 'block': 457, 'friendly': 458, 'nothing': 459, 'service': 460, 'pay': 461, 'said': 462, '64': 463, 'look': 464, 'once': 465, 'takes': 466, 'market': 467, 'simply': 468, 'card': 469, 'especially': 470, 'hook': 471, 'language': 472, 'value': 473, 'Since': 474, 'With': 475, 'real': 476, 'us': 477, 'useful': 478, 'anyone': 479, 'device': 480, 'difficult': 481, 'fact': 482, 'Good': 483, 'IT': 484, 'finally': 485, '81': 486, 'Win': 487, 'liked': 488, 'until': 489, 'videos': 490, 'Do': 491, 'Nancy': 492, 'Pinnacle': 493, 'customer': 494, 'linked': 495, 'normal': 496, 'Installed': 497, 'Rosetta': 498, 'Well': 499, 'forms': 500, 'understand': 501, 'box': 502, 'item': 503, 'photos': 504, 'speed': 505, 'systems': 506, '11': 507, 'Painter': 508, 'someone': 509, 'top': 510, '12': 511, 'application': 512, 'personal': 513, 'graphics': 514, 'major': 515, 'modem': 516, 'process': 517, 'viruses': 518, 'backup': 519, 'complete': 520, 'itself': 521, 'standard': 522, 'Just': 523, 'Turbotax': 524, 'ability': 525, 'deal': 526, 'exactly': 527, 'hours': 528, 'line': 529, 'making': 530, 'network': 531, 'updated': 532, 'Business': 533, 'Premium': 534, 'VideoStudio': 535, 'key': 536, 'load': 537, 'release': 538, 'runs': 539, 'seem': 540, 'switched': 541, 'Drew': 542, 'Outlook': 543, 'applications': 544, 'fun': 545, 'idea': 546, 'myself': 547, 'pro': 548, 'provides': 549, 'setup': 550, 'spacing': 551, 'stable': 552, '6': 553, 'NOT': 554, 'Professional': 555, 'cost': 556, 'either': 557, 'else': 558, 'fan': 559, 'options': 560, 'pleased': 561, 'quality': 562, 'wo': 563, 'PaintShop': 564, 'div': 565, 'functionality': 566, 'highly': 567, 'similar': 568, 'trouble': 569, 'AVG': 570, 'Although': 571, 'believe': 572, 'downloaded': 573, 'part': 574, '2003': 575, 'QuickBooks': 576, 'access': 577, 'built': 578, 'href': 579, 'longer': 580, 'point': 581, 'word': 582, '9': 583, 'Now': 584, 'along': 585, 'expensive': 586, 'however': 587, 'minutes': 588, 'various': 589, 'wireless': 590, 'CD': 591, 'Like': 592, 'Roxio': 593, 'Stone': 594, 'loaded': 595, 'nearly': 596, 'Plus': 597, 'Suite': 598, 'bugs': 599, 'improvement': 600, 'large': 601, 'protect': 602, 'Antivirus': 603, 'GB': 604, 'Symantec': 605, 'expected': 606, 'gave': 607, 'hub': 608, 'included': 609, 'multiple': 610, 'nbsp': 611, 'often': 612, 'order': 613, 'screen': 614, 'step': 615, '2015': 616, 'change': 617, 'offer': 618, 'port': 619, 'usually': 620, 'website': 621, 'Apple': 622, 'completely': 623, 'disappointed': 624, 'instructions': 625, 'low': 626, 'media': 627, 'returns': 628, '50': 629, 'Cyberlink': 630, 'clean': 631, 'early': 632, 'edit': 633, 'feel': 634, 'main': 635, 'open': 636, 'owned': 637, 'phone': 638, 'Anti': 639, 'course': 640, 'impressed': 641, 'improved': 642, 'level': 643, 'might': 644, 'plus': 645, 'received': 646, 'tech': 647, 'tell': 648, 'web': 649, 'Ill': 650, 'cheaper': 651, 'improvements': 652, 'life': 653, 'piece': 654, '30': 655, 'Having': 656, 'Sage': 657, 'changes': 658, 'gives': 659, 'laptops': 660, 'play': 661, 'Excel': 662, 'Spanish': 663, 'Toast': 664, 'license': 665, 'non': 666, 'person': 667, 'prior': 668, 'second': 669, 'supposed': 670, 'Does': 671, 'On': 672, 'Unfortunately': 673, 'gets': 674, 'satisfied': 675, 'track': 676, 'although': 677, 'changed': 678, 'perfectly': 679, 'rather': 680, 'released': 681, 'reviewers': 682, 'OK': 683, 'background': 684, 'definitely': 685, 'newer': 686, 'previously': 687, 'tablet': 688, 'uses': 689, 'GPS': 690, 'Quickbooks': 691, 'TaxCut': 692, 'To': 693, 'absolutely': 694, 'between': 695, 'choice': 696, 'games': 697, 'instead': 698, 'reading': 699, 'section': 700, 'short': 701, 'wish': 702, '13': 703, 'Acronis': 704, 'Even': 705, 'Maker': 706, 'PowerDirector': 707, 'Premier': 708, 'These': 709, 'WinZip': 710, 'connected': 711, 'malware': 712, 'place': 713, 'rating': 714, 'advertised': 715, 'book': 716, 'decade': 717, 'ease': 718, 'favorite': 719, 'four': 720, 'ordered': 721, 'seemed': 722, 'solid': 723, 'world': 724, 'wrong': 725, 'complicated': 726, 'documents': 727, 'extra': 728, 'huge': 729, 'kind': 730, 'lots': 731, 'means': 732, 'packages': 733, 'At': 734, 'due': 735, 'earlier': 736, 'extremely': 737, 'limited': 738, 'recommended': 739, 'trial': 740, 'upgrading': 741, 'weeks': 742, '14': 743, 'Most': 744, 'PDF': 745, 'Peachtree': 746, 'Some': 747, 'System': 748, 'Virus': 749, 'X': 750, 'brand': 751, 'crashes': 752, 'designed': 753, 'difference': 754, 'disk': 755, 'dp': 756, 'forward': 757, 'important': 758, 'issue': 759, 'prefer': 760, 'required': 761, 'star': 762, 'whole': 763, 'Family': 764, 'HP': 765, 'added': 766, 'app': 767, 'buggy': 768, 'called': 769, 'code': 770, 'complex': 771, 'continues': 772, 'editor': 773, 'end': 774, 'll': 775, 'ones': 776, 'processor': 777, 'reliable': 778, 'spent': 779, '2000': 780, 'Intel': 781, 'Once': 782, 'Streets': 783, 'X4': 784, 'Yes': 785, 'antenna': 786, 'except': 787, 'experienced': 788, 'includes': 789, 'stuff': 790, 'under': 791, 'Dell': 792, 'compared': 793, 'creating': 794, 'income': 795, 'input': 796, 'installs': 797, 'music': 798, 'option': 799, 'school': 800, 'spyware': 801, 'test': 802, 'Overall': 803, 'Version': 804, 'filing': 805, 'financial': 806, 'gone': 807, 'house': 808, 'keeps': 809, 'ran': 810, 'ref': 811, 'relatively': 812, 'sometimes': 813, 'spend': 814, 'upgrades': 815, 'Been': 816, 'Leopard': 817, 'Nortons': 818, 'Power': 819, 'PowerDVD': 820, 'Tree': 821, 'Video': 822, 'hidden': 823, 'looks': 824, 'next': 825, 'resources': 826, '2016': 827, 'AV': 828, 'Bought': 829, 'addition': 830, 'admit': 831, 'comprehensive': 832, 'current': 833, 'firewall': 834, 'memory': 835, 'movies': 836, 'save': 837, 'testing': 838, 'together': 839, 'ways': 840, '2006': 841, 'Corels': 842, 'MacBook': 843, 'Many': 844, 'RAM': 845, 'X7': 846, 'account': 847, 'allow': 848, 'cm': 849, 'disc': 850, 'familiar': 851, 'form': 852, 'loved': 853, 'mac': 854, 'mainly': 855, 'offered': 856, 'overall': 857, 'remember': 858, 'solution': 859, 'stop': 860, 'worst': 861, '2004': 862, 'AutoCAD': 863, 'Money': 864, 'State': 865, 'Trips': 866, 'Why': 867, 'X5': 868, 'X6': 869, 'alternative': 870, 'become': 871, 'cable': 872, 'decent': 873, 'e': 874, 'effective': 875, 'email': 876, 'flawlessly': 877, 'hate': 878, 'hoping': 879, 'kept': 880, 'machines': 881, 'negative': 882, 'player': 883, 'seen': 884, 'series': 885, 'site': 886, 'switches': 887, 'DVDs': 888, 'Every': 889, 'Macs': 890, 'cool': 891, 'customers': 892, 'enjoy': 893, 'excited': 894, 'figure': 895, 'five': 896, 'keeping': 897, 'surprised': 898, 'today': 899, 'turbo': 900, 'wife': 901, '2002': 902, 'AND': 903, 'MAC': 904, 'Software': 905, 'amazing': 906, 'books': 907, 'cr': 908, 'expect': 909, 'follow': 910, 'forced': 911, 'format': 912, 'given': 913, 'serious': 914, 'space': 915, 'true': 916, 'Premiere': 917, 'THE': 918, 'TT': 919, 'Total': 920, 'Update': 921, 'amount': 922, 'basically': 923, 'case': 924, 'check': 925, 'compatible': 926, 'crash': 927, 'curve': 928, 'downloading': 929, 'glad': 930, 'he': 931, 'import': 932, 'mini': 933, 'ok': 934, 'playing': 935, 'processing': 936, 'questions': 937, 'renew': 938, 'says': 939, 'unit': 940, 'Elements': 941, 'Please': 942, 'call': 943, 'companies': 944, 'functions': 945, 'helpful': 946, 'pictures': 947, 'removed': 948, 'saying': 949, 'single': 950, 'stay': 951, 'thinking': 952, 'Over': 953, 'Paint': 954, 'Webroot': 955, 'amazoncom': 956, 'art': 957, 'beyond': 958, 'cards': 959, 'convert': 960, 'her': 961, 'https': 962, 'onto': 963, 'recent': 964, 'Cut': 965, 'Media': 966, 'Microsofts': 967, 'Perfect': 968, 'Ultra': 969, 'arrived': 970, 'chance': 971, 'charge': 972, 'choose': 973, 'date': 974, 'following': 975, 'function': 976, 'helps': 977, 'iMac': 978, 'include': 979, 'inexpensive': 980, 'later': 981, 'newest': 982, 'pc': 983, 'ports': 984, 'starting': 985, 'useless': 986, 'voice': 987, 'week': 988, 'written': 989, 'Blu': 990, 'Excellent': 991, 'Love': 992, 'Seems': 993, 'Used': 994, 'accurate': 995, 'advanced': 996, 'capabilities': 997, 'continue': 998, 'core': 999, 'enjoyed': 1000, 'gotten': 1001, 'immediately': 1002, 'nassl': 1003, 'noticed': 1004, 'novice': 1005, 'scan': 1006, 'she': 1007, 'size': 1008, 'Product': 1009, 'Pros': 1010, 'audio': 1011, 'became': 1012, 'coming': 1013, 'effects': 1014, 'fully': 1015, 'generally': 1016, 'maps': 1017, 'notice': 1018, 'priced': 1019, 'usual': 1020, 'variety': 1021, 'wait': 1022, 'write': 1023, '18': 1024, 'Download': 1025, 'Let': 1026, 'Naturally': 1027, 'accounts': 1028, 'apps': 1029, 'average': 1030, 'entire': 1031, 'graphic': 1032, 'image': 1033, 'paid': 1034, 'primarily': 1035, 'provided': 1036, 'resource': 1037, 'taking': 1038, 'via': 1039, 'wonderful': 1040, '25': 1041, 'Accounting': 1042, 'CorelDraw': 1043, 'Essentials': 1044, 'Fusion': 1045, 'Had': 1046, 'Photo': 1047, 'Then': 1048, 'UPDATE': 1049, 'Will': 1050, 'additional': 1051, 'animation': 1052, 'begin': 1053, 'beta': 1054, 'biggest': 1055, 'clear': 1056, 'complaints': 1057, 'failed': 1058, 'interested': 1059, 'mostly': 1060, 'navigate': 1061, 'opportunity': 1062, 'photographer': 1063, 'played': 1064, 'primary': 1065, 'quicken': 1066, 'replaced': 1067, 'significant': 1068, 'suites': 1069, 'super': 1070, 'third': 1071, 'words': 1072, '100': 1073, 'Creator': 1074, 'Unlike': 1075, 'annoying': 1076, 'aware': 1077, 'beat': 1078, 'care': 1079, 'charm': 1080, 'consider': 1081, 'during': 1082, 'fixed': 1083, 'items': 1084, 'known': 1085, 'learned': 1086, 'model': 1087, 'plug': 1088, 'range': 1089, 'refund': 1090, 'room': 1091, 'smoothly': 1092, 'straight': 1093, 'turn': 1094, 'whether': 1095, 'wifi': 1096, '3D': 1097, '95': 1098, 'Parallels': 1099, 'Shop': 1100, 'Speaking': 1101, 'Thanks': 1102, 'accountant': 1103, 'arp': 1104, 'asked': 1105, 'caused': 1106, 'described': 1107, 'drives': 1108, 'error': 1109, 'everyone': 1110, 'friends': 1111, 'guess': 1112, 'his': 1113, 'list': 1114, 'live': 1115, 'lost': 1116, 'mistake': 1117, 'okay': 1118, 'opinion': 1119, 'plan': 1120, 'purchasing': 1121, 'replace': 1122, 'somewhat': 1123, 'success': 1124, 'tested': 1125, 'transactions': 1126, 'writing': 1127, 'Everything': 1128, 'Highly': 1129, 'Nero': 1130, 'TO': 1131, 'bells': 1132, 'boot': 1133, 'compare': 1134, 'complaint': 1135, 'crashed': 1136, 'fix': 1137, 'general': 1138, 'late': 1139, 'left': 1140, 'lets': 1141, 'possible': 1142, 'question': 1143, 'scans': 1144, 'secure': 1145, 'tree': 1146, 'uninstall': 1147, 'within': 1148, 'worse': 1149, '08': 1150, '17': 1151, 'DOS': 1152, 'Dictate': 1153, 'Federal': 1154, 'NIS': 1155, 'Only': 1156, 'Student': 1157, 'THIS': 1158, 'Would': 1159, 'affordable': 1160, 'amateur': 1161, 'cloud': 1162, 'confusing': 1163, 'drawing': 1164, 'eye': 1165, 'federal': 1166, 'kids': 1167, 'knows': 1168, 'manage': 1169, 'maybe': 1170, 'mine': 1171, 'note': 1172, 'original': 1173, 'regular': 1174, 'results': 1175, 'rich': 1176, 'share': 1177, 'shipping': 1178, 'storage': 1179, 'told': 1180, 'trust': 1181, '24': 1182, '365': 1183, 'Also': 1184, 'Blocks': 1185, 'C': 1186, 'Can': 1187, 'Director': 1188, 'Each': 1189, 'Edition': 1190, 'Movie': 1191, 'Still': 1192, 'artist': 1193, 'breeze': 1194, 'close': 1195, 'comments': 1196, 'control': 1197, 'created': 1198, 'currently': 1199, 'daily': 1200, 'ended': 1201, 'exception': 1202, 'expert': 1203, 'giving': 1204, 'hand': 1205, 'higher': 1206, 'hope': 1207, 'investment': 1208, 'light': 1209, 'manual': 1210, 'mess': 1211, 'mind': 1212, 'provide': 1213, 'ray': 1214, 'robust': 1215, 'saw': 1216, 'sent': 1217, 'setting': 1218, 'threats': 1219, 'truly': 1220, 'ALL': 1221, 'BUT': 1222, 'Did': 1223, 'From': 1224, 'advantage': 1225, 'began': 1226, 'camera': 1227, 'downloads': 1228, 'errors': 1229, 'goes': 1230, 'honestly': 1231, 'intended': 1232, 'legal': 1233, 'matter': 1234, 'mid': 1235, 'movie': 1236, 'necessary': 1237, 'pack': 1238, 'planning': 1239, 'plenty': 1240, 'son': 1241, 'stopped': 1242, 'technical': 1243, 'text': 1244, '2005': 1245, 'Android': 1246, 'CorelDRAW': 1247, 'Free': 1248, 'Linux': 1249, 'MY': 1250, 'Maybe': 1251, 'Small': 1252, 'Titanium': 1253, 'User': 1254, 'activation': 1255, 'adapter': 1256, 'ask': 1257, 'budget': 1258, 'bundle': 1259, 'burning': 1260, 'copies': 1261, 'disks': 1262, 'dollars': 1263, 'honest': 1264, 'originally': 1265, 'reasonably': 1266, 'reasons': 1267, 'ribbon': 1268, 'rvw': 1269, 'side': 1270, 'tasks': 1271, 'touch': 1272, 'training': 1273, 'trip': 1274, 'unless': 1275, 'whistles': 1276, '16': 1277, '32': 1278, 'Basic': 1279, 'By': 1280, 'CPU': 1281, 'How': 1282, 'MapPoint': 1283, 'Utilities': 1284, 'automatically': 1285, 'college': 1286, 'connect': 1287, 'connecting': 1288, 'connection': 1289, 'costs': 1290, 'finances': 1291, 'functional': 1292, 'half': 1293, 'hardware': 1294, 'history': 1295, 'hour': 1296, 'map': 1297, 'mean': 1298, 'popular': 1299, 'prepare': 1300, 'properly': 1301, 'recognition': 1302, 'requires': 1303, 'settings': 1304, 'show': 1305, 'uninstalled': 1306, 'wrote': 1307, '1990s': 1308, '90s': 1309, 'Ancestrycom': 1310, 'AntiVirus': 1311, 'Before': 1312, 'D': 1313, 'Has': 1314, 'Image': 1315, 'Never': 1316, 'Of': 1317, 'Protection': 1318, 'Snow': 1319, 'Sony': 1320, 'X8': 1321, 'across': 1322, 'awesome': 1323, 'beginner': 1324, 'businesses': 1325, 'certain': 1326, 'correctly': 1327, 'database': 1328, 'easiest': 1329, 'enter': 1330, 'environment': 1331, 'hopes': 1332, 'knew': 1333, 'listed': 1334, 'mapping': 1335, 'marketing': 1336, 'method': 1337, 'noted': 1338, 'print': 1339, 'protected': 1340, 'ready': 1341, 'realize': 1342, 'reviewed': 1343, 'routers': 1344, 'safe': 1345, 'slows': 1346, 'stock': 1347, 'technology': 1348, 'ten': 1349, 'total': 1350, 'unlike': 1351, 'updating': 1352, 'watch': 1353, '40': 1354, 'Bitdefender': 1355, 'Ca': 1356, 'G': 1357, 'Google': 1358, 'Kindle': 1359, 'NAS': 1360, 'PSP': 1361, 'S': 1362, 'Standard': 1363, 'True': 1364, 'Using': 1365, 'VERY': 1366, 'amazed': 1367, 'answer': 1368, 'automatic': 1369, 'beginning': 1370, 'certainly': 1371, 'cheap': 1372, 'click': 1373, 'content': 1374, 'cut': 1375, 'decades': 1376, 'entry': 1377, 'expectations': 1378, 'fantastic': 1379, 'frustrated': 1380, 'handle': 1381, 'iWork': 1382, 'industry': 1383, 'info': 1384, 'likely': 1385, 'looked': 1386, 'mixed': 1387, 'monitor': 1388, 'nicely': 1389, 'norton': 1390, 'numerous': 1391, 'owner': 1392, 'page': 1393, 'paying': 1394, 'places': 1395, 'pop': 1396, 'pre': 1397, 'pricing': 1398, 'projects': 1399, 'saved': 1400, 'self': 1401, 'services': 1402, 'sites': 1403, 'slowed': 1404, 'slower': 1405, 'stated': 1406, 'totally': 1407, 'tutorials': 1408, 'Because': 1409, 'Best': 1410, 'CDs': 1411, 'HD': 1412, 'HR': 1413, 'T': 1414, 'X2': 1415, 'X3': 1416, 'against': 1417, 'allowed': 1418, 'amazon': 1419, 'appears': 1420, 'bank': 1421, 'bloated': 1422, 'cause': 1423, 'competitors': 1424, 'cover': 1425, 'daughter': 1426, 'featured': 1427, 'finding': 1428, 'gaming': 1429, 'grown': 1430, 'increase': 1431, 'intrusive': 1432, 'junk': 1433, 'message': 1434, 'moving': 1435, 'news': 1436, 'particularly': 1437, 'pick': 1438, 'picked': 1439, 'poor': 1440, 'protecting': 1441, 'rated': 1442, 'send': 1443, 'server': 1444, 'six': 1445, 'slowing': 1446, 'smooth': 1447, 'sold': 1448, 'stability': 1449, 'straightforward': 1450, 'transfer': 1451, 'txtie': 1452, 'wants': 1453, 'Bluetooth': 1454, 'DO': 1455, 'Final': 1456, 'Lightroom': 1457, 'Two': 1458, 'Vine': 1459, 'Worked': 1460, 'below': 1461, 'bug': 1462, 'cell': 1463, 'covers': 1464, 'dictation': 1465, 'driver': 1466, 'external': 1467, 'hooked': 1468, 'iLife': 1469, 'lessons': 1470, 'mail': 1471, 'menu': 1472, 'networks': 1473, 'normally': 1474, 'outstanding': 1475, 'potential': 1476, 'putting': 1477, 'rate': 1478, 'related': 1479, 'require': 1480, 'retail': 1481, 'reviewing': 1482, 'road': 1483, 'sell': 1484, 'slightly': 1485, 'soon': 1486, 'specific': 1487, 'suppose': 1488, 'websites': 1489, 'yourself': 1490, 'Adobes': 1491, 'Core': 1492, 'E': 1493, 'Here': 1494, 'Heres': 1495, 'IS': 1496, 'Lots': 1497, 'ME': 1498, 'More': 1499, 'NaturallySpeaking': 1500, 'Platinum': 1501, 'Plug': 1502, 'QNAP': 1503, 'Schedule': 1504, 'Use': 1505, 'WillMaker': 1506, 'Wordperfect': 1507, 'adds': 1508, 'alone': 1509, 'avoid': 1510, 'clients': 1511, 'covered': 1512, 'custom': 1513, 'deductions': 1514, 'detailed': 1515, 'discovered': 1516, 'editions': 1517, 'flexible': 1518, 'former': 1519, 'genealogy': 1520, 'guy': 1521, 'iMovie': 1522, 'initial': 1523, 'missing': 1524, 'nor': 1525, 'notebook': 1526, 'reasonable': 1527, 'register': 1528, 'remains': 1529, 'research': 1530, 'restore': 1531, 'sale': 1532, 'search': 1533, 'selling': 1534, 'separate': 1535, 'situation': 1536, 'sound': 1537, 'special': 1538, 'store': 1539, 'taken': 1540, 'twice': 1541, 'typing': 1542, 'wasted': 1543, 'yes': 1544, '1995': 1545, '98': 1546, 'Access': 1547, 'Apples': 1548, 'Avast': 1549, 'Cloud': 1550, 'Complete': 1551, 'Express': 1552, 'Finally': 1553, 'He': 1554, 'LT': 1555, 'Linksys': 1556, 'Nothing': 1557, 'Pages': 1558, 'Simple': 1559, 'UI': 1560, 'UTF8': 1561, 'VHS': 1562, 'WinXP': 1563, 'adapters': 1564, 'appreciate': 1565, 'behind': 1566, 'capture': 1567, 'center': 1568, 'constantly': 1569, 'creative': 1570, 'detail': 1571, 'drivers': 1572, 'efficient': 1573, 'ethernet': 1574, 'expenses': 1575, 'expired': 1576, 'fair': 1577, 'folks': 1578, 'forever': 1579, 'formats': 1580, 'fuzzies': 1581, 'handy': 1582, 'hassle': 1583, 'hundreds': 1584, 'iPhoto': 1585, 'impossible': 1586, 'individual': 1587, 'knowledge': 1588, 'layout': 1589, 'licenses': 1590, 'nightmare': 1591, 'none': 1592, 'pain': 1593, 'painless': 1594, 'possibly': 1595, 'remove': 1596, 'renewal': 1597, 'replacement': 1598, 'requirements': 1599, 'speaking': 1600, 'spending': 1601, 'starts': 1602, 'student': 1603, 'superior': 1604, 'themselves': 1605, 'ton': 1606, 'tracking': 1607, 'vista': 1608, 'Anime': 1609, 'Digital': 1610, 'Ghost': 1611, 'Got': 1612, 'Immersion': 1613, 'Quick': 1614, 'Several': 1615, 'Thank': 1616, 'Win7': 1617, 'Wow': 1618, 'apparently': 1619, 'awful': 1620, 'awhile': 1621, 'basics': 1622, 'beginners': 1623, 'casual': 1624, 'caught': 1625, 'collection': 1626, 'color': 1627, 'compatibility': 1628, 'completed': 1629, 'considering': 1630, 'controls': 1631, 'designer': 1632, 'difficulty': 1633, 'directions': 1634, 'encountered': 1635, 'estate': 1636, 'finished': 1637, 'hands': 1638, 'happen': 1639, 'helped': 1640, 'hit': 1641, 'husband': 1642, 'initially': 1643, 'involved': 1644, 'middle': 1645, 'mobile': 1646, 'moved': 1647, 'pages': 1648, 'perhaps': 1649, 'photography': 1650, 'positive': 1651, 'ram': 1652, 'rental': 1653, 'significantly': 1654, 'sorry': 1655, 'source': 1656, 'speech': 1657, 'stick': 1658, 'tablets': 1659, 'templates': 1660, 'tester': 1661, 'trusted': 1662, 'utility': 1663, '80': 1664, 'Always': 1665, 'Draw': 1666, 'FOR': 1667, 'GREAT': 1668, 'HAVE': 1669, 'Instant': 1670, 'K': 1671, 'Much': 1672, 'SP1': 1673, 'TV': 1674, 'Upgrade': 1675, 'Was': 1676, 'adequate': 1677, 'age': 1678, 'array': 1679, 'bill': 1680, 'capable': 1681, 'choices': 1682, 'configuration': 1683, 'consistently': 1684, 'contains': 1685, 'experiences': 1686, 'felt': 1687, 'force': 1688, 'freezes': 1689, 'frustrating': 1690, 'hog': 1691, 'incredibly': 1692, 'interest': 1693, 'introduced': 1694, 'investments': 1695, 'loves': 1696, 'lower': 1697, 'loyal': 1698, 'meet': 1699, 'minimum': 1700, 'minor': 1701, 'netbook': 1702, 'operates': 1703, 'paper': 1704, 'platform': 1705, 'posted': 1706, 'preparation': 1707, 'produce': 1708, 'report': 1709, 'reports': 1710, 'schedule': 1711, 'seeing': 1712, 'shop': 1713, 'tend': 1714, 'tired': 1715, 'title': 1716, 'upon': 1717, 'waiting': 1718, 'weak': 1719, 'wide': 1720, 'wonder': 1721, '35': 1722, '60': 1723, '64bit': 1724, 'Back': 1725, 'Backup': 1726, 'Better': 1727, 'BitDefender': 1728, 'Both': 1729, 'CPA': 1730, 'Explorer': 1731, 'Hard': 1732, 'Look': 1733, 'Manager': 1734, 'Open': 1735, 'Operating': 1736, 'PhotoDirector': 1737, 'Program': 1738, 'Publisher': 1739, 'Summary': 1740, 'TB': 1741, 'Their': 1742, 'Tried': 1743, 'US': 1744, 'WARNING': 1745, 'Zone': 1746, 'agree': 1747, 'approach': 1748, 'attempts': 1749, 'blue': 1750, 'capability': 1751, 'car': 1752, 'children': 1753, 'chose': 1754, 'commercial': 1755, 'competition': 1756, 'compression': 1757, 'document': 1758, 'expecting': 1759, 'fill': 1760, 'final': 1761, 'front': 1762, 'frustration': 1763, 'heard': 1764, 'law': 1765, 'messages': 1766, 'miss': 1767, 'multi': 1768, 'needing': 1769, 'offering': 1770, 'parts': 1771, 'personally': 1772, 'poorly': 1773, 'premium': 1774, 'preparing': 1775, 'profile': 1776, 'providing': 1777, 'rest': 1778, 'rock': 1779, 'sales': 1780, 'screens': 1781, 'skeptical': 1782, 'sort': 1783, 'speak': 1784, 'spreadsheet': 1785, 'successfully': 1786, 'unable': 1787, 'win': 1788, 'xp': 1789, 'zip': 1790, '500': 1791, '70': 1792, 'Amazoncom': 1793, 'Arrived': 1794, 'Autodesk': 1795, 'CAD': 1796, 'Firewire': 1797, 'Graphics': 1798, 'Last': 1799, 'MB': 1800, 'Make': 1801, 'OF': 1802, 'OSX': 1803, 'Ok': 1804, 'Our': 1805, 'Pack': 1806, 'Paintshop': 1807, 'Poser': 1808, 'Pure': 1809, 'Service': 1810, 'Until': 1811, 'WP': 1812, 'YouTube': 1813, 'above': 1814, 'ages': 1815, 'ahead': 1816, 'areas': 1817, 'auto': 1818, 'b': 1819, 'backups': 1820, 'bar': 1821, 'burn': 1822, 'button': 1823, 'consumer': 1824, 'crashing': 1825, 'description': 1826, 'dial': 1827, 'double': 1828, 'eight': 1829, 'employees': 1830, 'engine': 1831, 'followed': 1832, 'hitch': 1833, 'household': 1834, 'instruction': 1835, 'integration': 1836, 'interesting': 1837, 'loading': 1838, 'longtime': 1839, 'mouse': 1840, 'move': 1841, 'particular': 1842, 'plugged': 1843, 'points': 1844, 'preferred': 1845, 'printer': 1846, 'printing': 1847, 'recognize': 1848, 'record': 1849, 'records': 1850, 'shipped': 1851, 'skills': 1852, 'softwares': 1853, 'strange': 1854, 'sync': 1855, 'terrible': 1856, 'transition': 1857, 'turbotax': 1858, 'unhappy': 1859, 'ups': 1860, 'vendor': 1861, 'worry': 1862, 'zero': 1863, 'An': 1864, 'Being': 1865, 'Beware': 1866, 'Cisco': 1867, 'Firewall': 1868, 'G4': 1869, 'IRS': 1870, 'Intuits': 1871, 'KNOW': 1872, 'Lets': 1873, 'Note': 1874, 'Okay': 1875, 'Other': 1876, 'PCI': 1877, 'QB': 1878, 'She': 1879, 'Wish': 1880, 'activate': 1881, 'adding': 1882, 'attorney': 1883, 'avid': 1884, 'barely': 1885, 'bottom': 1886, 'bullet': 1887, 'careful': 1888, 'claim': 1889, 'claims': 1890, 'convenient': 1891, 'converted': 1892, 'direct': 1893, 'directly': 1894, 'disappointment': 1895, 'doubt': 1896, 'drafting': 1897, 'emails': 1898, 'essentially': 1899, 'extensive': 1900, 'film': 1901, 'fit': 1902, 'ft': 1903, 'guys': 1904, 'imported': 1905, 'impressive': 1906, 'languages': 1907, 'larger': 1908, 'likes': 1909, 'lose': 1910, 'makers': 1911, 'managed': 1912, 'manually': 1913, 'menus': 1914, 'networking': 1915, 'occasionally': 1916, 'painting': 1917, 'period': 1918, 'produced': 1919, 'purpose': 1920, 'quicker': 1921, 'rebate': 1922, 'receiving': 1923, 'reduced': 1924, 'retired': 1925, 'sense': 1926, 'shows': 1927, 'signal': 1928, 'sources': 1929, 'specs': 1930, 'stops': 1931, 'stuck': 1932, 'supported': 1933, 'surprise': 1934, 'talk': 1935, 'terms': 1936, 'thanks': 1937, 'types': 1938, 'typical': 1939, 'utilities': 1940, 'vector': 1941, 'visiting': 1942, 'wanting': 1943, 'warm': 1944, 'watching': 1945, 'whatever': 1946, 'yearly': 1947, '1000': 1948, '400': 1949, 'Architect': 1950, 'Beta': 1951, 'Creative': 1952, 'CyberLink': 1953, 'DSL': 1954, 'FREE': 1955, 'LOT': 1956, 'Micros': 1957, 'Mini': 1958, 'Multi': 1959, 'Music': 1960, 'ON': 1961, 'OneCare': 1962, 'Or': 1963, 'Player': 1964, 'Ray': 1965, 'Really': 1966, 'Received': 1967, 'Recently': 1968, 'Sketchbook': 1969, 'Too': 1970, 'Upgraded': 1971, 'accuracy': 1972, 'acting': 1973, 'adventure': 1974, 'alot': 1975, 'amazingly': 1976, 'analysis': 1977, 'attempt': 1978, 'banking': 1979, 'beautiful': 1980, 'cash': 1981, 'changing': 1982, 'classes': 1983, 'clips': 1984, 'comfortable': 1985, 'common': 1986, 'correct': 1987, 'credit': 1988, 'default': 1989, 'delivery': 1990, 'died': 1991, 'discs': 1992, 'dozen': 1993, 'essential': 1994, 'existing': 1995, 'figured': 1996, 'forget': 1997, 'fresh': 1998, 'friend': 1999, 'gig': 2000, 'greatest': 2001, 'guide': 2002, 'hated': 2003, 'indeed': 2004, 'individuals': 2005, 'knowing': 2006, 'leave': 2007, 'local': 2008, 'log': 2009, 'malicious': 2010, 'mention': 2011, 'missed': 2012, 'opened': 2013, 'operation': 2014, 'painful': 2015, 'paint': 2016, 'performs': 2017, 'physical': 2018, 'playback': 2019, 'reach': 2020, 'scanning': 2021, 'stress': 2022, 'suggest': 2023, 'tough': 2024, 'units': 2025, 'waste': 2026, 'wizard': 2027, '2nd': 2028, '45': 2029, 'Bento': 2030, 'Bit': 2031, 'CorelCAD': 2032, 'Desktop': 2033, 'Device': 2034, 'English': 2035, 'FTM': 2036, 'Fed': 2037, 'Flash': 2038, 'Found': 2039, 'French': 2040, 'Generally': 2041, 'Gigabit': 2042, 'Illustrator': 2043, 'Is': 2044, 'Item': 2045, 'Kapersky': 2046, 'Key': 2047, 'LOVE': 2048, 'Live': 2049, 'MRS': 2050, 'Mcafee': 2051, 'Nuance': 2052, 'O': 2053, 'PowerPoint': 2054, 'Previously': 2055, 'Q2010': 2056, 'RV': 2057, 'Spyware': 2058, 'Start': 2059, 'Super': 2060, 'Sure': 2061, 'Taxcut': 2062, 'Though': 2063, 'Tiger': 2064, 'USE': 2065, 'WORKS': 2066, 'Where': 2067, 'YOU': 2068, 'Years': 2069, 'absolute': 2070, 'advantages': 2071, 'afraid': 2072, 'annual': 2073, 'appear': 2074, 'asking': 2075, 'asks': 2076, 'bigger': 2077, 'brother': 2078, 'brought': 2079, 'browser': 2080, 'build': 2081, 'checking': 2082, 'clearly': 2083, 'comment': 2084, 'comparison': 2085, 'competitive': 2086, 'computing': 2087, 'concerned': 2088, 'converting': 2089, 'crawl': 2090, 'creation': 2091, 'cumbersome': 2092, 'desk': 2093, 'details': 2094, 'discount': 2095, 'dozens': 2096, 'draw': 2097, 'dual': 2098, 'exact': 2099, 'fails': 2100, 'flaw': 2101, 'further': 2102, 'future': 2103, 'gift': 2104, 'harder': 2105, 'heavy': 2106, 'held': 2107, 'improve': 2108, 'incredible': 2109, 'inferior': 2110, 'integrated': 2111, 'intermediate': 2112, 'internal': 2113, 'jump': 2114, 'lack': 2115, 'levels': 2116, 'listing': 2117, 'living': 2118, 'locate': 2119, 'management': 2120, 'manner': 2121, 'massive': 2122, 'minimal': 2123, 'named': 2124, 'native': 2125, 'obvious': 2126, 'obviously': 2127, 'operate': 2128, 'organized': 2129, 'password': 2130, 'peace': 2131, 'photoshop': 2132, 'players': 2133, 'pleasantly': 2134, 'post': 2135, 'prep': 2136, 'prices': 2137, 'production': 2138, 'programming': 2139, 'project': 2140, 'promised': 2141, 'proof': 2142, 'public': 2143, 'push': 2144, 'rack': 2145, 'ratings': 2146, 'reinstall': 2147, 'seamlessly': 2148, 'seller': 2149, 'sending': 2150, 'seriously': 2151, 'sharing': 2152, 'spreadsheets': 2153, 'surfing': 2154, 'switching': 2155, 'terrific': 2156, 'turned': 2157, 'unique': 2158, 'unstable': 2159, 'waited': 2160, 'window': 2161, '10000': 2162, '250': 2163, '2D': 2164, '80s': 2165, '90': 2166, 'Acrobat': 2167, 'Ancestry': 2168, 'April': 2169, 'December': 2170, 'Drive': 2171, 'Duo': 2172, 'Especially': 2173, 'GUEST': 2174, 'Get': 2175, 'Happy': 2176, 'Honestly': 2177, 'KIS': 2178, 'Keynote': 2179, 'Loaded': 2180, 'Looks': 2181, 'Mechanic': 2182, 'New': 2183, 'Old': 2184, 'Price': 2185, 'Prime': 2186, 'Purchased': 2187, 'Q2008': 2188, 'REALLY': 2189, 'REVIEWER': 2190, 'Right': 2191, 'SOFTWARE': 2192, 'SP3': 2193, 'Sorry': 2194, 'Tech': 2195, 'Ubuntu': 2196, 'Up': 2197, 'VISTA': 2198, 'VM': 2199, 'VPN': 2200, 'Vegas': 2201, 'WEBROOT': 2202, 'actual': 2203, 'ads': 2204, 'afford': 2205, 'among': 2206, 'benefits': 2207, 'bother': 2208, 'bridge': 2209, 'building': 2210, 'candy': 2211, 'catch': 2212, 'cleanly': 2213, 'communication': 2214, 'comparable': 2215, 'consuming': 2216, 'conversion': 2217, 'daughters': 2218, 'death': 2219, 'delete': 2220, 'despite': 2221, 'documentation': 2222, 'effort': 2223, 'elegant': 2224, 'everyday': 2225, 'example': 2226, 'expand': 2227, 'experimenting': 2228, 'fall': 2229, 'feels': 2230, 'fi': 2231, 'filed': 2232, 'flash': 2233, 'freeware': 2234, 'garbage': 2235, 'geek': 2236, 'glitch': 2237, 'happened': 2238, 'hear': 2239, 'hoped': 2240, 'horrible': 2241, 'i7': 2242, 'iPad': 2243, 'iPhone': 2244, 'imagine': 2245, 'inch': 2246, 'infected': 2247, 'kinds': 2248, 'library': 2249, 'limitation': 2250, 'medium': 2251, 'membership': 2252, 'motherboard': 2253, 'numbers': 2254, 'otherwise': 2255, 'packed': 2256, 'phones': 2257, 'plain': 2258, 'portion': 2259, 'pros': 2260, 'receive': 2261, 'recording': 2262, 'registered': 2263, 'researching': 2264, 'serial': 2265, 'solutions': 2266, 'sorts': 2267, 'stand': 2268, 'states': 2269, 'stripped': 2270, 'students': 2271, 'stupid': 2272, 'style': 2273, 'sucks': 2274, 'suited': 2275, 'tapes': 2276, 'thorough': 2277, 'traveling': 2278, 'turns': 2279, 'view': 2280, 'vocabulary': 2281, 'wi': 2282, 'wise': 2283, '200': 2284, 'AVGs': 2285, 'Alarm': 2286, 'Asus': 2287, 'BEST': 2288, 'Besides': 2289, 'CAN': 2290, 'Contact': 2291, 'During': 2292, 'Fuzzy': 2293, 'German': 2294, 'Ghz': 2295, 'IBM': 2296, 'IF': 2297, 'Japanese': 2298, 'NAV': 2299, 'Netbook': 2300, 'ONE': 2301, 'PRO': 2302, 'Paperport': 2303, 'Performance': 2304, 'Prior': 2305, 'Router': 2306, 'Roxios': 2307, 'Secret': 2308, 'Sometimes': 2309, 'Symantecs': 2310, 'Three': 2311, 'VMware': 2312, 'Vipre': 2313, 'WILL': 2314, 'Way': 2315, 'WiFi': 2316, 'Wuzzys': 2317, 'accurately': 2318, 'area': 2319, 'artistic': 2320, 'artists': 2321, 'attention': 2322, 'authoring': 2323, 'base': 2324, 'basis': 2325, 'bonus': 2326, 'bracket': 2327, 'bring': 2328, 'bucks': 2329, 'bunch': 2330, 'causes': 2331, 'causing': 2332, 'cd': 2333, 'checks': 2334, 'cleaner': 2335, 'clunky': 2336, 'combination': 2337, 'competing': 2338, 'complained': 2339, 'condition': 2340, 'continuously': 2341, 'dealing': 2342, 'drop': 2343, 'economical': 2344, 'edge': 2345, 'endless': 2346, 'entered': 2347, 'entering': 2348, 'evaluate': 2349, 'excelent': 2350, 'exciting': 2351, 'expire': 2352, 'expires': 2353, 'expiring': 2354, 'fancy': 2355, 'favorites': 2356, 'field': 2357, 'foreign': 2358, 'frequently': 2359, 'geared': 2360, 'grammar': 2361, 'guest': 2362, 'hang': 2363, 'icons': 2364, 'ideal': 2365, 'incomplete': 2366, 'iteration': 2367, 'jobs': 2368, 'kaspersky': 2369, 'lacking': 2370, 'luck': 2371, 'maintenance': 2372, 'meant': 2373, 'meets': 2374, 'modern': 2375, 'natural': 2376, 'notes': 2377, 'organize': 2378, 'outdated': 2379, 'parental': 2380, 'pass': 2381, 'perform': 2382, 'performed': 2383, 'present': 2384, 'presentation': 2385, 'processors': 2386, 'productivity': 2387, 'protects': 2388, 'quirks': 2389, 'recognized': 2390, 'recomend': 2391, 'refused': 2392, 'regularly': 2393, 'researched': 2394, 'result': 2395, 'selection': 2396, 'simplified': 2397, 'slide': 2398, 'slowly': 2399, 'sophisticated': 2400, 'speedy': 2401, 'startup': 2402, 'steps': 2403, 'streets': 2404, 'struggling': 2405, 'supports': 2406, 'suspicious': 2407, 'teacher': 2408, 'teaching': 2409, 'term': 2410, 'ths': 2411, 'trend': 2412, 'twenty': 2413, 'usage': 2414, 'w': 2415, 'whatsoever': 2416, 'x4': 2417, '2000mAh': 2418, '3rd': 2419, 'AMD': 2420, 'APs': 2421, 'Analysis': 2422, 'Another': 2423, 'B': 2424, 'Be': 2425, 'Chief': 2426, 'Christmas': 2427, 'Could': 2428, 'Despite': 2429, 'Full': 2430, 'GUI': 2431, 'Install': 2432, 'Italian': 2433, 'JUST': 2434, 'January': 2435, 'Joy': 2436, 'Laptop': 2437, 'Legal': 2438, 'Li': 2439, 'Lion': 2440, 'MUCH': 2441, 'Macbook': 2442, 'Macintosh': 2443, 'Makes': 2444, 'McAfees': 2445, 'Message': 2446, 'Need': 2447, 'Numbers': 2448, 'OEM': 2449, 'Perhaps': 2450, 'PhotoShop': 2451, 'SOHO': 2452, 'Set': 2453, 'Shipping': 2454, 'Sonnet': 2455, 'Step': 2456, 'Street': 2457, 'Trust': 2458, 'Try': 2459, 'Ulead': 2460, 'VBA': 2461, 'WITH': 2462, 'Want': 2463, 'Willmaker': 2464, 'Yeah': 2465, 'abandon': 2466, 'accept': 2467, 'action': 2468, 'allowing': 2469, 'alternatives': 2470, 'amounts': 2471, 'anyway': 2472, 'appeared': 2473, 'attempted': 2474, 'balance': 2475, 'becoming': 2476, 'bog': 2477, 'boys': 2478, 'brands': 2479, 'brings': 2480, 'cables': 2481, 'calls': 2482, 'carry': 2483, 'charging': 2484, 'complain': 2485, 'constructed': 2486, 'contact': 2487, 'continually': 2488, 'crap': 2489, 'crippled': 2490, 'cute': 2491, 'definitions': 2492, 'depend': 2493, 'depth': 2494, 'desktops': 2495, 'disabled': 2496, 'disaster': 2497, 'drag': 2498, 'dream': 2499, 'dvd': 2500, 'eg': 2501, 'everybody': 2502, 'excel': 2503, 'famous': 2504, 'fax': 2505, 'figuring': 2506, 'finds': 2507, 'firmware': 2508, 'fixes': 2509, 'footprint': 2510, 'formerly': 2511, 'fraction': 2512, 'frankly': 2513, 'frustrations': 2514, 'gains': 2515, 'generation': 2516, 'gigabit': 2517, 'glance': 2518, 'glowing': 2519, 'grade': 2520, 'ground': 2521, 'happens': 2522, 'happier': 2523, 'hardly': 2524, 'head': 2525, 'headache': 2526, 'headaches': 2527, 'hold': 2528, 'homework': 2529, 'hubs': 2530, 'incarnations': 2531, 'incompatible': 2532, 'interview': 2533, 'involves': 2534, 'iphone': 2535, 'launched': 2536, 'lineup': 2537, 'members': 2538, 'minute': 2539, 'mode': 2540, 'motion': 2541, 'mystery': 2542, 'neither': 2543, 'net': 2544, 'observations': 2545, 'observed': 2546, 'occasional': 2547, 'ordering': 2548, 'overpriced': 2549, 'pair': 2550, 'pdf': 2551, 'per': 2552, 'periodically': 2553, 'picture': 2554, 'platforms': 2555, 'plays': 2556, 'portable': 2557, 'premier': 2558, 'prepared': 2559, 'preparer': 2560, 'presentations': 2561, 'pricey': 2562, 'programmer': 2563, 'promotional': 2564, 'promptly': 2565, 'purposes': 2566, 'reboot': 2567, 'regards': 2568, 'registration': 2569, 'relied': 2570, 'reputation': 2571, 'response': 2572, 'returned': 2573, 'ripoff': 2574, 'saves': 2575, 'served': 2576, 'shut': 2577, 'slot': 2578, 'sounds': 2579, 'spam': 2580, 'stands': 2581, 'superb': 2582, 'supporting': 2583, 'syncing': 2584, 'tape': 2585, 'teach': 2586, 'techie': 2587, 'tedious': 2588, 'thoroughly': 2589, 'thru': 2590, 'thus': 2591, 'till': 2592, 'trips': 2593, 'unnecessary': 2594, 'unusable': 2595, 'valuable': 2596, 'virtual': 2597, 'volume': 2598, 'warning': 2599, 'wifes': 2600, 'wished': 2601, '0': 2602, '1999': 2603, '21': 2604, 'About': 2605, 'Again': 2606, 'Avid': 2607, 'Bad': 2608, 'Basically': 2609, 'Compared': 2610, 'Cons': 2611, 'Customer': 2612, 'Doctor': 2613, 'EVER': 2614, 'Extremely': 2615, 'Far': 2616, 'Five': 2617, 'Installing': 2618, 'LLC': 2619, 'Mavis': 2620, 'NOTE': 2621, 'Nice': 2622, 'ONLY': 2623, 'OneNote': 2624, 'OpenOffice': 2625, 'Ordered': 2626, 'PDFs': 2627, 'PaperPort': 2628, 'Peter': 2629, 'PhotoPlus': 2630, 'PrintMaster': 2631, 'Quite': 2632, 'Read': 2633, 'Recommended': 2634, 'SO': 2635, 'SP2': 2636, 'Second': 2637, 'Setup': 2638, 'Site': 2639, 'Smart': 2640, 'TTax': 2641, 'Takes': 2642, 'Theft': 2643, 'Thus': 2644, 'Tools': 2645, 'Unless': 2646, 'Whether': 2647, 'Worth': 2648, 'X9': 2649, 'Your': 2650, 'accessing': 2651, 'according': 2652, 'ad': 2653, 'address': 2654, 'advertising': 2655, 'advised': 2656, 'ancestrycom': 2657, 'android': 2658, 'annually': 2659, 'answered': 2660, 'arrive': 2661, 'aspect': 2662, 'aspects': 2663, 'assume': 2664, 'beats': 2665, 'blown': 2666, 'brief': 2667, 'broken': 2668, 'browsing': 2669, 'budgeting': 2670, 'clicked': 2671, 'comparing': 2672, 'components': 2673, 'constant': 2674, 'contacted': 2675, 'copying': 2676, 'dark': 2677, 'deleted': 2678, 'delivered': 2679, 'demo': 2680, 'developers': 2681, 'development': 2682, 'differences': 2683, 'disable': 2684, 'dislike': 2685, 'display': 2686, 'dividing': 2687, 'drawback': 2688, 'driving': 2689, 'dropped': 2690, 'electronic': 2691, 'ends': 2692, 'entirely': 2693, 'exceeds': 2694, 'exclusively': 2695, 'expanded': 2696, 'extend': 2697, 'face': 2698, 'factions': 2699, 'fed': 2700, 'fee': 2701, 'finance': 2702, 'fits': 2703, 'focus': 2704, 'functioning': 2705, 'gigs': 2706, 'gold': 2707, 'grew': 2708, 'habit': 2709, 'helping': 2710, 'hobby': 2711, 'hopefully': 2712, 'identical': 2713, 'imaging': 2714, 'importing': 2715, 'improving': 2716, 'instance': 2717, 'lately': 2718, 'leap': 2719, 'led': 2720, 'licensing': 2721, 'macbook': 2722, 'maker': 2723, 'man': 2724, 'master': 2725, 'meaning': 2726, 'messed': 2727, 'messing': 2728, 'met': 2729, 'microsoft': 2730, 'mistakes': 2731, 'modules': 2732, 'mother': 2733, 'nasty': 2734, 'near': 2735, 'offerings': 2736, 'opposed': 2737, 'opted': 2738, 'outlook': 2739, 'output': 2740, 'paces': 2741, 'packaging': 2742, 'path': 2743, 'perspective': 2744, 'phishing': 2745, 'photographs': 2746, 'pleasant': 2747, 'practice': 2748, 'privacy': 2749, 'problematic': 2750, 'promises': 2751, 'prompts': 2752, 'proven': 2753, 'publishing': 2754, 'pulled': 2755, 'pulling': 2756, 'puzzles': 2757, 'quietly': 2758, 'receiver': 2759, 'registry': 2760, 'releases': 2761, 'rely': 2762, 'remaining': 2763, 'removing': 2764, 'rendering': 2765, 'requirement': 2766, 'requiring': 2767, 'reviewer': 2768, 'rid': 2769, 'savvy': 2770, 'scanner': 2771, 'searched': 2772, 'secondary': 2773, 'sections': 2774, 'select': 2775, 'selected': 2776, 'shareware': 2777, 'shot': 2778, 'simpler': 2779, 'situations': 2780, 'smaller': 2781, 'smart': 2782, 'smartphone': 2783, 'smoother': 2784, 'story': 2785, 'streaming': 2786, 'strong': 2787, 'suffer': 2788, 'task': 2789, 'taught': 2790, 'telling': 2791, 'thank': 2792, 'theory': 2793, 'toward': 2794, 'towards': 2795, 'transferring': 2796, 'tries': 2797, 'truth': 2798, 'unfortunately': 2799, 'uninstalling': 2800, 'unlimited': 2801, 'vast': 2802, 'virtually': 2803, 'walk': 2804, 'whom': 2805, 'writer': 2806, 'yrs': 2807, '105': 2808, '1992': 2809, '1998': 2810, '1st': 2811, '22': 2812, '3000': 2813, 'Advisor': 2814, 'Almost': 2815, 'Amazons': 2816, 'Apparently': 2817, 'Boot': 2818, 'Computer': 2819, 'DOES': 2820, 'Downloaded': 2821, 'Expressions': 2822, 'Fix': 2823, 'Fortunately': 2824, 'Getting': 2825, 'IMO': 2826, 'Installs': 2827, 'Interface': 2828, 'JASC': 2829, 'LIKE': 2830, 'Learning': 2831, 'LiveSafe': 2832, 'MacAfee': 2833, 'Main': 2834, 'Mapquest': 2835, 'Mobile': 2836, 'NO': 2837, 'NOW': 2838, 'NXT': 2839, 'Netgear': 2840, 'PPC': 2841, 'PRODUCT': 2842, 'Powerpoint': 2843, 'Pretty': 2844, 'Products': 2845, 'Q': 2846, 'RENTING': 2847, 'ROM': 2848, 'SSD': 2849, 'Safe': 2850, 'Samsung': 2851, 'SketchBook': 2852, 'Toolpak': 2853, 'Toshiba': 2854, 'TuboTax': 2855, 'Typical': 2856, 'Usually': 2857, 'VERSION': 2858, 'Visual': 2859, 'Voice': 2860, 'WINDOWS': 2861, 'Wacom': 2862, 'Were': 2863, 'Year': 2864, 'accustomed': 2865, 'advice': 2866, 'attack': 2867, 'attempting': 2868, 'bargain': 2869, 'battery': 2870, 'blow': 2871, 'bookkeeping': 2872, 'booted': 2873, 'boxes': 2874, 'break': 2875, 'calling': 2876, 'certified': 2877, 'client': 2878, 'clone': 2879, 'community': 2880, 'companion': 2881, 'concept': 2882, 'connects': 2883, 'cons': 2884, 'correction': 2885, 'courses': 2886, 'cutting': 2887, 'dead': 2888, 'deduct': 2889, 'deliver': 2890, 'dependable': 2891, 'depreciation': 2892, 'describe': 2893, 'detection': 2894, 'dictate': 2895, 'distance': 2896, 'distribution': 2897, 'downloadable': 2898, 'drawings': 2899, 'eager': 2900, 'editors': 2901, 'edits': 2902, 'electronically': 2903, 'enabled': 2904, 'exceptional': 2905, 'expense': 2906, 'experiment': 2907, 'faults': 2908, 'feeling': 2909, 'feelings': 2910, 'fees': 2911, 'feet': 2912, 'firms': 2913, 'forth': 2914, 'frequent': 2915, 'goodness': 2916, 'hackers': 2917, 'handles': 2918, 'hotel': 2919, 'hype': 2920, 'iDVD': 2921, 'identity': 2922, 'impression': 2923, 'intel': 2924, 'intensive': 2925, 'introduction': 2926, 'iterations': 2927, 'joke': 2928, 'joy': 2929, 'lag': 2930, 'lasting': 2931, 'lengthy': 2932, 'letters': 2933, 'lightweight': 2934, 'linux': 2935, 'literally': 2936, 'micro': 2937, 'models': 2938, 'n': 2939, 'navigation': 2940, 'necessarily': 2941, 'nicer': 2942, 'occasion': 2943, 'ons': 2944, 'operations': 2945, 'organizer': 2946, 'organizing': 2947, 'oriented': 2948, 'overly': 2949, 'packaged': 2950, 'papers': 2951, 'paste': 2952, 'patch': 2953, 'pen': 2954, 'presented': 2955, 'prime': 2956, 'printed': 2957, 'producing': 2958, 'progress': 2959, 'prone': 2960, 'properties': 2961, 'publisher': 2962, 'reality': 2963, 'realized': 2964, 'remind': 2965, 'remote': 2966, 'renders': 2967, 'renewed': 2968, 'renewing': 2969, 'resolved': 2970, 'revamped': 2971, 'saving': 2972, 'schedules': 2973, 'scheme': 2974, 'scratch': 2975, 'searching': 2976, 'seemingly': 2977, 'semi': 2978, 'serve': 2979, 'sets': 2980, 'ship': 2981, 'sized': 2982, 'slick': 2983, 'snap': 2984, 'somewhere': 2985, 'spoken': 2986, 'statistical': 2987, 'stored': 2988, 'stories': 2989, 'streamlined': 2990, 'street': 2991, 'struggled': 2992, 'subject': 2993, 'surprisingly': 2994, 'tab': 2995, 'table': 2996, 'tables': 2997, 'thousands': 2998, 'thrilled': 2999, 'throughout': 3000, 'tons': 3001, 'traditional': 3002, 'train': 3003, 'tutorial': 3004, 'typically': 3005, 'understanding': 3006, 'unzip': 3007, 'upload': 3008, 'usable': 3009, 'versatile': 3010, 'visit': 3011, 'visual': 3012, 'vs': 3013, 'walks': 3014, 'water': 3015, 'worthwhile': 3016, 'yesterday': 3017, '06': 3018, '09': 3019, '150': 3020, '19': 3021, '2017': 3022, '256': 3023, '28': 3024, '31': 3025, '99': 3026, 'ANY': 3027, 'ARE': 3028, 'Acer': 3029, 'Advanced': 3030, 'AfterShot': 3031, 'Air': 3032, 'AntiSpyware': 3033, 'Anyone': 3034, 'Applications': 3035, 'Aside': 3036, 'Awesome': 3037, 'BEFORE': 3038, 'Beacon': 3039, 'Books': 3040, 'Buy': 3041, 'CC': 3042, 'CS5': 3043, 'Check': 3044, 'Code': 3045, 'Company': 3046, 'Debut': 3047, 'Disc': 3048, 'Dreamweaver': 3049, 'Entourage': 3050, 'F': 3051, 'Fast': 3052, 'Features': 3053, 'File': 3054, 'FrankenGates': 3055, 'GET': 3056, 'Garmin': 3057, 'Gets': 3058, 'Haunted': 3059, 'Includes': 3060, 'Interactive': 3061, 'Jaguar': 3062, 'Kasperskys': 3063, 'Keep': 3064, 'Library': 3065, 'Luckily': 3066, 'Mansion': 3067, 'McAffee': 3068, 'Metro': 3069, 'N': 3070, 'NEVER': 3071, 'Nobody': 3072, 'Omnipage': 3073, 'Online': 3074, 'Overview': 3075, 'PURE': 3076, 'Play': 3077, 'Previous': 3078, 'Q2002': 3079, 'Q2005': 3080, 'QUICK': 3081, 'Review': 3082, 'Russian': 3083, 'Saves': 3084, 'Secrets': 3085, 'September': 3086, 'Stars': 3087, 'Stay': 3088, 'Surface': 3089, 'Thankfully': 3090, 'Things': 3091, 'Those': 3092, 'Time': 3093, 'Took': 3094, 'Updated': 3095, 'Upon': 3096, 'W': 3097, 'Warning': 3098, 'Web': 3099, 'X1': 3100, 'abandoned': 3101, 'acquired': 3102, 'affect': 3103, 'aimed': 3104, 'animations': 3105, 'apart': 3106, 'artwork': 3107, 'attached': 3108, 'banks': 3109, 'becomes': 3110, 'bundled': 3111, 'buttons': 3112, 'calculate': 3113, 'cameras': 3114, 'capital': 3115, 'cases': 3116, 'character': 3117, 'characters': 3118, 'chat': 3119, 'clever': 3120, 'co': 3121, 'codes': 3122, 'colleagues': 3123, 'combined': 3124, 'compelling': 3125, 'complaining': 3126, 'component': 3127, 'confess': 3128, 'configured': 3129, 'considered': 3130, 'consistent': 3131, 'continued': 3132, 'corel': 3133, 'count': 3134, 'country': 3135, 'coverage': 3136, 'crazy': 3137, 'creates': 3138, 'critical': 3139, 'crop': 3140, 'cycle': 3141, 'damn': 3142, 'decide': 3143, 'deduction': 3144, 'deluxe': 3145, 'designing': 3146, 'desired': 3147, 'detect': 3148, 'detected': 3149, 'detecting': 3150, 'difficulties': 3151, 'disappoint': 3152, 'discover': 3153, 'downgrade': 3154, 'dumb': 3155, 'edited': 3156, 'efile': 3157, 'elements': 3158, 'eliminated': 3159, 'employer': 3160, 'enhance': 3161, 'enjoying': 3162, 'entertainment': 3163, 'equipment': 3164, 'event': 3165, 'eventually': 3166, 'existed': 3167, 'explain': 3168, 'explore': 3169, 'exposed': 3170, 'exposure': 3171, 'fabric': 3172, 'fault': 3173, 'filters': 3174, 'flaws': 3175, 'forcing': 3176, 'fourth': 3177, 'freezing': 3178, 'funny': 3179, 'gear': 3180, 'generated': 3181, 'google': 3182, 'greed': 3183, 'headset': 3184, 'health': 3185, 'heart': 3186, 'heat': 3187, 'hesitant': 3188, 'hp': 3189, 'hundred': 3190, 'ie': 3191, 'immersion': 3192, 'impact': 3193, 'incarnation': 3194, 'increased': 3195, 'informed': 3196, 'ins': 3197, 'institutions': 3198, 'intimidating': 3199, 'intuit': 3200, 'invasive': 3201, 'inventory': 3202, 'irritating': 3203, 'jumped': 3204, 'justify': 3205, 'keyboard': 3206, 'ladder': 3207, 'largely': 3208, 'lawyer': 3209, 'leaves': 3210, 'lies': 3211, 'lines': 3212, 'lists': 3213, 'loads': 3214, 'lock': 3215, 'lucky': 3216, 'majority': 3217, 'manager': 3218, 'manipulation': 3219, 'manufacturer': 3220, 'manufacturers': 3221, 'mark': 3222, 'material': 3223, 'materials': 3224, 'mentioned': 3225, 'moment': 3226, 'moms': 3227, 'neat': 3228, 'notices': 3229, 'novices': 3230, 'opening': 3231, 'optical': 3232, 'outside': 3233, 'overhead': 3234, 'overkill': 3235, 'overwhelming': 3236, 'owners': 3237, 'paragraph': 3238, 'parents': 3239, 'passwords': 3240, 'pcs': 3241, 'pencil': 3242, 'percent': 3243, 'phase': 3244, 'picking': 3245, 'please': 3246, 'policy': 3247, 'posting': 3248, 'preface': 3249, 'printers': 3250, 'professionally': 3251, 'professionals': 3252, 'promise': 3253, 'prompt': 3254, 'proper': 3255, 'proud': 3256, 'quickbooks': 3257, 'raid': 3258, 'rave': 3259, 'raw': 3260, 'recall': 3261, 'releasing': 3262, 'remain': 3263, 'removes': 3264, 'respects': 3265, 'restart': 3266, 'restarts': 3267, 'rip': 3268, 'route': 3269, 'safely': 3270, 'savings': 3271, 'scanned': 3272, 'scanners': 3273, 'seamless': 3274, 'secret': 3275, 'sensitive': 3276, 'settled': 3277, 'shell': 3278, 'shoot': 3279, 'sign': 3280, 'simplicity': 3281, 'sluggish': 3282, 'smartphones': 3283, 'solely': 3284, 'solved': 3285, 'sometime': 3286, 'specifically': 3287, 'split': 3288, 'spread': 3289, 'standalone': 3290, 'starter': 3291, 'stays': 3292, 'stealth': 3293, 'steep': 3294, 'stolen': 3295, 'stores': 3296, 'strongly': 3297, 'studio': 3298, 'stunning': 3299, 'subtle': 3300, 'suddenly': 3301, 'sufficient': 3302, 'supplied': 3303, 'supply': 3304, 'supporter': 3305, 'talking': 3306, 'target': 3307, 'te': 3308, 'terribly': 3309, 'thinks': 3310, 'tie': 3311, 'tops': 3312, 'town': 3313, 'traffic': 3314, 'tune': 3315, 'un': 3316, 'unsatisfactory': 3317, 'uploaded': 3318, 'usefulness': 3319, 'vacation': 3320, 'valid': 3321, 'validated': 3322, 'vendors': 3323, 'versatility': 3324, 'weird': 3325, 'welcome': 3326, 'willing': 3327, 'wondered': 3328, 'worms': 3329, 'x6': 3330, '04': 3331, '1099': 3332, '120': 3333, '2001': 3334, '300': 3335, '512': 3336, '56': 3337, '6th': 3338, 'Absolutely': 3339, 'American': 3340, 'Anyway': 3341, 'Are': 3342, 'Average': 3343, 'Avoid': 3344, 'Based': 3345, 'Blue': 3346, 'Bottom': 3347, 'COMPANY': 3348, 'Celeron': 3349, 'Cleaner': 3350, 'Create': 3351, 'Currently': 3352, 'DONT': 3353, 'Defender': 3354, 'Design': 3355, 'Dual': 3356, 'Ease': 3357, 'Echo': 3358, 'Edit': 3359, 'Efile': 3360, 'Enterprise': 3361, 'Everyone': 3362, 'Exchange': 3363, 'FINALLY': 3364, 'FINE': 3365, 'FT': 3366, 'FYI': 3367, 'Firefox': 3368, 'Firstly': 3369, 'Form': 3370, 'Fun': 3371, 'GHz': 3372, 'GORGEOUS': 3373, 'GOT': 3374, 'Gone': 3375, 'Guide': 3376, 'HDD': 3377, 'HDR': 3378, 'IN': 3379, 'INSTALL': 3380, 'Increased': 3381, 'Kill': 3382, 'Less': 3383, 'Line': 3384, 'Link': 3385, 'Long': 3386, 'Loved': 3387, 'M': 3388, 'MORE': 3389, 'MacPro': 3390, 'Mad': 3391, 'Made': 3392, 'Magic': 3393, 'May': 3394, 'Mostly': 3395, 'Mountain': 3396, 'NEED': 3397, 'NORTON': 3398, 'NT': 3399, 'Navigon': 3400, 'Nolo': 3401, 'Non': 3402, 'OUT': 3403, 'Older': 3404, 'Optiplex': 3405, 'Oregon': 3406, 'Otherwise': 3407, 'Out': 3408, 'PROGRAM': 3409, 'Panther': 3410, 'Pentium': 3411, 'Personal': 3412, 'Phone': 3413, 'Privacy': 3414, 'Serif': 3415, 'Sesame': 3416, 'Smith': 3417, 'Solid': 3418, 'Staples': 3419, 'Stick': 3420, 'Stones': 3421, 'Strongly': 3422, 'Support': 3423, 'Surfing': 3424, 'Systems': 3425, 'TAX': 3426, 'TM': 3427, 'TURBOTAX': 3428, 'Tablet': 3429, 'Terrific': 3430, 'Tester': 3431, 'Therefore': 3432, 'Thinkpad': 3433, 'UPGRADE': 3434, 'Updates': 3435, 'W8': 3436, 'WANTED': 3437, 'Went': 3438, 'Wii': 3439, 'Win8': 3440, 'WinCleaner': 3441, 'Window': 3442, 'Working': 3443, 'Xp': 3444, 'Yahoo': 3445, 'abilities': 3446, 'acceptable': 3447, 'accepted': 3448, 'accomplished': 3449, 'additions': 3450, 'adjust': 3451, 'adjustments': 3452, 'administration': 3453, 'alerts': 3454, 'antispyware': 3455, 'anymore': 3456, 'anywhere': 3457, 'apply': 3458, 'assemble': 3459, 'astonishing': 3460, 'audit': 3461, 'audited': 3462, 'author': 3463, 'automated': 3464, 'baby': 3465, 'backgrounds': 3466, 'backing': 3467, 'bang': 3468, 'bay': 3469, 'belief': 3470, 'believed': 3471, 'biased': 3472, 'bios': 3473, 'blank': 3474, 'blew': 3475, 'blocks': 3476, 'blows': 3477, 'body': 3478, 'bogus': 3479, 'bothered': 3480, 'brain': 3481, 'broadband': 3482, 'broke': 3483, 'broker': 3484, 'brushes': 3485, 'busy': 3486, 'calculated': 3487, 'calculations': 3488, 'calendar': 3489, 'capacity': 3490, 'captures': 3491, 'cared': 3492, 'career': 3493, 'catches': 3494, 'cds': 3495, 'challenging': 3496, 'chances': 3497, 'changeover': 3498, 'charges': 3499, 'checkbook': 3500, 'chip': 3501, 'command': 3502, 'compressing': 3503, 'concern': 3504, 'confident': 3505, 'configure': 3506, 'confused': 3507, 'connectivity': 3508, 'continuing': 3509, 'corporation': 3510, 'curious': 3511, 'customize': 3512, 'dated': 3513, 'de': 3514, 'decision': 3515, 'definately': 3516, 'delivers': 3517, 'depending': 3518, 'determine': 3519, 'dialup': 3520, 'disappointing': 3521, 'disliked': 3522, 'docs': 3523, 'dollar': 3524, 'duplicate': 3525, 'earliest': 3526, 'effectively': 3527, 'enables': 3528, 'enhancements': 3529, 'equipped': 3530, 'eve': 3531, 'evil': 3532, 'exchange': 3533, 'exists': 3534, 'extensively': 3535, 'extras': 3536, 'factor': 3537, 'failure': 3538, 'false': 3539, 'firm': 3540, 'freeze': 3541, 'functionalities': 3542, 'gadget': 3543, 'gb': 3544, 'glorified': 3545, 'goals': 3546, 'government': 3547, 'grandson': 3548, 'guides': 3549, 'heavily': 3550, 'highest': 3551, 'him': 3552, 'hobbyist': 3553, 'host': 3554, 'iOS': 3555, 'immediate': 3556, 'importantly': 3557, 'impressions': 3558, 'improves': 3559, 'incoming': 3560, 'inconveniences': 3561, 'inputs': 3562, 'installations': 3563, 'installer': 3564, 'instantly': 3565, 'integrate': 3566, 'integrates': 3567, 'intrigued': 3568, 'ion': 3569, 'jalkja': 3570, 'kajlak': 3571, 'kidding': 3572, 'lacks': 3573, 'lame': 3574, 'laser': 3575, 'layer': 3576, 'lead': 3577, 'leads': 3578, 'legacy': 3579, 'lesson': 3580, 'lightning': 3581, 'locked': 3582, 'losing': 3583, 'lousy': 3584, 'lowest': 3585, 'managing': 3586, 'matrix': 3587, 'maximize': 3588, 'maximum': 3589, 'meantime': 3590, 'metal': 3591, 'metro': 3592, 'migraine': 3593, 'monthly': 3594, 'morning': 3595, 'mothers': 3596, 'mounted': 3597, 'mounting': 3598, 'mp3': 3599, 'necessity': 3600, 'netbooks': 3601, 'night': 3602, 'noisy': 3603, 'noticeable': 3604, 'o': 3605, 'obtained': 3606, 'painter': 3607, 'panel': 3608, 'partnership': 3609, 'peoples': 3610, 'pin': 3611, 'plagued': 3612, 'pleasing': 3613, 'prevent': 3614, 'processes': 3615, 'productive': 3616, 'prompted': 3617, 'property': 3618, 'published': 3619, 'pull': 3620, 'purse': 3621, 'randomly': 3622, 'rates': 3623, 'rear': 3624, 'recovery': 3625, 'reduce': 3626, 'refuse': 3627, 'relative': 3628, 'reliably': 3629, 'remarkable': 3630, 'removal': 3631, 'repeat': 3632, 'repeated': 3633, 'resolutions': 3634, 'retarded': 3635, 'revised': 3636, 'rocks': 3637, 'rooms': 3638, 'routes': 3639, 'row': 3640, 'sake': 3641, 'satisfaction': 3642, 'satisfactory': 3643, 'scam': 3644, 'screwed': 3645, 'sells': 3646, 'sentence': 3647, 'servers': 3648, 'shape': 3649, 'shipment': 3650, 'shortly': 3651, 'shots': 3652, 'shutdown': 3653, 'sides': 3654, 'sons': 3655, 'sony': 3656, 'sooooo': 3657, 'spare': 3658, 'staying': 3659, 'stellar': 3660, 'sticking': 3661, 'sturdy': 3662, 'sub': 3663, 'substantial': 3664, 'summer': 3665, 'template': 3666, 'thankfully': 3667, 'throw': 3668, 'tiny': 3669, 'todays': 3670, 'transmit': 3671, 'travel': 3672, 'turning': 3673, 'unfamiliar': 3674, 'unusual': 3675, 'vastly': 3676, 'versus': 3677, 'wills': 3678, 'wiped': 3679, 'wondering': 3680, 'workstations': 3681, 'worried': 3682, 'worthless': 3683, 'x7': 3684, 'youtube': 3685, '01': 3686, '100FDX': 3687, '104': 3688, '1041': 3689, '160': 3690, '175': 3691, '1986': 3692, '1994': 3693, '19dbi': 3694, '2120': 3695, '23': 3696, '27': 3697, '3048': 3698, '320': 3699, '33GHz': 3700, '51': 3701, '520gu': 3702, '56k': 3703, '653AP': 3704, '75': 3705, '800': 3706, '8021AX': 3707, '85': 3708, '897': 3709, 'ADDITIONAL': 3710, 'AT': 3711, 'Ad': 3712, 'Allows': 3713, 'Am': 3714, 'Amateur': 3715, 'Antenna': 3716, 'Asant': 3717, 'Asante': 3718, 'Attached': 3719, 'BARS': 3720, 'BETTER': 3721, 'BUY': 3722, 'BY': 3723, 'Bamboo': 3724, 'Barricade': 3725, 'Bing': 3726, 'Broadcom': 3727, 'Built': 3728, 'Buyer': 3729, 'CAT5e': 3730, 'CCNA': 3731, 'CCNP': 3732, 'CCleaner': 3733, 'COMBO': 3734, 'Came': 3735, 'Center': 3736, 'Cheaper': 3737, 'Chinese': 3738, 'Classy': 3739, 'Clicking': 3740, 'Clock': 3741, 'Connected': 3742, 'Corinex': 3743, 'Crime': 3744, 'DDR3': 3745, 'DS': 3746, 'DSS': 3747, 'Danger': 3748, 'Dead': 3749, 'Delivered': 3750, 'Dells': 3751, 'DirecTV': 3752, 'Display': 3753, 'Dos': 3754, 'Dramatica': 3755, 'EDIT': 3756, 'ESXi': 3757, 'ET': 3758, 'EVERY': 3759, 'Earlier': 3760, 'Editing': 3761, 'EnGenius': 3762, 'Ethernet': 3763, 'Ever': 3764, 'Excels': 3765, 'Except': 3766, 'FILE': 3767, 'Facebook': 3768, 'Falls': 3769, 'Fax': 3770, 'Formatted': 3771, 'Friday': 3772, 'FrontPage': 3773, 'Geart': 3774, 'Gives': 3775, 'HAD': 3776, 'HAS': 3777, 'HD200': 3778, 'HRBlock': 3779, 'HTML': 3780, 'HUGE': 3781, 'HomeNet': 3782, 'Hope': 3783, 'Hub': 3784, 'IEEE': 3785, 'IOS': 3786, 'Identity': 3787, 'Inc': 3788, 'Injector': 3789, 'Inner': 3790, 'Inspection': 3791, 'Jake': 3792, 'Jasc': 3793, 'Keeps': 3794, 'LACP': 3795, 'LAN': 3796, 'Lantronix': 3797, 'Large': 3798, 'LinkSys': 3799, 'M2': 3800, 'MX846': 3801, 'Machine': 3802, 'Magix': 3803, 'Malware': 3804, 'March': 3805, 'Maximum': 3806, 'Mbpbs': 3807, 'Model': 3808, 'Must': 3809, 'NICE': 3810, 'NV': 3811, 'NVX': 3812, 'National': 3813, 'Needs': 3814, 'None': 3815, 'Normally': 3816, 'OCR': 3817, 'PCMCIA': 3818, 'PDAs': 3819, 'PHONE': 3820, 'PLX': 3821, 'PRICE': 3822, 'PRISMIQ': 3823, 'PROS': 3824, 'Packet': 3825, 'PagePlus': 3826, 'Parsons': 3827, 'Partition': 3828, 'People': 3829, 'Personally': 3830, 'Phonetray': 3831, 'Photomatix': 3832, 'Pixelmator': 3833, 'Plugged': 3834, 'Poe': 3835, 'Powerline': 3836, 'Priced': 3837, 'ProSafe': 3838, 'R1VI2UBHESJZRN': 3839, 'RID': 3840, 'RJ': 3841, 'ROI': 3842, 'Radio': 3843, 'Range': 3844, 'Recommend': 3845, 'Recovery': 3846, 'Requires': 3847, 'Reviewing': 3848, 'Robotics': 3849, 'Robust': 3850, 'Running': 3851, 'Runs': 3852, 'SIGNALS': 3853, 'SMC': 3854, 'STARS': 3855, 'STATE': 3856, 'STRAINER': 3857, 'SW': 3858, 'Save': 3859, 'Schedules': 3860, 'See': 3861, 'Server': 3862, 'Should': 3863, 'Sign': 3864, 'Smallest': 3865, 'Snapgear': 3866, 'Someone': 3867, 'Soon': 3868, 'Stability': 3869, 'Stateful': 3870, 'Switch': 3871, 'SystemWorks': 3872, 'Systemworks': 3873, 'TAKE': 3874, 'TDR': 3875, 'TEW': 3876, 'THOSE': 3877, 'TRx': 3878, 'TS409': 3879, 'TWO': 3880, 'Thief': 3881, 'Tomato': 3882, 'Trail': 3883, 'Transparent': 3884, 'Trendnets': 3885, 'Truth': 3886, 'UTP': 3887, 'Unit': 3888, 'Upgrading': 3889, 'VERMONTERS': 3890, 'VLANS': 3891, 'VMWare': 3892, 'Virtual': 3893, 'VirusScan': 3894, 'Viruses': 3895, 'Vostro': 3896, 'WAN': 3897, 'WAP54': 3898, 'WDS': 3899, 'WERE': 3900, 'WIDCOMM': 3901, 'WINDOWTHE': 3902, 'WORK': 3903, 'Who': 3904, 'Windoze': 3905, 'Wireless': 3906, 'XPS': 3907, 'Yaesu': 3908, 'Yet': 3909, 'Zooms': 3910, 'accompanied': 3911, 'accountants': 3912, 'act': 3913, 'addresses': 3914, 'advertisements': 3915, 'advertises': 3916, 'aggregation': 3917, 'alarms': 3918, 'allot': 3919, 'amp': 3920, 'amplifier': 3921, 'angles': 3922, 'animated': 3923, 'anime': 3924, 'anticipated': 3925, 'anybody': 3926, 'apparent': 3927, 'appropriate': 3928, 'approved': 3929, 'ashamed': 3930, 'assist': 3931, 'associated': 3932, 'assumes': 3933, 'aswell': 3934, 'attachments': 3935, 'augment': 3936, 'award': 3937, 'backbone': 3938, 'backed': 3939, 'backward': 3940, 'bailed': 3941, 'ball': 3942, 'battleship': 3943, 'beautifully': 3944, 'beauty': 3945, 'bedroom': 3946, 'beef': 3947, 'bets': 3948, 'blended': 3949, 'blocking': 3950, 'bluetooth': 3951, 'blurbs': 3952, 'bombarding': 3953, 'boring': 3954, 'bothering': 3955, 'bravia': 3956, 'bringing': 3957, 'brush': 3958, 'buck': 3959, 'buildings': 3960, 'builds': 3961, 'bundling': 3962, 'burner': 3963, 'calculating': 3964, 'calculator': 3965, 'caller': 3966, 'camp': 3967, 'capabilites': 3968, 'capacities': 3969, 'capturing': 3970, 'cardboard': 3971, 'cardspower': 3972, 'catching': 3973, 'charts': 3974, 'child': 3975, 'childrens': 3976, 'chore': 3977, 'cillin': 3978, 'city': 3979, 'cleaned': 3980, 'commands': 3981, 'commercials': 3982, 'communicated': 3983, 'compete': 3984, 'computernot': 3985, 'concerns': 3986, 'conductor': 3987, 'conference': 3988, 'confidence': 3989, 'conflicts': 3990, 'connectors': 3991, 'conponents': 3992, 'considerably': 3993, 'consists': 3994, 'consulting': 3995, 'containing': 3996, 'context': 3997, 'contracts': 3998, 'convenience': 3999, 'copper': 4000, 'cords': 4001, 'corp': 4002, 'corporate': 4003, 'costly': 4004, 'countless': 4005, 'cpu': 4006, 'damage': 4007, 'dangerous': 4008, 'databases': 4009, 'deep': 4010, 'delighted': 4011, 'designs': 4012, 'detections': 4013, 'detects': 4014, 'developed': 4015, 'devoted': 4016, 'diameter': 4017, 'diaries': 4018, 'dimensions': 4019, 'direction': 4020, 'disconnect': 4021, 'discovering': 4022, 'district': 4023, 'distros': 4024, 'disturbances': 4025, 'don': 4026, 'door': 4027, 'drastically': 4028, 'dsl': 4029, 'dumped': 4030, 'eFile': 4031, 'educational': 4032, 'effect': 4033, 'effectiveness': 4034, 'effortlessly': 4035, 'eliminating': 4036, 'emergency': 4037, 'endured': 4038, 'engaging': 4039, 'entries': 4040, 'epson': 4041, 'evaluated': 4042, 'evaluation': 4043, 'evolution': 4044, 'examples': 4045, 'execution': 4046, 'exist': 4047, 'expandable': 4048, 'explains': 4049, 'explanations': 4050, 'extreme': 4051, 'facto': 4052, 'factory': 4053, 'fastest': 4054, 'favorable': 4055, 'favorably': 4056, 'fewer': 4057, 'fifteen': 4058, 'filled': 4059, 'filter': 4060, 'finish': 4061, 'firewire': 4062, 'fixwalathis': 4063, 'floors': 4064, 'flow': 4065, 'fluent': 4066, 'fly': 4067, 'flying': 4068, 'folds': 4069, 'fond': 4070, 'fool': 4071, 'fooled': 4072, 'foremost': 4073, 'forgotten': 4074, 'formatting': 4075, 'freind': 4076, 'frickin': 4077, 'functioned': 4078, 'fussing': 4079, 'gamers': 4080, 'generous': 4081, 'geographic': 4082, 'gorgeous': 4083, 'grasped': 4084, 'greatly': 4085, 'group': 4086, 'growing': 4087, 'guarantee': 4088, 'guidance': 4089, 'haave': 4090, 'handled': 4091, 'hanging': 4092, 'hardrive': 4093, 'hca': 4094, 'hides': 4095, 'hits': 4096, 'hoc': 4097, 'hogging': 4098, 'hooks': 4099, 'hoops': 4100, 'horribly': 4101, 'hotspot': 4102, 'i3': 4103, 'i5core': 4104, 'ideas': 4105, 'idiot': 4106, 'illumination': 4107, 'illustration': 4108, 'immerse': 4109, 'imports': 4110, 'inclusion': 4111, 'incorrectly': 4112, 'increasing': 4113, 'increasingly': 4114, 'independent': 4115, 'indicator': 4116, 'insert': 4117, 'interactive': 4118, 'interfere': 4119, 'interviews': 4120, 'introductory': 4121, 'invest': 4122, 'irritated': 4123, 'journey': 4124, 'justig': 4125, 'kernels': 4126, 'kid': 4127, 'kin': 4128, 'kittys': 4129, 'knock': 4130, 'launch': 4131, 'learns': 4132, 'leppord': 4133, 'letting': 4134, 'limits': 4135, 'links': 4136, 'linksys': 4137, 'listening': 4138, 'literate': 4139, 'locations': 4140, 'login': 4141, 'logs': 4142, 'loss': 4143, 'magic': 4144, 'mailers': 4145, 'mainframes': 4146, 'maintaining': 4147, 'malfunction': 4148, 'malfunctions': 4149, 'max': 4150, 'mice': 4151, 'misses': 4152, 'modems': 4153, 'modest': 4154, 'modification': 4155, 'mom': 4156, 'moments': 4157, 'monitoring': 4158, 'nad': 4159, 'nagging': 4160, 'names': 4161, 'nausea': 4162, 'nephews': 4163, 'nervous': 4164, 'netflix': 4165, 'netgear': 4166, 'newbie': 4167, 'noise': 4168, 'noticeably': 4169, 'null': 4170, 'obsolete': 4171, 'obtain': 4172, 'oem': 4173, 'offices': 4174, 'operators': 4175, 'opperation': 4176, 'outlet': 4177, 'paired': 4178, 'pants': 4179, 'paperwork': 4180, 'par': 4181, 'parks': 4182, 'partition': 4183, 'party': 4184, 'payment': 4185, 'pays': 4186, 'pci': 4187, 'perceived': 4188, 'permalink': 4189, 'permanently': 4190, 'philosophy': 4191, 'phrases': 4192, 'pieces': 4193, 'playground': 4194, 'pleasure': 4195, 'pluged': 4196, 'pole': 4197, 'popups': 4198, 'press': 4199, 'presto': 4200, 'preview': 4201, 'produces': 4202, 'proved': 4203, 'providers': 4204, 'puts': 4205, 'quad': 4206, 'ranging': 4207, 'rare': 4208, 'ratio': 4209, 'reader': 4210, 'readings': 4211, 'receeived': 4212, 'reception': 4213, 'recharge': 4214, 'reconnect': 4215, 'red': 4216, 'reflects': 4217, 'reformat': 4218, 'reinstalled': 4219, 'relatives': 4220, 'reload': 4221, 'reluctant': 4222, 'remarkably': 4223, 'reminds': 4224, 'renamed': 4225, 'render': 4226, 'repeater': 4227, 'replaces': 4228, 'reported': 4229, 'reputations': 4230, 'residential': 4231, 'resolve': 4232, 'revolutionary': 4233, 'ripped': 4234, 'ripping': 4235, 'risk': 4236, 'roots': 4237, 'routine': 4238, 'ruined': 4239, 'rv': 4240, 'sadly': 4241, 'safer': 4242, 'safety': 4243, 'sag': 4244, 'saucer': 4245, 'season': 4246, 'sensing': 4247, 'seven': 4248, 'shaped': 4249, 'sharp': 4250, 'sheathed': 4251, 'shippng': 4252, 'shopping': 4253, 'shorted': 4254, 'signage': 4255, 'sizes': 4256, 'skill': 4257, 'slight': 4258, 'slots': 4259, 'snow': 4260, 'social': 4261, 'socket': 4262, 'soft': 4263, 'solidly': 4264, 'solving': 4265, 'song': 4266, 'splitter': 4267, 'stalled': 4268, 'standart': 4269, 'statement': 4270, 'stating': 4271, 'stone': 4272, 'stopping': 4273, 'straighten': 4274, 'stranded': 4275, 'strength': 4276, 'strictly': 4277, 'study': 4278, 'suck': 4279, 'suffered': 4280, 'surface': 4281, 'tag': 4282, 'tank': 4283, 'taxpayer': 4284, 'tca': 4285, 'temperature': 4286, 'tests': 4287, 'theater': 4288, 'theme': 4289, 'thinggreat': 4290, 'thoughts': 4291, 'throughput': 4292, 'thrown': 4293, 'tinkering': 4294, 'tips': 4295, 'titles': 4296, 'toolbar': 4297, 'torrents': 4298, 'tradeshow': 4299, 'trained': 4300, 'transaction': 4301, 'transferred': 4302, 'transitions': 4303, 'tricks': 4304, 'troublesome': 4305, 'trunk': 4306, 'tv': 4307, 'u': 4308, 'ubiquitous': 4309, 'unbelievably': 4310, 'unzipping': 4311, 'upcoming': 4312, 'ur': 4313, 'usability': 4314, 'usb': 4315, 'vault': 4316, 'ver': 4317, 'version1607': 4318, 'viable': 4319, 'vine': 4320, 'vital': 4321, 'vlan': 4322, 'wan': 4323, 'warn': 4324, 'warrier': 4325, 'watt': 4326, 'weapon': 4327, 'wearing': 4328, 'weight': 4329, 'whitelist': 4330, 'width': 4331, 'wipe': 4332, 'wired': 4333, 'wires': 4334, 'wiring': 4335, 'wizards': 4336, 'wl': 4337, 'worker': 4338, 'wove': 4339, 'wowhad': 4340, 'yards': 4341, 'zipping': 4342, '102': 4343, '1040': 4344, '1068': 4345, '1099s': 4346, '115': 4347, '1980s': 4348, '1993': 4349, '1996': 4350, '3d': 4351, '49': 4352, '97': 4353, 'AFTER': 4354, 'ASUS': 4355, 'Activation': 4356, 'Actually': 4357, 'Adaptec': 4358, 'Any': 4359, 'App': 4360, 'Assistant': 4361, 'Atom': 4362, 'Autocad': 4363, 'Avira': 4364, 'BIG': 4365, 'Big': 4366, 'Bootcamp': 4367, 'Box': 4368, 'Bundle': 4369, 'Buying': 4370, 'COMPUTER': 4371, 'COMPUTERS': 4372, 'CS3': 4373, 'Calendar': 4374, 'Camp': 4375, 'Capture': 4376, 'Certainly': 4377, 'Chances': 4378, 'Click': 4379, 'Clipart': 4380, 'Clone': 4381, 'Companion': 4382, 'Converter': 4383, 'Crunch': 4384, 'Cyberlinks': 4385, 'DD3': 4386, 'DD4': 4387, 'Dec': 4388, 'Definitely': 4389, 'Down': 4390, 'Downloading': 4391, 'Early': 4392, 'Easier': 4393, 'Easily': 4394, 'Enhanced': 4395, 'Ergonomics': 4396, 'Events': 4397, 'Farm': 4398, 'Feb': 4399, 'February': 4400, 'Finder': 4401, 'FireWire': 4402, 'Fonts': 4403, 'Forget': 4404, 'G5': 4405, 'GLO': 4406, 'Galaxy': 4407, 'Game': 4408, 'Gateway': 4409, 'Gig': 4410, 'Gimp': 4411, 'Give': 4412, 'Go': 4413, 'HELP': 4414, 'HOWEVER': 4415, 'HTPC': 4416, 'Help': 4417, 'Her': 4418, 'Hey': 4419, 'High': 4420, 'Hotspot': 4421, 'IE': 4422, 'II': 4423, 'IMPORTANT': 4424, 'Inexpensive': 4425, 'Initially': 4426, 'Instead': 4427, 'July': 4428, 'June': 4429, 'Kudos': 4430, 'Lab': 4431, 'Learn': 4432, 'Lenovo': 4433, 'Liked': 4434, 'Looking': 4435, 'Low': 4436, 'MAJOR': 4437, 'MacSpeech': 4438, 'Management': 4439, 'MicroSoft': 4440, 'Moon': 4441, 'Mystery': 4442, 'NOLO': 4443, 'Next': 4444, 'Nikon': 4445, 'Nov': 4446, 'November': 4447, 'Nuts': 4448, 'Oh': 4449, 'PCtools': 4450, 'PD': 4451, 'Packaging': 4452, 'Part': 4453, 'Partnership': 4454, 'Point': 4455, 'Pops': 4456, 'Powerbook': 4457, 'Preferred': 4458, 'Probably': 4459, 'R3': 4460, 'RC2': 4461, 'REVIEW': 4462, 'Rather': 4463, 'Recognition': 4464, 'Release': 4465, 'Reliability': 4466, 'STILL': 4467, 'Sadly': 4468, 'Same': 4469, 'Scan': 4470, 'Scarlet': 4471, 'Seamless': 4472, 'Secure': 4473, 'SendStuffNow': 4474, 'Sept': 4475, 'Series': 4476, 'Shipped': 4477, 'Simply': 4478, 'Snagit': 4479, 'Sounds': 4480, 'Spy': 4481, 'Starter': 4482, 'Starting': 4483, 'Startup': 4484, 'Stopmotion': 4485, 'Sweeper': 4486, 'THAN': 4487, 'THERE': 4488, 'THREE': 4489, 'TomTom': 4490, 'Totally': 4491, 'Training': 4492, 'Trojan': 4493, 'Tutbotax': 4494, 'Twenty': 4495, 'Typing': 4496, 'USING': 4497, 'Uninstalled': 4498, 'Usability': 4499, 'Users': 4500, 'Vermont': 4501, 'WAY': 4502, 'WE': 4503, 'WHS': 4504, 'WIN': 4505, 'WORD': 4506, 'WORSE': 4507, 'WORST': 4508, 'WRData': 4509, 'Win98SE': 4510, 'Winzip': 4511, 'Within': 4512, 'Without': 4513, 'Wo': 4514, 'Words': 4515, 'YEAR': 4516, 'YEARS': 4517, 'YOUR': 4518, 'Youtube': 4519, 'Zip': 4520, 'ZoneAlarm': 4521, 'accomplish': 4522, 'actively': 4523, 'activities': 4524, 'activity': 4525, 'addressed': 4526, 'adjusting': 4527, 'adobe': 4528, 'advance': 4529, 'advent': 4530, 'ai': 4531, 'aka': 4532, 'alternate': 4533, 'amended': 4534, 'annoyed': 4535, 'appearance': 4536, 'appreciated': 4537, 'architecture': 4538, 'archiving': 4539, 'are3': 4540, 'arise': 4541, 'aside': 4542, 'associations': 4543, 'attach': 4544, 'attacks': 4545, 'attitude': 4546, 'attractive': 4547, 'av': 4548, 'avoided': 4549, 'backwards': 4550, 'baloon': 4551, 'bare': 4552, 'begun': 4553, 'behave': 4554, 'behavior': 4555, 'besides': 4556, 'beware': 4557, 'bills': 4558, 'bitdefender': 4559, 'bizarre': 4560, 'blu': 4561, 'bogging': 4562, 'booklet': 4563, 'bootable': 4564, 'boots': 4565, 'boxed': 4566, 'brainer': 4567, 'brick': 4568, 'bright': 4569, 'builder': 4570, 'burden': 4571, 'burns': 4572, 'buyers': 4573, 'calendars': 4574, 'camcorder': 4575, 'candidate': 4576, 'carefully': 4577, 'cartoon': 4578, 'category': 4579, 'challenged': 4580, 'channel': 4581, 'charged': 4582, 'chase': 4583, 'claiming': 4584, 'clarify': 4585, 'cleaning': 4586, 'cleans': 4587, 'cleanup': 4588, 'clicking': 4589, 'clicks': 4590, 'cloning': 4591, 'closer': 4592, 'coast': 4593, 'cold': 4594, 'colors': 4595, 'comb': 4596, 'combines': 4597, 'compares': 4598, 'completing': 4599, 'complications': 4600, 'compress': 4601, 'compressed': 4602, 'concepts': 4603, 'confirm': 4604, 'connections': 4605, 'consultant': 4606, 'consume': 4607, 'consumers': 4608, 'conversation': 4609, 'converter': 4610, 'convinced': 4611, 'corrupt': 4612, 'corrupted': 4613, 'crew': 4614, 'cross': 4615, 'daunting': 4616, 'deals': 4617, 'deception': 4618, 'defender': 4619, 'definition': 4620, 'demands': 4621, 'dent': 4622, 'despicable': 4623, 'destroy': 4624, 'determined': 4625, 'dialog': 4626, 'dictating': 4627, 'directed': 4628, 'disappear': 4629, 'discontinued': 4630, 'discounted': 4631, 'docx': 4632, 'dopes': 4633, 'dramatically': 4634, 'driven': 4635, 'duo': 4636, 'earned': 4637, 'ebook': 4638, 'editable': 4639, 'efficiently': 4640, 'efforts': 4641, 'eliminate': 4642, 'elsewhere': 4643, 'employee': 4644, 'encounter': 4645, 'ending': 4646, 'engineer': 4647, 'engineers': 4648, 'enhanced': 4649, 'enlightening': 4650, 'enthusiastic': 4651, 'equivalent': 4652, 'erasing': 4653, 'essentials': 4654, 'evaluating': 4655, 'everywhere': 4656, 'evident': 4657, 'evolved': 4658, 'exceeded': 4659, 'exercise': 4660, 'experiencing': 4661, 'experimental': 4662, 'explorer': 4663, 'export': 4664, 'express': 4665, 'factors': 4666, 'faithful': 4667, 'fake': 4668, 'familiarity': 4669, 'fans': 4670, 'father': 4671, 'fell': 4672, 'fifth': 4673, 'fighting': 4674, 'figures': 4675, 'filling': 4676, 'fills': 4677, 'finishing': 4678, 'fire': 4679, 'fixing': 4680, 'floppy': 4681, 'folder': 4682, 'folders': 4683, 'follows': 4684, 'foolish': 4685, 'foot': 4686, 'footage': 4687, 'forces': 4688, 'freebies': 4689, 'frills': 4690, 'froze': 4691, 'fuss': 4692, 'gamer': 4693, 'gathering': 4694, 'geeks': 4695, 'generations': 4696, 'glitches': 4697, 'godsend': 4698, 'goods': 4699, 'grab': 4700, 'greedy': 4701, 'greeting': 4702, 'grief': 4703, 'guided': 4704, 'handling': 4705, 'harmful': 4706, 'headphones': 4707, 'heck': 4708, 'hired': 4709, 'holds': 4710, 'holes': 4711, 'hugely': 4712, 'human': 4713, 'iBank': 4714, 'iPod': 4715, 'iTunes': 4716, 'identification': 4717, 'ilife': 4718, 'incorrect': 4719, 'indicate': 4720, 'indicated': 4721, 'indicates': 4722, 'inexperienced': 4723, 'innovation': 4724, 'interfaces': 4725, 'interior': 4726, 'introduces': 4727, 'invaluable': 4728, 'invited': 4729, 'justified': 4730, 'kick': 4731, 'kindle': 4732, 'landscape': 4733, 'latter': 4734, 'lazy': 4735, 'leader': 4736, 'leaving': 4737, 'length': 4738, 'limitations': 4739, 'listen': 4740, 'lives': 4741, 'longest': 4742, 'longstanding': 4743, 'losses': 4744, 'mad': 4745, 'mainstream': 4746, 'manages': 4747, 'manuals': 4748, 'mcafee': 4749, 'mediocre': 4750, 'member': 4751, 'merely': 4752, 'microphone': 4753, 'migrated': 4754, 'million': 4755, 'misleading': 4756, 'modeling': 4757, 'moderately': 4758, 'mts': 4759, 'naturally': 4760, 'nature': 4761, 'negatives': 4762, 'networked': 4763, 'notified': 4764, 'noting': 4765, 'nowadays': 4766, 'official': 4767, 'packs': 4768, 'palettes': 4769, 'passed': 4770, 'pata': 4771, 'pattern': 4772, 'paycheck': 4773, 'payroll': 4774, 'pdfs': 4775, 'picks': 4776, 'pics': 4777, 'plot': 4778, 'plugin': 4779, 'plunge': 4780, 'portfolio': 4781, 'possibilities': 4782, 'potentially': 4783, 'practically': 4784, 'preinstalled': 4785, 'preloaded': 4786, 'preproduction': 4787, 'presents': 4788, 'priority': 4789, 'private': 4790, 'programdata': 4791, 'promote': 4792, 'prove': 4793, 'provider': 4794, 'publishers': 4795, 'pushing': 4796, 'questionable': 4797, 'quirky': 4798, 'quit': 4799, 'ranks': 4800, 'rarely': 4801, 'readily': 4802, 'reboots': 4803, 'receipts': 4804, 'recipes': 4805, 'recomended': 4806, 'recommendation': 4807, 'recorder': 4808, 'reference': 4809, 'referred': 4810, 'regard': 4811, 'regarding': 4812, 'regret': 4813, 'reinstalling': 4814, 'reliability': 4815, 'remembers': 4816, 'reminders': 4817, 'remotely': 4818, 'repair': 4819, 'repeatedly': 4820, 'reporting': 4821, 'responding': 4822, 'responsive': 4823, 'reveal': 4824, 'ridden': 4825, 'ridiculous': 4826, 'rival': 4827, 'rules': 4828, 'rushed': 4829, 'sad': 4830, 'sample': 4831, 'satisfy': 4832, 'savy': 4833, 'schemes': 4834, 'schools': 4835, 'seconds': 4836, 'sector': 4837, 'seldom': 4838, 'sheer': 4839, 'shortcuts': 4840, 'showed': 4841, 'silently': 4842, 'simplifies': 4843, 'simplistic': 4844, 'sister': 4845, 'sit': 4846, 'sketch': 4847, 'sketching': 4848, 'skip': 4849, 'sniping': 4850, 'sole': 4851, 'solves': 4852, 'somebody': 4853, 'somehow': 4854, 'songs': 4855, 'spanish': 4856, 'specially': 4857, 'spot': 4858, 'stack': 4859, 'stage': 4860, 'stalwart': 4861, 'standpoint': 4862, 'starters': 4863, 'status': 4864, 'stayed': 4865, 'steadily': 4866, 'stream': 4867, 'structure': 4868, 'submit': 4869, 'subsequently': 4870, 'substantially': 4871, 'successful': 4872, 'suggested': 4873, 'supposedly': 4874, 'suspected': 4875, 'swear': 4876, 'sweet': 4877, 'swore': 4878, 'tactics': 4879, 'taxcut': 4880, 'teaches': 4881, 'technique': 4882, 'techs': 4883, 'teeth': 4884, 'tells': 4885, 'tempted': 4886, 'tends': 4887, 'thankful': 4888, 'therefore': 4889, 'thirty': 4890, 'threat': 4891, 'timely': 4892, 'touted': 4893, 'toy': 4894, 'tracks': 4895, 'tradition': 4896, 'trailers': 4897, 'transcribing': 4898, 'trash': 4899, 'tremendous': 4900, 'trick': 4901, 'triple': 4902, 'typist': 4903, 'ultimate': 4904, 'ultimately': 4905, 'unacceptable': 4906, 'unaware': 4907, 'unbearable': 4908, 'understands': 4909, 'unspectacular': 4910, 'useing': 4911, 'utilize': 4912, 'videographer': 4913, 'walked': 4914, 'wall': 4915, 'ware': 4916, 'wary': 4917, 'watched': 4918, 'watermark': 4919, 'webroot': 4920, 'weekend': 4921, 'whirl': 4922, 'white': 4923, 'widely': 4924, 'windvd': 4925, 'winner': 4926, 'woman': 4927, 'won': 4928, 'wonderfully': 4929, 'workarounds': 4930, 'workers': 4931, 'workflow': 4932, 'wreck': 4933, 'x': 4934, 'x5': 4935, 'zapping': 4936, 'zoom': 4937, '07': 4938, '106': 4939, '107': 4940, '1099B': 4941, '10th': 4942, '110': 4943, '128': 4944, '130': 4945, '179': 4946, '1990': 4947, '1User': 4948, '1s': 4949, '2000s': 4950, '2100': 4951, '21st': 4952, '29': 4953, '3495': 4954, '4500': 4955, '4k': 4956, '4th': 4957, '5th': 4958, '7th': 4959, 'ALMOST': 4960, 'ALWAYS': 4961, 'ATI': 4962, 'According': 4963, 'Add': 4964, 'Adware': 4965, 'Alarms': 4966, 'Alas': 4967, 'Appears': 4968, 'Arabic': 4969, 'Arconis': 4970, 'Athlon': 4971, 'Audio': 4972, 'August': 4973, 'Aunt': 4974, 'Aware': 4975, 'BAD': 4976, 'BEWARE': 4977, 'Between': 4978, 'Bible': 4979, 'Bill': 4980, 'Black': 4981, 'Book': 4982, 'Broderbund': 4983, 'Broker': 4984, 'Build': 4985, 'Builder': 4986, 'CHECK': 4987, 'COMPLETE': 4988, 'COULD': 4989, 'CS': 4990, 'California': 4991, 'Call': 4992, 'Candidate': 4993, 'Canon': 4994, 'Capital': 4995, 'Care': 4996, 'Caution': 4997, 'Cillin': 4998, 'Classic': 4999, 'College': 5000, 'ColorDirector': 5001, 'Comcast': 5002, 'Coming': 5003, 'Computers': 5004, 'Considering': 5005, 'Constant': 5006, 'Control': 5007, 'Converting': 5008, 'Creating': 5009, 'Current': 5010, 'DID': 5011, 'DRAGON': 5012, 'DSLR': 5013, 'DV': 5014, 'Dark': 5015, 'Data': 5016, 'Decent': 5017, 'Designer': 5018, 'Devices': 5019, 'Difficult': 5020, 'Disk': 5021, 'Divine': 5022, 'Doing': 5023, 'Downloads': 5024, 'EACH': 5025, 'ERROR': 5026, 'EXTREMELY': 5027, 'Either': 5028, 'European': 5029, 'Everybody': 5030, 'Example': 5031, 'Expensive': 5032, 'FORCED': 5033, 'FROM': 5034, 'Feel': 5035, 'Fidelity': 5036, 'Files': 5037, 'Financial': 5038, 'Find': 5039, 'Fluenz': 5040, 'Following': 5041, 'Forms': 5042, 'Four': 5043, 'Frankly': 5044, 'Freestyle': 5045, 'GHZ': 5046, 'GO': 5047, 'Gates': 5048, 'Gave': 5049, 'Given': 5050, 'Granted': 5051, 'Guess': 5052, 'HRB': 5053, 'Hand': 5054, 'Handles': 5055, 'Hence': 5056, 'Honestech': 5057, 'Hopefully': 5058, 'Horrible': 5059, 'Hurley': 5060, 'I7': 5061, 'ID': 5062, 'IVE': 5063, 'Imagine': 5064, 'Imported': 5065, 'Income': 5066, 'Interview': 5067, 'Intuitive': 5068, 'Investments': 5069, 'Items': 5070, 'KAV': 5071, 'KP': 5072, 'Kind': 5073, 'Kiplingers': 5074, 'Know': 5075, 'Knowing': 5076, 'LITTLE': 5077, 'LYNNEH': 5078, 'Later': 5079, 'Latin': 5080, 'LeapFrog': 5081, 'LeapPad': 5082, 'Level': 5083, 'Levels': 5084, 'Libre': 5085, 'Lightning': 5086, 'Loads': 5087, 'MACHINE': 5088, 'MANY': 5089, 'MDD': 5090, 'MICROSOFT': 5091, 'MP4': 5092, 'MUST': 5093, 'Macafee': 5094, 'Magazine': 5095, 'Malwarebytes': 5096, 'Maps': 5097, 'Mavericks': 5098, 'Me': 5099, 'Menu': 5100, 'Microjunk': 5101, 'Million': 5102, 'MobileMe': 5103, 'Mode': 5104, 'Mr': 5105, 'NOTHING': 5106, 'NSW': 5107, 'Needed': 5108, 'Neither': 5109, 'Net': 5110, 'Netbooks': 5111, 'Nonetheless': 5112, 'Notebook': 5113, 'OFF': 5114, 'OPEN': 5115, 'OR': 5116, 'OmniPage': 5117, 'OneDrive': 5118, 'OpenOfficeorg': 5119, 'Others': 5120, 'P': 5121, 'PB': 5122, 'PLEX': 5123, 'POS': 5124, 'PPT': 5125, 'PS': 5126, 'Panda': 5127, 'Parental': 5128, 'Payroll': 5129, 'Photos': 5130, 'Picked': 5131, 'Pimsleur': 5132, 'Pinnacles': 5133, 'Plays': 5134, 'Pop': 5135, 'PowerBook': 5136, 'Powerful': 5137, 'Printshop': 5138, 'ProSAFE': 5139, 'Processor': 5140, 'QUICKEN': 5141, 'Qnap': 5142, 'Quad': 5143, 'Quattro': 5144, 'Quickens': 5145, 'RAW': 5146, 'RIPPED': 5147, 'RSS': 5148, 'Radeon': 5149, 'Ransomeware': 5150, 'Raw': 5151, 'Reader': 5152, 'Registry': 5153, 'Reports': 5154, 'Requirements': 5155, 'Retina': 5156, 'Returns': 5157, 'Reviewer': 5158, 'Revit': 5159, 'Run': 5160, 'SECURITY': 5161, 'SLOW': 5162, 'SUITE': 5163, 'SUPPORT': 5164, 'SURE': 5165, 'Satellite': 5166, 'Says': 5167, 'Scans': 5168, 'Scene': 5169, 'School': 5170, 'Science': 5171, 'SecureAnywhere': 5172, 'Seriously': 5173, 'Setting': 5174, 'Shell': 5175, 'Short': 5176, 'Slows': 5177, 'Spent': 5178, 'Spybot': 5179, 'Stopped': 5180, 'Store': 5181, 'Suites': 5182, 'Switched': 5183, 'THAT': 5184, 'THEY': 5185, 'Take': 5186, 'TaxAct': 5187, 'Technology': 5188, 'Ten': 5189, 'Texas': 5190, 'Think': 5191, 'Third': 5192, 'Thought': 5193, 'Top': 5194, 'Touchsmart': 5195, 'Trends': 5196, 'Trip': 5197, 'Tuned': 5198, 'TurboTaxs': 5199, 'U': 5200, 'ULEAD': 5201, 'ULTRA': 5202, 'UNIX': 5203, 'USED': 5204, 'USELESS': 5205, 'V': 5206, 'VHStoDVD': 5207, 'VMwares': 5208, 'Vines': 5209, 'Vistas': 5210, 'W10': 5211, 'W7': 5212, 'WAS': 5213, 'WHAT': 5214, 'WIFI': 5215, 'Watch': 5216, 'Which': 5217, 'Widows': 5218, 'Win7x64': 5219, 'WinDVD': 5220, 'World': 5221, 'Writer': 5222, 'XI': 5223, 'XML': 5224, 'Yosemite': 5225, 'ZIP': 5226, 'abundance': 5227, 'acquire': 5228, 'activating': 5229, 'active': 5230, 'acts': 5231, 'admittedly': 5232, 'adults': 5233, 'advertise': 5234, 'advertisement': 5235, 'advise': 5236, 'adviser': 5237, 'adware': 5238, 'aid': 5239, 'ajal': 5240, 'al': 5241, 'alarm': 5242, 'albeit': 5243, 'alotta': 5244, 'alway': 5245, 'amateurs': 5246, 'ambitious': 5247, 'ancestorycom': 5248, 'ancestry': 5249, 'angry': 5250, 'animator': 5251, 'answers': 5252, 'antiquated': 5253, 'anxiety': 5254, 'apple': 5255, 'applied': 5256, 'applies': 5257, 'appointments': 5258, 'approximately': 5259, 'architectural': 5260, 'argue': 5261, 'arose': 5262, 'arts': 5263, 'assets': 5264, 'assigned': 5265, 'assistance': 5266, 'assisted': 5267, 'assortment': 5268, 'assuming': 5269, 'assures': 5270, 'astounding': 5271, 'atmosphere': 5272, 'attacked': 5273, 'attest': 5274, 'audience': 5275, 'authorization': 5276, 'avast': 5277, 'awkward': 5278, 'balances': 5279, 'banners': 5280, 'beach': 5281, 'bear': 5282, 'behaved': 5283, 'benefit': 5284, 'beside': 5285, 'bible': 5286, 'billed': 5287, 'billions': 5288, 'bite': 5289, 'blanks': 5290, 'blessing': 5291, 'bloat': 5292, 'bloatware': 5293, 'blocked': 5294, 'bogged': 5295, 'bones': 5296, 'booting': 5297, 'born': 5298, 'bossy': 5299, 'breach': 5300, 'breaking': 5301, 'browse': 5302, 'burned': 5303, 'burners': 5304, 'buyer': 5305, 'canvas': 5306, 'captioned': 5307, 'captured': 5308, 'categories': 5309, 'caution': 5310, 'century': 5311, 'challenge': 5312, 'changer': 5313, 'checked': 5314, 'checker': 5315, 'choosing': 5316, 'chosen': 5317, 'classic': 5318, 'clip': 5319, 'closed': 5320, 'clue': 5321, 'clutter': 5322, 'collaboration': 5323, 'colorful': 5324, 'coloring': 5325, 'columns': 5326, 'combine': 5327, 'combining': 5328, 'commonly': 5329, 'companys': 5330, 'comparative': 5331, 'compatable': 5332, 'complexity': 5333, 'compose': 5334, 'conclusion': 5335, 'consecutive': 5336, 'console': 5337, 'consultancy': 5338, 'contain': 5339, 'contained': 5340, 'controlling': 5341, 'conversions': 5342, 'convince': 5343, 'cookies': 5344, 'copied': 5345, 'corrected': 5346, 'correcting': 5347, 'corrections': 5348, 'coupled': 5349, 'coupon': 5350, 'cousin': 5351, 'creators': 5352, 'crippling': 5353, 'criticism': 5354, 'cropping': 5355, 'crowded': 5356, 'cyber': 5357, 'darn': 5358, 'dates': 5359, 'deck': 5360, 'defines': 5361, 'definite': 5362, 'degree': 5363, 'delay': 5364, 'deleting': 5365, 'descriptions': 5366, 'deserve': 5367, 'designers': 5368, 'despised': 5369, 'destroyed': 5370, 'detective': 5371, 'developing': 5372, 'dictated': 5373, 'die': 5374, 'diferent': 5375, 'differ': 5376, 'differentiators': 5377, 'diminished': 5378, 'disclosure': 5379, 'disconnection': 5380, 'dissatisfied': 5381, 'dive': 5382, 'downside': 5383, 'dragon': 5384, 'drain': 5385, 'dramatic': 5386, 'drastic': 5387, 'dreaded': 5388, 'dreams': 5389, 'dry': 5390, 'dynamic': 5391, 'eBook': 5392, 'earth': 5393, 'education': 5394, 'efficiency': 5395, 'elimination': 5396, 'employed': 5397, 'enable': 5398, 'encryption': 5399, 'engineering': 5400, 'enhancement': 5401, 'enormous': 5402, 'entertaining': 5403, 'envelope': 5404, 'era': 5405, 'et': 5406, 'ether': 5407, 'events': 5408, 'everytime': 5409, 'exceptionally': 5410, 'experts': 5411, 'expiration': 5412, 'exploit': 5413, 'extended': 5414, 'eyes': 5415, 'faces': 5416, 'failures': 5417, 'falls': 5418, 'fashioned': 5419, 'fathers': 5420, 'faultless': 5421, 'fight': 5422, 'filings': 5423, 'filtering': 5424, 'firewalls': 5425, 'flagship': 5426, 'flawless': 5427, 'flexibility': 5428, 'font': 5429, 'fooling': 5430, 'forefront': 5431, 'formal': 5432, 'formatted': 5433, 'forum': 5434, 'founded': 5435, 'freed': 5436, 'freelance': 5437, 'fussy': 5438, 'gain': 5439, 'gasp': 5440, 'gather': 5441, 'ghz': 5442, 'girls': 5443, 'glory': 5444, 'graded': 5445, 'grandchildren': 5446, 'greater': 5447, 'grow': 5448, 'hacking': 5449, 'handheld': 5450, 'hassles': 5451, 'hd': 5452, 'hearing': 5453, 'hereafter': 5454, 'hesitate': 5455, 'hiccups': 5456, 'hiking': 5457, 'hill': 5458, 'hire': 5459, 'hiring': 5460, 'hobbiest': 5461, 'hockey': 5462, 'hogs': 5463, 'honor': 5464, 'horse': 5465, 'hosted': 5466, 'hostile': 5467, 'hot': 5468, 'humble': 5469, 'hunt': 5470, 'hunting': 5471, 'hurry': 5472, 'husbands': 5473, 'i5': 5474, 'iCloud': 5475, 'illustrator': 5476, 'impress': 5477, 'inadequate': 5478, 'incompatibility': 5479, 'increases': 5480, 'incremental': 5481, 'informative': 5482, 'insertion': 5483, 'inside': 5484, 'insisted': 5485, 'insists': 5486, 'instances': 5487, 'intelligent': 5488, 'interference': 5489, 'intro': 5490, 'intrusion': 5491, 'intrusions': 5492, 'intuitively': 5493, 'invented': 5494, 'investing': 5495, 'invoice': 5496, 'invoices': 5497, 'issued': 5498, 'jlakj': 5499, 'join': 5500, 'killed': 5501, 'kinda': 5502, 'knife': 5503, 'lacked': 5504, 'laden': 5505, 'lakjl': 5506, 'laws': 5507, 'layers': 5508, 'leading': 5509, 'lean': 5510, 'learner': 5511, 'leery': 5512, 'lifetime': 5513, 'lighter': 5514, 'liking': 5515, 'limit': 5516, 'linear': 5517, 'linking': 5518, 'littered': 5519, 'lived': 5520, 'lka': 5521, 'locally': 5522, 'located': 5523, 'locking': 5524, 'locks': 5525, 'lockup': 5526, 'lockups': 5527, 'logical': 5528, 'loosing': 5529, 'ludicrous': 5530, 'lump': 5531, 'lurking': 5532, 'lying': 5533, 'macros': 5534, 'magazines': 5535, 'maill': 5536, 'mandatory': 5537, 'manipulate': 5538, 'manipulating': 5539, 'mans': 5540, 'markets': 5541, 'marks': 5542, 'married': 5543, 'masses': 5544, 'matured': 5545, 'maze': 5546, 'medical': 5547, 'memories': 5548, 'memorization': 5549, 'mentioning': 5550, 'mill': 5551, 'misplaced': 5552, 'mix': 5553, 'mo': 5554, 'monitors': 5555, 'mount': 5556, 'ms': 5557, 'multimedia': 5558, 'multitude': 5559, 'national': 5560, 'nearby': 5561, 'necessities': 5562, 'newly': 5563, 'newsletters': 5564, 'nifty': 5565, 'nonsense': 5566, 'notable': 5567, 'notch': 5568, 'notorious': 5569, 'objects': 5570, 'obligated': 5571, 'obscure': 5572, 'officially': 5573, 'offline': 5574, 'omission': 5575, 'oneself': 5576, 'opens': 5577, 'opinions': 5578, 'optimization': 5579, 'optimized': 5580, 'ordinary': 5581, 'os': 5582, 'owed': 5583, 'ownership': 5584, 'owns': 5585, 'pace': 5586, 'paintings': 5587, 'paranoid': 5588, 'participation': 5589, 'patches': 5590, 'payments': 5591, 'peck': 5592, 'penny': 5593, 'persistently': 5594, 'pesky': 5595, 'photographers': 5596, 'photographic': 5597, 'pink': 5598, 'plots': 5599, 'pluses': 5600, 'pocket': 5601, 'policies': 5602, 'polished': 5603, 'popping': 5604, 'popularity': 5605, 'popup': 5606, 'position': 5607, 'powered': 5608, 'powerpoint': 5609, 'praise': 5610, 'predecessor': 5611, 'preliminary': 5612, 'premiere': 5613, 'prepaid': 5614, 'preserve': 5615, 'preset': 5616, 'pressed': 5617, 'pressure': 5618, 'prevented': 5619, 'proficient': 5620, 'profit': 5621, 'progressed': 5622, 'progressive': 5623, 'promotions': 5624, 'proprietary': 5625, 'protective': 5626, 'psp': 5627, 'publish': 5628, 'puck': 5629, 'purchasers': 5630, 'purchases': 5631, 'quiet': 5632, 'radical': 5633, 'raised': 5634, 'ranch': 5635, 'rebooting': 5636, 'rebuilt': 5637, 'recognizes': 5638, 'recommending': 5639, 'refers': 5640, 'refuses': 5641, 'relevant': 5642, 'rent': 5643, 'repetition': 5644, 'replacing': 5645, 'reply': 5646, 'representatives': 5647, 'reset': 5648, 'resolution': 5649, 'respond': 5650, 'responsible': 5651, 'restored': 5652, 'resume': 5653, 'rig': 5654, 'rivals': 5655, 'rootkit': 5656, 'rote': 5657, 'rough': 5658, 'rudimentary': 5659, 'sage': 5660, 'scary': 5661, 'scenes': 5662, 'scheduling': 5663, 'scrapbooking': 5664, 'screw': 5665, 'scrolling': 5666, 'securely': 5667, 'semesters': 5668, 'serves': 5669, 'sessions': 5670, 'shooting': 5671, 'shuts': 5672, 'simplest': 5673, 'sink': 5674, 'slideshows': 5675, 'slowest': 5676, 'sounded': 5677, 'speaker': 5678, 'speeding': 5679, 'speeds': 5680, 'spelling': 5681, 'spin': 5682, 'spots': 5683, 'spy': 5684, 'spysweeper': 5685, 'staff': 5686, 'stink': 5687, 'stocks': 5688, 'storyline': 5689, 'straw': 5690, 'streamlining': 5691, 'strengths': 5692, 'studied': 5693, 'studying': 5694, 'stunned': 5695, 'styles': 5696, 'submitted': 5697, 'submitting': 5698, 'subscriptions': 5699, 'substitute': 5700, 'successive': 5701, 'suffers': 5702, 'suits': 5703, 'supplement': 5704, 'surely': 5705, 'surprising': 5706, 'suspect': 5707, 't': 5708, 'tabbed': 5709, 'talent': 5710, 'targeted': 5711, 'teachers': 5712, 'team': 5713, 'techniques': 5714, 'teenage': 5715, 'temperamental': 5716, 'tendency': 5717, 'textbook': 5718, 'theft': 5719, 'thin': 5720, 'threw': 5721, 'thumbs': 5722, 'tier': 5723, 'toast': 5724, 'tonight': 5725, 'topics': 5726, 'totals': 5727, 'touching': 5728, 'touchscreen': 5729, 'tracing': 5730, 'trail': 5731, 'transfers': 5732, 'trials': 5733, 'tricky': 5734, 'trivial': 5735, 'trojans': 5736, 'troubles': 5737, 'trustworthy': 5738, 'twelve': 5739, 'uber': 5740, 'uncomplicated': 5741, 'understood': 5742, 'uneventful': 5743, 'unfair': 5744, 'unimpressed': 5745, 'universe': 5746, 'unknown': 5747, 'unlikely': 5748, 'unopened': 5749, 'unpleasant': 5750, 'unsafe': 5751, 'unzipped': 5752, 'uploading': 5753, 'useable': 5754, 'utilized': 5755, 'utterly': 5756, 'v': 5757, 'v11': 5758, 'validate': 5759, 'vanilla': 5760, 'variable': 5761, 'vehicles': 5762, 'veteran': 5763, 'virii': 5764, 'visited': 5765, 'wand': 5766, 'warned': 5767, 'warnings': 5768, 'warns': 5769, 'warrant': 5770, 'watercolor': 5771, 'wayexcept': 5772, 'wealth': 5773, 'wear': 5774, 'webpage': 5775, 'whenever': 5776, 'wild': 5777, 'win7': 5778, 'wings': 5779, 'winning': 5780, 'winzip': 5781, 'wonders': 5782, 'workspace': 5783, 'worm': 5784, 'writers': 5785, 'wwwamazoncom': 5786, 'ya': 5787, 'yearsand': 5788, 'young': 5789, 'zone': 5790, '0x80040707': 5791, '100000': 5792, '1000HE': 5793, '101': 5794, '10105': 5795, '1011': 5796, '1065': 5797, '1080p': 5798, '118': 5799, '123': 5800, '14th': 5801, '15years': 5802, '16GHz': 5803, '1795and': 5804, '18GHz': 5805, '18th': 5806, '1930': 5807, '1985': 5808, '1987': 5809, '1988': 5810, '1991': 5811, '1997': 5812, '1yr': 5813, '2008s': 5814, '2300': 5815, '250000': 5816, '27th': 5817, '2995': 5818, '2CDs': 5819, '2s': 5820, '350': 5821, '3995': 5822, '3PC': 5823, '3yrs': 5824, '4000': 5825, '401': 5826, '4600': 5827, '4X': 5828, '59': 5829, '600': 5830, '6000': 5831, '60cs': 5832, '65': 5833, '6999': 5834, '79': 5835, '7s': 5836, '867Mhz': 5837, '8949': 5838, '953': 5839, '98SE': 5840, 'ABSOLUTELY': 5841, 'ACCOUNTANT': 5842, 'ACTIVATION': 5843, 'ALSO': 5844, 'AN': 5845, 'ANOTHER': 5846, 'ANYTHING': 5847, 'ATTENTION': 5848, 'AVI': 5849, 'AVIRA': 5850, 'AWESOME': 5851, 'Account': 5852, 'Accurate': 5853, 'Additionally': 5854, 'Address': 5855, 'Admittedly': 5856, 'Aero': 5857, 'Ages': 5858, 'Album': 5859, 'Alienware': 5860, 'Alright': 5861, 'Amiga': 5862, 'Androids': 5863, 'Animation': 5864, 'Antispyware': 5865, 'Anybody': 5866, 'Anyhow': 5867, 'Anything': 5868, 'Anywhere': 5869, 'Apart': 5870, 'Apply': 5871, 'Area': 5872, 'Arizona': 5873, 'Art': 5874, 'Artist': 5875, 'Atlas': 5876, 'Automatic': 5877, 'Avanquest': 5878, 'Awful': 5879, 'Awfulglad': 5880, 'B000IBFP1': 5881, 'B00123WD40': 5882, 'B001EHXOFG': 5883, 'B00JC5Y76C': 5884, 'B00X4WHP5E': 5885, 'BACKUP': 5886, 'BACKWARDS': 5887, 'BCM': 5888, 'BD': 5889, 'BEEN': 5890, 'BELOW': 5891, 'BLESS': 5892, 'BOUGHT': 5893, 'BREAK': 5894, 'BS': 5895, 'Backups': 5896, 'Band': 5897, 'Bank': 5898, 'Betterment': 5899, 'Blackmoor': 5900, 'BluRays': 5901, 'Bob': 5902, 'Bonus': 5903, 'Booster': 5904, 'Boys': 5905, 'Brand': 5906, 'Broke': 5907, 'Buckner': 5908, 'C330': 5909, 'CA': 5910, 'CAPTURE': 5911, 'COM': 5912, 'COMPREHENSIVE': 5913, 'CS4': 5914, 'CS6': 5915, 'Called': 5916, 'Camera': 5917, 'Canadian': 5918, 'Candyce': 5919, 'Canyon': 5920, 'Captivate': 5921, 'Card': 5922, 'Central': 5923, 'Cha': 5924, 'Chevy': 5925, 'Ching': 5926, 'Choice': 5927, 'Circuit': 5928, 'City': 5929, 'Clean': 5930, 'Com': 5931, 'Comes': 5932, 'Commander': 5933, 'Companies': 5934, 'Comparable': 5935, 'Configuration': 5936, 'Contrast': 5937, 'Coral': 5938, 'CorelDraws': 5939, 'Corp': 5940, 'Corporation': 5941, 'Corporations': 5942, 'Cosmetically': 5943, 'Cost': 5944, 'Costco': 5945, 'Count': 5946, 'Creators': 5947, 'Credit': 5948, 'Custom': 5949, 'Customize': 5950, 'DOESNT': 5951, 'DOWNLOAD': 5952, 'DOWNLOADED': 5953, 'DRM': 5954, 'Date': 5955, 'Day': 5956, 'Deal': 5957, 'Dear': 5958, 'Decided': 5959, 'Decribed': 5960, 'Deductible': 5961, 'Delighted': 5962, 'Delux': 5963, 'Depending': 5964, 'Depends': 5965, 'Dictation': 5966, 'Dimension': 5967, 'Directive': 5968, 'Disclaimer': 5969, 'Disregard': 5970, 'Dogs': 5971, 'Dot': 5972, 'Dr': 5973, 'Drafting': 5974, 'DragonSpeak': 5975, 'Dragons': 5976, 'DreamWeaver': 5977, 'Driver': 5978, 'Due': 5979, 'Durable': 5980, 'Dynamic': 5981, 'EASY': 5982, 'EMAILS': 5983, 'ESSENTIAL': 5984, 'EVERYDAY': 5985, 'EVERYTHING': 5986, 'EXCEPTION': 5987, 'Earth': 5988, 'Easyshare': 5989, 'Edge': 5990, 'Edited': 5991, 'Editor': 5992, 'Eee': 5993, 'Effects': 5994, 'Efforts': 5995, 'Electric': 5996, 'Electronic': 5997, 'Email': 5998, 'England': 5999, 'Error': 6000, 'Essential': 6001, 'Estate': 6002, 'Eventually': 6003, 'External': 6004, 'FASTER': 6005, 'FEMA': 6006, 'FIND': 6007, 'FIX': 6008, 'FTP': 6009, 'FULL': 6010, 'Fantastic': 6011, 'Fargo': 6012, 'FastStone': 6013, 'Ferrell': 6014, 'Ferrells': 6015, 'FileMaker': 6016, 'Filemaker': 6017, 'Filmmaking': 6018, 'Finding': 6019, 'Fist': 6020, 'Florida': 6021, 'Force': 6022, 'Forced': 6023, 'Ford': 6024, 'Fortune': 6025, 'Fractal': 6026, 'Freedom': 6027, 'FreshMaps': 6028, 'Fujifilm': 6029, 'Functionality': 6030, 'GAMES': 6031, 'GBs': 6032, 'GEDCOM': 6033, 'GEN': 6034, 'GIMP': 6035, 'GOOD': 6036, 'GROUPS': 6037, 'Garage': 6038, 'GarageBand': 6039, 'Garman': 6040, 'Geek': 6041, 'General': 6042, 'Geographic': 6043, 'Germany': 6044, 'Gmail': 6045, 'Gold': 6046, 'Googled': 6047, 'Govt': 6048, 'Graphic': 6049, 'Grover': 6050, 'HAND': 6051, 'HAPPY': 6052, 'HARD': 6053, 'HER': 6054, 'HERinteractive': 6055, 'HISTORY': 6056, 'HOG': 6057, 'HOURS': 6058, 'HS': 6059, 'HTC': 6060, 'Hallmark': 6061, 'Hardy': 6062, 'Hated': 6063, 'Health': 6064, 'Heck': 6065, 'Hello': 6066, 'Hi': 6067, 'Hispanic': 6068, 'Hours': 6069, 'Housecall': 6070, 'IMAC': 6071, 'IMHO': 6072, 'INTERNET': 6073, 'IObit': 6074, 'IRA': 6075, 'ISO': 6076, 'Idiot': 6077, 'Immediately': 6078, 'Importing': 6079, 'Imports': 6080, 'Improved': 6081, 'InDesign': 6082, 'Included': 6083, 'Including': 6084, 'India': 6085, 'Information': 6086, 'Inside': 6087, 'Inspiron': 6088, 'Insurance': 6089, 'Interestingly': 6090, 'Iolos': 6091, 'Iword': 6092, 'Iwork': 6093, 'James': 6094, 'Johnny': 6095, 'K1': 6096, 'KB4': 6097, 'KEEP': 6098, 'Keeping': 6099, 'Kept': 6100, 'Kinda': 6101, 'Koadk': 6102, 'LR': 6103, 'LUCKILY': 6104, 'LaCie': 6105, 'Labs': 6106, 'Lake': 6107, 'Lately': 6108, 'Leap': 6109, 'Licenses': 6110, 'Light': 6111, 'Links': 6112, 'Lisa': 6113, 'List': 6114, 'Listen': 6115, 'LiveUpdate': 6116, 'Livesafe': 6117, 'Living': 6118, 'Loading': 6119, 'Loans': 6120, 'Locator': 6121, 'Looked': 6122, 'Lori': 6123, 'Lost': 6124, 'Loving': 6125, 'Loyal': 6126, 'MACs': 6127, 'MC': 6128, 'MESSAGE': 6129, 'MISTAKE': 6130, 'MP3': 6131, 'MSDN': 6132, 'MSDOS': 6133, 'MSE': 6134, 'MSFT': 6135, 'MSN': 6136, 'MSs': 6137, 'MacAffee': 6138, 'MacDictate': 6139, 'MacDraw': 6140, 'Macrium': 6141, 'Mag': 6142, 'Mainly': 6143, 'Mairs': 6144, 'Man': 6145, 'Manor': 6146, 'Manually': 6147, 'Map': 6148, 'MapQuest': 6149, 'MapQuestcom': 6150, 'Mastercook': 6151, 'McAfree': 6152, 'Member': 6153, 'Memory': 6154, 'Mine': 6155, 'Minor': 6156, 'Minus': 6157, 'Missing': 6158, 'Mistake': 6159, 'Mo': 6160, 'Mom': 6161, 'Moms': 6162, 'Motorola': 6163, 'Multitasking': 6164, 'N360': 6165, 'ND': 6166, 'NEEDED': 6167, 'NOL': 6168, 'NU': 6169, 'NX': 6170, 'NXT3': 6171, 'Namo': 6172, 'NaturallySpeakings': 6173, 'Navigation': 6174, 'Nebraska': 6175, 'Nolos': 6176, 'Noton': 6177, 'Nowadays': 6178, 'Nuvi': 6179, 'OLD': 6180, 'ORIGINAL': 6181, 'OSs': 6182, 'OSsystem': 6183, 'OVER': 6184, 'OWN': 6185, 'OWNED': 6186, 'Object': 6187, 'Obviously': 6188, 'Occasionally': 6189, 'October': 6190, 'Offer': 6191, 'Often': 6192, 'OpenDoc': 6193, 'Optimization': 6194, 'Originally': 6195, 'Outstanding': 6196, 'Override': 6197, 'Owch': 6198, 'Owning': 6199, 'PBJWorld': 6200, 'PCMAG': 6201, 'PCMover': 6202, 'PHOTO': 6203, 'PKZIP': 6204, 'PKZip': 6205, 'PLEASE': 6206, 'POP3': 6207, 'PP': 6208, 'PR': 6209, 'PSE': 6210, 'PSI': 6211, 'Package': 6212, 'Parents': 6213, 'ParitnerX': 6214, 'PartitionMagic': 6215, 'Past': 6216, 'Paul': 6217, 'Pc': 6218, 'PeachTree': 6219, 'Perfectly': 6220, 'Performa': 6221, 'Phenom': 6222, 'PhotoPaint': 6223, 'Picasa': 6224, 'Picture': 6225, 'Pilot': 6226, 'Place': 6227, 'Pleased': 6228, 'Powerquest': 6229, 'Preface': 6230, 'Press': 6231, 'Preview': 6232, 'Problem': 6233, 'Protect': 6234, 'Put': 6235, 'Putting': 6236, 'Quark': 6237, 'Quess': 6238, 'Quickbook': 6239, 'Quickly': 6240, 'R2': 6241, 'R2B97JHLAQJURW': 6242, 'R5': 6243, 'RAR': 6244, 'RAZR': 6245, 'REMEMBER': 6246, 'REVIEWS': 6247, 'RS': 6248, 'RSUs': 6249, 'RW': 6250, 'Ran': 6251, 'Ranch': 6252, 'Rating': 6253, 'Reading': 6254, 'Real': 6255, 'Redmond': 6256, 'Reflect': 6257, 'Refund': 6258, 'Regardless': 6259, 'Reliable': 6260, 'Remember': 6261, 'Rendering': 6262, 'Repair': 6263, 'Repeatedly': 6264, 'Replaced': 6265, 'Researching': 6266, 'Resident': 6267, 'Resource': 6268, 'Restoring': 6269, 'River': 6270, 'Robert': 6271, 'Royalty': 6272, 'S10e': 6273, 'S4': 6274, 'SAME': 6275, 'SATA': 6276, 'SAW': 6277, 'SD': 6278, 'SDK': 6279, 'SIMPLE': 6280, 'SITE': 6281, 'SM': 6282, 'SP': 6283, 'ST': 6284, 'SUMMARY': 6285, 'Sale': 6286, 'Saturday': 6287, 'Scam': 6288, 'Scanning': 6289, 'Sched': 6290, 'Scientific': 6291, 'Scrapbook': 6292, 'Scrivener': 6293, 'Seeing': 6294, 'Seller': 6295, 'Sent': 6296, 'Services': 6297, 'Shadow': 6298, 'Shane': 6299, 'Share': 6300, 'Shockwave': 6301, 'Shut': 6302, 'Single': 6303, 'Siri': 6304, 'SiteAdvisor': 6305, 'Slow': 6306, 'Snag': 6307, 'Somehow': 6308, 'Somewhat': 6309, 'Sosua': 6310, 'SoundDirector': 6311, 'Specifically': 6312, 'Speed': 6313, 'SpywareDoctor': 6314, 'Started': 6315, 'Starts': 6316, 'Steer': 6317, 'Stories': 6318, 'Stuff': 6319, 'Sunday': 6320, 'Symantic': 6321, 'Symnatec': 6322, 'TAXES': 6323, 'THING': 6324, 'TIME': 6325, 'TJ': 6326, 'TON': 6327, 'TOO': 6328, 'TS': 6329, 'TTax2011': 6330, 'TTax2014': 6331, 'Task': 6332, 'Taxes': 6333, 'Teacher': 6334, 'Teaches': 6335, 'Test': 6336, 'Thanksgiving': 6337, 'Through': 6338, 'Throughout': 6339, 'Tim': 6340, 'Times': 6341, 'Tips': 6342, 'Toolpack': 6343, 'Touch': 6344, 'Tower': 6345, 'Train': 6346, 'TrendMicro': 6347, 'Trojans': 6348, 'TrueImage': 6349, 'Trusts': 6350, 'Ts': 6351, 'Tune': 6352, 'Turboax': 6353, 'UN': 6354, 'UNHANDLED': 6355, 'UPDATED': 6356, 'USA': 6357, 'USES': 6358, 'Ult': 6359, 'Unix': 6360, 'Ups': 6361, 'Utility': 6362, 'VCR': 6363, 'VERSA': 6364, 'VERSIONS': 6365, 'VIPRE': 6366, 'VLC': 6367, 'Ver': 6368, 'ViaVoice': 6369, 'Volt': 6370, 'WAV': 6371, 'WHEN': 6372, 'WIN8': 6373, 'WITHOUT': 6374, 'WIth': 6375, 'WORKING': 6376, 'WOULD': 6377, 'WRONG': 6378, 'Walmart': 6379, 'Wanted': 6380, 'Ware': 6381, 'Waste': 6382, 'WebEditor': 6383, 'WebRoot': 6384, 'Wells': 6385, 'Whilst': 6386, 'Win98': 6387, 'Wincleaner': 6388, 'Wizard': 6389, 'Work': 6390, 'Worst': 6391, 'Writing': 6392, 'Wrong': 6393, 'Xfer': 6394, 'Yearly': 6395, 'York': 6396, 'YouCam': 6397, 'Yup': 6398, 'Z': 6399, 'ZA': 6400, 'ZoneLabs': 6401, 'abandoning': 6402, 'absence': 6403, 'absurd': 6404, 'accent': 6405, 'accessible': 6406, 'accidentally': 6407, 'accoutning': 6408, 'accrual': 6409, 'achieving': 6410, 'acquiring': 6411, 'activated': 6412, 'adaptable': 6413, 'addendum': 6414, 'adjunct': 6415, 'administrate': 6416, 'admission': 6417, 'adopter': 6418, 'adopters': 6419, 'adult': 6420, 'advances': 6421, 'adventurous': 6422, 'advisory': 6423, 'affecting': 6424, 'afterwards': 6425, 'aged': 6426, 'aging': 6427, 'agreed': 6428, 'agreements': 6429, 'air': 6430, 'airplane': 6431, 'akin': 6432, 'alike': 6433, 'alive': 6434, 'alkj': 6435, 'allegedly': 6436, 'alongside': 6437, 'alphabet': 6438, 'alright': 6439, 'altered': 6440, 'amused': 6441, 'animals': 6442, 'anitvirus': 6443, 'annotation': 6444, 'annoy': 6445, 'annoyances': 6446, 'anxious': 6447, 'appalling': 6448, 'appeal': 6449, 'appearing': 6450, 'apprehensive': 6451, 'architect': 6452, 'archive': 6453, 'arm': 6454, 'army': 6455, 'arounds': 6456, 'arsenal': 6457, 'article': 6458, 'articles': 6459, 'assessment': 6460, 'assmptions': 6461, 'assure': 6462, 'astounded': 6463, 'attorneys': 6464, 'audits': 6465, 'aug': 6466, 'authority': 6467, 'avchd': 6468, 'averaging': 6469, 'aw': 6470, 'awards': 6471, 'awfully': 6472, 'bag': 6473, 'balancing': 6474, 'band': 6475, 'banned': 6476, 'banner': 6477, 'batches': 6478, 'battle': 6479, 'beast': 6480, 'beaten': 6481, 'beating': 6482, 'bed': 6483, 'bee': 6484, 'beginers': 6485, 'beginnings': 6486, 'benchmark': 6487, 'bevy': 6488, 'bias': 6489, 'bicycle': 6490, 'bike': 6491, 'bilingual': 6492, 'billing': 6493, 'birthdays': 6494, 'blah': 6495, 'blame': 6496, 'blast': 6497, 'blink': 6498, 'blinking': 6499, 'blocker': 6500, 'blog': 6501, 'bmp': 6502, 'boasts': 6503, 'bogs': 6504, 'bond': 6505, 'bonds': 6506, 'bookkeeper': 6507, 'boosters': 6508, 'boss': 6509, 'bots': 6510, 'boy': 6511, 'brackets': 6512, 'branches': 6513, 'branded': 6514, 'breached': 6515, 'breaches': 6516, 'breaks': 6517, 'bricks': 6518, 'bridges': 6519, 'briefly': 6520, 'brilliant': 6521, 'brokerage': 6522, 'brothers': 6523, 'browsers': 6524, 'brushing': 6525, 'buddies': 6526, 'bugfixes': 6527, 'bugged': 6528, 'buggiest': 6529, 'bugginess': 6530, 'bulk': 6531, 'burbs': 6532, 'businessman': 6533, 'bye': 6534, 'bypass': 6535, 'c': 6536, 'cache': 6537, 'cake': 6538, 'cam': 6539, 'campaign': 6540, 'cancelled': 6541, 'careless': 6542, 'cargologo': 6543, 'cart': 6544, 'cartoonist': 6545, 'casting': 6546, 'catalog': 6547, 'catastrophe': 6548, 'cautious': 6549, 'cautiuon': 6550, 'ceases': 6551, 'celeron': 6552, 'centerand': 6553, 'chagne': 6554, 'chapters': 6555, 'charcoal': 6556, 'cheapest': 6557, 'cheapskate': 6558, 'chips': 6559, 'chokes': 6560, 'chooser': 6561, 'chores': 6562, 'christmas': 6563, 'chrome': 6564, 'cinch': 6565, 'circa': 6566, 'cities': 6567, 'claimed': 6568, 'classical': 6569, 'cleaners': 6570, 'climbing': 6571, 'clipart': 6572, 'clock': 6573, 'closely': 6574, 'closeout': 6575, 'closest': 6576, 'clues': 6577, 'cluttered': 6578, 'cluttering': 6579, 'coasters': 6580, 'cognizant': 6581, 'colleague': 6582, 'column': 6583, 'com': 6584, 'comlicated': 6585, 'communicate': 6586, 'communications': 6587, 'comparatives': 6588, 'comparisons': 6589, 'compatability': 6590, 'competed': 6591, 'competent': 6592, 'competes': 6593, 'competitor': 6594, 'complements': 6595, 'completeness': 6596, 'complexities': 6597, 'con': 6598, 'conceived': 6599, 'conception': 6600, 'concise': 6601, 'conclude': 6602, 'concur': 6603, 'confirmed': 6604, 'confusion': 6605, 'conjugation': 6606, 'conjunction': 6607, 'consisting': 6608, 'consolidate': 6609, 'conspiracy': 6610, 'constitutional': 6611, 'consumes': 6612, 'consumption': 6613, 'contents': 6614, 'continual': 6615, 'contract': 6616, 'controversial': 6617, 'conversant': 6618, 'conversational': 6619, 'convincing': 6620, 'convoluted': 6621, 'coolest': 6622, 'costlyespecially': 6623, 'counter': 6624, 'cousins': 6625, 'coverter': 6626, 'cow': 6627, 'craft': 6628, 'crashit': 6629, 'creatively': 6630, 'creator': 6631, 'criteria': 6632, 'criticized': 6633, 'crying': 6634, 'cup': 6635, 'cured': 6636, 'cures': 6637, 'customizable': 6638, 'customized': 6639, 'dabbling': 6640, 'dad': 6641, 'dads': 6642, 'damaged': 6643, 'dance': 6644, 'danger': 6645, 'darned': 6646, 'dating': 6647, 'dawn': 6648, 'dealt': 6649, 'debacle': 6650, 'debate': 6651, 'debating': 6652, 'debilitating': 6653, 'decently': 6654, 'decides': 6655, 'deciding': 6656, 'decisions': 6657, 'declare': 6658, 'decline': 6659, 'decompressing': 6660, 'decrease': 6661, 'dedicate': 6662, 'dedicated': 6663, 'def': 6664, 'defaults': 6665, 'defend': 6666, 'defense': 6667, 'definitive': 6668, 'defrag': 6669, 'defunct': 6670, 'degrees': 6671, 'delays': 6672, 'delved': 6673, 'demanding': 6674, 'den': 6675, 'departure': 6676, 'deploy': 6677, 'deployment': 6678, 'descent': 6679, 'describing': 6680, 'deserves': 6681, 'despise': 6682, 'detailing': 6683, 'deteriorated': 6684, 'developmentally': 6685, 'devotee': 6686, 'diagrams': 6687, 'dialogue': 6688, 'dictionary': 6689, 'didt': 6690, 'diehard': 6691, 'differently': 6692, 'differs': 6693, 'digitized': 6694, 'dip': 6695, 'dipped': 6696, 'dirty': 6697, 'disabling': 6698, 'disappeared': 6699, 'disclosures': 6700, 'discounts': 6701, 'discovery': 6702, 'discuss': 6703, 'disgrace': 6704, 'displayed': 6705, 'displaying': 6706, 'displays': 6707, 'distinct': 6708, 'doc': 6709, 'documenting': 6710, 'dog': 6711, 'dogs': 6712, 'dominant': 6713, 'dongle': 6714, 'doors': 6715, 'doorstep': 6716, 'dos': 6717, 'dot': 6718, 'doubtful': 6719, 'downhill': 6720, 'downs': 6721, 'downtown': 6722, 'dr': 6723, 'drafter': 6724, 'dragged': 6725, 'draining': 6726, 'drawbacks': 6727, 'dressing': 6728, 'drooled': 6729, 'drudgery': 6730, 'dubious': 6731, 'dust': 6732, 'duty': 6733, 'dvds': 6734, 'dying': 6735, 'dysfunctional': 6736, 'eBay': 6737, 'eats': 6738, 'ebay': 6739, 'ecconimical': 6740, 'echo': 6741, 'economy': 6742, 'ect': 6743, 'elderly': 6744, 'electronics': 6745, 'emailing': 6746, 'embed': 6747, 'emphasis': 6748, 'employment': 6749, 'enclosed': 6750, 'encrypted': 6751, 'enduring': 6752, 'enhancing': 6753, 'enjoys': 6754, 'ensure': 6755, 'entails': 6756, 'enthusiast': 6757, 'envelopes': 6758, 'epilepsy': 6759, 'equal': 6760, 'equally': 6761, 'equate': 6762, 'equivalents': 6763, 'erase': 6764, 'erased': 6765, 'established': 6766, 'eventual': 6767, 'everthing': 6768, 'everyones': 6769, 'everythingthat': 6770, 'evidenced': 6771, 'evolve': 6772, 'exceed': 6773, 'excels': 6774, 'exceptions': 6775, 'excessively': 6776, 'exclude': 6777, 'exclusive': 6778, 'excuse': 6779, 'excused': 6780, 'exe': 6781, 'executed': 6782, 'executing': 6783, 'existent': 6784, 'exits': 6785, 'expanding': 6786, 'expectation': 6787, 'experimented': 6788, 'experiments': 6789, 'explanation': 6790, 'exploring': 6791, 'exported': 6792, 'extensions': 6793, 'extent': 6794, 'f': 6795, 'f2': 6796, 'fabulous': 6797, 'fabulously': 6798, 'faced': 6799, 'fail': 6800, 'fairness': 6801, 'faithfully': 6802, 'familys': 6803, 'fascinated': 6804, 'fashion': 6805, 'fashionable': 6806, 'fear': 6807, 'fears': 6808, 'feed': 6809, 'feedback': 6810, 'feeds': 6811, 'fence': 6812, 'fiasco': 6813, 'fiddled': 6814, 'fiddling': 6815, 'fifty': 6816, 'filers': 6817, 'films': 6818, 'fingers': 6819, 'fingertips': 6820, 'fir': 6821, 'firefox': 6822, 'firmly': 6823, 'flashy': 6824, 'flat': 6825, 'flavor': 6826, 'floating': 6827, 'floor': 6828, 'flu': 6829, 'flyers': 6830, 'focused': 6831, 'focuses': 6832, 'fonts': 6833, 'forgot': 6834, 'formating': 6835, 'formulas': 6836, 'fortunate': 6837, 'foul': 6838, 'framework': 6839, 'fraught': 6840, 'freak': 6841, 'freebie': 6842, 'freedom': 6843, 'freeing': 6844, 'freelancer': 6845, 'frees': 6846, 'freshly': 6847, 'fried': 6848, 'frozen': 6849, 'frustrate': 6850, 'fry': 6851, 'fueled': 6852, 'fugue': 6853, 'fulfilled': 6854, 'fulfills': 6855, 'funds': 6856, 'funeral': 6857, 'g': 6858, 'gained': 6859, 'gal': 6860, 'gameplay': 6861, 'gaps': 6862, 'garage': 6863, 'garnered': 6864, 'gateway': 6865, 'gem': 6866, 'gen': 6867, 'geneology': 6868, 'generate': 6869, 'generic': 6870, 'genuinely': 6871, 'geotagging': 6872, 'ghost': 6873, 'giant': 6874, 'gifs': 6875, 'gifts': 6876, 'gimp': 6877, 'glass': 6878, 'glitchy': 6879, 'goal': 6880, 'god': 6881, 'goodies': 6882, 'goof': 6883, 'grabbed': 6884, 'gradually': 6885, 'grain': 6886, 'grand': 6887, 'granddaughter': 6888, 'granddaughters': 6889, 'grandparents': 6890, 'graphical': 6891, 'graphs': 6892, 'grasp': 6893, 'greeat': 6894, 'green': 6895, 'greetings': 6896, 'gripe': 6897, 'gross': 6898, 'growth': 6899, 'grudgingly': 6900, 'guardian': 6901, 'guessing': 6902, 'guidelines': 6903, 'guru': 6904, 'guts': 6905, 'habits': 6906, 'hack': 6907, 'hacked': 6908, 'hair': 6909, 'hallmark': 6910, 'hampered': 6911, 'handful': 6912, 'hangs': 6913, 'hangups': 6914, 'happening': 6915, 'harm': 6916, 'harsh': 6917, 'haul': 6918, 'haywire': 6919, 'heads': 6920, 'healthcare': 6921, 'healthy': 6922, 'hefty': 6923, 'heinous': 6924, 'hell': 6925, 'herself': 6926, 'hesitated': 6927, 'hide': 6928, 'highlight': 6929, 'hike': 6930, 'historic': 6931, 'holding': 6932, 'holidays': 6933, 'homepage': 6934, 'homes': 6935, 'honored': 6936, 'hood': 6937, 'hoplah': 6938, 'horible': 6939, 'horizons': 6940, 'horrid': 6941, 'horror': 6942, 'horrors': 6943, 'hostage': 6944, 'hosting': 6945, 'hound': 6946, 'households': 6947, 'houses': 6948, 'hrs': 6949, 'http': 6950, 'hung': 6951, 'hungry': 6952, 'hursing': 6953, 'iMAC': 6954, 'iPads': 6955, 'iPhones': 6956, 'iWork08': 6957, 'iWork09': 6958, 'idiots': 6959, 'ignored': 6960, 'ignoring': 6961, 'implement': 6962, 'implementation': 6963, 'inability': 6964, 'inaccuracy': 6965, 'inaccurate': 6966, 'incase': 6967, 'incident': 6968, 'inclination': 6969, 'includeds': 6970, 'incorporates': 6971, 'incorporating': 6972, 'incorporation': 6973, 'increment': 6974, 'indispensable': 6975, 'inefficient': 6976, 'inexplicably': 6977, 'infamous': 6978, 'infect': 6979, 'infecting': 6980, 'infection': 6981, 'infections': 6982, 'infiltrating': 6983, 'ing': 6984, 'inherits': 6985, 'inportant': 6986, 'inserted': 6987, 'inserting': 6988, 'installments': 6989, 'institutional': 6990, 'instructional': 6991, 'instructor': 6992, 'insufficient': 6993, 'insurance': 6994, 'insure': 6995, 'intact': 6996, 'integrating': 6997, 'intend': 6998, 'intense': 6999, 'intensely': 7000, 'intention': 7001, 'interact': 7002, 'interoperability': 7003, 'interpret': 7004, 'intimidated': 7005, 'intolerable': 7006, 'intricate': 7007, 'intriguing': 7008, 'intrinsic': 7009, 'introduce': 7010, 'introducing': 7011, 'intuitiveness': 7012, 'invade': 7013, 'invalid': 7014, 'invested': 7015, 'invoicing': 7016, 'ipad': 7017, 'iphot0': 7018, 'ipod': 7019, 'irresistible': 7020, 'iso': 7021, 'itemize': 7022, 'jaded': 7023, 'james': 7024, 'jewelry': 7025, 'joining': 7026, 'joint': 7027, 'journalist': 7028, 'junked': 7029, 'junkware': 7030, 'keycard': 7031, 'keys': 7032, 'kicked': 7033, 'kill': 7034, 'killer': 7035, 'killing': 7036, 'kills': 7037, 'king': 7038, 'kit': 7039, 'klutzes': 7040, 'knocking': 7041, 'l': 7042, 'label': 7043, 'labels': 7044, 'lady': 7045, 'lap': 7046, 'lastest': 7047, 'latency': 7048, 'laurels': 7049, 'lay': 7050, 'laying': 7051, 'laymens': 7052, 'layouts': 7053, 'layperson': 7054, 'leg': 7055, 'legit': 7056, 'licensed': 7057, 'lighting': 7058, 'lightroom': 7059, 'lightstone': 7060, 'limb': 7061, 'lite': 7062, 'lkjalkjal': 7063, 'location': 7064, 'logged': 7065, 'logins': 7066, 'logos': 7067, 'lookin': 7068, 'lookout': 7069, 'looong': 7070, 'losers': 7071, 'loving': 7072, 'lowering': 7073, 'macs': 7074, 'magazine': 7075, 'mailed': 7076, 'maintain': 7077, 'maintains': 7078, 'malls': 7079, 'mammoth': 7080, 'manuel': 7081, 'mapped': 7082, 'mappimg': 7083, 'marketbutneeds': 7084, 'marketed': 7085, 'mass': 7086, 'mastered': 7087, 'mastering': 7088, 'match': 7089, 'mathematical': 7090, 'matters': 7091, 'mb': 7092, 'mechanic': 7093, 'mental': 7094, 'merged': 7095, 'migration': 7096, 'mileage': 7097, 'milk': 7098, 'millions': 7099, 'mimicking': 7100, 'min': 7101, 'minded': 7102, 'minimally': 7103, 'mirror': 7104, 'misfortune': 7105, 'mm': 7106, 'modifications': 7107, 'modify': 7108, 'modifying': 7109, 'monkey': 7110, 'monopoly': 7111, 'mortgage': 7112, 'mouth': 7113, 'mouthed': 7114, 'moves': 7115, 'mp4pspappletv': 7116, 'multifunctional': 7117, 'murder': 7118, 'musicians': 7119, 'natively': 7120, 'navigating': 7121, 'navigationally': 7122, 'navigator': 7123, 'negativity': 7124, 'nerd': 7125, 'nerdy': 7126, 'nero': 7127, 'newbies': 7128, 'niece': 7129, 'nonexistent': 7130, 'noodling': 7131, 'notebooks': 7132, 'notifications': 7133, 'notoriously': 7134, 'novels': 7135, 'novelty': 7136, 'nowhere': 7137, 'object': 7138, 'objectives': 7139, 'obligation': 7140, 'obnoxious': 7141, 'obtrusive': 7142, 'occasions': 7143, 'occupy': 7144, 'odd': 7145, 'oh': 7146, 'ol': 7147, 'olden': 7148, 'operated': 7149, 'opt': 7150, 'ought': 7151, 'outdone': 7152, 'outlining': 7153, 'outrage': 7154, 'outright': 7155, 'outs': 7156, 'overcome': 7157, 'overhaul': 7158, 'overnight': 7159, 'overtakes': 7160, 'overwhelmed': 7161, 'owe': 7162, 'pad': 7163, 'paperport': 7164, 'parallel': 7165, 'parallels': 7166, 'paranoia': 7167, 'parasite': 7168, 'partake': 7169, 'partitioning': 7170, 'partner': 7171, 'passing': 7172, 'pastels': 7173, 'patched': 7174, 'pathetic': 7175, 'patient': 7176, 'patterns': 7177, 'penalized': 7178, 'penalty': 7179, 'pentium': 7180, 'perception': 7181, 'peripherals': 7182, 'perks': 7183, 'perl': 7184, 'permission': 7185, 'permitted': 7186, 'permutations': 7187, 'pestered': 7188, 'pet': 7189, 'phenominal': 7190, 'photobook': 7191, 'photomanipulation': 7192, 'pinch': 7193, 'pinpoint': 7194, 'piracy': 7195, 'pissed': 7196, 'pity': 7197, 'pixel': 7198, 'placed': 7199, 'planet': 7200, 'plans': 7201, 'plethora': 7202, 'plugins': 7203, 'plunk': 7204, 'podcasts': 7205, 'pointed': 7206, 'pointless': 7207, 'polite': 7208, 'politics': 7209, 'poorest': 7210, 'popped': 7211, 'pops': 7212, 'ported': 7213, 'positives': 7214, 'posters': 7215, 'powerhouse': 7216, 'practical': 7217, 'practiced': 7218, 'practices': 7219, 'praised': 7220, 'precious': 7221, 'preexisting': 7222, 'preferring': 7223, 'prefers': 7224, 'preformed': 7225, 'prevalent': 7226, 'prevention': 7227, 'prevents': 7228, 'primitive': 7229, 'principal': 7230, 'principles': 7231, 'printshop': 7232, 'prioritization': 7233, 'procedure': 7234, 'productif': 7235, 'productions': 7236, 'programme': 7237, 'progressing': 7238, 'promoting': 7239, 'proposition': 7240, 'proprietorship': 7241, 'pure': 7242, 'purely': 7243, 'pushed': 7244, 'puzzle': 7245, 'qualities': 7246, 'quantity': 7247, 'quickest': 7248, 'r': 7249, 'radically': 7250, 'radio': 7251, 'random': 7252, 'ranked': 7253, 'ranking': 7254, 'rays': 7255, 'reached': 7256, 'reactions': 7257, 'realistic': 7258, 'rearrange': 7259, 'rebates': 7260, 'rebooted': 7261, 'rec': 7262, 'reccomend': 7263, 'rechanging': 7264, 'recital': 7265, 'recommand': 7266, 'recommened': 7267, 'recorded': 7268, 'recover': 7269, 'redesign': 7270, 'redesigned': 7271, 'redo': 7272, 'redone': 7273, 'reducing': 7274, 'redundant': 7275, 'referring': 7276, 'refine': 7277, 'refined': 7278, 'refining': 7279, 'refunds': 7280, 'registers': 7281, 'regulations': 7282, 'relates': 7283, 'relation': 7284, 'relationship': 7285, 'reloaded': 7286, 'remained': 7287, 'rename': 7288, 'renewable': 7289, 'reorganized': 7290, 'represents': 7291, 'requested': 7292, 'requests': 7293, 'researcher': 7294, 'resellers': 7295, 'reservations': 7296, 'reserved': 7297, 'resets': 7298, 'resistance': 7299, 'resize': 7300, 'resort': 7301, 'respect': 7302, 'respective': 7303, 'responded': 7304, 'restarted': 7305, 'restaurantsall': 7306, 'restoring': 7307, 'restricted': 7308, 'resulting': 7309, 'retailer': 7310, 'retiree': 7311, 'retirement': 7312, 'retrieve': 7313, 'revamping': 7314, 'reversed': 7315, 'revert': 7316, 'revision': 7317, 'revisions': 7318, 'reward': 7319, 'rewrite': 7320, 'richer': 7321, 'richly': 7322, 'ridiculously': 7323, 'rigged': 7324, 'rights': 7325, 'ring': 7326, 'roam': 7327, 'rods': 7328, 'rolling': 7329, 'root': 7330, 'rotating': 7331, 'roughly': 7332, 'round': 7333, 'roxio': 7334, 'rubbish': 7335, 'ruin': 7336, 'sabbatical': 7337, 'sabotaged': 7338, 'safeguards': 7339, 'sailing': 7340, 'salt': 7341, 'samr': 7342, 'sat': 7343, 'satellites': 7344, 'scaled': 7345, 'scared': 7346, 'scarier': 7347, 'scathing': 7348, 'scenery': 7349, 'scheduled': 7350, 'science': 7351, 'scrap': 7352, 'scrapbook': 7353, 'screaming': 7354, 'sea': 7355, 'seams': 7356, 'seasoned': 7357, 'seeking': 7358, 'seemless': 7359, 'selections': 7360, 'seminar': 7361, 'senior': 7362, 'setups': 7363, 'seventh': 7364, 'severe': 7365, 'shadow': 7366, 'shall': 7367, 'shame': 7368, 'shapes': 7369, 'sheet': 7370, 'shelf': 7371, 'shelled': 7372, 'shelling': 7373, 'shifting': 7374, 'shine': 7375, 'shiny': 7376, 'shock': 7377, 'shocked': 7378, 'shortcut': 7379, 'showcase': 7380, 'showing': 7381, 'shutterfly': 7382, 'siblings': 7383, 'sick': 7384, 'sided': 7385, 'signature': 7386, 'simplify': 7387, 'sincerely': 7388, 'sis': 7389, 'sisters': 7390, 'sixth': 7391, 'sketchbook': 7392, 'sketcher': 7393, 'sketches': 7394, 'skipped': 7395, 'slap': 7396, 'sleek': 7397, 'sleuthing': 7398, 'slideshow': 7399, 'slim': 7400, 'slip': 7401, 'sloppy': 7402, 'slowdown': 7403, 'slowdowns': 7404, 'slug': 7405, 'smoothing': 7406, 'sneaky': 7407, 'snippets': 7408, 'solve': 7409, 'someones': 7410, 'soooo': 7411, 'sought': 7412, 'speakers': 7413, 'specialized': 7414, 'specials': 7415, 'specifications': 7416, 'specified': 7417, 'spectacular': 7418, 'sped': 7419, 'spinning': 7420, 'spite': 7421, 'splash': 7422, 'spoiled': 7423, 'spoke': 7424, 'spouse': 7425, 'spring': 7426, 'spying': 7427, 'stacks': 7428, 'stages': 7429, 'stalls': 7430, 'standardized': 7431, 'standards': 7432, 'stared': 7433, 'statements': 7434, 'stationary': 7435, 'steady': 7436, 'stepped': 7437, 'stopmotion': 7438, 'stragling': 7439, 'strike': 7440, 'string': 7441, 'struggles': 7442, 'stumbling': 7443, 'submission': 7444, 'subscribe': 7445, 'succeeded': 7446, 'successor': 7447, 'sucked': 7448, 'suggestions': 7449, 'suggests': 7450, 'suit': 7451, 'suitable': 7452, 'sum': 7453, 'sumers': 7454, 'sundry': 7455, 'supplemental': 7456, 'supplier': 7457, 'supplies': 7458, 'surf': 7459, 'surfer': 7460, 'surpasses': 7461, 'surprises': 7462, 'suspense': 7463, 'sweared': 7464, 'sweep': 7465, 'swiss': 7466, 'syetem': 7467, 'systemI': 7468, 'tabs': 7469, 'talented': 7470, 'talked': 7471, 'tandem': 7472, 'tanked': 7473, 'taped': 7474, 'taxpayers': 7475, 'tea': 7476, 'teaser': 7477, 'techical': 7478, 'techies': 7479, 'techno': 7480, 'technologically': 7481, 'tecky': 7482, 'teen': 7483, 'teenagers': 7484, 'telephone': 7485, 'temporary': 7486, 'testers': 7487, 'testify': 7488, 'thankyou': 7489, 'thee': 7490, 'theirs': 7491, 'thier': 7492, 'thign': 7493, 'throats': 7494, 'throws': 7495, 'tic': 7496, 'ticked': 7497, 'ties': 7498, 'tiles': 7499, 'tinker': 7500, 'tinkerer': 7501, 'toe': 7502, 'tome': 7503, 'toolset': 7504, 'touches': 7505, 'tour': 7506, 'tourist': 7507, 'toyed': 7508, 'toys': 7509, 'trade': 7510, 'trading': 7511, 'tragedy': 7512, 'transcribed': 7513, 'transcribes': 7514, 'transform': 7515, 'transparent': 7516, 'treated': 7517, 'treating': 7518, 'trending': 7519, 'trendy': 7520, 'trim': 7521, 'trolls': 7522, 'trusting': 7523, 'trusts': 7524, 'tuned': 7525, 'tuneup': 7526, 'turkey': 7527, 'tuxedo': 7528, 'tweaks': 7529, 'typed': 7530, 'typewriters': 7531, 'typos': 7532, 'ubiquity': 7533, 'ull': 7534, 'ultra': 7535, 'unavailable': 7536, 'unbelievable': 7537, 'unbiased': 7538, 'uncaring': 7539, 'unconscionable': 7540, 'unconventional': 7541, 'understandable': 7542, 'undertaking': 7543, 'undoubtedly': 7544, 'unfortunate': 7545, 'unintrusive': 7546, 'universal': 7547, 'university': 7548, 'unlock': 7549, 'unnecessarily': 7550, 'unpredictable': 7551, 'unprotected': 7552, 'unproven': 7553, 'unravel': 7554, 'unreliable': 7555, 'unsuccessful': 7556, 'unsure': 7557, 'unuseable': 7558, 'unwanted': 7559, 'uploads': 7560, 'upset': 7561, 'urgent': 7562, 'usb2': 7563, 'v1': 7564, 'vacations': 7565, 'values': 7566, 'van': 7567, 'variations': 7568, 'vaults': 7569, 'venerable': 7570, 'verified': 7571, 'verify': 7572, 'versetal': 7573, 'vet': 7574, 'vhs': 7575, 'victim': 7576, 'viewing': 7577, 'vigilant': 7578, 'viral': 7579, 'virtualization': 7580, 'viruss': 7581, 'visible': 7582, 'visionary': 7583, 'visually': 7584, 'visuals': 7585, 'vocab': 7586, 'voiced': 7587, 'volumes': 7588, 'vulnerable': 7589, 'wade': 7590, 'wallet': 7591, 'wannabe': 7592, 'warranted': 7593, 'weakest': 7594, 'webcam': 7595, 'webroots': 7596, 'wedding': 7597, 'welcomed': 7598, 'westerner': 7599, 'whyiolos': 7600, 'widespread': 7601, 'wildly': 7602, 'wind': 7603, 'wisdom': 7604, 'withdrawn': 7605, 'wood': 7606, 'workplace': 7607, 'worldly': 7608, 'worlds': 7609, 'worthy': 7610, 'wow': 7611, 'wowed': 7612, 'wrap': 7613, 'x3': 7614, 'xls': 7615, 'y': 7616, 'yeah': 7617, 'yor': 7618, 'younger': 7619, 'youngest': 7620, 'yourselfer': 7621, 'yr': 7622, 'zippy': 7623, '000': 7624, '002': 7625, '023': 7626, '03': 7627, '06exe': 7628, '092716': 7629, '0982697813': 7630, '0ffice': 7631, '1000s': 7632, '100megabytes': 7633, '100th': 7634, '1010': 7635, '10103': 7636, '10111': 7637, '1014OS': 7638, '1028': 7639, '103': 7640, '1040EZ': 7641, '10410': 7642, '10411': 7643, '104x': 7644, '1056': 7645, '1058': 7646, '1064': 7647, '1072': 7648, '1075': 7649, '108': 7650, '1082': 7651, '109': 7652, '1092': 7653, '1094': 7654, '1098': 7655, '1099b': 7656, '1099r': 7657, '10good': 7658, '10k': 7659, '10x': 7660, '10yrs': 7661, '1120s': 7662, '113': 7663, '114': 7664, '11th': 7665, '1200': 7666, '121': 7667, '125': 7668, '1280x1024': 7669, '128k': 7670, '129': 7671, '12Gb': 7672, '12th': 7673, '1326': 7674, '13th': 7675, '140': 7676, '1400': 7677, '1403': 7678, '140492': 7679, '1413313701': 7680, '1495': 7681, '1500': 7682, '150527': 7683, '15Ghz': 7684, '15R': 7685, '15a': 7686, '15s': 7687, '15th': 7688, '1603': 7689, '1617160849': 7690, '1700s': 7691, '178': 7692, '17GIGS': 7693, '17th': 7694, '180': 7695, '1870': 7696, '1888': 7697, '190': 7698, '1905FP': 7699, '1940': 7700, '1980': 7701, '1982': 7702, '1983': 7703, '1984': 7704, '199': 7705, '1PC': 7706, '2016AntiVirus': 7707, '20th': 7708, '20x': 7709, '213': 7710, '2182014': 7711, '2195': 7712, '21GHz': 7713, '220': 7714, '22nd': 7715, '23rd': 7716, '240': 7717, '240Ghz': 7718, '2499': 7719, '24gigs': 7720, '24th': 7721, '25000': 7722, '25mbps': 7723, '26': 7724, '266': 7725, '266GHz': 7726, '266Ghz': 7727, '26th': 7728, '2990': 7729, '2999': 7730, '29th': 7731, '2FB': 7732, '2GHz': 7733, '2PC': 7734, '2d': 7735, '2k3': 7736, '2o': 7737, '30088': 7738, '300Mb': 7739, '302': 7740, '30yr': 7741, '3115': 7742, '312': 7743, '3160FN': 7744, '321': 7745, '3250': 7746, '32b': 7747, '32bit': 7748, '3400': 7749, '34GHz': 7750, '351': 7751, '36': 7752, '366': 7753, '36I2MFSVBF4K8': 7754, '38': 7755, '3900': 7756, '3999': 7757, '3Mbs': 7758, '3User': 7759, '3eryyears': 7760, '3pc': 7761, '40s': 7762, '41': 7763, '414': 7764, '421': 7765, '425': 7766, '44': 7767, '440': 7768, '450': 7769, '48': 7770, '4995': 7771, '4999': 7772, '4x': 7773, '50000': 7774, '500000': 7775, '50Mb': 7776, '5100': 7777, '52': 7778, '54': 7779, '5800': 7780, '5850': 7781, '5901': 7782, '5999': 7783, '5x7': 7784, '60mbps': 7785, '624': 7786, '63': 7787, '636': 7788, '640': 7789, '645D': 7790, '64Pro': 7791, '6600': 7792, '667': 7793, '70047': 7794, '70462': 7795, '70Gigs': 7796, '70s': 7797, '7133nr': 7798, '720p': 7799, '739': 7800, '7422GX': 7801, '7500': 7802, '750MHz': 7803, '75th': 7804, '768': 7805, '790X': 7806, '7999': 7807, '811': 7808, '83': 7809, '8400': 7810, '8500': 7811, '87': 7812, '88': 7813, '89': 7814, '8MM': 7815, '8s': 7816, '8th': 7817, '9000': 7818, '90000': 7819, '9066': 7820, '91': 7821, '92': 7822, '920': 7823, '9598': 7824, '96': 7825, '965BE': 7826, '980': 7827, '999': 7828, '9999': 7829, 'A7200': 7830, 'ABOUT': 7831, 'AC': 7832, 'ACCESS': 7833, 'ACID': 7834, 'ADOBE': 7835, 'ADOBEs': 7836, 'ADVERSELY': 7837, 'ADVERTISEMENTS': 7838, 'AES': 7839, 'AFFECT': 7840, 'AGAIN': 7841, 'AGREEMENT': 7842, 'ALOT': 7843, 'ALPHA': 7844, 'ALREADY': 7845, 'AM': 7846, 'AMAZON': 7847, 'AMIGA': 7848, 'ANALOG': 7849, 'ANTI': 7850, 'APE': 7851, 'APP': 7852, 'APPARENTELY': 7853, 'APPLE': 7854, 'APPs': 7855, 'ARM': 7856, 'ARRIVED': 7857, 'AS': 7858, 'ASF': 7859, 'ASK': 7860, 'ASKING': 7861, 'ASMUCH': 7862, 'ASTOUNDING': 7863, 'ASW': 7864, 'ATTACHMENT': 7865, 'AUG': 7866, 'AUX': 7867, 'AVAST': 7868, 'AVCHD': 7869, 'AVOID': 7870, 'AVPs': 7871, 'AVcomparitives': 7872, 'AWAY': 7873, 'AWFUL': 7874, 'AWSOME': 7875, 'Ability': 7876, 'Abobe': 7877, 'Absent': 7878, 'Academic': 7879, 'Accounts': 7880, 'Accuracy': 7881, 'Achievement': 7882, 'Acres': 7883, 'Act': 7884, 'Activate': 7885, 'Activates': 7886, 'Adblock': 7887, 'Adding': 7888, 'Addintools': 7889, 'Advices': 7890, 'Affordable': 7891, 'AfterEffects': 7892, 'Aftershot': 7893, 'Age': 7894, 'Agreement': 7895, 'Ahoy': 7896, 'Airport': 7897, 'AlienFX': 7898, 'Alienheads': 7899, 'Along': 7900, 'Althugh': 7901, 'Amamzon': 7902, 'Amazing': 7903, 'Amazingly': 7904, 'America': 7905, 'Ameritrade': 7906, 'Among': 7907, 'Amzon': 7908, 'Ancsstrycom': 7909, 'Andy': 7910, 'Angelfire': 7911, 'Anima': 7912, 'Annoying': 7913, 'AnswerID': 7914, 'Answers': 7915, 'Antispam': 7916, 'Anytime': 7917, 'Apache': 7918, 'Aperture': 7919, 'Appearances': 7920, 'Application': 7921, 'Applying': 7922, 'Apprehension': 7923, 'Approaching': 7924, 'Approximately': 7925, 'Apps': 7926, 'Archie': 7927, 'Architectural': 7928, 'Argh': 7929, 'Arlen': 7930, 'Army': 7931, 'Around': 7932, 'Arrays': 7933, 'Ask': 7934, 'Asked': 7935, 'Asks': 7936, 'Assets': 7937, 'Associative': 7938, 'Astonishing': 7939, 'AtGuard': 7940, 'Attempt': 7941, 'Attempts': 7942, 'Attention': 7943, 'Attorney': 7944, 'Attorneys': 7945, 'AudioDirector': 7946, 'Audit': 7947, 'Aurora': 7948, 'Auto': 7949, 'AutoCad': 7950, 'AutoDesk': 7951, 'Autodeskplease': 7952, 'Autodesks': 7953, 'Automatically': 7954, 'Autosketch': 7955, 'Avery': 7956, 'AwareGPS': 7957, 'B000069LH6': 7958, 'B000VYAL2C': 7959, 'B001AFFYSW': 7960, 'B001C33V4': 7961, 'B001EJU9ZM': 7962, 'B001GL6QHS': 7963, 'B001UP241': 7964, 'B002GUUO5I': 7965, 'B002I7PGT8': 7966, 'B0041S1DLM': 7967, 'B004NINK3E': 7968, 'B004RPUJ78': 7969, 'B0056CZC2S': 7970, 'B005AAWYR2': 7971, 'B007GFNPFY': 7972, 'B00823BJB6': 7973, 'B008MR2GUA': 7974, 'B008RA5EHY': 7975, 'B008YTAGIK': 7976, 'B0094NXBZ0': 7977, 'B009716GWE': 7978, 'B00BFNCFZ4': 7979, 'B00CTTEKJW': 7980, 'B00DGH1Z8A': 7981, 'B00G0DXA9Y': 7982, 'B00JPKJLWO': 7983, 'B00KQV8RNK': 7984, 'B00P04JVCO': 7985, 'B00T0I6J9E': 7986, 'B00TKUEGCY': 7987, 'B00U7LCE6A': 7988, 'B00WT85S58': 7989, 'B010PKT6C2': 7990, 'B011XO5JZM': 7991, 'B0123C60F6': 7992, 'B015724RQI': 7993, 'B01AC3ZAHW': 7994, 'BACK': 7995, 'BACKGROUND': 7996, 'BANK': 7997, 'BBS': 7998, 'BDs': 7999, 'BE': 8000, 'BECAUSE': 8001, 'BETA': 8002, 'BIBBLE': 8003, 'BLUE': 8004, 'BLock': 8005, 'BOTH': 8006, 'BOTTOM': 8007, 'BOY': 8008, 'BR': 8009, 'BROTHER': 8010, 'BSD': 8011, 'BSOD': 8012, 'BSODs': 8013, 'BTW': 8014, 'BUSINESS': 8015, 'BUTNorton': 8016, 'Babies': 8017, 'Bachelors': 8018, 'Background': 8019, 'Backlot': 8020, 'Bait': 8021, 'Bare': 8022, 'Barf': 8023, 'Bay': 8024, 'Beach': 8025, 'Belkin': 8026, 'Bell': 8027, 'Below': 8028, 'Bess': 8029, 'Bet': 8030, 'Betamax': 8031, 'Bets': 8032, 'Beyond': 8033, 'Bibble': 8034, 'Biblical': 8035, 'Biggest': 8036, 'Billion': 8037, 'Bitdefenders': 8038, 'Bitdenfender': 8039, 'Bitlocker': 8040, 'Blackberry': 8041, 'Blackboard': 8042, 'Bloch': 8043, 'Blows': 8044, 'BluRay': 8045, 'Bluray': 8046, 'Boots': 8047, 'Boris': 8048, 'Bossy': 8049, 'Bowing': 8050, 'Boxed': 8051, 'Boxee': 8052, 'Boy': 8053, 'Bravenet': 8054, 'Bravissimo': 8055, 'Brings': 8056, 'Britannica': 8057, 'British': 8058, 'Broken': 8059, 'Brokerage': 8060, 'Brokerages': 8061, 'Brother': 8062, 'Browsing': 8063, 'Buggy': 8064, 'Bugmaster': 8065, 'Bugs': 8066, 'Builders': 8067, 'Buiness': 8068, 'Bundles': 8069, 'Buried': 8070, 'ButSymantec': 8071, 'C610': 8072, 'CADAM': 8073, 'CAME': 8074, 'CANNOT': 8075, 'CAREFULLY': 8076, 'CAUSES': 8077, 'CAVEAT': 8078, 'CCAPPEXE': 8079, 'CCleanup': 8080, 'CE': 8081, 'CEASE': 8082, 'CENSUS': 8083, 'CHANGE': 8084, 'CHOICE': 8085, 'CLENED': 8086, 'CLX': 8087, 'COA': 8088, 'COMPATIBLE': 8089, 'COMPLETELY': 8090, 'CONNECT': 8091, 'CONSUMER': 8092, 'CONTAIN': 8093, 'CONTINUED': 8094, 'CONTRIBUTION': 8095, 'CONVERTS': 8096, 'COREL': 8097, 'CORP': 8098, 'COULDNT': 8099, 'COUSIN': 8100, 'CP': 8101, 'CPD': 8102, 'CPM': 8103, 'CRASH': 8104, 'CRASHED': 8105, 'CRASHES': 8106, 'CREATE': 8107, 'CRT': 8108, 'CTO': 8109, 'CYBERLINK': 8110, 'Cad': 8111, 'Callahans': 8112, 'Camille': 8113, 'Canada': 8114, 'Capacity': 8115, 'Capitan': 8116, 'CasperXP': 8117, 'Catches': 8118, 'Caused': 8119, 'Caveat': 8120, 'Cd': 8121, 'Certificate': 8122, 'Change': 8123, 'Character': 8124, 'Charitable': 8125, 'Charter': 8126, 'Chase': 8127, 'Chat': 8128, 'Chattahoochee': 8129, 'Cheap': 8130, 'Cheapest': 8131, 'Checked': 8132, 'Childrens': 8133, 'Choerence': 8134, 'Choices': 8135, 'Choose': 8136, 'Chose': 8137, 'Christine': 8138, 'Chrome': 8139, 'Cillins': 8140, 'Clamwin': 8141, 'Class': 8142, 'Classique': 8143, 'Cleaning': 8144, 'Cleans': 8145, 'Clear': 8146, 'Clearly': 8147, 'Client': 8148, 'Cloned': 8149, 'Clumsy': 8150, 'Clunky': 8151, 'Cnet': 8152, 'Coaster': 8153, 'Coherence': 8154, 'Collection': 8155, 'ColorPlus': 8156, 'Columnist': 8157, 'Combination': 8158, 'Combined': 8159, 'Commercial': 8160, 'Committees': 8161, 'Commodore': 8162, 'Communications': 8163, 'Comp': 8164, 'Compaq': 8165, 'Comparatives': 8166, 'Comparison': 8167, 'Compatibility': 8168, 'Compattelrunnerexe': 8169, 'Competition': 8170, 'Compiling': 8171, 'Completely': 8172, 'Compute': 8173, 'Concord': 8174, 'Confusion': 8175, 'Congress': 8176, 'Congressional': 8177, 'Conroe': 8178, 'Consumer': 8179, 'Content': 8180, 'ContentPack': 8181, 'Continue': 8182, 'Continued': 8183, 'Continues': 8184, 'Convert': 8185, 'Convertible': 8186, 'Corals': 8187, 'Corell': 8188, 'Corporate': 8189, 'Couple': 8190, 'Courier': 8191, 'Course': 8192, 'Cover': 8193, 'Covered': 8194, 'Cox': 8195, 'Craft': 8196, 'Crandall': 8197, 'Crappy': 8198, 'Crashed': 8199, 'Crashes': 8200, 'Creater': 8201, 'Creation': 8202, 'Crippled': 8203, 'Crop': 8204, 'Cs': 8205, 'Curse': 8206, 'Curve': 8207, 'CushTop': 8208, 'Customers': 8209, 'CutePDF': 8210, 'Cyber': 8211, 'CyberDefender': 8212, 'CyberLinks': 8213, 'CyberLynks': 8214, 'CyberlinkPowerDirector': 8215, 'Cyberlinke': 8216, 'D3000': 8217, 'DC': 8218, 'DD': 8219, 'DDE': 8220, 'DEAD': 8221, 'DELETING': 8222, 'DELL': 8223, 'DELUXE': 8224, 'DESIGNEED': 8225, 'DETECTED': 8226, 'DEVICE': 8227, 'DEVICES': 8228, 'DFX': 8229, 'DH': 8230, 'DIDNT': 8231, 'DIFFICULTY': 8232, 'DIGITAL': 8233, 'DIRECTOR': 8234, 'DISAPPEAR': 8235, 'DISAPPEARED': 8236, 'DISASTER': 8237, 'DISCUSSES': 8238, 'DIYer': 8239, 'DJ': 8240, 'DNR': 8241, 'DNS': 8242, 'DOCUMENT': 8243, 'DOING': 8244, 'DOJ': 8245, 'DONE': 8246, 'DRAW': 8247, 'DSA': 8248, 'DVC': 8249, 'DVDCD': 8250, 'DVDS': 8251, 'DVR': 8252, 'DWG': 8253, 'Dad': 8254, 'Danish': 8255, 'Darkroom': 8256, 'Darn': 8257, 'Dash': 8258, 'Dashboard': 8259, 'DataColors': 8260, 'Database': 8261, 'Daunting': 8262, 'DeLorme': 8263, 'Death': 8264, 'Debit': 8265, 'Decades': 8266, 'Deception': 8267, 'Deceptive': 8268, 'Deciding': 8269, 'Deduct': 8270, 'Deducting': 8271, 'Deep': 8272, 'Delivers': 8273, 'Delivery': 8274, 'Delorme': 8275, 'Delormes': 8276, 'Desire': 8277, 'Deskmate': 8278, 'Detection': 8279, 'Dictionaries': 8280, 'Different': 8281, 'Difficulty': 8282, 'Dilla': 8283, 'Dimensions': 8284, 'Directorzonecom': 8285, 'Disable': 8286, 'Disappointed': 8287, 'Disappointing': 8288, 'Disclosure': 8289, 'Discovered': 8290, 'Discovering': 8291, 'Discs': 8292, 'Disgusting': 8293, 'Disney': 8294, 'Dispositions': 8295, 'Distro': 8296, 'DivX': 8297, 'Doc': 8298, 'Docs': 8299, 'DocuCom': 8300, 'Document': 8301, 'Dollar': 8302, 'Dominican': 8303, 'Dongle': 8304, 'Doodleburg': 8305, 'Doody': 8306, 'Dragonball': 8307, 'Drawing': 8308, 'Drews': 8309, 'Drivers': 8310, 'Drives': 8311, 'DropBox': 8312, 'Dropbox': 8313, 'Dropped': 8314, 'Dull': 8315, 'Dummy': 8316, 'E6750': 8317, 'ECPA': 8318, 'EDITABLE': 8319, 'EMAIL': 8320, 'EMC': 8321, 'EMPTOR': 8322, 'ENORMOUS': 8323, 'ENTIRE': 8324, 'EQUIVALENT': 8325, 'ERRORS': 8326, 'ESET': 8327, 'ESPECIALLY': 8328, 'ETC': 8329, 'EVEN': 8330, 'EVO': 8331, 'EXCEL': 8332, 'EXCELLANT': 8333, 'EXCEPT': 8334, 'EXPERIENCES': 8335, 'EXPERIMENTING': 8336, 'EXPOR': 8337, 'EXTORTION': 8338, 'EXTRA': 8339, 'EXTRAS': 8340, 'EZ': 8341, 'Earthlink': 8342, 'Easiest': 8343, 'East': 8344, 'Eats': 8345, 'Ebook': 8346, 'Edward': 8347, 'EeePC': 8348, 'Efficiency': 8349, 'Effort': 8350, 'Efiling': 8351, 'Eight': 8352, 'El': 8353, 'Elected': 8354, 'Electronics': 8355, 'Element': 8356, 'Elite': 8357, 'Elmo': 8358, 'Eloises': 8359, 'Else': 8360, 'Emails': 8361, 'Embedded': 8362, 'Emily': 8363, 'Empire': 8364, 'Enables': 8365, 'Encyclopedia': 8366, 'Ended': 8367, 'Engine': 8368, 'Engineer': 8369, 'Enjoy': 8370, 'Enjoyed': 8371, 'Enter': 8372, 'Entered': 8373, 'Entering': 8374, 'Entry': 8375, 'Envy': 8376, 'Epson': 8377, 'Equip': 8378, 'Eraser': 8379, 'Ernst': 8380, 'Errors': 8381, 'Eset': 8382, 'Essentially': 8383, 'Estimates': 8384, 'Evaluation': 8385, 'Everytime': 8386, 'Ex': 8387, 'Excluding': 8388, 'Expect': 8389, 'Expenses': 8390, 'Experience': 8391, 'Experts': 8392, 'Expose': 8393, 'Extended': 8394, 'Extra': 8395, 'Extras': 8396, 'Extreme': 8397, 'EyeTV': 8398, 'Eyes': 8399, 'F8N044': 8400, 'FB': 8401, 'FED': 8402, 'FEEDS': 8403, 'FEW': 8404, 'FIDELITY': 8405, 'FILM': 8406, 'FIN': 8407, 'FIRST': 8408, 'FIVE': 8409, 'FIre': 8410, 'FLAC': 8411, 'FOLDER': 8412, 'FORCE': 8413, 'FOREVER': 8414, 'FRESH': 8415, 'FTW': 8416, 'FULLY': 8417, 'FUNCTIONALITY': 8418, 'FWIW': 8419, 'Face': 8420, 'FaceFilter': 8421, 'Facing': 8422, 'Fact': 8423, 'Fairmont': 8424, 'Familiar': 8425, 'Fan': 8426, 'Farrells': 8427, 'FastCan': 8428, 'FastFlick': 8429, 'Faster': 8430, 'Fatal': 8431, 'Favorites': 8432, 'Faxes': 8433, 'Fear': 8434, 'Feather': 8435, 'Fedora': 8436, 'Ferrari': 8437, 'Ferrel': 8438, 'Fi': 8439, 'Field': 8440, 'FileZilla': 8441, 'FileZillas': 8442, 'Filecabinets': 8443, 'Filed': 8444, 'Filezilla': 8445, 'Filing': 8446, 'Filter': 8447, 'Fine': 8448, 'Fires': 8449, 'Firestone': 8450, 'Fixed': 8451, 'Fixer': 8452, 'Flatly': 8453, 'Flaws': 8454, 'Flight': 8455, 'Follow': 8456, 'Fool': 8457, 'Foreign': 8458, 'Foundation': 8459, 'Fourth': 8460, 'Framework': 8461, 'Francisco': 8462, 'FreeAVG': 8463, 'FreeStyle': 8464, 'Freezes': 8465, 'Friendly': 8466, 'Front': 8467, 'Froyo': 8468, 'Frustrating': 8469, 'Frustration': 8470, 'Frys': 8471, 'Function': 8472, 'Functional': 8473, 'Funhouse': 8474, 'Funny': 8475, 'Furthermore': 8476, 'Fusions': 8477, 'GEEK': 8478, 'GIGABYTES': 8479, 'GIS': 8480, 'GIVE': 8481, 'GIVEN': 8482, 'GLITCH': 8483, 'GMBH': 8484, 'GOING': 8485, 'GOM': 8486, 'GOO': 8487, 'GOODNESS': 8488, 'GOTTA': 8489, 'GPA': 8490, 'GRABBED': 8491, 'GREATI': 8492, 'GREEN': 8493, 'GUESS': 8494, 'Gamer': 8495, 'Games': 8496, 'Geitner': 8497, 'Gen': 8498, 'Generates': 8499, 'Genlock': 8500, 'Geographics': 8501, 'George': 8502, 'Georges': 8503, 'Ggb': 8504, 'Gigs': 8505, 'Gil': 8506, 'Girard': 8507, 'Girards': 8508, 'Git': 8509, 'Giving': 8510, 'Glad': 8511, 'Glo': 8512, 'Glos': 8513, 'GoPro': 8514, 'Godzilla': 8515, 'Going': 8516, 'Goldilocks': 8517, 'Googles': 8518, 'Googling': 8519, 'Gorgeous': 8520, 'Gorilla': 8521, 'Gracenotes': 8522, 'Graffiti': 8523, 'Grate': 8524, 'Grey': 8525, 'Greyed': 8526, 'Gromit': 8527, 'Groups': 8528, 'Guarantee': 8529, 'Guard': 8530, 'Guessing': 8531, 'Guest': 8532, 'GuideMe': 8533, 'Gusion': 8534, 'Guy': 8535, 'H265': 8536, 'HAPPENS': 8537, 'HATE': 8538, 'HAVENT': 8539, 'HDTV': 8540, 'HDV': 8541, 'HDX': 8542, 'HEADING': 8543, 'HEADSET': 8544, 'HELPFUL': 8545, 'HERInteractive': 8546, 'HEVC': 8547, 'HF10': 8548, 'HGTVS': 8549, 'HIG': 8550, 'HIGHLY': 8551, 'HINT': 8552, 'HOLDINGS': 8553, 'HORRIBLE': 8554, 'HORRID': 8555, 'HOUSEHOLD': 8556, 'HPNvidiaSoundblaster': 8557, 'HUNDREDS': 8558, 'HUUUUGE': 8559, 'Half': 8560, 'Handling': 8561, 'Handy': 8562, 'Hang': 8563, 'Hangs': 8564, 'Hanochs': 8565, 'Happier': 8566, 'Hardware': 8567, 'Hassle': 8568, 'Hate': 8569, 'HelloIn': 8570, 'Helped': 8571, 'Helpful': 8572, 'Helps': 8573, 'Herinteractive': 8574, 'Heritage': 8575, 'Highest': 8576, 'Hit': 8577, 'Hitachi': 8578, 'Hobby': 8579, 'Hogs': 8580, 'Homer': 8581, 'Honestechs': 8582, 'Horrendous': 8583, 'Howdy': 8584, 'HoweverI': 8585, 'Huge': 8586, 'Human': 8587, 'Hung': 8588, 'Hurleys': 8589, 'I5': 8590, 'IBank3': 8591, 'ICE': 8592, 'ICM': 8593, 'III': 8594, 'IKf': 8595, 'IM': 8596, 'IMPROVES': 8597, 'IMac': 8598, 'IMs': 8599, 'INBOX': 8600, 'INCH': 8601, 'INDEX': 8602, 'INDIVIDUAL': 8603, 'INFO': 8604, 'ING': 8605, 'INSTALLATION': 8606, 'INSTALLED': 8607, 'INSTEAD': 8608, 'INTERESTING': 8609, 'INTO': 8610, 'INTRUSIVE': 8611, 'INVENTED': 8612, 'IOLTA': 8613, 'IP': 8614, 'IPOD': 8615, 'IQ': 8616, 'IRAs': 8617, 'IRRELEVANT': 8618, 'IRfanview': 8619, 'ISSUES': 8620, 'ITSELF': 8621, 'ITs': 8622, 'ITunes': 8623, 'IV': 8624, 'IX': 8625, 'IZArc': 8626, 'Ideally': 8627, 'Ie': 8628, 'Ii': 8629, 'Illustration': 8630, 'Imaging': 8631, 'Imovie': 8632, 'Impressed': 8633, 'Inch': 8634, 'Incorporates': 8635, 'Incredibly': 8636, 'Indeed': 8637, 'Independent': 8638, 'Index': 8639, 'Initial': 8640, 'Ink': 8641, 'Innovation': 8642, 'Innovative': 8643, 'Inputting': 8644, 'Insofar': 8645, 'Instaleed': 8646, 'Installer': 8647, 'Instlled': 8648, 'Instruction': 8649, 'Instructional': 8650, 'Instructions': 8651, 'Instructor': 8652, 'Internety': 8653, 'Intimidating': 8654, 'Intui': 8655, 'Intuos': 8656, 'Inuit': 8657, 'Invesment': 8658, 'Investment': 8659, 'Invoicing': 8660, 'Iolo': 8661, 'Ipads': 8662, 'Iraq': 8663, 'Island': 8664, 'Issues': 8665, 'Italy': 8666, 'JOKE': 8667, 'JPG': 8668, 'JPMorgan': 8669, 'JV': 8670, 'Jackson': 8671, 'Jade': 8672, 'Jan': 8673, 'Jascs': 8674, 'Jenn': 8675, 'Job': 8676, 'Jones': 8677, 'Judy': 8678, 'Junior': 8679, 'Junk': 8680, 'Jurassic': 8681, 'K1s': 8682, 'KB2670838': 8683, 'KEY': 8684, 'KIS7': 8685, 'KNOX': 8686, 'KPT': 8687, 'Kais': 8688, 'Kasperksy': 8689, 'Kasperky': 8690, 'Kasperkys': 8691, 'Kasperski': 8692, 'Kasperskybeen': 8693, 'Katie': 8694, 'Katz': 8695, 'Keyboard': 8696, 'Kicking': 8697, 'Kidpix': 8698, 'Kids': 8699, 'Kindergarten': 8700, 'Kleenex': 8701, 'Kodak': 8702, 'Korean': 8703, 'Koss': 8704, 'Ksperskys': 8705, 'L': 8706, 'LACKING': 8707, 'LAPTOP': 8708, 'LAYERS': 8709, 'LC': 8710, 'LCD': 8711, 'LICENSE': 8712, 'LISP': 8713, 'LITERALLY': 8714, 'LOAD': 8715, 'LOCAL': 8716, 'LONG': 8717, 'LONGER': 8718, 'LOST': 8719, 'LOTS': 8720, 'LOVED': 8721, 'LOVING': 8722, 'LOYALITY': 8723, 'Ladies': 8724, 'Lame': 8725, 'Land': 8726, 'Lap': 8727, 'Laptops': 8728, 'Late': 8729, 'Latest': 8730, 'Latitude': 8731, 'Launching': 8732, 'Lavasoft': 8733, 'Lawyers': 8734, 'Layout': 8735, 'Laziness': 8736, 'LeapPad2': 8737, 'Leapster': 8738, 'Learned': 8739, 'Least': 8740, 'Legacy': 8741, 'Lengthy': 8742, 'Leveraging': 8743, 'LibreOfficeorg': 8744, 'License': 8745, 'Licensed': 8746, 'Lies': 8747, 'LightWave': 8748, 'LightZone': 8749, 'Lightshop': 8750, 'Lightzone': 8751, 'Likewise': 8752, 'Lil': 8753, 'Lilacs': 8754, 'LinkedIn': 8755, 'Listed': 8756, 'Literally': 8757, 'Little': 8758, 'LiveCare': 8759, 'Load': 8760, 'Locate': 8761, 'Lock': 8762, 'Locker': 8763, 'Log': 8764, 'Logitech': 8765, 'Longest': 8766, 'Longfintuna': 8767, 'Longtime': 8768, 'Lotus': 8769, 'Louisiana': 8770, 'Lovely': 8771, 'Lt': 8772, 'Lucky': 8773, 'Luv': 8774, 'Lynda': 8775, 'MAGIX': 8776, 'MAID': 8777, 'MAILSO': 8778, 'MAKES': 8779, 'MANUAL': 8780, 'MBP': 8781, 'MBR': 8782, 'MBs': 8783, 'MCE': 8784, 'MEP': 8785, 'MESSAGES': 8786, 'MEd': 8787, 'MINE': 8788, 'MINT': 8789, 'MISC': 8790, 'MIcrosoft': 8791, 'MONEY': 8792, 'MOV': 8793, 'MOVE': 8794, 'MOVIE': 8795, 'MOVING': 8796, 'MOney': 8797, 'MPC': 8798, 'MPEG': 8799, 'MS10': 8800, 'MSMoney': 8801, 'MSO': 8802, 'MSRE': 8803, 'MSST': 8804, 'MSWIN': 8805, 'MSWord': 8806, 'MSo': 8807, 'MUT': 8808, 'MVSP': 8809, 'MX': 8810, 'MX2004': 8811, 'MacBookPro': 8812, 'MacInTax': 8813, 'MacOS': 8814, 'MacRelevant': 8815, 'MacUpdate': 8816, 'MacWrite': 8817, 'Macbooks': 8818, 'Macintoshes': 8819, 'Macro': 8820, 'Macromedia': 8821, 'Macromedias': 8822, 'Macros': 8823, 'Magazines': 8824, 'Magellan': 8825, 'Major': 8826, 'Makeup': 8827, 'Malicous': 8828, 'Malta': 8829, 'Manage': 8830, 'Managed': 8831, 'Manages': 8832, 'Managing': 8833, 'Manual': 8834, 'MapPoints': 8835, 'Marketed': 8836, 'Marketplace': 8837, 'Married': 8838, 'Maryland': 8839, 'Masks': 8840, 'Massive': 8841, 'Master': 8842, 'Mastering': 8843, 'Math': 8844, 'Matic': 8845, 'Matters': 8846, 'Maya': 8847, 'McAfeeit': 8848, 'McCafee': 8849, 'McCaffee': 8850, 'McDonald': 8851, 'McKafe': 8852, 'McKafee': 8853, 'McStuffins': 8854, 'McaFee': 8855, 'Mcafees': 8856, 'Mcaffe': 8857, 'Mcaffee': 8858, 'Mechanics': 8859, 'Megs': 8860, 'Melt': 8861, 'Men': 8862, 'Messed': 8863, 'Mexican': 8864, 'Mexico': 8865, 'Mic': 8866, 'Mico': 8867, 'Micosoft': 8868, 'MicroSofts': 8869, 'Microcomputer': 8870, 'Middle': 8871, 'Midway': 8872, 'Migrated': 8873, 'Millenium': 8874, 'Millennium': 8875, 'Minecraft': 8876, 'MiniTool': 8877, 'Minimal': 8878, 'Minimize': 8879, 'Minutes': 8880, 'Miro': 8881, 'Miserable': 8882, 'Mocro': 8883, 'Modern': 8884, 'Money98': 8885, 'Moneydance': 8886, 'Monitor': 8887, 'Monopoly': 8888, 'Morgan': 8889, 'Morton': 8890, 'Move': 8891, 'Moved': 8892, 'MovieMaker': 8893, 'Moving': 8894, 'Mozilla': 8895, 'MrPencil': 8896, 'Msft': 8897, 'MultiPlan': 8898, 'Multiple': 8899, 'Mutimedia': 8900, 'MyDVD': 8901, 'MyMaccom': 8902, 'NA': 8903, 'NC': 8904, 'NC10': 8905, 'NCH': 8906, 'NDA': 8907, 'NEEDS': 8908, 'NEGATIVES': 8909, 'NERO': 8910, 'NET': 8911, 'NEWS': 8912, 'NG': 8913, 'NJ': 8914, 'NOB2': 8915, 'NON': 8916, 'NOrton': 8917, 'NPR': 8918, 'NSB': 8919, 'NTFS': 8920, 'NTSC': 8921, 'NUC': 8922, 'NUs': 8923, 'NXT2': 8924, 'NY': 8925, 'Name': 8926, 'Nancys': 8927, 'Natalie': 8928, 'Natural': 8929, 'Naturallyspeaking': 8930, 'NcAffee': 8931, 'Nearly': 8932, 'NeatReceipts': 8933, 'NeatScan': 8934, 'Needless': 8935, 'Nero2015': 8936, 'NetBooks': 8937, 'Netflix': 8938, 'Network': 8939, 'Neuman': 8940, 'Nevertheless': 8941, 'Newer': 8942, 'Newest': 8943, 'Nightmare': 8944, 'Nitro': 8945, 'Nolocom': 8946, 'Nope': 8947, 'Nor': 8948, 'Norman': 8949, 'Norten': 8950, 'Nortonbut': 8951, 'Nortoncom': 8952, 'Notes': 8953, 'Noticeable': 8954, 'Notifies': 8955, 'Notwithstanding': 8956, 'Nova': 8957, 'Novastor': 8958, 'Novel': 8959, 'Nowhere': 8960, 'Nuances': 8961, 'Numerous': 8962, 'Nutshell': 8963, 'O2k3': 8964, 'ODB': 8965, 'OFFICE': 8966, 'OFFICIAL': 8967, 'ONENOTE': 8968, 'ONLINE': 8969, 'ONTO': 8970, 'ORDER': 8971, 'OSthan': 8972, 'OTHER': 8973, 'OUTLOOK': 8974, 'Obtrusive': 8975, 'Occassionally': 8976, 'Oculus': 8977, 'Oddly': 8978, 'Offering': 8979, 'Offers': 8980, 'Office365': 8981, 'Officecom': 8982, 'Offices': 8983, 'Okwith': 8984, 'Onboarding': 8985, 'OpenType': 8986, 'Operates': 8987, 'Operations': 8988, 'Opinion': 8989, 'Optimize': 8990, 'Optional': 8991, 'Options': 8992, 'Oracle': 8993, 'Organizing': 8994, 'Ouch': 8995, 'Ours': 8996, 'Outdated': 8997, 'Outperforms': 8998, 'Overcharged': 8999, 'Overitis': 9000, 'Overkill': 9001, 'Own': 9002, 'Owner': 9003, 'P1500': 9004, 'P4': 9005, 'P7': 9006, 'P75': 9007, 'PAF': 9008, 'PAINT': 9009, 'PAL': 9010, 'PASSWORD': 9011, 'PATA': 9012, 'PAY': 9013, 'PCP150526': 9014, 'PCTOOLS': 9015, 'PCU': 9016, 'PCWorld': 9017, 'PCillian': 9018, 'PD6': 9019, 'PD7': 9020, 'PDA': 9021, 'PDFDocs': 9022, 'PDFFill': 9023, 'PDVD14': 9024, 'PE4': 9025, 'PER': 9026, 'PERFECTLY': 9027, 'PERSONAL': 9028, 'PGP': 9029, 'PHOTS': 9030, 'PIII': 9031, 'PLUS': 9032, 'POC': 9033, 'POOR': 9034, 'POWER': 9035, 'POWERPOINT': 9036, 'PP12': 9037, 'PREFERRED': 9038, 'PREVENTED': 9039, 'PREVIOUS': 9040, 'PRICING': 9041, 'PRIMARY': 9042, 'PROBLEM': 9043, 'PROBLEMATIC': 9044, 'PROBLEMS': 9045, 'PRODUCTS': 9046, 'PROFESSIONALS': 9047, 'PROGRAMS': 9048, 'PROTECTED': 9049, 'PROUD': 9050, 'PROVIDES': 9051, 'PSPX4': 9052, 'PTP': 9053, 'PURCHASE': 9054, 'PUTS': 9055, 'Packard': 9056, 'Pad': 9057, 'Page': 9058, 'Pain': 9059, 'PainShop': 9060, 'Painless': 9061, 'PaintShopPro': 9062, 'PaintShot': 9063, 'Paired': 9064, 'Pandora': 9065, 'Panorama': 9066, 'PanoramaPlus': 9067, 'Paragon': 9068, 'Parallel': 9069, 'Parrallels': 9070, 'Particle': 9071, 'Particularly': 9072, 'Partion': 9073, 'Partner': 9074, 'Pass': 9075, 'Password': 9076, 'Pav': 9077, 'Pavilion': 9078, 'Pavillion': 9079, 'Peach': 9080, 'Pencil': 9081, 'Performed': 9082, 'Period': 9083, 'Periodic': 9084, 'Personalize': 9085, 'Phenomenal': 9086, 'Phew': 9087, 'Phil': 9088, 'Phishing': 9089, 'Phoenix': 9090, 'PhotDirector': 9091, 'PhotoImpact': 9092, 'PhotoPoint': 9093, 'PhotoShops': 9094, 'Photoalbum': 9095, 'Photograph': 9096, 'Photography': 9097, 'Photomatixamong': 9098, 'Photoshops': 9099, 'Physicians': 9100, 'Pick': 9101, 'Pictures': 9102, 'Piece': 9103, 'Pimplseur': 9104, 'Pirates': 9105, 'Pixar': 9106, 'Pixelator': 9107, 'Plain': 9108, 'Planning': 9109, 'Platimum': 9110, 'Pointing': 9111, 'Points': 9112, 'Poor': 9113, 'Poorest': 9114, 'Portal': 9115, 'Portfolio': 9116, 'PoverDVD': 9117, 'PowerDirector13': 9118, 'PowerMac': 9119, 'PowerPC': 9120, 'PowerQuest': 9121, 'Powerdirector': 9122, 'Pre': 9123, 'Preliminary': 9124, 'Prepaid': 9125, 'Preparation': 9126, 'Presentation': 9127, 'Presentations': 9128, 'Primes': 9129, 'Primium': 9130, 'PrimoPDF': 9131, 'Printable': 9132, 'Printed': 9133, 'Pro3': 9134, 'Pro6': 9135, 'ProX5': 9136, 'ProX7': 9137, 'Proceed': 9138, 'Processors': 9139, 'Productivity': 9140, 'Professionals': 9141, 'Profit': 9142, 'Programs': 9143, 'Progress': 9144, 'Progressive': 9145, 'Progressives': 9146, 'Property': 9147, 'Proprietor': 9148, 'Prot': 9149, 'Protects': 9150, 'Proud': 9151, 'Provides': 9152, 'Prudence': 9153, 'Pshop': 9154, 'Publishing': 9155, 'Pulled': 9156, 'Purchasing': 9157, 'Push': 9158, 'Q2007': 9159, 'Q2015': 9160, 'QA': 9161, 'QBs': 9162, 'QE': 9163, 'QEM': 9164, 'QL': 9165, 'QUALITY': 9166, 'QUESTIONS': 9167, 'Qualities': 9168, 'Quality': 9169, 'Questionable': 9170, 'QuickTime': 9171, 'Quirky': 9172, 'R1AZ5EBK16SILN': 9173, 'R1CUX35P5Z1S9': 9174, 'R1IHMBQA36W5YR': 9175, 'R1ITSN645F9OPM': 9176, 'R1IZ3B2ROZCWBI': 9177, 'R1OJV5SLY9KTIQ': 9178, 'R1ONKYQ9H188ZL': 9179, 'R1S26DCR7GPGTS': 9180, 'R1U9ZMAQBPHQLN': 9181, 'R1VCKJCJG0288C': 9182, 'R1WRKB5YIBFEU6': 9183, 'R22VC0GTFOTC9Z': 9184, 'R25SL7KGJ4SJ07': 9185, 'R260PRR3RI016H': 9186, 'R270OEQ84GDJ9C': 9187, 'R2BPO0BBD4J2I1': 9188, 'R2EH9C7069449C': 9189, 'R2PP32Y9Y0HSNA': 9190, 'R2PTHP0AIDGAOK': 9191, 'R2RTDTN94BOX2': 9192, 'R32K8LO2C2CRSU': 9193, 'R395XY9TC1EOWX': 9194, 'R3C3UAXYSPUWO7': 9195, 'R4': 9196, 'RAID': 9197, 'RAVE': 9198, 'RB': 9199, 'RC1': 9200, 'RCRBAGWK4E8IJ': 9201, 'RE': 9202, 'READ': 9203, 'RECOMMEND': 9204, 'REFURBISHED': 9205, 'REM993TVEJNPT': 9206, 'REQUIRED': 9207, 'RESENT': 9208, 'RESOURCE': 9209, 'REST': 9210, 'RESTORE': 9211, 'RETAIL': 9212, 'RETURN': 9213, 'RG10ZZ3AFRGVB': 9214, 'RHY8XTQIL3EJ2': 9215, 'RIGHT': 9216, 'ROBW29OZYAH56': 9217, 'ROMS': 9218, 'ROXIO': 9219, 'RRRBRQP5TFY3L': 9220, 'RTM': 9221, 'RTPLA2VIBROCG': 9222, 'RUN': 9223, 'RX3J63VAIIE5E': 9224, 'Rabbit': 9225, 'Raid': 9226, 'Raising': 9227, 'Ranked': 9228, 'Ransomware': 9229, 'Rated': 9230, 'Rates': 9231, 'Ratings': 9232, 'Rays': 9233, 'Reads': 9234, 'Realistic': 9235, 'Realizing': 9236, 'Reasonable': 9237, 'Reasonably': 9238, 'Recreation': 9239, 'Red': 9240, 'RedHat': 9241, 'Redemption': 9242, 'Regarding': 9243, 'Registration': 9244, 'Relatively': 9245, 'Released': 9246, 'Reluctantly': 9247, 'Reminded': 9248, 'Remote': 9249, 'Removed': 9250, 'Remover': 9251, 'Removes': 9252, 'Renders': 9253, 'Renewed': 9254, 'Rental': 9255, 'Replacement': 9256, 'Replacing': 9257, 'Republic': 9258, 'Requierment': 9259, 'Reservist': 9260, 'Resources': 9261, 'Restores': 9262, 'Restricted': 9263, 'Results': 9264, 'Retail': 9265, 'RetailSoftware': 9266, 'Retired': 9267, 'Return': 9268, 'Reviewed': 9269, 'Reviews': 9270, 'Ribbon': 9271, 'Ribbons': 9272, 'Rich': 9273, 'Rick': 9274, 'Rift': 9275, 'Rights': 9276, 'Robertson': 9277, 'Rock': 9278, 'Rogers': 9279, 'Roku': 9280, 'Roller': 9281, 'Rom': 9282, 'Roman': 9283, 'Rootv6': 9284, 'RosettaStone': 9285, 'Rotten': 9286, 'Roxy': 9287, 'Royal': 9288, 'Rs': 9289, 'Russiaso': 9290, 'S2': 9291, 'SAGA': 9292, 'SAI': 9293, 'SAID': 9294, 'SASS': 9295, 'SCK': 9296, 'SCREENSAVER': 9297, 'SEE': 9298, 'SEEMS': 9299, 'SELF': 9300, 'SELOPW32': 9301, 'SERVICED': 9302, 'SEVERAL': 9303, 'SEVERE': 9304, 'SHAME': 9305, 'SIGN': 9306, 'SIGNL': 9307, 'SIL': 9308, 'SINGLE': 9309, 'SKETCHBOOK': 9310, 'SLOWER': 9311, 'SLOWERFrom': 9312, 'SLOWERand': 9313, 'SOBs': 9314, 'SOLO': 9315, 'SOOOOOOO': 9316, 'SORRY': 9317, 'SP1a': 9318, 'SPACE': 9319, 'SPEAK': 9320, 'SPECTOR': 9321, 'SPECTORSOFT': 9322, 'SPENT': 9323, 'SPY': 9324, 'SQL': 9325, 'SQUAD': 9326, 'SSB': 9327, 'STABLE': 9328, 'STAR': 9329, 'STARTED': 9330, 'STRONGLY': 9331, 'STUDIO': 9332, 'SUCKS': 9333, 'SUDDENLY': 9334, 'SURPRISE': 9335, 'SYSTEM': 9336, 'SaaS': 9337, 'Sad': 9338, 'SafeKey': 9339, 'SafeSync': 9340, 'Safeguard': 9341, 'Safest': 9342, 'Safety': 9343, 'Said': 9344, 'Sales': 9345, 'Sally': 9346, 'Sams': 9347, 'San': 9348, 'Satisfied': 9349, 'Saved': 9350, 'Savings': 9351, 'ScanSoft': 9352, 'Scanner': 9353, 'Scary': 9354, 'Scheduling': 9355, 'Schlock': 9356, 'Scholl': 9357, 'Scoop': 9358, 'Scorefitter': 9359, 'Scratch': 9360, 'Screaming': 9361, 'Screen': 9362, 'ScreenCap': 9363, 'Screens': 9364, 'Sea': 9365, 'Seagate': 9366, 'Sealed': 9367, 'Seamlessly': 9368, 'Secondly': 9369, 'Secuirty': 9370, 'Securty': 9371, 'Select': 9372, 'Selections': 9373, 'Semantec': 9374, 'Send': 9375, 'Senior': 9376, 'Sensors': 9377, 'Separate': 9378, 'Shame': 9379, 'Sheet': 9380, 'Shield': 9381, 'Shifted': 9382, 'Shortly': 9383, 'Shot': 9384, 'Sick': 9385, 'Sienna': 9386, 'Significant': 9387, 'Significantly': 9388, 'Sim': 9389, 'Similar': 9390, 'Sites': 9391, 'Six': 9392, 'Sketch': 9393, 'Sketchup': 9394, 'Skill': 9395, 'Skin': 9396, 'Slick': 9397, 'Slim': 9398, 'Slowly': 9399, 'Smartphones': 9400, 'Smoothing': 9401, 'Socrates': 9402, 'SoftwareCW': 9403, 'Softwares': 9404, 'Soi': 9405, 'Sold': 9406, 'Sole': 9407, 'Solution': 9408, 'Solutions': 9409, 'Solved': 9410, 'Solving': 9411, 'Something': 9412, 'Sonic': 9413, 'Sooner': 9414, 'Sothere': 9415, 'Sound': 9416, 'Source': 9417, 'South': 9418, 'Spam': 9419, 'Spammers': 9420, 'Span': 9421, 'Spark': 9422, 'Spec': 9423, 'Specs': 9424, 'Speech': 9425, 'Spot': 9426, 'Spreadsheet': 9427, 'Spreadsheets': 9428, 'SpyBot': 9429, 'SpySweeper': 9430, 'Spybots': 9431, 'Spyder2Express': 9432, 'Spysweeper': 9433, 'Squad': 9434, 'Ss': 9435, 'Stable': 9436, 'Stage': 9437, 'Stand': 9438, 'Star': 9439, 'StarDock': 9440, 'Startups': 9441, 'Staying': 9442, 'Steam': 9443, 'Steep': 9444, 'Stepping': 9445, 'Stinks': 9446, 'Stock': 9447, 'Stop': 9448, 'Stops': 9449, 'Story': 9450, 'Straightforward': 9451, 'Strangely': 9452, 'Stream': 9453, 'Streaming': 9454, 'Strong': 9455, 'Strudio': 9456, 'Stu': 9457, 'StuffIt': 9458, 'Stuffit': 9459, 'Stupid': 9460, 'Subscription': 9461, 'Subterfuge': 9462, 'Subtitles': 9463, 'Sudio': 9464, 'Suffice': 9465, 'Suggest': 9466, 'Sunset': 9467, 'Superior': 9468, 'Supports': 9469, 'Supposedly': 9470, 'Surprised': 9471, 'Surprisingly': 9472, 'Sweed': 9473, 'Swiched': 9474, 'Switching': 9475, 'Swite': 9476, 'Symantech': 9477, 'Symantecyouve': 9478, 'Synopsis': 9479, 'TAR': 9480, 'TAXCUT': 9481, 'TECH': 9482, 'THANK': 9483, 'THEIR': 9484, 'THEM': 9485, 'THEN': 9486, 'THINK': 9487, 'THOGHT': 9488, 'THOROUGHLY': 9489, 'THOUGHT': 9490, 'THREATS': 9491, 'THRILLED': 9492, 'THis': 9493, 'TIA': 9494, 'TIGER': 9495, 'TIL': 9496, 'TITANIUM': 9497, 'TL201': 9498, 'TMobile': 9499, 'TMs': 9500, 'TODAY': 9501, 'TOS': 9502, 'TP': 9503, 'TRASH': 9504, 'TREND': 9505, 'TRIAL': 9506, 'TRS': 9507, 'TRYING': 9508, 'TTax2013': 9509, 'TTpeople': 9510, 'TURBO': 9511, 'TURN': 9512, 'TVs': 9513, 'TYPING': 9514, 'Tab': 9515, 'Talk': 9516, 'Tam': 9517, 'Tandy': 9518, 'TechGuy': 9519, 'Technical': 9520, 'Technically': 9521, 'Technician': 9522, 'Technologys': 9523, 'Teenage': 9524, 'Telephone': 9525, 'Television': 9526, 'Tell': 9527, 'Terminal': 9528, 'Terrible': 9529, 'Testing': 9530, 'TextBridge': 9531, 'Th': 9532, 'Them': 9533, 'Thereafter': 9534, 'Thia': 9535, 'Thinking': 9536, 'Thursday': 9537, 'Tiffens': 9538, 'Tigernew': 9539, 'Timothy': 9540, 'Today': 9541, 'Todays': 9542, 'Together': 9543, 'Toll': 9544, 'Toms': 9545, 'Tons': 9546, 'Tool': 9547, 'Toolbar': 9548, 'Toyota': 9549, 'Tracker': 9550, 'Tracking': 9551, 'Traditional': 9552, 'Transaction': 9553, 'Transfer': 9554, 'Transfers': 9555, 'Transformer': 9556, 'Transition': 9557, 'Transitional': 9558, 'Tray': 9559, 'Treasure': 9560, 'Trees': 9561, 'Triple': 9562, 'Trouble': 9563, 'TruTheater': 9564, 'TrueKey': 9565, 'Truly': 9566, 'Trying': 9567, 'Ttax': 9568, 'TubroTax': 9569, 'TurbTax': 9570, 'TurboCad': 9571, 'Turbox': 9572, 'Turned': 9573, 'Tweet': 9574, 'Tweeted': 9575, 'Twitter': 9576, 'Tycoon': 9577, 'Type': 9578, 'UEFI': 9579, 'UGLY': 9580, 'UNDER': 9581, 'UNFORTUNATELY': 9582, 'UNLESS': 9583, 'UNRELIABILITY': 9584, 'UNRESPONSIVE': 9585, 'UNSUPPORTED': 9586, 'UNinstall': 9587, 'UP': 9588, 'UPDATES': 9589, 'UPSHOT': 9590, 'URL': 9591, 'Uleads': 9592, 'Ultimately': 9593, 'UltraDev': 9594, 'Ultrabooks': 9595, 'Unbelievable': 9596, 'Unbreakable': 9597, 'Understand': 9598, 'Unessentials': 9599, 'Unfortunate': 9600, 'Unhappy': 9601, 'Uninstall': 9602, 'Uninstalls': 9603, 'Units': 9604, 'Unlimited': 9605, 'Unnecessarily': 9606, 'Unstable': 9607, 'Updating': 9608, 'Upgraders': 9609, 'Upgrades': 9610, 'Upload': 9611, 'Uploaded': 9612, 'Useful': 9613, 'Utter': 9614, 'V1': 9615, 'V12': 9616, 'V15': 9617, 'VAIO': 9618, 'VAST': 9619, 'VER': 9620, 'VIDEO': 9621, 'VIDEOS': 9622, 'VIEWER': 9623, 'VINTAGE': 9624, 'VIRUSES': 9625, 'VIXIA': 9626, 'VM4': 9627, 'VMWARE': 9628, 'VMWares': 9629, 'VOB': 9630, 'VS': 9631, 'VS6': 9632, 'VSP': 9633, 'VTech': 9634, 'Valuable': 9635, 'Vault': 9636, 'Vaults': 9637, 'Vectorworks': 9638, 'Vega': 9639, 'Vehicle': 9640, 'Velocity': 9641, 'Versions': 9642, 'Via': 9643, 'Victorian': 9644, 'VideStudio': 9645, 'VideoBoost': 9646, 'VideoPad': 9647, 'VideoStudios': 9648, 'Videos': 9649, 'Vimeo': 9650, 'Virgin': 9651, 'VirtualBox': 9652, 'Visa': 9653, 'Visio': 9654, 'VisualStudio': 9655, 'Visually': 9656, 'Vivienne': 9657, 'Vixia': 9658, 'Vosteran': 9659, 'W2': 9660, 'W2000': 9661, 'W2s': 9662, 'WAAAAY': 9663, 'WAAAY': 9664, 'WAC': 9665, 'WAITED': 9666, 'WASTE': 9667, 'WEAKLess': 9668, 'WEB': 9669, 'WHICH': 9670, 'WHILE': 9671, 'WHOLE': 9672, 'WHY': 9673, 'WHen': 9674, 'WINZIP': 9675, 'WISH': 9676, 'WISHED': 9677, 'WIll': 9678, 'WIndows': 9679, 'WMA': 9680, 'WMV': 9681, 'WONT': 9682, 'WORLD': 9683, 'WOW': 9684, 'WP12': 9685, 'WPX6': 9686, 'WPX6ENHSMBAM': 9687, 'WPX7': 9688, 'WRQs': 9689, 'WTF': 9690, 'WXP': 9691, 'WYSIWYG': 9692, 'Wacon': 9693, 'Wacum': 9694, 'Wages': 9695, 'Waited': 9696, 'Waiting': 9697, 'WalMart': 9698, 'Walks': 9699, 'Wallace': 9700, 'Warhol': 9701, 'Warp': 9702, 'Washington': 9703, 'Wast': 9704, 'WebCam': 9705, 'Webfoot': 9706, 'Webroots': 9707, 'Website': 9708, 'Welcome': 9709, 'Welltheir': 9710, 'Whatever': 9711, 'Wheee': 9712, 'Whenever': 9713, 'Wherever': 9714, 'Whoever': 9715, 'Wi': 9716, 'Wiconsin': 9717, 'Wife': 9718, 'Wills': 9719, 'Win10': 9720, 'Win2': 9721, 'Win7Pro': 9722, 'WinME': 9723, 'WinVista': 9724, 'WinXp': 9725, 'WinZIP': 9726, 'Winbdows': 9727, 'Windows10': 9728, 'Windows7': 9729, 'Wipe': 9730, 'Wisconsin': 9731, 'Wise': 9732, 'Wisely': 9733, 'Wished': 9734, 'Wonder': 9735, 'Wonderful': 9736, 'WordPerect': 9737, 'WordPerfects': 9738, 'Wordmostly': 9739, 'Wordperfects': 9740, 'Worksheet': 9741, 'Worksthats': 9742, 'Worse': 9743, 'Wound': 9744, 'Write': 9745, 'X4X5': 9746, 'X51': 9747, 'X64': 9748, 'X980': 9749, 'XPI': 9750, 'XPgod': 9751, 'XRay': 9752, 'XT': 9753, 'XXX': 9754, 'Xeon': 9755, 'Xerox': 9756, 'YAHOOOO': 9757, 'YET': 9758, 'YRS': 9759, 'YTD': 9760, 'Yall': 9761, 'Yea': 9762, 'Yesterday': 9763, 'Yoga': 9764, 'Young': 9765, 'ZAs': 9766, 'ZBook': 9767, 'ZD8000': 9768, 'ZIPping': 9769, 'ZX3': 9770, 'Zero': 9771, 'Ziping': 9772, 'Zonealarm': 9773, 'abled': 9774, 'abomination': 9775, 'aborted': 9776, 'abortive': 9777, 'aborts': 9778, 'abortso': 9779, 'abosultely': 9780, 'abr': 9781, 'abridged': 9782, 'absolulty': 9783, 'absolutly': 9784, 'academic': 9785, 'acceptably': 9786, 'accepts': 9787, 'accessed': 9788, 'accesses': 9789, 'accident': 9790, 'accidents': 9791, 'accompanying': 9792, 'accordance': 9793, 'accordingly': 9794, 'accounted': 9795, 'accross': 9796, 'accruals': 9797, 'ace': 9798, 'achieved': 9799, 'aching': 9800, 'acknowledge': 9801, 'acquaintance': 9802, 'acquainted': 9803, 'acrobat': 9804, 'acronis': 9805, 'acrylic': 9806, 'activiation': 9807, 'activism': 9808, 'actor': 9809, 'adapt': 9810, 'adapting': 9811, 'adapts': 9812, 'addicted': 9813, 'addictions': 9814, 'addon': 9815, 'addressbook': 9816, 'addressing': 9817, 'addware': 9818, 'adept': 9819, 'adequately': 9820, 'adjustment': 9821, 'admin': 9822, 'administer': 9823, 'admins': 9824, 'admirable': 9825, 'admirably': 9826, 'admite': 9827, 'adobes': 9828, 'adopted': 9829, 'adore': 9830, 'advatange': 9831, 'adventures': 9832, 'adverstising': 9833, 'advertisedUNTILL': 9834, 'advising': 9835, 'advoid': 9836, 'adwarekeyloggersbrowser': 9837, 'affirm': 9838, 'afterall': 9839, 'afternoon': 9840, 'afterthought': 9841, 'againfantasic': 9842, 'againnot': 9843, 'agency': 9844, 'agent': 9845, 'aggrandizing': 9846, 'aggravated': 9847, 'aggravatingly': 9848, 'aggravation': 9849, 'aggravations': 9850, 'aggressive': 9851, 'agrees': 9852, 'agressvie': 9853, 'ahem': 9854, 'aide': 9855, 'airline': 9856, 'airport': 9857, 'alarming': 9858, 'alas': 9859, 'album': 9860, 'alerting': 9861, 'alignment': 9862, 'alkajl': 9863, 'alkajllkjalkjal': 9864, 'alleviated': 9865, 'allied': 9866, 'alllll': 9867, 'allocate': 9868, 'allocated': 9869, 'allowable': 9870, 'allowances': 9871, 'allude': 9872, 'alpha': 9873, 'alter': 9874, 'altering': 9875, 'alternately': 9876, 'altogether': 9877, 'aluminum': 9878, 'amalgamation': 9879, 'amateurish': 9880, 'amature': 9881, 'amaze': 9882, 'amazes': 9883, 'amazingso': 9884, 'amazona': 9885, 'amend': 9886, 'amendment': 9887, 'amendments': 9888, 'amongst': 9889, 'amped': 9890, 'amuse': 9891, 'amusing': 9892, 'analog': 9893, 'analogy': 9894, 'analyze': 9895, 'ancestors': 9896, 'ancestrycoms': 9897, 'androids': 9898, 'anger': 9899, 'anniversary': 9900, 'annotating': 9901, 'announced': 9902, 'announcement': 9903, 'annoyance': 9904, 'annoyingly': 9905, 'ant': 9906, 'antiviral': 9907, 'antiviruses': 9908, 'anxiously': 9909, 'anyhow': 9910, 'anytime': 9911, 'apologies': 9912, 'apostraphes': 9913, 'appealing': 9914, 'appearence': 9915, 'appetizer': 9916, 'applaud': 9917, 'apples': 9918, 'applying': 9919, 'appreciable': 9920, 'apprehension': 9921, 'apprepriate': 9922, 'approaches': 9923, 'appropriated': 9924, 'appropriately': 9925, 'april': 9926, 'aprioritys': 9927, 'aquatic': 9928, 'ar': 9929, 'archived': 9930, 'archiver': 9931, 'arena': 9932, 'arguably': 9933, 'arms': 9934, 'arrives': 9935, 'arriving': 9936, 'arrogantly': 9937, 'arrow': 9938, 'artsy': 9939, 'aspire': 9940, 'aspiring': 9941, 'ass': 9942, 'assembling': 9943, 'assembly': 9944, 'assess': 9945, 'asset': 9946, 'assign': 9947, 'assistant': 9948, 'associate': 9949, 'associates': 9950, 'assumed': 9951, 'assumption': 9952, 'assurance': 9953, 'assured': 9954, 'atacks': 9955, 'ate': 9956, 'athletes': 9957, 'athought': 9958, 'atlas': 9959, 'atrocious': 9960, 'attaboy': 9961, 'attend': 9962, 'attended': 9963, 'attorneyBill': 9964, 'audiobooks': 9965, 'aunt': 9966, 'auspiciously': 9967, 'authorize': 9968, 'authors': 9969, 'autism': 9970, 'autocad': 9971, 'autodesk': 9972, 'automagically': 9973, 'automattically': 9974, 'automotive': 9975, 'avail': 9976, 'availability': 9977, 'avatar': 9978, 'averages': 9979, 'avg': 9980, 'avidly': 9981, 'avoiding': 9982, 'await': 9983, 'aways': 9984, 'aweful': 9985, 'awkwardly': 9986, 'bE': 9987, 'babies': 9988, 'backround': 9989, 'backs': 9990, 'bacon': 9991, 'badvery': 9992, 'baffled': 9993, 'bagel': 9994, 'bait': 9995, 'baitagain': 9996, 'baked': 9997, 'balcony': 9998, 'ballet': 9999, 'balls': 10000, 'bandwagon': 10001, 'bandwidth': 10002, 'barber': 10003, 'barebones': 10004, 'barf': 10005, 'barrel': 10006, 'bars': 10007, 'basely': 10008, 'bases': 10009, 'basher': 10010, 'bashing': 10011, 'bastard': 10012, 'bat': 10013, 'batch': 10014, 'bated': 10015, 'battling': 10016, 'beacause': 10017, 'beachball': 10018, 'beans': 10019, 'bears': 10020, 'beatenyet': 10021, 'becauase': 10022, 'beforehand': 10023, 'begining': 10024, 'begins': 10025, 'begs': 10026, 'behaves': 10027, 'behold': 10028, 'believer': 10029, 'bell': 10030, 'belligerent': 10031, 'bellwether': 10032, 'benchmarks': 10033, 'beneath': 10034, 'beneficial': 10035, 'beneficiary': 10036, 'bestseller': 10037, 'bet': 10038, 'beter': 10039, 'betting': 10040, 'bigtime': 10041, 'binds': 10042, 'biologist': 10043, 'birds': 10044, 'birth': 10045, 'birthdates': 10046, 'birthday': 10047, 'biteach': 10048, 'bites': 10049, 'bits': 10050, 'biz': 10051, 'black': 10052, 'blading': 10053, 'blahblahblah': 10054, 'blamed': 10055, 'blames': 10056, 'bland': 10057, 'blemishes': 10058, 'blindly': 10059, 'bloating': 10060, 'blogs': 10061, 'blood': 10062, 'blossoming': 10063, 'bluray': 10064, 'blurry': 10065, 'boatload': 10066, 'bob': 10067, 'boggling': 10068, 'boggy': 10069, 'boiled': 10070, 'bonuses': 10071, 'bookmarked': 10072, 'bookmarks': 10073, 'boomers': 10074, 'booster': 10075, 'bootcamp': 10076, 'bootcamped': 10077, 'border': 10078, 'borders': 10079, 'bore': 10080, 'bothersome': 10081, 'bountiful': 10082, 'boycott': 10083, 'bracketed': 10084, 'branched': 10085, 'branding': 10086, 'brave': 10087, 'bread': 10088, 'breadth': 10089, 'breakout': 10090, 'breath': 10091, 'breathe': 10092, 'breathtaking': 10093, 'brighten': 10094, 'brightness': 10095, 'brilliance': 10096, 'brilliantly': 10097, 'brining': 10098, 'broad': 10099, 'broadbans': 10100, 'broadcaster': 10101, 'brochure': 10102, 'brochures': 10103, 'brokerages': 10104, 'bsns': 10105, 'bu': 10106, 'bubble': 10107, 'budding': 10108, 'buff': 10109, 'buffalo': 10110, 'bugging': 10111, 'builders': 10112, 'bulit': 10113, 'bulky': 10114, 'bulletproof': 10115, 'bullish': 10116, 'bummer': 10117, 'bumped': 10118, 'bunnies': 10119, 'bureaucratic': 10120, 'bush': 10121, 'businesss': 10122, 'bussiness': 10123, 'busting': 10124, 'butchery': 10125, 'butif': 10126, 'butt': 10127, 'butter': 10128, 'buttong': 10129, 'buttonizing': 10130, 'buttonso': 10131, 'bux': 10132, 'buyeasy': 10133, 'bytes': 10134, 'cabin': 10135, 'cabinet': 10136, 'cachet': 10137, 'cafe': 10138, 'calculates': 10139, 'calculation': 10140, 'calenders': 10141, 'calibrating': 10142, 'calibration': 10143, 'calucations': 10144, 'camcorders': 10145, 'cameraand': 10146, 'cameraman': 10147, 'camper': 10148, 'camping': 10149, 'camps': 10150, 'campus': 10151, 'cams': 10152, 'camtasia': 10153, 'canceled': 10154, 'cancer': 10155, 'canecelled': 10156, 'capatability': 10157, 'capbabilities': 10158, 'caps': 10159, 'captial': 10160, 'captions': 10161, 'captive': 10162, 'carries': 10163, 'carryover': 10164, 'carryovers': 10165, 'cartography': 10166, 'cast': 10167, 'castle': 10168, 'casually': 10169, 'catagory': 10170, 'catalogue': 10171, 'catastrophic': 10172, 'categorised': 10173, 'categorize': 10174, 'caveat': 10175, 'caved': 10176, 'cc': 10177, 'ccleaner': 10178, 'celebrites': 10179, 'cellphone': 10180, 'cells': 10181, 'cement': 10182, 'censorship': 10183, 'central': 10184, 'centric': 10185, 'cents': 10186, 'centuries': 10187, 'certificate': 10188, 'chain': 10189, 'chair': 10190, 'challenges': 10191, 'characteristics': 10192, 'charitable': 10193, 'chart': 10194, 'cheat': 10195, 'cheated': 10196, 'checkbooks': 10197, 'checkout': 10198, 'checkup': 10199, 'cheers': 10200, 'cheesy': 10201, 'chemicals': 10202, 'cherished': 10203, 'chew': 10204, 'chicken': 10205, 'chills': 10206, 'chipset': 10207, 'chiropractors': 10208, 'chkdsk': 10209, 'choicest': 10210, 'choked': 10211, 'choppy': 10212, 'chorus': 10213, 'chromecast': 10214, 'chucked': 10215, 'chunk': 10216, 'chunks': 10217, 'churchs': 10218, 'churning': 10219, 'cigar': 10220, 'circus': 10221, 'clack': 10222, 'clamshell': 10223, 'classified': 10224, 'classroom': 10225, 'claymation': 10226, 'cleared': 10227, 'clearer': 10228, 'clearest': 10229, 'clickable': 10230, 'clickity': 10231, 'clog': 10232, 'cloned': 10233, 'clouds': 10234, 'club': 10235, 'clubs': 10236, 'clumsy': 10237, 'cnn': 10238, 'coated': 10239, 'coating': 10240, 'cobbled': 10241, 'coddle': 10242, 'codec': 10243, 'coded': 10244, 'coders': 10245, 'codex': 10246, 'coding': 10247, 'coftware': 10248, 'cogs': 10249, 'collect': 10250, 'collecting': 10251, 'combo': 10252, 'comfort': 10253, 'comfortably': 10254, 'comforting': 10255, 'comforts': 10256, 'comic': 10257, 'comma': 10258, 'commendable': 10259, 'commentary': 10260, 'commerical': 10261, 'commited': 10262, 'commitment': 10263, 'committed': 10264, 'commputer': 10265, 'communities': 10266, 'compelled': 10267, 'compess': 10268, 'competently': 10269, 'competitorl': 10270, 'comphrensive': 10271, 'compile': 10272, 'compiled': 10273, 'compiling': 10274, 'complaintsbut': 10275, 'complementary': 10276, 'complexification': 10277, 'complicted': 10278, 'compliment': 10279, 'complimentary': 10280, 'composer': 10281, 'compositing': 10282, 'compresses': 10283, 'comprised': 10284, 'compromised': 10285, 'compromising': 10286, 'computation': 10287, 'computational': 10288, 'computerMISTAKE': 10289, 'computerstotally': 10290, 'computor': 10291, 'comupters': 10292, 'concentrate': 10293, 'conceptual': 10294, 'concerning': 10295, 'concluded': 10296, 'concrete': 10297, 'condemnation': 10298, 'condense': 10299, 'configurations': 10300, 'confined': 10301, 'confirmation': 10302, 'conflict': 10303, 'conflicted': 10304, 'confuse': 10305, 'confusingthis': 10306, 'connotation': 10307, 'conservative': 10308, 'consideration': 10309, 'considerations': 10310, 'consist': 10311, 'consisted': 10312, 'consistencies': 10313, 'consistency': 10314, 'consol': 10315, 'consolidation': 10316, 'construed': 10317, 'consult': 10318, 'consultation': 10319, 'consulted': 10320, 'consultor': 10321, 'consumed': 10322, 'consummate': 10323, 'contantly': 10324, 'contemplating': 10325, 'contempt': 10326, 'contention': 10327, 'contest': 10328, 'continuation': 10329, 'continuity': 10330, 'continuous': 10331, 'contracted': 10332, 'contrast': 10333, 'contributions': 10334, 'controlled': 10335, 'conveniences': 10336, 'conveniently': 10337, 'conventional': 10338, 'conversations': 10339, 'converters': 10340, 'convulated': 10341, 'cookie': 10342, 'coop': 10343, 'cooperate': 10344, 'cooperative': 10345, 'coordination': 10346, 'cores': 10347, 'corner': 10348, 'cornered': 10349, 'corralling': 10350, 'corresponding': 10351, 'corrospondence': 10352, 'cosmetic': 10353, 'costing': 10354, 'costlier': 10355, 'couldits': 10356, 'couldn': 10357, 'counterfeit': 10358, 'counterparts': 10359, 'counterspy': 10360, 'courseware': 10361, 'courteous': 10362, 'courtesy': 10363, 'coverages': 10364, 'covering': 10365, 'coverthey': 10366, 'coward': 10367, 'crack': 10368, 'crafts': 10369, 'cranked': 10370, 'crannies': 10371, 'crapping': 10372, 'crappy': 10373, 'crapware': 10374, 'crazily': 10375, 'creaky': 10376, 'creativity': 10377, 'credible': 10378, 'creeps': 10379, 'creepy': 10380, 'crime': 10381, 'crippleware': 10382, 'criticalness': 10383, 'criticize': 10384, 'critique': 10385, 'critiquing': 10386, 'crossed': 10387, 'crossword': 10388, 'crowd': 10389, 'crud': 10390, 'crude': 10391, 'cruise': 10392, 'crumbling': 10393, 'crunched': 10394, 'crunches': 10395, 'cs5': 10396, 'cube': 10397, 'cull': 10398, 'cumputer': 10399, 'curb': 10400, 'cureer': 10401, 'curiosity': 10402, 'curriculum': 10403, 'cursing': 10404, 'cursor': 10405, 'curves': 10406, 'customizes': 10407, 'cuts': 10408, 'cyberspace': 10409, 'cycles': 10410, 'dBase': 10411, 'dabble': 10412, 'dabbled': 10413, 'damned': 10414, 'dangers': 10415, 'dared': 10416, 'daresay': 10417, 'dashboard': 10418, 'dashed': 10419, 'dawned': 10420, 'daycare': 10421, 'dealbreakers': 10422, 'dearly': 10423, 'debt': 10424, 'debugging': 10425, 'debut': 10426, 'deceiceiving': 10427, 'deceive': 10428, 'deceptive': 10429, 'decidedly': 10430, 'decks': 10431, 'decode': 10432, 'decompessing': 10433, 'decompression': 10434, 'decreases': 10435, 'decreasing': 10436, 'decried': 10437, 'deductable': 10438, 'deducting': 10439, 'deeds': 10440, 'deeper': 10441, 'deeply': 10442, 'defacto': 10443, 'defector': 10444, 'defending': 10445, 'defends': 10446, 'defensive': 10447, 'defer': 10448, 'deficiencies': 10449, 'defined': 10450, 'defining': 10451, 'defintly': 10452, 'defragmentation': 10453, 'del': 10454, 'delayed': 10455, 'delaying': 10456, 'deletes': 10457, 'deletions': 10458, 'deliberately': 10459, 'delicious': 10460, 'delight': 10461, 'deliveries': 10462, 'delivering': 10463, 'delusion': 10464, 'delusions': 10465, 'demand': 10466, 'demographic': 10467, 'demonstrates': 10468, 'demos': 10469, 'denied': 10470, 'denigrate': 10471, 'deny': 10472, 'department': 10473, 'dependant': 10474, 'dependent': 10475, 'depends': 10476, 'deposit': 10477, 'deposited': 10478, 'dept': 10479, 'deregatory': 10480, 'describes': 10481, 'deselect': 10482, 'deserved': 10483, 'deservedly': 10484, 'designeruses': 10485, 'desirable': 10486, 'desire': 10487, 'dessert': 10488, 'destroyer': 10489, 'destructive': 10490, 'detaila': 10491, 'detector': 10492, 'determination': 10493, 'detractors': 10494, 'devastated': 10495, 'develops': 10496, 'devicescomputers': 10497, 'dialect': 10498, 'dialed': 10499, 'dialers': 10500, 'diary': 10501, 'dicosmfort': 10502, 'diet': 10503, 'differed': 10504, 'differentiated': 10505, 'dig': 10506, 'digested': 10507, 'digitalize': 10508, 'digitally': 10509, 'diligently': 10510, 'dimeing': 10511, 'dimension': 10512, 'dinged': 10513, 'dinosaurs': 10514, 'diplomat': 10515, 'directional': 10516, 'directive': 10517, 'director': 10518, 'disabilty': 10519, 'disables': 10520, 'disadvantage': 10521, 'disagree': 10522, 'disappointedbut': 10523, 'disappointedin': 10524, 'disastrous': 10525, 'discard': 10526, 'disclaimer': 10527, 'disconcerting': 10528, 'discontinuance': 10529, 'discounting': 10530, 'discouraged': 10531, 'discreetly': 10532, 'discussion': 10533, 'disgraceful': 10534, 'disguise': 10535, 'disgust': 10536, 'disgusted': 10537, 'dish': 10538, 'dishonest': 10539, 'diskette': 10540, 'dismal': 10541, 'dismay': 10542, 'dismiss': 10543, 'disparate': 10544, 'disrupted': 10545, 'dissapointed': 10546, 'dissapointment': 10547, 'distinctly': 10548, 'distinguish': 10549, 'distracting': 10550, 'distressed': 10551, 'distributions': 10552, 'disturbed': 10553, 'ditch': 10554, 'ditto': 10555, 'divergent': 10556, 'diverse': 10557, 'diversified': 10558, 'divide': 10559, 'divided': 10560, 'dividend': 10561, 'dividends': 10562, 'divorce': 10563, 'divx': 10564, 'dizzying': 10565, 'docking': 10566, 'doctors': 10567, 'documented': 10568, 'doesent': 10569, 'doesn': 10570, 'doeuvres': 10571, 'dominated': 10572, 'domineering': 10573, 'dong': 10574, 'dons': 10575, 'dopey': 10576, 'doregistration': 10577, 'dorkywhy': 10578, 'dosent': 10579, 'doubles': 10580, 'doubts': 10581, 'downgraded': 10582, 'downgrades': 10583, 'downgrading': 10584, 'downloadfree': 10585, 'downloadkey': 10586, 'downloated': 10587, 'downoad': 10588, 'dpi': 10589, 'draft': 10590, 'drafted': 10591, 'draftsman': 10592, 'dragndrop': 10593, 'drains': 10594, 'drawer': 10595, 'dread': 10596, 'dreadful': 10597, 'dreamed': 10598, 'drilling': 10599, 'drone': 10600, 'dropping': 10601, 'drops': 10602, 'drove': 10603, 'drowning': 10604, 'drug': 10605, 'drum': 10606, 'ducking': 10607, 'duds': 10608, 'dull': 10609, 'dumbed': 10610, 'dumbest': 10611, 'dummy': 10612, 'dumping': 10613, 'dunce': 10614, 'duper': 10615, 'duplicates': 10616, 'duplicative': 10617, 'dustup': 10618, 'duties': 10619, 'dutifully': 10620, 'dv4': 10621, 'dvi': 10622, 'dysgraphia': 10623, 'eBooks': 10624, 'eMac': 10625, 'eSATA': 10626, 'eally': 10627, 'ealry': 10628, 'eard': 10629, 'earn': 10630, 'earphones': 10631, 'eat': 10632, 'eaten': 10633, 'ebooks': 10634, 'ecommerce': 10635, 'editiing': 10636, 'educated': 10637, 'educating': 10638, 'educator': 10639, 'eee': 10640, 'effectsoptimize': 10641, 'efficacy': 10642, 'eggs': 10643, 'eighth': 10644, 'eighties': 10645, 'eigth': 10646, 'elaborate': 10647, 'elated': 10648, 'element': 10649, 'elementssuch': 10650, 'eligible': 10651, 'elses': 10652, 'emailed': 10653, 'embark': 10654, 'embeds': 10655, 'embrassing': 10656, 'emerged': 10657, 'emergent': 10658, 'emotions': 10659, 'emphasizing': 10660, 'employers': 10661, 'employs': 10662, 'emulate': 10663, 'emulator': 10664, 'enabling': 10665, 'enact': 10666, 'encarnations': 10667, 'encoder': 10668, 'encompass': 10669, 'encompasses': 10670, 'encountering': 10671, 'encourage': 10672, 'encouragement': 10673, 'encourages': 10674, 'encrption': 10675, 'encyclopedia': 10676, 'endlessly': 10677, 'endorse': 10678, 'endorsed': 10679, 'endpoint': 10680, 'energy': 10681, 'engaged': 10682, 'engineered': 10683, 'engines': 10684, 'english': 10685, 'enhancer': 10686, 'enigmatic': 10687, 'enjoyable': 10688, 'enjoyment': 10689, 'enlist': 10690, 'enraged': 10691, 'enriched': 10692, 'enrolled': 10693, 'enstall': 10694, 'ent': 10695, 'enterprise': 10696, 'enthusiasm': 10697, 'enthusiastically': 10698, 'enthusiasts': 10699, 'entirety': 10700, 'entitles': 10701, 'entity': 10702, 'entree': 10703, 'entrenched': 10704, 'entwined': 10705, 'enunciate': 10706, 'epub': 10707, 'equals': 10708, 'equity': 10709, 'er': 10710, 'eradicate': 10711, 'ergonomic': 10712, 'erratically': 10713, 'erroneous': 10714, 'erroneously': 10715, 'erstwhile': 10716, 'eschewing': 10717, 'eset': 10718, 'esoteric': 10719, 'esp': 10720, 'establishing': 10721, 'estimated': 10722, 'eternal': 10723, 'evaluations': 10724, 'evasive': 10725, 'eveloved': 10726, 'evening': 10727, 'eventhough': 10728, 'ex': 10729, 'exactally': 10730, 'exacting': 10731, 'examine': 10732, 'examining': 10733, 'exceeding': 10734, 'excell': 10735, 'excellence': 10736, 'excepted': 10737, 'excepthow': 10738, 'excess': 10739, 'excessive': 10740, 'excruciating': 10741, 'excxellentall': 10742, 'executes': 10743, 'executives': 10744, 'exercises': 10745, 'exhaustive': 10746, 'exhibit': 10747, 'existence': 10748, 'exit': 10749, 'exorbitant': 10750, 'expands': 10751, 'expansive': 10752, 'expects': 10753, 'expensively': 10754, 'expertphotography': 10755, 'explaining': 10756, 'explaniing': 10757, 'explicit': 10758, 'exploited': 10759, 'explored': 10760, 'explorers': 10761, 'explores': 10762, 'explosions': 10763, 'explot': 10764, 'exposures': 10765, 'expotv': 10766, 'expressed': 10767, 'ext': 10768, 'extension': 10769, 'extention': 10770, 'extortion': 10771, 'extract': 10772, 'extracting': 10773, 'extraction': 10774, 'extractor': 10775, 'extradoniory': 10776, 'extraneous': 10777, 'extraordinary': 10778, 'facebook': 10779, 'faceted': 10780, 'facets': 10781, 'facial': 10782, 'facilities': 10783, 'faded': 10784, 'failing': 10785, 'faint': 10786, 'faith': 10787, 'fallacy': 10788, 'faltering': 10789, 'familar': 10790, 'familiarized': 10791, 'families': 10792, 'familty': 10793, 'fanatic': 10794, 'fancier': 10795, 'fanciest': 10796, 'farcical': 10797, 'farm': 10798, 'faronly': 10799, 'farther': 10800, 'fascist': 10801, 'fastereasier': 10802, 'fat': 10803, 'fate': 10804, 'faux': 10805, 'favor': 10806, 'favored': 10807, 'favourite': 10808, 'faxes': 10809, 'feared': 10810, 'feather': 10811, 'featuers': 10812, 'featuresyes': 10813, 'feeding': 10814, 'fellow': 10815, 'fely': 10816, 'female': 10817, 'festooned': 10818, 'ffice': 10819, 'ffor': 10820, 'fiances': 10821, 'fiction': 10822, 'fiduciary': 10823, 'fields': 10824, 'filer': 10825, 'filming': 10826, 'financesit': 10827, 'financials': 10828, 'finatic': 10829, 'finest': 10830, 'fineuntil': 10831, 'finger': 10832, 'fingernails': 10833, 'finite': 10834, 'firstly': 10835, 'fisheye': 10836, 'fitting': 10837, 'flag': 10838, 'flagged': 10839, 'flam': 10840, 'flames': 10841, 'flashdrive': 10842, 'flashing': 10843, 'flavors': 10844, 'fleet': 10845, 'flew': 10846, 'flexability': 10847, 'flickering': 10848, 'flier': 10849, 'flight': 10850, 'flim': 10851, 'flip': 10852, 'flipbook': 10853, 'flirting': 10854, 'flit': 10855, 'float': 10856, 'flood': 10857, 'flooded': 10858, 'flows': 10859, 'flubs': 10860, 'fluently': 10861, 'fluff': 10862, 'fluidly': 10863, 'fluttering': 10864, 'fob': 10865, 'focusing': 10866, 'fog': 10867, 'foible': 10868, 'foisted': 10869, 'fold': 10870, 'follower': 10871, 'follw': 10872, 'fondly': 10873, 'foolishly': 10874, 'foray': 10875, 'forays': 10876, 'forcasts': 10877, 'forfor': 10878, 'forgets': 10879, 'forked': 10880, 'formality': 10881, 'formally': 10882, 'fort': 10883, 'fortune': 10884, 'forums': 10885, 'fought': 10886, 'founder': 10887, 'frames': 10888, 'fre': 10889, 'freaked': 10890, 'freaking': 10891, 'freaky': 10892, 'freanly': 10893, 'freehand': 10894, 'freelancing': 10895, 'freely': 10896, 'freemium': 10897, 'freenot': 10898, 'freindly': 10899, 'french': 10900, 'frendliness': 10901, 'freshened': 10902, 'fricked': 10903, 'fro': 10904, 'frog': 10905, 'fromTurboTax': 10906, 'frosting': 10907, 'frustrates': 10908, 'frustratingly': 10909, 'fuctions': 10910, 'fulfill': 10911, 'fullprotection': 10912, 'funcionality': 10913, 'fund': 10914, 'gadgeteers': 10915, 'gaged': 10916, 'galaxy': 10917, 'gallon': 10918, 'gamble': 10919, 'gamut': 10920, 'gap': 10921, 'garden': 10922, 'gathered': 10923, 'gauge': 10924, 'gaul': 10925, 'gazillion': 10926, 'geeky': 10927, 'genealogists': 10928, 'generates': 10929, 'generating': 10930, 'generational': 10931, 'genes': 10932, 'genius': 10933, 'genre': 10934, 'gettting': 10935, 'ghostly': 10936, 'gigabytes': 10937, 'gimicky': 10938, 'gimmic': 10939, 'girl': 10940, 'girlfriend': 10941, 'glacially': 10942, 'gliches': 10943, 'glo': 10944, 'glossy': 10945, 'gob': 10946, 'goblins': 10947, 'goers': 10948, 'gon': 10949, 'goo': 10950, 'goodgrainy': 10951, 'goofing': 10952, 'gore': 10953, 'gosh': 10954, 'gouges': 10955, 'gouging': 10956, 'gov': 10957, 'govt': 10958, 'gp': 10959, 'grace': 10960, 'graders': 10961, 'gradients': 10962, 'grading': 10963, 'gramar': 10964, 'grammatical': 10965, 'grammer': 10966, 'gran': 10967, 'grandchildrens': 10968, 'grandfathers': 10969, 'grandmother': 10970, 'grantors': 10971, 'graph': 10972, 'grass': 10973, 'grateful': 10974, 'gratuitous': 10975, 'gravitated': 10976, 'grease': 10977, 'greatI': 10978, 'greate': 10979, 'greener': 10980, 'grim': 10981, 'grip': 10982, 'gripes': 10983, 'grips': 10984, 'grizzly': 10985, 'groove': 10986, 'grounds': 10987, 'groupon': 10988, 'growed': 10989, 'guaranteeing': 10990, 'guarantees': 10991, 'guaranty': 10992, 'guessed': 10993, 'guesswork': 10994, 'guestroom': 10995, 'guiding': 10996, 'gushing': 10997, 'gym': 10998, 'gymnastics': 10999, 'h': 11000, 'h265': 11001, 'ha': 11002, 'haggling': 11003, 'hairs': 11004, 'hampers': 11005, 'handed': 11006, 'handedly': 11007, 'handedness': 11008, 'handsomely': 11009, 'happenedhaving': 11010, 'happily': 11011, 'hardcore': 11012, 'hardest': 11013, 'hardwired': 11014, 'harness': 11015, 'harrowing': 11016, 'hash': 11017, 'hat': 11018, 'hateful': 11019, 'hater': 11020, 'hating': 11021, 'haunted': 11022, 'haziness': 11023, 'heading': 11024, 'heafty': 11025, 'hearted': 11026, 'heartily': 11027, 'heavens': 11028, 'heed': 11029, 'height': 11030, 'helpdesk': 11031, 'helpnone': 11032, 'hence': 11033, 'heralded': 11034, 'heralding': 11035, 'here120': 11036, 'heritage': 11037, 'het': 11038, 'heuristics': 11039, 'hey': 11040, 'hiatus': 11041, 'hibernation': 11042, 'hiccough': 11043, 'hicoughs': 11044, 'hid': 11045, 'hideous': 11046, 'hideously': 11047, 'highlighted': 11048, 'highschool': 11049, 'hijacked': 11050, 'hijacker': 11051, 'hijackersand': 11052, 'hijacking': 11053, 'himself': 11054, 'hinder': 11055, 'hint': 11056, 'hints': 11057, 'historian': 11058, 'historical': 11059, 'historically': 11060, 'hitters': 11061, 'hodge': 11062, 'hogallows': 11063, 'hogg': 11064, 'homeI': 11065, 'homerun': 11066, 'honesty': 11067, 'honour': 11068, 'hooking': 11069, 'hopeful': 11070, 'hopscotch': 11071, 'horribe': 11072, 'horriby': 11073, 'horrific': 11074, 'hors': 11075, 'hostility': 11076, 'hotfix': 11077, 'hotter': 11078, 'hourglass': 11079, 'hourly': 11080, 'houseYou': 11081, 'houselandscape': 11082, 'hovering': 11083, 'hubby': 11084, 'hue': 11085, 'hunts': 11086, 'hurt': 11087, 'hurting': 11088, 'hybrid': 11089, 'hyped': 11090, 'hyper': 11091, 'hyperlinks': 11092, 'iBank4': 11093, 'iCal': 11094, 'iMacs': 11095, 'iOs': 11096, 'iPodTouch': 11097, 'iT': 11098, 'ideally': 11099, 'identified': 11100, 'identifies': 11101, 'identify': 11102, 'identifying': 11103, 'idle': 11104, 'iffy': 11105, 'ignore': 11106, 'ill': 11107, 'illegal': 11108, 'illnesses': 11109, 'illustrations': 11110, 'imageswithout': 11111, 'imaginable': 11112, 'imaginative': 11113, 'imagined': 11114, 'imitation': 11115, 'immense': 11116, 'immensely': 11117, 'immersed': 11118, 'immersive': 11119, 'imo': 11120, 'impartial': 11121, 'impatience': 11122, 'impatient': 11123, 'impede': 11124, 'impeded': 11125, 'imperceptible': 11126, 'implied': 11127, 'implies': 11128, 'importance': 11129, 'impose': 11130, 'imprint': 11131, 'improtant': 11132, 'improverd': 11133, 'inThere': 11134, 'inactive': 11135, 'inadequacies': 11136, 'inbed': 11137, 'inbox': 11138, 'incalculably': 11139, 'incapable': 11140, 'incentive': 11141, 'inception': 11142, 'inches': 11143, 'incidentally': 11144, 'incl': 11145, 'inclusive': 11146, 'incompatable': 11147, 'incompatibilities': 11148, 'inconvenience': 11149, 'inconvenient': 11150, 'incorporate': 11151, 'incorporated': 11152, 'incred': 11153, 'incrementally': 11154, 'incrementals': 11155, 'index': 11156, 'indicating': 11157, 'indicative': 11158, 'indiscernible': 11159, 'industries': 11160, 'ineptitude': 11161, 'inevitable': 11162, 'inevitably': 11163, 'inexperience': 11164, 'inexplicable': 11165, 'infancy': 11166, 'inferiority': 11167, 'infidels': 11168, 'infiltrations': 11169, 'infinite': 11170, 'infinity': 11171, 'inflated': 11172, 'inflexible': 11173, 'inflicted': 11174, 'infoglitch': 11175, 'inform': 11176, 'infrequent': 11177, 'infuriating': 11178, 'ingenious': 11179, 'inhell': 11180, 'inherently': 11181, 'inherited': 11182, 'initialisms': 11183, 'injecting': 11184, 'injured': 11185, 'injury': 11186, 'inkjet': 11187, 'inner': 11188, 'innocent': 11189, 'innovative': 11190, 'innumerable': 11191, 'inordinate': 11192, 'inprovements': 11193, 'insane': 11194, 'inserts': 11195, 'insidious': 11196, 'insight': 11197, 'insightful': 11198, 'insights': 11199, 'insofar': 11200, 'inspired': 11201, 'instability': 11202, 'instail': 11203, 'instal': 11204, 'installment': 11205, 'instant': 11206, 'instititions': 11207, 'instituted': 11208, 'instlation': 11209, 'instrument': 11210, 'insult': 11211, 'insurgents': 11212, 'intalled': 11213, 'intelligently': 11214, 'intending': 11215, 'intent': 11216, 'interchangeably': 11217, 'interent': 11218, 'interestingeasy': 11219, 'interfaceat': 11220, 'interfacing': 11221, 'interferes': 11222, 'interfering': 11223, 'intermingled': 11224, 'intermittent': 11225, 'intermittently': 11226, 'international': 11227, 'internetsome': 11228, 'interpreting': 11229, 'interrupted': 11230, 'interrupting': 11231, 'interruptions': 11232, 'interstate': 11233, 'intervene': 11234, 'intervention': 11235, 'intrigue': 11236, 'intrrrupted': 11237, 'intruder': 11238, 'intrusionsi': 11239, 'intrussive': 11240, 'intutive': 11241, 'inuitive': 11242, 'inutuive': 11243, 'invaded': 11244, 'invasion': 11245, 'invection': 11246, 'invent': 11247, 'invention': 11248, 'inventive': 11249, 'invents': 11250, 'investigated': 11251, 'investigator': 11252, 'investmetn': 11253, 'invisibility': 11254, 'invisible': 11255, 'invitations': 11256, 'invite': 11257, 'inviting': 11258, 'involving': 11259, 'iobit': 11260, 'iota': 11261, 'irks': 11262, 'irreversible': 11263, 'irrevocable': 11264, 'irritates': 11265, 'irritation': 11266, 'ish': 11267, 'isif': 11268, 'isin': 11269, 'isolated': 11270, 'itVISTA': 11271, 'itch': 11272, 'iteasy': 11273, 'itemIt': 11274, 'itemized': 11275, 'itemizing': 11276, 'itouch': 11277, 'itthen': 11278, 'itthere': 11279, 'jacked': 11280, 'jacking': 11281, 'jame': 11282, 'jammed': 11283, 'jazz': 11284, 'jerk': 11285, 'jets': 11286, 'jettisoned': 11287, 'jointly': 11288, 'jokes': 11289, 'jpeg': 11290, 'judge': 11291, 'judged': 11292, 'jukware': 11293, 'jumping': 11294, 'junior': 11295, 'junkie': 11296, 'junkies': 11297, 'junky': 11298, 'justed': 11299, 'justifies': 11300, 'justly': 11301, 'juvenile': 11302, 'k1': 11303, 'kb': 11304, 'keen': 11305, 'ketchup': 11306, 'keyboards': 11307, 'keystroke': 11308, 'keystrokes': 11309, 'kicking': 11310, 'kiddie': 11311, 'kidlets': 11312, 'kindergarten': 11313, 'kitchen': 11314, 'klunkiness': 11315, 'knee': 11316, 'knowingly': 11317, 'knowledgeable': 11318, 'kudos': 11319, 'labeled': 11320, 'labor': 11321, 'lacrosse': 11322, 'lagging': 11323, 'laid': 11324, 'lamely': 11325, 'laminated': 11326, 'land': 11327, 'landed': 11328, 'landscapers': 11329, 'langauge': 11330, 'lapse': 11331, 'lapsed': 11332, 'largest': 11333, 'lashed': 11334, 'lasted': 11335, 'lasts': 11336, 'latop': 11337, 'laughable': 11338, 'laughably': 11339, 'laught': 11340, 'laundry': 11341, 'lawer': 11342, 'lawn': 11343, 'lb': 11344, 'leagues': 11345, 'leapfrog': 11346, 'leappad': 11347, 'learners': 11348, 'leary': 11349, 'lease': 11350, 'leased': 11351, 'lectures': 11352, 'legend': 11353, 'legendary': 11354, 'lend': 11355, 'lenses': 11356, 'lesser': 11357, 'letdown': 11358, 'lettering': 11359, 'leveled': 11360, 'leveling': 11361, 'levelsso': 11362, 'leverage': 11363, 'leveraging': 11364, 'liability': 11365, 'licence': 11366, 'lid': 11367, 'lie': 11368, 'lied': 11369, 'liek': 11370, 'lifelong': 11371, 'lifes': 11372, 'lifesafe': 11373, 'lifesaver': 11374, 'lightJust': 11375, 'lightened': 11376, 'lightly': 11377, 'lightscribe': 11378, 'likeand': 11379, 'likethis': 11380, 'limitedly': 11381, 'limp': 11382, 'limted': 11383, 'lined': 11384, 'liner': 11385, 'lingering': 11386, 'lingo': 11387, 'lion': 11388, 'listeners': 11389, 'loan': 11390, 'loans': 11391, 'locates': 11392, 'locating': 11393, 'locator': 11394, 'locker': 11395, 'lofty': 11396, 'logging': 11397, 'logic': 11398, 'logo': 11399, 'lojack': 11400, 'lone': 11401, 'looney': 11402, 'loop': 11403, 'loses': 11404, 'lotespecially': 11405, 'lotta': 11406, 'lottery': 11407, 'loud': 11408, 'loudly': 11409, 'lover': 11410, 'lowered': 11411, 'loyalty': 11412, 'ls': 11413, 'luckily': 11414, 'luddite': 11415, 'lukewarm': 11416, 'lure': 11417, 'lurk': 11418, 'lyndacom': 11419, 'lyrics': 11420, 'macintosh': 11421, 'macro': 11422, 'madning': 11423, 'mag': 11424, 'magical': 11425, 'magnetism': 11426, 'mailings': 11427, 'mailno': 11428, 'mails': 11429, 'mainentence': 11430, 'maintainance': 11431, 'maintained': 11432, 'maintanence': 11433, 'maligned': 11434, 'malwarebytessuperantispyware': 11435, 'manageable': 11436, 'managet': 11437, 'mandala': 11438, 'mandarin': 11439, 'manditory': 11440, 'maneuvering': 11441, 'manga': 11442, 'mangling': 11443, 'manipulated': 11444, 'mansion': 11445, 'manufacture': 11446, 'manufacturing': 11447, 'manuscripts': 11448, 'mare': 11449, 'marginally': 11450, 'marine': 11451, 'marked': 11452, 'marketer': 11453, 'marketers': 11454, 'marketplace': 11455, 'marriage': 11456, 'mas': 11457, 'mashed': 11458, 'masterpiece': 11459, 'matched': 11460, 'matches': 11461, 'mate': 11462, 'materially': 11463, 'math': 11464, 'mattered': 11465, 'mature': 11466, 'maxed': 11467, 'maybr': 11468, 'mbr': 11469, 'measure': 11470, 'meat': 11471, 'mechanical': 11472, 'mechanics': 11473, 'mechanism': 11474, 'meetings': 11475, 'memoriesat': 11476, 'menues': 11477, 'mercenary': 11478, 'merge': 11479, 'merry': 11480, 'messaging': 11481, 'messes': 11482, 'messy': 11483, 'methodology': 11484, 'methods': 11485, 'mgmt': 11486, 'mi8ght': 11487, 'microcomputer': 11488, 'midground': 11489, 'midstream': 11490, 'midway': 11491, 'mighty': 11492, 'migrate': 11493, 'miked': 11494, 'mildly': 11495, 'mile': 11496, 'milestone': 11497, 'military': 11498, 'milking': 11499, 'milks': 11500, 'minds': 11501, 'mindset': 11502, 'mines': 11503, 'minimize': 11504, 'minimums': 11505, 'minus': 11506, 'minuses': 11507, 'minuts': 11508, 'mirrored': 11509, 'misc': 11510, 'miscues': 11511, 'miserable': 11512, 'misjudgments': 11513, 'missteps': 11514, 'mistaken': 11515, 'misunderstanding': 11516, 'mixes': 11517, 'modelan': 11518, 'moderate': 11519, 'modernize': 11520, 'modes': 11521, 'modestly': 11522, 'modicum': 11523, 'modified': 11524, 'module': 11525, 'molasses': 11526, 'moniker': 11527, 'monopolistic': 11528, 'monopolizing': 11529, 'monstrosities': 11530, 'monstrous': 11531, 'montage': 11532, 'monthbuying': 11533, 'monthsIve': 11534, 'mood': 11535, 'moot': 11536, 'morass': 11537, 'moreso': 11538, 'morningstar': 11539, 'morphed': 11540, 'morphing': 11541, 'morphs': 11542, 'morsels': 11543, 'mortal': 11544, 'mos': 11545, 'motivated': 11546, 'motivates': 11547, 'motivation': 11548, 'motives': 11549, 'mountain': 11550, 'msft': 11551, 'muddle': 11552, 'multifunction': 11553, 'multiply': 11554, 'multispectrum': 11555, 'multitasking': 11556, 'museum': 11557, 'musician': 11558, 'musicsure': 11559, 'mutliple': 11560, 'mutual': 11561, 'myriad': 11562, 'mysteries': 11563, 'mysteriously': 11564, 'na': 11565, 'nag': 11566, 'nags': 11567, 'nail': 11568, 'nailed': 11569, 'nameless': 11570, 'nanny': 11571, 'narrow': 11572, 'nary': 11573, 'nasties': 11574, 'navi': 11575, 'naviagate': 11576, 'navigable': 11577, 'navigated': 11578, 'naysayers': 11579, 'nd': 11580, 'nearest': 11581, 'necessitated': 11582, 'necessitating': 11583, 'needless': 11584, 'needlessly': 11585, 'needuntil': 11586, 'negotiating': 11587, 'negs': 11588, 'neighbors': 11589, 'nerve': 11590, 'newcomer': 11591, 'newegg': 11592, 'newsletter': 11593, 'newspaper': 11594, 'niche': 11595, 'nickle': 11596, 'nicknamed': 11597, 'nightmarish': 11598, 'nights': 11599, 'nineties': 11600, 'ninth': 11601, 'nis2006': 11602, 'nm': 11603, 'no0b': 11604, 'nobody': 11605, 'nod32': 11606, 'noggins': 11607, 'noices': 11608, 'noises': 11609, 'noncopyrighted': 11610, 'nonpracticing': 11611, 'nonprofit': 11612, 'nooks': 11613, 'nope': 11614, 'noscript': 11615, 'nose': 11616, 'nostalgia': 11617, 'notably': 11618, 'notarized': 11619, 'noticable': 11620, 'notifying': 11621, 'notion': 11622, 'noton': 11623, 'nottechnologically': 11624, 'novicebut': 11625, 'numerical': 11626, 'numlock': 11627, 'nuts': 11628, 'obey': 11629, 'objected': 11630, 'objective': 11631, 'obliged': 11632, 'observation': 11633, 'obsolesced': 11634, 'obtaining': 11635, 'occupation': 11636, 'occur': 11637, 'occured': 11638, 'occuring': 11639, 'ocurr': 11640, 'ofHelp': 11641, 'offensive': 11642, 'offerand': 11643, 'officesmultiple': 11644, 'offlinethis': 11645, 'ofice': 11646, 'oil': 11647, 'oils': 11648, 'okey': 11649, 'oldest': 11650, 'omit': 11651, 'omitted': 11652, 'omitting': 11653, 'omly': 11654, 'onerous': 11655, 'onethere': 11656, 'ongoing': 11657, 'onlyprofessionals': 11658, 'onscreen': 11659, 'opener': 11660, 'opera': 11661, 'operational': 11662, 'operator': 11663, 'opportune': 11664, 'opposite': 11665, 'optimistic': 11666, 'optimize': 11667, 'optimizes': 11668, 'optimizing': 11669, 'oral': 11670, 'ording': 11671, 'organise': 11672, 'organization': 11673, 'orginal': 11674, 'orientated': 11675, 'orientation': 11676, 'orphaned': 11677, 'osCommerce': 11678, 'oss': 11679, 'ostensibly': 11680, 'otherBoth': 11681, 'ours': 11682, 'ourselves': 11683, 'oustanding': 11684, 'outbthere': 11685, 'outcome': 11686, 'outdid': 11687, 'outdistance': 11688, 'outertablet': 11689, 'outfitted': 11690, 'outing': 11691, 'outline': 11692, 'outlined': 11693, 'outputs': 11694, 'outset': 11695, 'ov': 11696, 'overdue': 11697, 'overlap': 11698, 'overlay': 11699, 'overloaded': 11700, 'overlook': 11701, 'overpaid': 11702, 'overprice': 11703, 'overreaching': 11704, 'override': 11705, 'overstretch': 11706, 'overtime': 11707, 'overview': 11708, 'overy': 11709, 'owning': 11710, 'ownit': 11711, 'oxymoron': 11712, 'ozone': 11713, 'p': 11714, 'paced': 11715, 'pacesetter': 11716, 'packagea': 11717, 'packet': 11718, 'packsEach': 11719, 'pads': 11720, 'painfull': 11721, 'painfully': 11722, 'painlessly': 11723, 'paintnet': 11724, 'paintshop': 11725, 'palatable': 11726, 'palette': 11727, 'panarama': 11728, 'paperclips': 11729, 'paperless': 11730, 'paperweight': 11731, 'paradigm': 11732, 'paragrpah': 11733, 'parceling': 11734, 'parent': 11735, 'parentheses': 11736, 'partially': 11737, 'participate': 11738, 'participated': 11739, 'partitioned': 11740, 'partners': 11741, 'partnerships': 11742, 'pas': 11743, 'passage': 11744, 'passivity': 11745, 'pasted': 11746, 'pat': 11747, 'patching': 11748, 'patience': 11749, 'patients': 11750, 'pausing': 11751, 'payables': 11752, 'payee': 11753, 'payees': 11754, 'paypal': 11755, 'pctwo': 11756, 'peachtree': 11757, 'peak': 11758, 'peculiar': 11759, 'peddling': 11760, 'pedestrian': 11761, 'peecee': 11762, 'peeve': 11763, 'penalties': 11764, 'penetration': 11765, 'pens': 11766, 'perceivable': 11767, 'percentages': 11768, 'perfectally': 11769, 'perfected': 11770, 'perfomance': 11771, 'performers': 11772, 'performing': 11773, 'periods': 11774, 'peripheral': 11775, 'perm': 11776, 'permanent': 11777, 'permissions': 11778, 'permissive': 11779, 'perpetrated': 11780, 'perpetual': 11781, 'personality': 11782, 'personalizing': 11783, 'personnel': 11784, 'personthen': 11785, 'persuaded': 11786, 'pertains': 11787, 'pessimist': 11788, 'pest': 11789, 'pester': 11790, 'pests': 11791, 'pets': 11792, 'phantom': 11793, 'phenomenal': 11794, 'phenomenon': 11795, 'phoning': 11796, 'phooey': 11797, 'photogapher': 11798, 'photographing': 11799, 'photosnap': 11800, 'photostitch': 11801, 'phrase': 11802, 'pic': 11803, 'pie': 11804, 'pies': 11805, 'pigs': 11806, 'pins': 11807, 'pinwheel': 11808, 'pirate': 11809, 'pirated': 11810, 'pissing': 11811, 'pitch': 11812, 'pixelated': 11813, 'pizazz': 11814, 'pizza': 11815, 'pizzas': 11816, 'pkzip': 11817, 'placements': 11818, 'plague': 11819, 'plaguing': 11820, 'plainly': 11821, 'planned': 11822, 'planner': 11823, 'plannning': 11824, 'plant': 11825, 'plastic': 11826, 'plate': 11827, 'platflorm': 11828, 'playful': 11829, 'playlists': 11830, 'pleethora': 11831, 'plentiful': 11832, 'ploy': 11833, 'plundering': 11834, 'pluralize': 11835, 'pm': 11836, 'po': 11837, 'pocketbook': 11838, 'podge': 11839, 'pointing': 11840, 'political': 11841, 'polling': 11842, 'population': 11843, 'porcelain': 11844, 'pose': 11845, 'possess': 11846, 'possesses': 11847, 'possession': 11848, 'possessions': 11849, 'possibility': 11850, 'posts': 11851, 'postures': 11852, 'pouring': 11853, 'powerbook': 11854, 'powerpoints': 11855, 'powers': 11856, 'powertoy': 11857, 'pptx': 11858, 'practise': 11859, 'praises': 11860, 'praising': 11861, 'preachers': 11862, 'preceding': 11863, 'preconceived': 11864, 'predecessors': 11865, 'predict': 11866, 'predominant': 11867, 'predownload': 11868, 'preemie': 11869, 'preference': 11870, 'preformance': 11871, 'prematurely': 11872, 'preparers': 11873, 'prepares': 11874, 'prepay': 11875, 'presence': 11876, 'presenter': 11877, 'presenting': 11878, 'presently': 11879, 'preserving': 11880, 'presets': 11881, 'prestigious': 11882, 'pretend': 11883, 'prettier': 11884, 'preventing': 11885, 'previews': 11886, 'pricetag': 11887, 'pride': 11888, 'principally': 11889, 'printable': 11890, 'printera': 11891, 'printout': 11892, 'prison': 11893, 'prize': 11894, 'probate': 11895, 'probem': 11896, 'problemscropping': 11897, 'problemshave': 11898, 'probly': 11899, 'procedures': 11900, 'proceed': 11901, 'procrastination': 11902, 'prodict': 11903, 'producers': 11904, 'productbut': 11905, 'productthe': 11906, 'productwish': 11907, 'profesionals': 11908, 'profession': 11909, 'professor': 11910, 'profiles': 11911, 'profusely': 11912, 'progam': 11913, 'progarms': 11914, 'progess': 11915, 'programas': 11916, 'programing': 11917, 'programit': 11918, 'programsbesides': 11919, 'programshowever': 11920, 'programsincluding': 11921, 'progressively': 11922, 'progtram': 11923, 'prohibitively': 11924, 'projection': 11925, 'projectors': 11926, 'prolems': 11927, 'prolific': 11928, 'prolonged': 11929, 'prominent': 11930, 'promising': 11931, 'promo': 11932, 'promos': 11933, 'promoted': 11934, 'promotion': 11935, 'pronunciation': 11936, 'proprietor': 11937, 'proprietorships': 11938, 'proram': 11939, 'prosit': 11940, 'prosumer': 11941, 'protectionfrom': 11942, 'protections': 11943, 'protector': 11944, 'protectors': 11945, 'protectorsseveral': 11946, 'proves': 11947, 'proving': 11948, 'provisions': 11949, 'prudent': 11950, 'pry': 11951, 'publications': 11952, 'pudding': 11953, 'pukes': 11954, 'pulls': 11955, 'pulsed': 11956, 'punch': 11957, 'punctuation': 11958, 'punishment': 11959, 'purchaser': 11960, 'purchashed': 11961, 'purposefully': 11962, 'purposely': 11963, 'pursuit': 11964, 'pushin': 11965, 'puzzled': 11966, 'pyramids': 11967, 'q9300': 11968, 'qualifierthat': 11969, 'qualifies': 11970, 'quantities': 11971, 'quarantine': 11972, 'quartet': 11973, 'quest': 11974, 'questionaires': 11975, 'questioned': 11976, 'questionsand': 11977, 'quibble': 11978, 'quickbook': 11979, 'quicked': 11980, 'quirkiness': 11981, 'quiz': 11982, 'quote': 11983, 'quotes': 11984, 'quoting': 11985, 'r132wm': 11986, 'racagentexe': 11987, 'racing': 11988, 'raf': 11989, 'rage': 11990, 'raise': 11991, 'raises': 11992, 'rambling': 11993, 'ramito': 11994, 'ramping': 11995, 'ranges': 11996, 'rank': 11997, 'ransomeware': 11998, 'rant': 11999, 'rapid': 12000, 'rapidly': 12001, 'rar': 12002, 'raster': 12003, 'raters': 12004, 'raving': 12005, 'rayy': 12006, 'rdp': 12007, 'readable': 12008, 'readcouldnt': 12009, 'readers': 12010, 'reads': 12011, 'realizes': 12012, 'realm': 12013, 'realtime': 12014, 'reasoning': 12015, 'reasonsprice': 12016, 'rebuild': 12017, 'rebuilding': 12018, 'recalcitrant': 12019, 'recalled': 12020, 'receipt': 12021, 'recepient': 12022, 'recitals': 12023, 'recite': 12024, 'reckless': 12025, 'reclaiming': 12026, 'recognizable': 12027, 'recognizing': 12028, 'reconcile': 12029, 'reconciliation': 12030, 'reconsidered': 12031, 'recoomed': 12032, 'recordings': 12033, 'recourse': 12034, 'recourses': 12035, 'recreate': 12036, 'recreational': 12037, 'rectify': 12038, 'recycling': 12039, 'redeye': 12040, 'redid': 12041, 'redistribution': 12042, 'redoubled': 12043, 'reduces': 12044, 'reeks': 12045, 'reenter': 12046, 'reevaluate': 12047, 'references': 12048, 'refigure': 12049, 'refinement': 12050, 'reflect': 12051, 'reforces': 12052, 'reformatted': 12053, 'refresher': 12054, 'refreshing': 12055, 'refugee': 12056, 'refurb': 12057, 'refusing': 12058, 'regardless': 12059, 'region': 12060, 'registation': 12061, 'registering': 12062, 'registrationIt': 12063, 'registries': 12064, 'regrets': 12065, 'regrettable': 12066, 'regretted': 12067, 'reguarly': 12068, 'rehash': 12069, 'reilably': 12070, 'reinforce': 12071, 'reinstalls': 12072, 'reinstated': 12073, 'rejected': 12074, 'rejects': 12075, 'relating': 12076, 'relaxing': 12077, 'relearn': 12078, 'relearning': 12079, 'relentless': 12080, 'relief': 12081, 'relies': 12082, 'relieved': 12083, 'rellly': 12084, 'reluctance': 12085, 'reluctantly': 12086, 'relying': 12087, 'remastered': 12088, 'remedy': 12089, 'rememberd': 12090, 'remembered': 12091, 'remembering': 12092, 'reminded': 12093, 'remodeled': 12094, 'remodeler': 12095, 'rendered': 12096, 'renews': 12097, 'renovate': 12098, 'renovators': 12099, 'rentals': 12100, 'renter': 12101, 'rents': 12102, 'rep': 12103, 'repaired': 12104, 'repairs': 12105, 'repeatedlydoes': 12106, 'repeating': 12107, 'repented': 12108, 'repetitively': 12109, 'replicas': 12110, 'replies': 12111, 'represent': 12112, 'representation': 12113, 'represented': 12114, 'repurchase': 12115, 'repurchasing': 12116, 'reputable': 12117, 'request': 12118, 'res': 12119, 'rescinded': 12120, 'rescue': 12121, 'reseller': 12122, 'resemble': 12123, 'resembles': 12124, 'resides': 12125, 'residual': 12126, 'residue': 12127, 'resistant': 12128, 'resisted': 12129, 'resourcesthis': 12130, 'respected': 12131, 'respecting': 12132, 'respectively': 12133, 'responsibility': 12134, 'responsibly': 12135, 'responsiveness': 12136, 'restaurant': 12137, 'resting': 12138, 'restores': 12139, 'restrict': 12140, 'restrictive': 12141, 'resubscribing': 12142, 'resul': 12143, 'resulted': 12144, 'resultjunk': 12145, 'resurrecting': 12146, 'retailing': 12147, 'rethinking': 12148, 'retires': 12149, 'retiring': 12150, 'retouch': 12151, 'retouching': 12152, 'retraining': 12153, 'retrofit': 12154, 'retun': 12155, 'retype': 12156, 'reused': 12157, 'rev': 12158, 'revamp': 12159, 'revenue': 12160, 'revenues': 12161, 'reviled': 12162, 'revise': 12163, 'revisit': 12164, 'revolted': 12165, 'revolution': 12166, 'revolves': 12167, 'rework': 12168, 'reworking': 12169, 'rfnfilters': 12170, 'ribbons': 12171, 'riddled': 12172, 'ride': 12173, 'riding': 12174, 'righted': 12175, 'rightfully': 12176, 'rightly': 12177, 'rigorous': 12178, 'ringing': 12179, 'rings': 12180, 'ripoffamazon': 12181, 'ripoffs': 12182, 'risky': 12183, 'rite': 12184, 'rive': 12185, 'roamed': 12186, 'robbed': 12187, 'robbing': 12188, 'robot': 12189, 'robotic': 12190, 'rocker': 12191, 'rocking': 12192, 'rocky': 12193, 'rode': 12194, 'rogue': 12195, 'roku': 12196, 'roles': 12197, 'roll': 12198, 'rollback': 12199, 'roller': 12200, 'rollover': 12201, 'rom': 12202, 'rookie': 12203, 'rootkits': 12204, 'rotate': 12205, 'rougher': 12206, 'routinely': 12207, 'routing': 12208, 'royal': 12209, 'rpm': 12210, 'rquired': 12211, 'ruining': 12212, 'rule': 12213, 'runnings': 12214, 'runnning': 12215, 'runtime': 12216, 'rush': 12217, 's3': 12218, 'sabotaging': 12219, 'safeguarding': 12220, 'salary': 12221, 'salient': 12222, 'sampling': 12223, 'sandbox': 12224, 'sane': 12225, 'sans': 12226, 'saoftware': 12227, 'sapping': 12228, 'satellite': 12229, 'satisfies': 12230, 'satisfyed': 12231, 'satisified': 12232, 'saver': 12233, 'savory': 12234, 'scales': 12235, 'scammy': 12236, 'scavy': 12237, 'scene': 12238, 'scheduler': 12239, 'schizophrenic': 12240, 'scholar': 12241, 'schoolwork': 12242, 'score': 12243, 'scored': 12244, 'scores': 12245, 'scratched': 12246, 'scratches': 12247, 'scratching': 12248, 'scream': 12249, 'screams': 12250, 'screenshots': 12251, 'scribble': 12252, 'scribbling': 12253, 'script': 12254, 'scripts': 12255, 'scroll': 12256, 'scrubbed': 12257, 'sealed': 12258, 'searchable': 12259, 'seas': 12260, 'seasons': 12261, 'secuity': 12262, 'secured': 12263, 'securit': 12264, 'securities': 12265, 'seek': 12266, 'sees': 12267, 'segment': 12268, 'segments': 12269, 'segregate': 12270, 'seize': 12271, 'seizes': 12272, 'seizures': 12273, 'seldon': 12274, 'selecting': 12275, 'selective': 12276, 'sellers': 12277, 'sellingpaypal': 12278, 'semiconductor': 12279, 'seminars': 12280, 'sends': 12281, 'separated': 12282, 'separately': 12283, 'separates': 12284, 'seperate': 12285, 'sequiturs': 12286, 'sercurity': 12287, 'serviceable': 12288, 'setupexe': 12289, 'sewed': 12290, 'sgave': 12291, 'sh': 12292, 'shabby': 12293, 'shades': 12294, 'shadows': 12295, 'shampooed': 12296, 'sharpening': 12297, 'shattering': 12298, 'shaved': 12299, 'sheets': 12300, 'shelved': 12301, 'shelves': 12302, 'shenanigans': 12303, 'shields': 12304, 'shift': 12305, 'shifted': 12306, 'shippment': 12307, 'shockingly': 12308, 'shoes': 12309, 'shoftware': 12310, 'shore': 12311, 'shortcomings': 12312, 'shortens': 12313, 'shortfalls': 12314, 'shorting': 12315, 'shoul': 12316, 'shoulder': 12317, 'shoulders': 12318, 'shoved': 12319, 'showcased': 12320, 'shrunk': 12321, 'shutoff': 12322, 'shy': 12323, 'sibling': 12324, 'sic': 12325, 'sideline': 12326, 'sidelines': 12327, 'sights': 12328, 'signs': 12329, 'silk': 12330, 'silly': 12331, 'similarly': 12332, 'simplification': 12333, 'simultaneously': 12334, 'sine': 12335, 'singing': 12336, 'sins': 12337, 'sistem': 12338, 'sith': 12339, 'sits': 12340, 'sitting': 12341, 'situationsmore': 12342, 'situtation': 12343, 'sixteenth': 12344, 'sizeablesendcom': 12345, 'sizing': 12346, 'sizzle': 12347, 'sketchers': 12348, 'ski': 12349, 'skimpy': 12350, 'skin': 12351, 'skinning': 12352, 'slamming': 12353, 'sleekest': 12354, 'sleeps': 12355, 'sleeve': 12356, 'sleuth': 12357, 'slew': 12358, 'sliced': 12359, 'slicker': 12360, 'slightest': 12361, 'slimmed': 12362, 'slimy': 12363, 'slink': 12364, 'slipped': 12365, 'slooooowed': 12366, 'slouch': 12367, 'slowness': 12368, 'slugged': 12369, 'slushpile': 12370, 'smackdown': 12371, 'smartest': 12372, 'smattering': 12373, 'sme': 12374, 'smell': 12375, 'smile': 12376, 'smoking': 12377, 'smoothest': 12378, 'smoothy': 12379, 'snag': 12380, 'snagged': 12381, 'snags': 12382, 'snail': 12383, 'snails': 12384, 'snapping': 12385, 'snappy': 12386, 'sneak': 12387, 'snowbound': 12388, 'snowed': 12389, 'snowflakes': 12390, 'sns': 12391, 'snuck': 12392, 'snuff': 12393, 'soIt': 12394, 'soap': 12395, 'soesnt': 12396, 'sofar': 12397, 'softare': 12398, 'softwareeasy': 12399, 'softwareor': 12400, 'softwear': 12401, 'sofware': 12402, 'solftware': 12403, 'someday': 12404, 'sophistication': 12405, 'sorely': 12406, 'sounding': 12407, 'souped': 12408, 'sourly': 12409, 'sp3': 12410, 'spammers': 12411, 'spamware': 12412, 'spanning': 12413, 'spared': 12414, 'sparse': 12415, 'spartan': 12416, 'spawn': 12417, 'speacial': 12418, 'specializing': 12419, 'specifying': 12420, 'spectrum': 12421, 'speculation': 12422, 'speedier': 12423, 'speedster': 12424, 'speller': 12425, 'spends': 12426, 'spike': 12427, 'splendid': 12428, 'splits': 12429, 'spool': 12430, 'spoon': 12431, 'sporadically': 12432, 'spreading': 12433, 'spurned': 12434, 'spysweeeper': 12435, 'square': 12436, 'squared': 12437, 'ssd': 12438, 'sso': 12439, 'stabilize': 12440, 'stabilizing': 12441, 'stagnation': 12442, 'stake': 12443, 'stale': 12444, 'stalling': 12445, 'standardizing': 12446, 'standby': 12447, 'standing': 12448, 'stares': 12449, 'stark': 12450, 'startings': 12451, 'station': 12452, 'stations': 12453, 'steal': 12454, 'steam': 12455, 'stereoscopic': 12456, 'stereotypically': 12457, 'sterling': 12458, 'sticker': 12459, 'stickler': 12460, 'stil': 12461, 'stills': 12462, 'stinking': 12463, 'stinks': 12464, 'stitching': 12465, 'stood': 12466, 'storing': 12467, 'storm': 12468, 'storyI': 12469, 'strait': 12470, 'stray': 12471, 'strayed': 12472, 'streams': 12473, 'stressful': 12474, 'stretch': 12475, 'strides': 12476, 'strikes': 12477, 'strives': 12478, 'struck': 12479, 'structured': 12480, 'stubs': 12481, 'studies': 12482, 'studiobacklot': 12483, 'studios': 12484, 'studyist': 12485, 'stumbled': 12486, 'stunk': 12487, 'stunt': 12488, 'subchapter': 12489, 'subcription': 12490, 'subjected': 12491, 'subjective': 12492, 'submenus': 12493, 'subprogram': 12494, 'subscribers': 12495, 'subscriptionis': 12496, 'subsequent': 12497, 'subsitute': 12498, 'substance': 12499, 'substantive': 12500, 'substantively': 12501, 'subtraction': 12502, 'subtracts': 12503, 'succeed': 12504, 'succumbed': 12505, 'sucker': 12506, 'sudden': 12507, 'suffice': 12508, 'suggestion': 12509, 'summarize': 12510, 'summarizes': 12511, 'summary': 12512, 'superbly': 12513, 'superceded': 12514, 'suposed': 12515, 'suppos': 12516, 'supremely': 12517, 'suprised': 12518, 'suprisingly': 12519, 'surgery': 12520, 'surreptitious': 12521, 'survey': 12522, 'susceptible': 12523, 'suspects': 12524, 'suspend': 12525, 'suspicion': 12526, 'sux': 12527, 'sw': 12528, 'swap': 12529, 'swears': 12530, 'swept': 12531, 'swift': 12532, 'swimmingly': 12533, 'swirling': 12534, 'symantecs': 12535, 'symbols': 12536, 'synaptic': 12537, 'synced': 12538, 'synchronization': 12539, 'syncs': 12540, 'syndrome': 12541, 'syntax': 12542, 'sys': 12543, 'systemLinux': 12544, 'systematic': 12545, 'systemic': 12546, 'systemworksHe': 12547, 'systme': 12548, 'ta': 12549, 'tabletwhy': 12550, 'tad': 12551, 'tagline': 12552, 'tags': 12553, 'talents': 12554, 'talks': 12555, 'taming': 12556, 'tapped': 12557, 'tasking': 12558, 'taskpane': 12559, 'taste': 12560, 'tastes': 12561, 'taunting': 12562, 'taxation': 12563, 'taxesnever': 12564, 'tearing': 12565, 'techincal': 12566, 'technically': 12567, 'technician': 12568, 'tedium': 12569, 'teenager': 12570, 'teens': 12571, 'telecom': 12572, 'television': 12573, 'temp': 12574, 'temporarily': 12575, 'tempt': 12576, 'tended': 12577, 'terminal': 12578, 'terminology': 12579, 'terriblebut': 12580, 'terrifying': 12581, 'testament': 12582, 'textbooks': 12583, 'texts': 12584, 'textures': 12585, 'tg': 12586, 'thatnis': 12587, 'theftWhy': 12588, 'themI': 12589, 'themed': 12590, 'themes': 12591, 'themself': 12592, 'theories': 12593, 'thereby': 12594, 'therein': 12595, 'thereof': 12596, 'therof': 12597, 'thhe': 12598, 'thingabout': 12599, 'thinkIt': 12600, 'thirteenth': 12601, 'thisPowerDirectorContentPack': 12602, 'thisapp': 12603, 'thisnow': 12604, 'thou': 12605, 'thousand': 12606, 'threatened': 12607, 'threatsAll': 12608, 'threatsincluding': 12609, 'thrifty': 12610, 'thrill': 12611, 'thrilling': 12612, 'thrive': 12613, 'thriving': 12614, 'throat': 12615, 'throwing': 12616, 'thumb': 12617, 'ti': 12618, 'tick': 12619, 'ticket': 12620, 'ticks': 12621, 'tidings': 12622, 'tied': 12623, 'tight': 12624, 'til': 12625, 'timed': 12626, 'timing': 12627, 'ting': 12628, 'tip': 12629, 'tire': 12630, 'tires': 12631, 'tiresome': 12632, 'titanium': 12633, 'tnoticed': 12634, 'toa': 12635, 'toads': 12636, 'toaster': 12637, 'toasting': 12638, 'toatlly': 12639, 'tolerable': 12640, 'tolerance': 12641, 'tolerate': 12642, 'tolerating': 12643, 'tommorw': 12644, 'tone': 12645, 'tones': 12646, 'toolbars': 12647, 'toono': 12648, 'topic': 12649, 'tore': 12650, 'torturing': 12651, 'toss': 12652, 'totaly': 12653, 'totoal': 12654, 'touchpad': 12655, 'tout': 12656, 'touting': 12657, 'towel': 12658, 'tower': 12659, 'tp': 12660, 'trace': 12661, 'tracked': 12662, 'trademark': 12663, 'trades': 12664, 'tranfers': 12665, 'transations': 12666, 'transcribe': 12667, 'transcription': 12668, 'transferable': 12669, 'transfered': 12670, 'transforming': 12671, 'translate': 12672, 'translation': 12673, 'trap': 12674, 'trapped': 12675, 'trashed': 12676, 'trashing': 12677, 'traverses': 12678, 'treatment': 12679, 'treats': 12680, 'tred': 12681, 'trees': 12682, 'tremendously': 12683, 'trepidation': 12684, 'tricked': 12685, 'trickey': 12686, 'trigger': 12687, 'triggered': 12688, 'tring': 12689, 'trio': 12690, 'trippled': 12691, 'trivia': 12692, 'trod': 12693, 'trojan': 12694, 'troubled': 12695, 'troublemakers': 12696, 'troubleshooting': 12697, 'trty': 12698, 'tru': 12699, 'truck': 12700, 'trusty': 12701, 'tryed': 12702, 'trys': 12703, 'ttimes': 12704, 'tube': 12705, 'tubs': 12706, 'tunes': 12707, 'turbotaxcom': 12708, 'turnaround': 12709, 'tutor': 12710, 'tutoring': 12711, 'tweaking': 12712, 'twelfth': 12713, 'twin': 12714, 'twirling': 12715, 'ty': 12716, 'tybe': 12717, 'typesetter': 12718, 'typewriter': 12719, 'ugly': 12720, 'uh': 12721, 'ultility': 12722, 'umbrella': 12723, 'umit': 12724, 'umpty': 12725, 'unDeluxe': 12726, 'unbeatable': 12727, 'unbundling': 12728, 'uncertain': 12729, 'unclear': 12730, 'uncommon': 12731, 'uncompresses': 12732, 'undeniable': 12733, 'underexposed': 12734, 'underhandedly': 12735, 'underlays': 12736, 'underlying': 12737, 'underpinnings': 12738, 'understatement': 12739, 'undertake': 12740, 'undisputed': 12741, 'undo': 12742, 'undone': 12743, 'unedited': 12744, 'unencumbered': 12745, 'unequivocally': 12746, 'unexpected': 12747, 'unfixed': 12748, 'unflattering': 12749, 'unfriendly': 12750, 'unhelpful': 12751, 'unimpressive': 12752, 'unintuitive': 12753, 'unleashed': 12754, 'unlocking': 12755, 'unlucky': 12756, 'unmentioned': 12757, 'unmitigated': 12758, 'unnecesary': 12759, 'unneeded': 12760, 'unnoticeable': 12761, 'unnoticed': 12762, 'unobtrusive': 12763, 'unobtrusively': 12764, 'unpack': 12765, 'unparalleled': 12766, 'unreadable': 12767, 'unresolved': 12768, 'unsolicited': 12769, 'unsuitable': 12770, 'unsuspecting': 12771, 'unthinkable': 12772, 'untouched': 12773, 'untrained': 12774, 'unused': 12775, 'unusually': 12776, 'unwieldy': 12777, 'unwilling': 12778, 'upI': 12779, 'updgrade': 12780, 'upfront': 12781, 'upselling': 12782, 'urls': 12783, 'usersI': 12784, 'ussally': 12785, 'usuable': 12786, 'utilization': 12787, 'utilizes': 12788, 'utilizing': 12789, 'utter': 12790, 'v10': 12791, 'v108': 12792, 'v412': 12793, 'v60': 12794, 'v75': 12795, 'vacationing': 12796, 'vague': 12797, 'validity': 12798, 'valued': 12799, 'vandalized': 12800, 'vanished': 12801, 'varied': 12802, 'variously': 12803, 'varmints': 12804, 'vary': 12805, 'varying': 12806, 'vaunted': 12807, 'veersions': 12808, 'vegatables': 12809, 'vehicle': 12810, 'ventalator': 12811, 'verbs': 12812, 'verification': 12813, 'verifies': 12814, 'verifying': 12815, 'verions': 12816, 'versa': 12817, 'versed': 12818, 'versionjust': 12819, 'versionthanks': 12820, 'versitility': 12821, 'vertion': 12822, 'veterans': 12823, 'vibrant': 12824, 'vice': 12825, 'vicious': 12826, 'victorian': 12827, 'vid': 12828, 'videophile': 12829, 'videosuites': 12830, 'vids': 12831, 'viewer': 12832, 'villian': 12833, 'violencewell': 12834, 'vipre': 12835, 'viruse': 12836, 'virusspammalware': 12837, 'virutal': 12838, 'visa': 12839, 'visibly': 12840, 'visitor': 12841, 'vistal': 12842, 'visualize': 12843, 'vocal': 12844, 'voices': 12845, 'volatility': 12846, 'voluntary': 12847, 'volunteer': 12848, 'voting': 12849, 'voucher': 12850, 'vowel': 12851, 'voyage': 12852, 'vulnerabilities': 12853, 'vulnerability': 12854, 'vying': 12855, 'waaaaaay': 12856, 'waaay': 12857, 'waay': 12858, 'wake': 12859, 'walkthrough': 12860, 'wallets': 12861, 'wallpaper': 12862, 'wanders': 12863, 'wanna': 12864, 'war': 12865, 'warnedbuying': 12866, 'warranties': 12867, 'warrants': 12868, 'wastes': 12869, 'wasting': 12870, 'watches': 12871, 'waylaid': 12872, 'weake': 12873, 'weaker': 12874, 'weaknesses': 12875, 'wears': 12876, 'weasels': 12877, 'webcomics': 12878, 'wee': 12879, 'weekends': 12880, 'weekly': 12881, 'weigh': 12882, 'wellI': 12883, 'wellcomplicated': 12884, 'wells': 12885, 'wen': 12886, 'wept': 12887, 'west': 12888, 'wet': 12889, 'wheel': 12890, 'whereas': 12891, 'whilst': 12892, 'whim': 12893, 'whimsically': 12894, 'whistle': 12895, 'whittle': 12896, 'whoever': 12897, 'wholeheartedly': 12898, 'wholly': 12899, 'whopping': 12900, 'whose': 12901, 'wider': 12902, 'widget': 12903, 'wierd': 12904, 'wilderness': 12905, 'willlwait': 12906, 'win8': 12907, 'winVista': 12908, 'winded': 12909, 'winners': 12910, 'winrar': 12911, 'wiping': 12912, 'wirelessly': 12913, 'wirting': 12914, 'wiser': 12915, 'wises': 12916, 'wishing': 12917, 'withdawals': 12918, 'withdraw': 12919, 'witless': 12920, 'wizzard': 12921, 'woefully': 12922, 'woerks': 12923, 'wok': 12924, 'wonderfull': 12925, 'wooly': 12926, 'wordart': 12927, 'worded': 12928, 'workaround': 12929, 'workflows': 12930, 'workings': 12931, 'workplaces': 12932, 'worksheets': 12933, 'worksits': 12934, 'worksno': 12935, 'workspaces': 12936, 'worrying': 12937, 'worsening': 12938, 'wouldand': 12939, 'wound': 12940, 'woven': 12941, 'wraps': 12942, 'wrestling': 12943, 'wrist': 12944, 'ws': 12945, 'wtf': 12946, 'wtih': 12947, 'www': 12948, 'wwwmoviestudiozencom': 12949, 'x24': 12950, 'x64': 12951, 'x8': 12952, 'xlsx': 12953, 'yearand': 12954, 'yeares': 12955, 'yearsIFyou': 12956, 'yearsnever': 12957, 'yearsno': 12958, 'yearsso': 12959, 'yearswhatever': 12960, 'yearunless': 12961, 'yeh': 12962, 'yell': 12963, 'yesterdays': 12964, 'yetstill': 12965, 'yhour': 12966, 'yielded': 12967, 'yours': 12968, 'yousenditcom': 12969, 'youthful': 12970, 'zillions': 12971, 'zines': 12972, 'zipped': 12973, 'zipper': 12974, 'zips': 12975, 'zones': 12976})\n"
     ]
    }
   ],
   "source": [
    "print(TEXT.vocab.stoi)"
   ]
  },
  {
   "cell_type": "code",
   "execution_count": 49,
   "metadata": {},
   "outputs": [
    {
     "name": "stderr",
     "output_type": "stream",
     "text": [
      "/Users/ohyeji/anaconda3/envs/torch/lib/python3.7/site-packages/torchtext/data/iterator.py:48: UserWarning: BucketIterator class will be retired soon and moved to torchtext.legacy. Please see the most recent release notes for further information.\n",
      "  warnings.warn('{} class will be retired soon and moved to torchtext.legacy. Please see the most recent release notes for further information.'.format(self.__class__.__name__), UserWarning)\n"
     ]
    }
   ],
   "source": [
    "BATCH_SIZE = 64\n",
    "\n",
    "# device = torch.device('cuda' if torch.cuda.is_available() else 'cpu')\n",
    "train_data, valid_data = training_data.split(split_ratio=0.8, random_state = random.seed(1234))\n",
    "\n",
    "train_iterator, valid_iterator = data.BucketIterator.splits(\n",
    "    (train_data, valid_data), \n",
    "    sort_key = lambda x: len(x.text),\n",
    "    sort_within_batch=False,\n",
    "    batch_size = BATCH_SIZE\n",
    "    )"
   ]
  },
  {
   "cell_type": "code",
   "execution_count": 50,
   "metadata": {},
   "outputs": [],
   "source": [
    "import torch.nn as nn\n",
    "import torch.nn.functional as F\n",
    "\n",
    "class CNN(nn.Module):\n",
    "    def __init__(self, vocab_size, embedding_dim, n_filters, filter_sizes, output_dim, \n",
    "                 dropout, pad_idx):\n",
    "        \n",
    "        super().__init__()\n",
    "        \n",
    "        self.embedding = nn.Embedding(vocab_size, embedding_dim)\n",
    "        \n",
    "        self.convs = nn.ModuleList([\n",
    "                                    nn.Conv2d(in_channels = 1, \n",
    "                                              out_channels = n_filters, \n",
    "                                              kernel_size = (fs, embedding_dim)) \n",
    "                                    for fs in filter_sizes\n",
    "                                    ])\n",
    "        \n",
    "        self.fc = nn.Linear(len(filter_sizes) * n_filters, output_dim)\n",
    "        \n",
    "        self.dropout = nn.Dropout(dropout)\n",
    "        \n",
    "    def forward(self, text):\n",
    "        \n",
    "        #text = [sent len, batch size]\n",
    "        text = text.permute(1, 0)\n",
    "\n",
    "        #text = [batch size, sent len]\n",
    "        \n",
    "        embedded = self.embedding(text)\n",
    "                \n",
    "        #embedded = [batch size, sent len, emb dim]\n",
    "        \n",
    "        embedded = embedded.unsqueeze(1)\n",
    "        \n",
    "        #embedded = [batch size, 1, sent len, emb dim]\n",
    "        \n",
    "        conved = [F.relu(conv(embedded)).squeeze(3) for conv in self.convs]\n",
    "            \n",
    "        #conv_n = [batch size, n_filters, sent len - filter_sizes[n]]\n",
    "        \n",
    "        pooled = [F.max_pool1d(conv, conv.shape[2]).squeeze(2) for conv in conved]\n",
    "        \n",
    "        #pooled_n = [batch size, n_filters]\n",
    "        \n",
    "        cat = self.dropout(torch.cat(pooled, dim = 1))\n",
    "\n",
    "        #cat = [batch size, n_filters * len(filter_sizes)]\n",
    "            \n",
    "        return self.fc(cat)"
   ]
  },
  {
   "cell_type": "code",
   "execution_count": 51,
   "metadata": {},
   "outputs": [],
   "source": [
    "INPUT_DIM = len(TEXT.vocab)\n",
    "EMBEDDING_DIM = 100\n",
    "N_FILTERS = 100\n",
    "FILTER_SIZES = [2,3,4]\n",
    "OUTPUT_DIM = len(LABEL.vocab)\n",
    "DROPOUT = 0.5\n",
    "PAD_IDX = TEXT.vocab.stoi[TEXT.pad_token]\n",
    "\n",
    "model = CNN(INPUT_DIM, EMBEDDING_DIM, N_FILTERS, FILTER_SIZES, OUTPUT_DIM, DROPOUT, PAD_IDX)"
   ]
  },
  {
   "cell_type": "code",
   "execution_count": 52,
   "metadata": {},
   "outputs": [
    {
     "name": "stdout",
     "output_type": "stream",
     "text": [
      "The model has 1,389,505 trainable parameters\n"
     ]
    }
   ],
   "source": [
    "def count_parameters(model):\n",
    "    return sum(p.numel() for p in model.parameters() if p.requires_grad)\n",
    "\n",
    "print(f'The model has {count_parameters(model):,} trainable parameters')"
   ]
  },
  {
   "cell_type": "code",
   "execution_count": 53,
   "metadata": {},
   "outputs": [],
   "source": [
    "UNK_IDX = TEXT.vocab.stoi[TEXT.unk_token]\n",
    "\n",
    "model.embedding.weight.data[UNK_IDX] = torch.zeros(EMBEDDING_DIM)\n",
    "model.embedding.weight.data[PAD_IDX] = torch.zeros(EMBEDDING_DIM)"
   ]
  },
  {
   "cell_type": "code",
   "execution_count": 54,
   "metadata": {},
   "outputs": [],
   "source": [
    "import torch.optim as optim\n",
    "\n",
    "optimizer = optim.Adam(model.parameters())\n",
    "criterion = nn.CrossEntropyLoss()\n",
    "\n",
    "# model = model.to(device)\n",
    "# criterion = criterion.to(device)"
   ]
  },
  {
   "cell_type": "code",
   "execution_count": 55,
   "metadata": {},
   "outputs": [],
   "source": [
    "def categorical_accuracy(preds, y):\n",
    "    \"\"\"\n",
    "    Returns accuracy per batch, i.e. if you get 8/10 right, this returns 0.8, NOT 8\n",
    "    \"\"\"\n",
    "    max_preds = preds.argmax(dim = 1, keepdim = True) # get the index of the max probability\n",
    "    correct = max_preds.squeeze(1).eq(y)\n",
    "    return correct.sum() / torch.FloatTensor([y.shape[0]])"
   ]
  },
  {
   "cell_type": "code",
   "execution_count": 56,
   "metadata": {},
   "outputs": [],
   "source": [
    "def train(model, iterator, optimizer, criterion):\n",
    "    \n",
    "    epoch_loss = 0\n",
    "    epoch_acc = 0\n",
    "    \n",
    "    model.train()\n",
    "    \n",
    "    for batch in iterator:\n",
    "        \n",
    "        optimizer.zero_grad()\n",
    "        \n",
    "        predictions = model(batch.text)\n",
    "        \n",
    "        loss = criterion(predictions, batch.label)\n",
    "        \n",
    "        acc = categorical_accuracy(predictions, batch.label)\n",
    "        \n",
    "        loss.backward()\n",
    "        \n",
    "        optimizer.step()\n",
    "        \n",
    "        epoch_loss += loss.item()\n",
    "        epoch_acc += acc.item()\n",
    "        \n",
    "    return epoch_loss / len(iterator), epoch_acc / len(iterator)"
   ]
  },
  {
   "cell_type": "code",
   "execution_count": 57,
   "metadata": {},
   "outputs": [],
   "source": [
    "def evaluate(model, iterator, criterion):\n",
    "    \n",
    "    epoch_loss = 0\n",
    "    epoch_acc = 0\n",
    "    \n",
    "    model.eval()\n",
    "    \n",
    "    with torch.no_grad():\n",
    "    \n",
    "        for batch in iterator:\n",
    "\n",
    "            predictions = model(batch.text)\n",
    "            \n",
    "            loss = criterion(predictions, batch.label)\n",
    "            \n",
    "            acc = categorical_accuracy(predictions, batch.label)\n",
    "\n",
    "            epoch_loss += loss.item()\n",
    "            epoch_acc += acc.item()\n",
    "        \n",
    "    return epoch_loss / len(iterator), epoch_acc / len(iterator)"
   ]
  },
  {
   "cell_type": "code",
   "execution_count": 58,
   "metadata": {},
   "outputs": [],
   "source": [
    "import time\n",
    "\n",
    "def epoch_time(start_time, end_time):\n",
    "    elapsed_time = end_time - start_time\n",
    "    elapsed_mins = int(elapsed_time / 60)\n",
    "    elapsed_secs = int(elapsed_time - (elapsed_mins * 60))\n",
    "    return elapsed_mins, elapsed_secs"
   ]
  },
  {
   "cell_type": "code",
   "execution_count": 59,
   "metadata": {},
   "outputs": [
    {
     "name": "stderr",
     "output_type": "stream",
     "text": [
      "/Users/ohyeji/anaconda3/envs/torch/lib/python3.7/site-packages/torchtext/data/batch.py:23: UserWarning: Batch class will be retired soon and moved to torchtext.legacy. Please see the most recent release notes for further information.\n",
      "  warnings.warn('{} class will be retired soon and moved to torchtext.legacy. Please see the most recent release notes for further information.'.format(self.__class__.__name__), UserWarning)\n"
     ]
    },
    {
     "name": "stdout",
     "output_type": "stream",
     "text": [
      "Epoch: 01 | Epoch Time: 0m 9s\n",
      "\tTrain Loss: 1.502 | Train Acc: 38.91%\n",
      "\t Val. Loss: 1.337 |  Val. Acc: 43.71%\n",
      "Epoch: 02 | Epoch Time: 0m 9s\n",
      "\tTrain Loss: 1.336 | Train Acc: 45.35%\n",
      "\t Val. Loss: 1.304 |  Val. Acc: 43.35%\n",
      "Epoch: 03 | Epoch Time: 0m 9s\n",
      "\tTrain Loss: 1.270 | Train Acc: 47.99%\n",
      "\t Val. Loss: 1.292 |  Val. Acc: 44.92%\n",
      "Epoch: 04 | Epoch Time: 0m 9s\n",
      "\tTrain Loss: 1.193 | Train Acc: 51.16%\n",
      "\t Val. Loss: 1.237 |  Val. Acc: 46.88%\n",
      "Epoch: 05 | Epoch Time: 0m 9s\n",
      "\tTrain Loss: 1.133 | Train Acc: 54.14%\n",
      "\t Val. Loss: 1.226 |  Val. Acc: 48.09%\n",
      "Epoch: 06 | Epoch Time: 0m 9s\n",
      "\tTrain Loss: 1.065 | Train Acc: 57.51%\n",
      "\t Val. Loss: 1.209 |  Val. Acc: 49.48%\n",
      "Epoch: 07 | Epoch Time: 0m 9s\n",
      "\tTrain Loss: 0.997 | Train Acc: 60.20%\n",
      "\t Val. Loss: 1.174 |  Val. Acc: 51.29%\n",
      "Epoch: 08 | Epoch Time: 0m 9s\n",
      "\tTrain Loss: 0.924 | Train Acc: 63.58%\n",
      "\t Val. Loss: 1.169 |  Val. Acc: 51.44%\n",
      "Epoch: 09 | Epoch Time: 0m 9s\n",
      "\tTrain Loss: 0.833 | Train Acc: 67.58%\n",
      "\t Val. Loss: 1.187 |  Val. Acc: 50.78%\n",
      "Epoch: 10 | Epoch Time: 0m 9s\n",
      "\tTrain Loss: 0.757 | Train Acc: 70.99%\n",
      "\t Val. Loss: 1.191 |  Val. Acc: 51.41%\n"
     ]
    }
   ],
   "source": [
    "N_EPOCHS = 10\n",
    "\n",
    "best_valid_loss = float('inf')\n",
    "\n",
    "for epoch in range(N_EPOCHS):\n",
    "\n",
    "    start_time = time.time()\n",
    "    \n",
    "    train_loss, train_acc = train(model, train_iterator, optimizer, criterion)\n",
    "    valid_loss, valid_acc = evaluate(model, valid_iterator, criterion)\n",
    "    \n",
    "    end_time = time.time()\n",
    "\n",
    "    epoch_mins, epoch_secs = epoch_time(start_time, end_time)\n",
    "    \n",
    "    if valid_loss < best_valid_loss:\n",
    "        best_valid_loss = valid_loss\n",
    "        torch.save(model.state_dict(), 'cnn-model.pt')\n",
    "    \n",
    "    print(f'Epoch: {epoch+1:02} | Epoch Time: {epoch_mins}m {epoch_secs}s')\n",
    "    print(f'\\tTrain Loss: {train_loss:.3f} | Train Acc: {train_acc*100:.2f}%')\n",
    "    print(f'\\t Val. Loss: {valid_loss:.3f} |  Val. Acc: {valid_acc*100:.2f}%')"
   ]
  },
  {
   "cell_type": "markdown",
   "metadata": {},
   "source": [
    "## Evaluate model"
   ]
  },
  {
   "cell_type": "code",
   "execution_count": 60,
   "metadata": {},
   "outputs": [],
   "source": [
    "model.load_state_dict(torch.load('cnn-model.pt'))\n",
    "\n",
    "import spacy\n",
    "nlp = spacy.load('en')\n",
    "\n",
    "def predict_class(model, sentence, min_len = 4):\n",
    "    model.eval()\n",
    "    tokenized = [tok.text for tok in nlp.tokenizer(sentence)]\n",
    "    if len(tokenized) < min_len:\n",
    "        tokenized += ['<pad>'] * (min_len - len(tokenized))\n",
    "    indexed = [TEXT.vocab.stoi[t] for t in tokenized]\n",
    "    tensor = torch.LongTensor(indexed)\n",
    "    tensor = tensor.unsqueeze(1)\n",
    "    preds = model(tensor)\n",
    "    max_preds = preds.argmax(dim = 1)\n",
    "    return max_preds.item()"
   ]
  },
  {
   "cell_type": "code",
   "execution_count": 61,
   "metadata": {},
   "outputs": [
    {
     "name": "stdout",
     "output_type": "stream",
     "text": [
      "Predicted class is: 0 = 5.0\n"
     ]
    }
   ],
   "source": [
    "pred_class = predict_class(model, \"best item\")\n",
    "print(f'Predicted class is: {pred_class} = {LABEL.vocab.itos[pred_class]}')"
   ]
  },
  {
   "cell_type": "code",
   "execution_count": 62,
   "metadata": {},
   "outputs": [
    {
     "name": "stdout",
     "output_type": "stream",
     "text": [
      "Predicted class is: 3 = 1.0\n"
     ]
    }
   ],
   "source": [
    "pred_class = predict_class(model, \"worst item\")\n",
    "print(f'Predicted class is: {pred_class} = {LABEL.vocab.itos[pred_class]}')"
   ]
  },
  {
   "cell_type": "code",
   "execution_count": 63,
   "metadata": {},
   "outputs": [
    {
     "name": "stdout",
     "output_type": "stream",
     "text": [
      "Predicted class is: 0 = 5.0\n"
     ]
    }
   ],
   "source": [
    "pred_class = predict_class(model, \"it was best item, but requires to be fixed\")\n",
    "print(f'Predicted class is: {pred_class} = {LABEL.vocab.itos[pred_class]}')"
   ]
  },
  {
   "cell_type": "markdown",
   "metadata": {},
   "source": [
    "## (참고) BERT Embedding 가져오기\n",
    "1. word2vec\n",
    "2. [fastText](https://fasttext.cc/)\n",
    "3. [Glove](https://nlp.stanford.edu/projects/glove/)\n",
    "4. Huggingface 참고([링크](https://huggingface.co/transformers/pretrained_models.html))\n"
   ]
  },
  {
   "cell_type": "code",
   "execution_count": 64,
   "metadata": {},
   "outputs": [
    {
     "name": "stderr",
     "output_type": "stream",
     "text": [
      "[nltk_data] Downloading package punkt to /Users/ohyeji/nltk_data...\n",
      "[nltk_data]   Package punkt is already up-to-date!\n"
     ]
    },
    {
     "data": {
      "text/plain": [
       "True"
      ]
     },
     "execution_count": 64,
     "metadata": {},
     "output_type": "execute_result"
    }
   ],
   "source": [
    "import nltk\n",
    "nltk.download('punkt')"
   ]
  },
  {
   "cell_type": "code",
   "execution_count": 65,
   "metadata": {},
   "outputs": [
    {
     "data": {
      "application/vnd.jupyter.widget-view+json": {
       "model_id": "7dd15240bb1b4369bcd4f05621b5ca77",
       "version_major": 2,
       "version_minor": 0
      },
      "text/plain": [
       "HBox(children=(HTML(value='Downloading'), FloatProgress(value=0.0, max=231508.0), HTML(value='')))"
      ]
     },
     "metadata": {},
     "output_type": "display_data"
    },
    {
     "name": "stdout",
     "output_type": "stream",
     "text": [
      "\n"
     ]
    },
    {
     "data": {
      "application/vnd.jupyter.widget-view+json": {
       "model_id": "a6f59c773da54b05857da8349d220a3b",
       "version_major": 2,
       "version_minor": 0
      },
      "text/plain": [
       "HBox(children=(HTML(value='Downloading'), FloatProgress(value=0.0, max=433.0), HTML(value='')))"
      ]
     },
     "metadata": {},
     "output_type": "display_data"
    },
    {
     "name": "stdout",
     "output_type": "stream",
     "text": [
      "\n"
     ]
    },
    {
     "data": {
      "application/vnd.jupyter.widget-view+json": {
       "model_id": "4bbe5417c1c742e9a379c0c9256f0625",
       "version_major": 2,
       "version_minor": 0
      },
      "text/plain": [
       "HBox(children=(HTML(value='Downloading'), FloatProgress(value=0.0, max=440473133.0), HTML(value='')))"
      ]
     },
     "metadata": {},
     "output_type": "display_data"
    },
    {
     "name": "stdout",
     "output_type": "stream",
     "text": [
      "\n"
     ]
    }
   ],
   "source": [
    "import re\n",
    "import warnings\n",
    "\n",
    "import numpy as np\n",
    "import torch\n",
    "from nltk import tokenize\n",
    "from transformers import BertModel, BertTokenizer\n",
    "\n",
    "warnings.filterwarnings(\"ignore\")\n",
    "\n",
    "tokenizer = BertTokenizer.from_pretrained('bert-base-uncased')\n",
    "model = BertModel.from_pretrained('bert-base-uncased')\n",
    "\n",
    "def get_embedding(sentence):\n",
    "    sent_vectors = []\n",
    "    for sent in tokenize.sent_tokenize(sentence):\n",
    "        text = \"[CLS] \" + sent + \" [SEP]\"\n",
    "        tokenized_text = tokenizer.tokenize(text)\n",
    "        indexed_tokens = tokenizer.convert_tokens_to_ids(tokenized_text)\n",
    "        segments_ids = [1] * len(tokenized_text)\n",
    "\n",
    "        tokens_tensor = torch.tensor([indexed_tokens])\n",
    "        segments_tensor = torch.tensor([segments_ids])\n",
    "\n",
    "        with torch.no_grad():\n",
    "            outputs = model(tokens_tensor, segments_tensor)\n",
    "            encoded_layers = outputs[0] # last hidden state          \n",
    "            sentence_embedding = torch.mean(encoded_layers[0], dim=0)\n",
    "            sent_vectors.append(sentence_embedding.detach().numpy())\n",
    "\n",
    "    return np.array(sent_vectors).mean(axis=0)\n"
   ]
  },
  {
   "cell_type": "code",
   "execution_count": 66,
   "metadata": {},
   "outputs": [],
   "source": [
    "bert_embedding = get_embedding('hello, today is thursday')"
   ]
  },
  {
   "cell_type": "code",
   "execution_count": 67,
   "metadata": {},
   "outputs": [
    {
     "data": {
      "text/plain": [
       "768"
      ]
     },
     "execution_count": 67,
     "metadata": {},
     "output_type": "execute_result"
    }
   ],
   "source": [
    "len(bert_embedding)"
   ]
  },
  {
   "cell_type": "code",
   "execution_count": null,
   "metadata": {},
   "outputs": [],
   "source": []
  }
 ],
 "metadata": {
  "kernelspec": {
   "display_name": "torch",
   "language": "python",
   "name": "torch"
  },
  "language_info": {
   "codemirror_mode": {
    "name": "ipython",
    "version": 3
   },
   "file_extension": ".py",
   "mimetype": "text/x-python",
   "name": "python",
   "nbconvert_exporter": "python",
   "pygments_lexer": "ipython3",
   "version": "3.7.9"
  }
 },
 "nbformat": 4,
 "nbformat_minor": 4
}
